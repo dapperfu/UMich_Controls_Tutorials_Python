{
 "cells": [
  {
   "cell_type": "code",
   "execution_count": 1,
   "metadata": {},
   "outputs": [],
   "source": [
    "import control\n",
    "import matplotlib.pyplot as plt"
   ]
  },
  {
   "cell_type": "code",
   "execution_count": 2,
   "metadata": {
    "exporter": {
     "cell_type": "init"
    },
    "slideshow": {
     "slide_type": "skip"
    }
   },
   "outputs": [],
   "source": [
    "%matplotlib inline"
   ]
  },
  {
   "cell_type": "markdown",
   "metadata": {
    "slideshow": {
     "slide_type": "notes"
    }
   },
   "source": [
    "# Aircraft Pitch: PID Controller Design\n",
    "\n",
    "From the main problem, the open-loop transfer function for the aircraft pitch dynamics is\n",
    "\n",
    "$$\n",
    "P(s) = \\frac{\\Theta(s)}{\\Delta(s)} = \\frac {1.151s+0.1774}{s^3+0.739s^2+0.921s}\n",
    "$$\n",
    "\n",
    "where the input is elevator deflection angle \\\\(\\delta\\\\) and the output is the aircraft pitch angle $\\theta$. For the original problem setup and the derivation of the above transfer function please refer to the [Aircraft Pitch: System Modeling](../AircraftPitch/AircraftPitch-SystemModeling.ipynb) page. For a step reference of 0.2 radians, the design criteria are the following.\n",
    "* Overshoot less than 10\n",
    "* Rise time  less than 2 seconds\n",
    "* Settling time less than 10 seconds\n",
    "* Steady-state error less than 2 Recall from the [Introduction: PID Controller Design](../Introduction/Introduction-ControlPID.ipynb) page that the transfer function for a PID controller is the following.\n",
    "\n",
    "$$\n",
    "C(s) = K_{p} + \\frac {K_{i}}{s} + K_{d}s = \\frac{K_{d}s^2 + K_{p}s + K_{i}}{s}\n",
    "$$\n",
    "\n",
    "We will implement combinations of proportional (_Kp_), integral (_Ki_), and derivative (_Kd_) control in the unity feedback architecture shown below in order to achieve the desired system behavior.\n",
    "![feedback_pitch2.png](figures/feedback_pitch2.png)\n",
    "In particular, we will take advantage of the automated tuning capabilities of the **SISO Design Tool** within MATLAB to design our PID controller. First, enter the following code at the command line to define the model of our plant _P_(_s_). Refer to the [Aircraft Pitch: System Modeling](../AircraftPitch/AircraftPitch-SystemModeling.ipynb) page for the details of getting these commands."
   ]
  },
  {
   "cell_type": "code",
   "execution_count": 7,
   "metadata": {
    "slideshow": {
     "slide_type": "notes"
    }
   },
   "outputs": [
    {
     "data": {
      "text/latex": [
       "$$\\frac{1.151 s + 0.1774}{s^3 + 0.739 s^2 + 0.921 s}$$"
      ],
      "text/plain": [
       "TransferFunction(array([1.151 , 0.1774]), array([1.   , 0.739, 0.921, 0.   ]))"
      ]
     },
     "execution_count": 7,
     "metadata": {},
     "output_type": "execute_result"
    }
   ],
   "source": [
    "s = control.TransferFunction.s\n",
    "P_pitch = (1.151*s+0.1774)/(s ** 3+0.739*s ** 2+0.921*s)\n",
    "P_pitch"
   ]
  }
 ],
 "metadata": {
  "celltoolbar": "Slideshow",
  "kernelspec": {
   "display_name": "Python 3",
   "language": "python",
   "name": "python3"
  },
  "language_info": {
   "codemirror_mode": {
    "name": "ipython",
    "version": 3
   },
   "file_extension": ".py",
   "mimetype": "text/x-python",
   "name": "python",
   "nbconvert_exporter": "python",
   "pygments_lexer": "ipython3",
   "version": "3.8.5"
  },
  "nikola": {
   "author": "d@h",
   "category": "AircraftPitch",
   "date": "2016-02-16 08:00:00 UTC",
   "description": "Controls Tutorials for Python",
   "link": "",
   "slug": "aircraftpitch-controlpid",
   "tags": "ControlPID",
   "title": "Aircraft Pitch - Control PI D",
   "type": ""
  }
 },
 "nbformat": 4,
 "nbformat_minor": 1
}
