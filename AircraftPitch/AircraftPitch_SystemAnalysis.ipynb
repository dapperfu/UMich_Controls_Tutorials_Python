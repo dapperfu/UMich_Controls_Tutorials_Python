{
 "cells": [
  {
   "cell_type": "code",
   "execution_count": null,
   "metadata": {},
   "outputs": [],
   "source": [
    "import sympy\n",
    "from IPython.display import Latex, display\n",
    "from sympy import Poly\n",
    "from sympy.abc import s, z\n",
    "\n",
    "from control.matlab import *"
   ]
  },
  {
   "cell_type": "code",
   "execution_count": 1,
   "metadata": {
    "exporter": {
     "cell_type": "init"
    },
    "slideshow": {
     "slide_type": "skip"
    }
   },
   "outputs": [
    {
     "name": "stdout",
     "output_type": "stream",
     "text": [
      "Using matplotlib backend: TkAgg\n",
      "Populating the interactive namespace from numpy and matplotlib\n"
     ]
    }
   ],
   "source": [
    "%pylab %matplotlib inline"
   ]
  },
  {
   "cell_type": "markdown",
   "metadata": {
    "exporter": {
     "cell_type": "toc"
    },
    "slideshow": {
     "slide_type": "skip"
    }
   },
   "source": [
    "<div id=\"toc\"></div>"
   ]
  },
  {
   "cell_type": "markdown",
   "metadata": {
    "slideshow": {
     "slide_type": "notes"
    }
   },
   "source": [
    "# Aircraft Pitch: System Analysis\n",
    "\n",
    "From the main problem, the dynamic equations in the Laplace domain and the open-loop transfer function of the aircraft pitch dynamics are:\n",
    "\n",
    "$$\n",
    "sA(s) = -0.313A(s)+ 56.7 Q(s) + 0.232\\Delta(s)\n",
    "$$\n",
    "\n",
    "\n",
    "\n",
    "$$\n",
    "sQ(s) = -0.0139A(s) - 0.426Q(s) + 0.0203\\Delta(s)\n",
    "$$\n",
    "\n",
    "\n",
    "\n",
    "$$\n",
    "s\\Theta(s) = 56.7 Q(s)\n",
    "$$\n",
    "\n",
    "\n",
    "\n",
    "$$\n",
    "P(s) = \\frac{\\Theta(s)}{\\Delta(s)} = \\frac {1.151s+0.1774} {s^3+0.739s^2+0.921s}\n",
    "$$\n",
    "\n",
    "For the original problem setup and the derivation of the above equations please refer to the [Aircraft Pitch: System Modeling](../AircraftPitch/AircraftPitch-SystemModeling.ipynb) page For a step reference, the design criteria are the following.\n",
    "* Overshoot less than 10\n",
    "* Rise time  less than 2 seconds\n",
    "* Settling time less than 10 seconds\n",
    "* Steady-state error less than 2\n",
    "\n",
    "## Open-loop response\n",
    "\n",
    "First create a new [m-file](../Extras_Mfile.ipynb) and type in the following commands (refer to the main problem for the details of getting these commands)."
   ]
  },
  {
   "cell_type": "code",
   "execution_count": 2,
   "metadata": {
    "slideshow": {
     "slide_type": "notes"
    }
   },
   "outputs": [],
   "source": [
    "# s = tf('s');\n",
    "# P_pitch = (1.151*s+0.1774)/(s^3+0.739*s^2+0.921*s);\n"
   ]
  },
  {
   "cell_type": "markdown",
   "metadata": {
    "slideshow": {
     "slide_type": "notes"
    }
   },
   "source": [
    "Now let's see how the uncompensated open-loop system performs. Specifically, we will use the MATLAB command |step| to analyze the open-loop step response where we have scaled the input to represent an elevator angle input ($\\delta$) of 0.2 radians (11 degrees). Add the following commands onto the end of the m-file and run it in the MATLAB command window and you will get the associated plot shown below."
   ]
  },
  {
   "cell_type": "code",
   "execution_count": 3,
   "metadata": {
    "slideshow": {
     "slide_type": "notes"
    }
   },
   "outputs": [],
   "source": [
    "t = numpy.arange(0, 10, 0.01)\n",
    "# t = [0:0.01:10];\n",
    "# step(0.2*P_pitch,t);\n",
    "# axis([0 10 0 0.8]);\n",
    "# ylabel('pitch angle (rad)');\n",
    "# title('Open-loop Step Response');\n"
   ]
  },
  {
   "cell_type": "markdown",
   "metadata": {
    "slideshow": {
     "slide_type": "notes"
    }
   },
   "source": [
    "From the above plot, we see that the open-loop response does not satisfy the design criteria at all. In fact, the open-loop response is unstable. Stability of a system can be determined by examining the poles of the transfer function where the poles can be identified using the MATLAB command |pole| as shown below."
   ]
  },
  {
   "cell_type": "code",
   "execution_count": 4,
   "metadata": {
    "slideshow": {
     "slide_type": "notes"
    }
   },
   "outputs": [],
   "source": [
    "# pole(P_pitch)\n"
   ]
  },
  {
   "cell_type": "markdown",
   "metadata": {
    "slideshow": {
     "slide_type": "notes"
    }
   },
   "source": [
    "As indicated by this function, one of the poles of the open-loop transfer function is on the imaginary axis while the other two poles are in the left-half of the complex _s_-plane.  A pole on the imaginary axis indicates that the free response of the system will not grow unbounded, but also will not decay to zero. Even though the free response will not grow unbounded, a system with a pole on the imaginary axis can grow unbounded when given an input, even when the input is bounded. This fact is in agreement with what we have already seen. In this particular case, the pole at the origin behaves like an integrator. Therefore, when the system is given a step input its output continues to grow to infinity in the same manner that an integral of a constant would grow to infinity as the upper limit of the integral is made larger.\n",
    "\n",
    "## Closed-loop response\n",
    "\n",
    "In order to stabilize this system and eventually meet our given design requirements, we will add a feedback controller. The figure below illustrates the control architecture we will employ.\n",
    "![feedback_pitch.png](figures/feedback_pitch.png)\n",
    "The closed-loop transfer function for the above with the controller _C_(_s_) simply set equal to one can be generated using the MATLAB command |feedback| as shown below."
   ]
  },
  {
   "cell_type": "code",
   "execution_count": 5,
   "metadata": {
    "slideshow": {
     "slide_type": "notes"
    }
   },
   "outputs": [],
   "source": [
    "# sys_cl = feedback(P_pitch,1)\n"
   ]
  },
  {
   "cell_type": "markdown",
   "metadata": {
    "slideshow": {
     "slide_type": "notes"
    }
   },
   "source": [
    "The corresponding step response can be generated by adding the above and following commands to your m-file. Note that the response is scaled to model the fact that the pitch angle reference is a 0.2 radian (11 degree) step. Running your m-file at the command line will produce the plot shown below where the annotations for the rise time, settling time and final value can be added to the plot from the right-click menu under **Characteristics**. <html> </p><pre class=\"codeinput\"> step(0.2*sys_cl); ylabel('pitch angle (rad)'); title('Closed-loop Step Response'); </pre> </html>\n",
    "![Figure1.png](figures/Figure1.png)\n",
    "Examining the above closed-loop step response, the addition of feedback has stabilized the system. In fact, the steady-state error appears to be driven to zero and there is no overshoot in the response, though the rise-time and settle-time requirements are not met. The character of the resulting step response is indicated by the location of the poles and zeros of the system's transfer function, in a similar manner to the way the system's stability properties were. The MATLAB commands |pole| and |zero| can be used to reveal the poles and zeros of the closed-loop transfer function as shown below."
   ]
  },
  {
   "cell_type": "code",
   "execution_count": 6,
   "metadata": {
    "slideshow": {
     "slide_type": "notes"
    }
   },
   "outputs": [],
   "source": [
    "# poles = pole(sys_cl)\n",
    "# zeros = zero(sys_cl)\n"
   ]
  },
  {
   "cell_type": "markdown",
   "metadata": {
    "slideshow": {
     "slide_type": "notes"
    }
   },
   "source": [
    "The above results demonstrate that the closed-loop transfer function is third order with a zero. Most of the relationships that we are familiar with for predicting the character of a system's step response assume a standard underdamped second-order system with no zeros. Therefore, we cannot rely on these relationships for this system. We can, however, transform the output back to the time domain to generate a time function for the system's response to get some insight into how the poles and zeros of the closed-loop transfer function affect the system's response. Assuming the closed-loop transfer function has the form _Y_(_s_) / _R_(_s_), the output _Y_(_s_) in the Laplace domain is calculated as follows where _R_(_s_) is a step of magnitude 0.2.\n",
    "\n",
    "$$\n",
    "Y(s) = \\frac{1.151s+0.1774}{s^3+0.739s^2+2.072s+0.1774}R(s)\n",
    "$$\n",
    "\n",
    "\n",
    "\n",
    "$$\n",
    "= \\frac{0.2(1.151s+0.1774)}{s^4+0.739s^3+2.072s^2+0.1774s}\n",
    "$$\n",
    "\n",
    "We can then perform a partial fraction expansion in order to break this expression into simpler terms that we hopefully recognize and are able to covert from the Laplace domain back to the time domain. First we will use the MATLAB command |zpk| to factor the numerator and denominator of our output _Y_(_s_) into simpler terms."
   ]
  },
  {
   "cell_type": "code",
   "execution_count": 7,
   "metadata": {
    "slideshow": {
     "slide_type": "notes"
    }
   },
   "outputs": [],
   "source": [
    "# R = 0.2/s;\n",
    "# Y = zpk(sys_cl*R)\n"
   ]
  },
  {
   "cell_type": "markdown",
   "metadata": {
    "slideshow": {
     "slide_type": "notes"
    }
   },
   "source": [
    "Based on the above, the denominator of our output _Y_(_s_) can be factored into a first-order term for the real pole of the transfer function, a second-order term for the complex conjugate poles of the transfer function, and a pole at the origin for the step input. Therefore, it is desired to expand _Y_(_s_) as shown below.\n",
    "\n",
    "$$\n",
    "Y(s) = \\frac{0.2302(s+0.1541)}{s(s+0.08805)(s^2+0.6509s+2.105)}\n",
    "$$\n",
    "\n",
    "\n",
    "\n",
    "$$\n",
    "= \\frac{A}{s} + \\frac{B}{s+0.08805} + \\frac{Cs+D}{s^2+0.6509s+2.015}\n",
    "$$\n",
    "\n",
    "The specific values of the constants _A_, _B_, _C_, and _D_ can be determined by hand calculation or by using the MATLAB command |residue| to perform the partial fraction expansion as shown below. Here the syntax is |[r,p,k] = residue(num,den)| where |num| and |den| are arrays containing the coefficients of the numerator and denominator, respectively, of the Laplace function being expanded. Notice that the denominator array includes a placeholder zero since there is no constant term in the denominator of _Y_(_s_)."
   ]
  },
  {
   "cell_type": "code",
   "execution_count": 8,
   "metadata": {
    "slideshow": {
     "slide_type": "notes"
    }
   },
   "outputs": [],
   "source": [
    "# [r,p,k] = residue(0.2*[1.151 0.1774],[1 0.739 2.072 0.1774 0])\n"
   ]
  },
  {
   "cell_type": "markdown",
   "metadata": {
    "slideshow": {
     "slide_type": "notes"
    }
   },
   "source": [
    "In the above, |r| is an array containing the residues of the partial fraction expansion, that is, the numerator coefficients in the expansion. The array |p| contains the poles of the system where the order corresponds to the order of the residues in |r|. The direct term |k| is empty in this case, as it will be in general since the numerator polyonomial will generally be a smaller order than the denominator polynomial. Based on the above, the coefficients _A_ and _B_ in our expansion are equal to 0.2 and -0.0881, respectively. The coeffients _C_ and _D_ can be determined by combining the terms for the complex conjugate poles back into a single expression as shown below."
   ]
  },
  {
   "cell_type": "code",
   "execution_count": 9,
   "metadata": {
    "slideshow": {
     "slide_type": "notes"
    }
   },
   "outputs": [],
   "source": [
    "# [num,den] = residue(r(1:2),p(1:2),k);\n",
    "# tf(num,den)\n"
   ]
  },
  {
   "cell_type": "markdown",
   "metadata": {
    "slideshow": {
     "slide_type": "notes"
    }
   },
   "source": [
    "Based on the above, _C_ = -0.1121 and _D_ = -0.08071 and our resulting partial fraction expansion can be expressed as follows.\n",
    "\n",
    "$$\n",
    "Y(s) = \\frac{0.2}{s} - \\frac{0.0881}{s+0.08805} - \\frac{0.1121s + 0.08071}{s^2+0.6509s+2.015}\n",
    "$$\n",
    "\n",
    "Employing a Laplace transform table, the inverse Laplace transform of the above expression can be taken to generate the corresponding time domain expression shown below. If you have the Symbolic Math toolbox addition to MATLAB, you can use the command |laplace| to perform the inversion.\n",
    "![pitch_eq2.png](figures/pitch_eq2.png)\n",
    "Examining the above, each term corresponds to a pole of _Y_(_s_) where the real part of the pole describes the exponential decay (or growth) of that mode and the imaginary part of the pole corresponds to the frequency of oscillation of the mode. The effect of zeros is to alter the coefficients multiplying each of the terms. In other words, zeros affect the relative contribution of each of the modes. The above example helps to give some insight into how poles and zeros in the Laplace domain indicate the system's corresponding behavior in the time domain. Entering the following code in the MATLAB command window will generate the plot shown below which matches (within roundoff) the plot generated using the |step| command above."
   ]
  },
  {
   "cell_type": "code",
   "execution_count": 10,
   "metadata": {
    "slideshow": {
     "slide_type": "notes"
    }
   },
   "outputs": [],
   "source": [
    "t = numpy.arange(0, 70, 0.1)\n",
    "# t = [0:0.1:70];\n",
    "# y = 0.2 - 0.0881*exp(-0.08805*t) - exp(-0.3255*t).*(0.1121*cos(1.3816*t)+0.0320*sin(1.3816*t));\n",
    "# plot(t,y)\n",
    "# xlabel('time (sec)');\n",
    "# ylabel('pitch angle (rad)');\n",
    "# title('Closed-loop Step Response');\n"
   ]
  },
  {
   "cell_type": "code",
   "execution_count": 11,
   "metadata": {
    "exporter": {
     "cell_type": "toc"
    },
    "slideshow": {
     "slide_type": "skip"
    }
   },
   "outputs": [
    {
     "data": {
      "application/javascript": [
       "$.getScript('https://kmahelona.github.io/ipython_notebook_goodies/ipython_notebook_toc.js')"
      ],
      "text/plain": [
       "<IPython.core.display.Javascript object>"
      ]
     },
     "metadata": {},
     "output_type": "display_data"
    }
   ],
   "source": [
    "%%javascript\n",
    "$.getScript('https://kmahelona.github.io/ipython_notebook_goodies/ipython_notebook_toc.js')"
   ]
  }
 ],
 "metadata": {
  "celltoolbar": "Slideshow",
  "nikola": {
   "author": "d@h",
   "category": "AircraftPitch",
   "date": "2016-02-16 08:00:00 UTC",
   "description": "Controls Tutorials for Python",
   "link": "",
   "slug": "aircraftpitch-systemanalysis",
   "tags": "SystemAnalysis",
   "title": "Aircraft Pitch - System Analysis",
   "type": ""
  }
 },
 "nbformat": 4,
 "nbformat_minor": 0
}
