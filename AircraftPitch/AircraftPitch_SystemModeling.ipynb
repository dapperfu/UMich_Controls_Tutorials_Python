{
 "cells": [
  {
   "cell_type": "code",
   "execution_count": null,
   "metadata": {},
   "outputs": [],
   "source": [
    "import sympy\n",
    "from control.matlab import *\n",
    "from IPython.display import Latex, Math, display\n",
    "from sympy import Poly\n",
    "from sympy.abc import s, z"
   ]
  },
  {
   "cell_type": "code",
   "execution_count": 6,
   "metadata": {
    "exporter": {
     "cell_type": "init"
    },
    "slideshow": {
     "slide_type": "skip"
    }
   },
   "outputs": [
    {
     "name": "stdout",
     "output_type": "stream",
     "text": [
      "Using matplotlib backend: TkAgg\n",
      "Populating the interactive namespace from numpy and matplotlib\n"
     ]
    },
    {
     "name": "stderr",
     "output_type": "stream",
     "text": [
      "WARNING: pylab import has clobbered these variables: ['place', 'margins', 'append', 'unwrap', 'connect', 'step']\n",
      "`%matplotlib` prevents importing * from pylab and numpy\n"
     ]
    }
   ],
   "source": [
    "%pylab %matplotlib inline"
   ]
  },
  {
   "cell_type": "markdown",
   "metadata": {
    "exporter": {
     "cell_type": "toc"
    },
    "slideshow": {
     "slide_type": "skip"
    }
   },
   "source": [
    "<div id=\"toc\"></div>"
   ]
  },
  {
   "cell_type": "markdown",
   "metadata": {
    "slideshow": {
     "slide_type": "notes"
    }
   },
   "source": [
    "# Aircraft Pitch: System Modeling\n",
    "## Physical setup and system equations\n",
    "\n",
    "The equations governing the motion of an aircraft are a very complicated set of six nonlinear coupled differential equations. However, under certain assumptions, they can be decoupled and linearized into longitudinal and lateral equations. Aircraft pitch is governed by the longitudinal dynamics. In this example we will design an autopilot that controls the pitch of an aircraft. The basic coordinate axes and forces acting on an aircraft are shown in the figure given below. \n",
    "\n",
    "![flightdynamics.png](figures/flightdynamics.png)\n",
    "\n",
    "We will assume that the aircraft is in steady-cruise at constant altitude and velocity; thus, the thrust, drag, weight and lift forces balance each other in the _x_- and _y_-directions. We will also assume that a change in pitch angle will not change the speed of the aircraft under any circumstance (unrealistic but simplifies the problem a bit). Under these assumptions, the longitudinal equations of motion for the aircraft can be written as follows. \n",
    "\n",
    "$$\n",
    "\\dot{\\alpha} = \\mu\\Omega\\sigma [-(C_L+C_D)\\alpha+\\frac{1}{(\\mu-C_L)}q-(C_W \\sin\\gamma)\\theta+C_L] \n",
    "$$\n",
    "\n",
    "![pitch_equation](figures/pitch_equation.png)\n",
    "\n",
    "$$\n",
    "\\dot\\theta = \\Omega q \n",
    "$$\n",
    "\n",
    "Please refer to any aircraft-related textbooks for the explanation of how to derive these equations. You may also refer to the [Extras: Aircraft Pitch System Variables](../Extras_AircraftPitchVariables.ipynb) page to see a further explanation of what each variable represents. For this system, the input will be the elevator deflection angle \\\\(\\delta\\\\) and the output will be the pitch angle \\\\(\\theta\\\\) of the aircraft. \n",
    "\n",
    "## Transfer function and state-space models\n",
    "\n",
    "Before finding the transfer function and state-space models, let's plug in some numerical values to simplify the modeling equations shown above: \n",
    "\n",
    "$$\n",
    "\\dot\\alpha = -0.313\\alpha+56.7q+0.232\\delta \n",
    "$$\n",
    "\n",
    "$$\n",
    "\\dot q = -0.0139\\alpha-0.426q+0.0203\\delta \n",
    "$$\n",
    "\n",
    "$$\n",
    "\\dot\\theta = 56.7q \n",
    "$$\n",
    "\n",
    "These values are taken from the data from one of Boeing's commercial aircraft. \n",
    "\n",
    "### Transfer function\n",
    "\n",
    "To find the transfer function of the above system, we need to take the Laplace transform of the above modeling equations. Recall that when finding a transfer function, zero initial conditions must be assumed. The Laplace transform of the above equations are shown below. \n",
    "\n",
    "$$\n",
    "sA(s) = -0.313A(s)+56.7 Q(s)+0.232\\Delta(s)\n",
    "$$\n",
    "\n",
    "$$\n",
    "s Q(s) = -0.0139A(s)-0.426Q(s)+0.0203\\Delta(s)\n",
    "$$\n",
    "\n",
    "$$\n",
    "s\\Theta(s) = 56.7 Q(s)\n",
    "$$\n",
    "\n",
    "After few steps of algebra, you should obtain the following transfer function. \n",
    "\n",
    "$$\n",
    "P(s) = \\frac {\\Theta(s)} {\\Delta(s)} = \\frac {1.151s+0.1774} {s^3+0.739s^2+0.921s} \n",
    "$$\n",
    "\n",
    "### State space\n",
    "\n",
    "Recognizing the fact that the modeling equations above are already in the state-variable form, we can rewrite them as matrices as shown below. \n",
    "\n",
    "$$\n",
    "\\left [\\begin{array}{c} \\dot\\alpha \\\\ \\ \\\\ \\dot q \\\\ \\ \\\\ \\dot\\theta \\end{array} \\right] = \\left [\\begin{array}{ccc} -0.313 & 56.7 & 0 \\\\ \\ \\\\ -0.0139 & -0.426 & 0 \\\\ \\ \\\\ 0 & 56.7 & 0 \\end{array} \\right] \\left [\\begin{array}{c} \\alpha \\\\ \\ \\\\  q \\\\ \\ \\\\ \\theta \\end{array} \\right]+\\left [\\begin{array}{c} 0.232 \\\\ \\ \\\\ 0.0203 \\\\ \\ \\\\ 0 \\end{array} \\right][\\delta]\n",
    "$$\n",
    "\n",
    "Since our output is pitch angle, the output equation is the following. \n",
    "\n",
    "$$\n",
    "y = [ \\begin{array}{ccc}0 & 0 & 1 \\end{array}] \\left [\\begin{array}{c} \\alpha \\\\ \\ \\\\  q \\\\ \\ \\\\ \\theta \\end{array} \\right] \n",
    "$$\n",
    "\n",
    "\n",
    "## Design requirements\n",
    "\n",
    "The next step is to choose some design criteria. In this example we will design a feedback controller so that in response to a step command of pitch angle the actual pitch angle overshoots less than 10%, has a rise time of less than 2 seconds, a settling time of less than 10 seconds, and a steady-state error of less than 2%. For example, if the reference is 0.2 radians (11 degrees), then the pitch angle will not exceed approximately 0.22 rad, will rise from 0.02 rad to 0.18 rad within 2 seconds, will settle to within 2% of its steady-state value within 10 seconds, and will settle between 0.196 and 0.204 radians in steady-state. In summary, the design requirements are the following:\n",
    "\n",
    "* Overshoot less than 10 \n",
    "* Rise time  less than 2 seconds \n",
    "* Settling time less than 10 seconds \n",
    "* Steady-state error less than 2 \n",
    "\n",
    "## Python representation\n",
    "\n",
    "Now, we are ready to represent the system using Python. Running the following code in the command window will generate the open-loop transfer function model described above."
   ]
  },
  {
   "cell_type": "code",
   "execution_count": null,
   "metadata": {},
   "outputs": [],
   "source": []
  },
  {
   "cell_type": "code",
   "execution_count": 11,
   "metadata": {
    "slideshow": {
     "slide_type": "notes"
    }
   },
   "outputs": [
    {
     "data": {
      "text/latex": [
       "$$\\frac{1.151 s + 0.1774}{s^{3} + 0.739 s^{2} + 0.921 s}$$"
      ],
      "text/plain": [
       "<IPython.core.display.Math object>"
      ]
     },
     "metadata": {},
     "output_type": "display_data"
    }
   ],
   "source": [
    "P_pitch = (1.151 * s + 0.1774) / (s ** 3 + 0.739 * s ** 2 + 0.921 * s)\n",
    "P_pitch"
   ]
  },
  {
   "cell_type": "markdown",
   "metadata": {
    "slideshow": {
     "slide_type": "notes"
    }
   },
   "source": [
    "To generate the state-space model described above, instead enter the following commands at the command line."
   ]
  },
  {
   "cell_type": "code",
   "execution_count": 14,
   "metadata": {
    "slideshow": {
     "slide_type": "notes"
    }
   },
   "outputs": [
    {
     "data": {
      "text/plain": [
       "A = [[ -3.13000000e-01   5.67000000e+01   0.00000000e+00]\n",
       " [ -1.39000000e-02  -4.26000000e-01   0.00000000e+00]\n",
       " [  0.00000000e+00   5.67000000e+01   0.00000000e+00]]\n",
       "\n",
       "B = [[ 0.232 ]\n",
       " [ 0.0203]\n",
       " [ 0.    ]]\n",
       "\n",
       "C = [[0 0 1]]\n",
       "\n",
       "D = [[0]]"
      ]
     },
     "metadata": {},
     "output_type": "display_data"
    }
   ],
   "source": [
    "A = numpy.array([[-0.313, 56.7, 0], [-0.0139, -0.426, 0], [0, 56.7, 0]])\n",
    "B = numpy.array([[0.232], [0.0203], [0]])\n",
    "C = numpy.array([[0, 0, 1]])\n",
    "D = numpy.array([[0]])\n",
    "pitch_ss = ss(A, B, C, D)\n",
    "display(pitch_ss)"
   ]
  },
  {
   "cell_type": "code",
   "execution_count": 16,
   "metadata": {
    "exporter": {
     "cell_type": "toc"
    },
    "slideshow": {
     "slide_type": "skip"
    }
   },
   "outputs": [
    {
     "data": {
      "application/javascript": [
       "$.getScript('https://kmahelona.github.io/ipython_notebook_goodies/ipython_notebook_toc.js')"
      ],
      "text/plain": [
       "<IPython.core.display.Javascript object>"
      ]
     },
     "metadata": {},
     "output_type": "display_data"
    }
   ],
   "source": [
    "%%javascript\n",
    "$.getScript('https://kmahelona.github.io/ipython_notebook_goodies/ipython_notebook_toc.js')"
   ]
  }
 ],
 "metadata": {
  "celltoolbar": "Slideshow",
  "kernelspec": {
   "display_name": "Python 3",
   "language": "python",
   "name": "python3"
  },
  "language_info": {
   "codemirror_mode": {
    "name": "ipython",
    "version": 3
   },
   "file_extension": ".py",
   "mimetype": "text/x-python",
   "name": "python",
   "nbconvert_exporter": "python",
   "pygments_lexer": "ipython3",
   "version": "3.8.5"
  },
  "nikola": {
   "author": "d@h",
   "category": "AircraftPitch",
   "date": "2016-02-16 08:00:00 UTC",
   "description": "Controls Tutorials for Python",
   "link": "",
   "slug": "aircraftpitch-systemmodeling",
   "tags": "SystemModeling",
   "title": "Aircraft Pitch - System Modeling",
   "type": ""
  }
 },
 "nbformat": 4,
 "nbformat_minor": 1
}
