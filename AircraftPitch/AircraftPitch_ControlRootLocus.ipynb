{
 "cells": [
  {
   "cell_type": "code",
   "execution_count": null,
   "metadata": {},
   "outputs": [],
   "source": [
    "import sympy\n",
    "from IPython.display import Latex, display\n",
    "from sympy import Poly\n",
    "from sympy.abc import s, z\n",
    "\n",
    "from control.matlab import *"
   ]
  },
  {
   "cell_type": "code",
   "execution_count": 1,
   "metadata": {
    "exporter": {
     "cell_type": "init"
    },
    "slideshow": {
     "slide_type": "skip"
    }
   },
   "outputs": [
    {
     "name": "stdout",
     "output_type": "stream",
     "text": [
      "Using matplotlib backend: TkAgg\n",
      "Populating the interactive namespace from numpy and matplotlib\n"
     ]
    }
   ],
   "source": [
    "%pylab %matplotlib inline"
   ]
  },
  {
   "cell_type": "markdown",
   "metadata": {
    "exporter": {
     "cell_type": "toc"
    },
    "slideshow": {
     "slide_type": "skip"
    }
   },
   "source": [
    "<div id=\"toc\"></div>"
   ]
  },
  {
   "cell_type": "markdown",
   "metadata": {
    "slideshow": {
     "slide_type": "notes"
    }
   },
   "source": [
    "# Aircraft Pitch: Root Locus Controller Design\n",
    "\n",
    "From the main problem, the open-loop transfer function for the aircraft pitch dynamics is\n",
    "\n",
    "$$\n",
    "P(s) = \\frac{\\Theta(s)}{\\Delta(s)} = \\frac {1.151s+0.1774}{s^3+0.739s^2+0.921s}\n",
    "$$\n",
    "\n",
    "where the input is elevator deflection angle \\\\(\\delta\\\\) and the output is the aircraft pitch angle $\\theta$. For the original problem setup and the derivation of the above transfer function please refer to the [Aircraft Pitch: System Modeling](../AircraftPitch/AircraftPitch-SystemModeling.ipynb) page. For a step reference of 0.2 radians, the design criteria are the following.\n",
    "* Overshoot less than 10\n",
    "* Rise time less than 2 seconds\n",
    "* Settling time less than 10 seconds\n",
    "* Steady-state error less than 2 Recall from the [Introduction: Root Locus Controller Design](../Introduction/Introduction-ControlRootLocus.ipynb) page. a root locus plot shows all possible closed-loop pole locations as a parameter (usually a proportional gain _K_) is varied from 0 to infinity. We will employ the root locus to design our controller to place our system's closed-loop poles in locations that will result in behavior that satisfies our given requirements. Recall from the [Aircraft Pitch: System Analysis](../AircraftPitch/AircraftPitch-SystemAnalysis.ipynb) page. how pole locations directly affect the character of the system's response to a step reference. We will specifically use MATLAB's **SISO Design Tool** to modify the system's root locus to design a compensator to place the system's closed-loop poles to achieve the given design requirements. More specifically, we will use the root locus to design for the requirements on transient response. We will assume the following unity-feedback architecture.\n",
    "![feedback_pitch2.png](figures/feedback_pitch2.png)\n",
    "\n",
    "\n",
    "## Original root locus plot\n",
    "\n",
    "We will begin by examining the system's root locus under simple proportional control _C_(_s_) = _K_. First, enter the following code at the command line to define the model of our plant _P_(_s_). Refer to the [Aircraft Pitch: System Modeling](../AircraftPitch/AircraftPitch-SystemModeling.ipynb) page. for the details of getting these commands."
   ]
  },
  {
   "cell_type": "code",
   "execution_count": 2,
   "metadata": {
    "slideshow": {
     "slide_type": "notes"
    }
   },
   "outputs": [],
   "source": [
    "# s = tf('s');\n",
    "# P_pitch = (1.151*s+0.1774)/(s^3+0.739*s^2+0.921*s);\n"
   ]
  },
  {
   "cell_type": "markdown",
   "metadata": {
    "slideshow": {
     "slide_type": "notes"
    }
   },
   "source": [
    "Then, type |sisotool('rlocus', P_pitch)| in the command window. Two windows will initially open, one is the **SISO Design Task** which will open with the root locus of the plant with gain _K_ as shown below, and the other is the **Control and Estimation Tool Manager** which allows you to design compensators, analyze plots, and so forth.\n",
    "![PictureA.png](figures/PictureA.png)\n",
    "The **Control and Estimation Tools Manager** window displays the architecture of the control system being designed as shown below. This default agrees with the architecture we are employing.\n",
    "![Picture1.png](figures/Picture1.png)\n",
    "Since our reference is a step function of 0.2 radians, we can set the precompensator block _F_(_s_) equal to 0.2 to scale a unit step input to our system. This can be accomplished from the **Compensator Editor** tab of the open window. Specifically, choose |F| from the drop-down menu in the **Compensator** portion of the window and set the compensator equal to 0.2 as shown in the figure below. Since the addition of this precompensator doesn't effect the closed-loop pole locations, the displayed root locus will remain unchanged.\n",
    "![Picture2.png](figures/Picture2.png)\n",
    "Recalling that pole locations relate to transient performance, we can identify regions of the complex plane that correspond to pole locations that meet our requirements. These regions assume a canonical second-order system which we do not have even under proportional control, however, the regions serve as a good starting point for our design. To add the design requirements to the root-locus plot, right-click on the plot and select *Design Requirements > New* from the resulting menu. You can add many design requirements including Settling time, Percent overshoot, Damping ratio, Natural frequency, and generic Region constraint. Our settling time and percent overshoot requirements can be added directly employing these choices. Rise time is not explicitly included as one of the drop-down choices, however, we can use the following approximate relationship that relates rise time to natural frequency.\n",
    "\n",
    "$$\n",
    "\\omega_n \\approx \\frac{1.8}{T_r}\n",
    "$$\n",
    "\n",
    "Therefore, our requirement that rise time be less than 2 seconds corresponds approximately to a natural frequency of greater than 0.9 rad/sec for a canonical underdamped second-order system. Adding this requirement to the root locus plot in addition to the settle time and overshoot requirements generates the following figure.\n",
    "![Picture3.png](figures/Picture3.png)\n",
    "The resulting desired region for the closed-loop poles is shown by the unshaded region of the above figure. More specifically, the two rays centered at the origin represent the overshoot requirement; the smaller the angle these rays make with the negative real-axis, the less overshoot is allowed. The vertical line at _s_ = -0.4 represents the settling time requirement, where the farther to left the closed-loop poles are located the smaller the settling time is. The rise time (natural frequency) requirement corresponds to the circle centered at the origin, where the radius corresponds to a natural frequency of 0.9. From examination of the above figure, since none of the three branches of the root locus enter the unshaded region, we cannot place the system's closed-loop poles in the desired region by varying the proportional gain _K_. Therefore, we must attempt a dynamic compensator with poles and/or zeros in order to reshape the root locus."
   ]
  },
  {
   "cell_type": "code",
   "execution_count": 3,
   "metadata": {
    "slideshow": {
     "slide_type": "notes"
    }
   },
   "outputs": [],
   "source": [
    "#\n"
   ]
  },
  {
   "cell_type": "code",
   "execution_count": 4,
   "metadata": {
    "exporter": {
     "cell_type": "toc"
    },
    "slideshow": {
     "slide_type": "skip"
    }
   },
   "outputs": [
    {
     "data": {
      "application/javascript": [
       "$.getScript('https://kmahelona.github.io/ipython_notebook_goodies/ipython_notebook_toc.js')"
      ],
      "text/plain": [
       "<IPython.core.display.Javascript object>"
      ]
     },
     "metadata": {},
     "output_type": "display_data"
    }
   ],
   "source": [
    "%%javascript\n",
    "$.getScript('https://kmahelona.github.io/ipython_notebook_goodies/ipython_notebook_toc.js')"
   ]
  }
 ],
 "metadata": {
  "celltoolbar": "Slideshow",
  "nikola": {
   "author": "d@h",
   "category": "AircraftPitch",
   "date": "2016-02-16 08:00:00 UTC",
   "description": "Controls Tutorials for Python",
   "link": "",
   "slug": "aircraftpitch-controlrootlocus",
   "tags": "ControlRootLocus",
   "title": "Aircraft Pitch - Control Root Locus",
   "type": ""
  }
 },
 "nbformat": 4,
 "nbformat_minor": 0
}
