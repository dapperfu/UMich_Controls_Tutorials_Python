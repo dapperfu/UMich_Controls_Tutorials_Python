{
 "cells": [
  {
   "cell_type": "markdown",
   "metadata": {
    "slideshow": {
     "slide_type": "notes"
    }
   },
   "source": [
    "# Introduction: Digital Controller Design\n",
    "\n",
    "In this section we will discuss converting continuous time models into discrete time (or difference equation) models. We will also introduce the z-transform and show how to use it to analyze and design controllers for discrete time systems.\n",
    "\n",
    "## Introduction\n",
    "\n",
    "The figure below shows the typical continuous feedback system that we have been considering so far in this tutorial. Almost all of the continuous controllers can be built using analog electronics.\n",
    "![block1.png](figures/block1.png)\n",
    "The continuous controller, enclosed in the dashed square, can be replaced by a digital controller, shown below, that performs same control task as the continuous controller. The basic difference between these controllers is that the digital system operates on discrete signals (or samples of the sensed signal) rather than on continuous signals.\n",
    "![block2.png](figures/block2.png)\n",
    "Different types of signals in the above digital schematic can be represented by the following plots.\n",
    "![signals.png](figures/signals.png)\n",
    "The purpose of this Digital Control Tutorial is to show you how to use Python to work with discrete functions either in transfer function or state-space form to design digital control systems.\n",
    "\n",
    "## Zero-Hold Equivalence\n",
    "\n",
    "In the above schematic of the digital control system, we see that the digital control system contains both discrete and the continuous portions. When designing a digital control system, we need to find the discrete equivalent of the continuous portion so that we only need to deal with discrete functions. For this technique, we will consider the following portion of the digital control system and rearrange as follows.\n",
    "![block3.png](figures/block3.png)\n",
    "\n",
    "![block4.png](figures/block4.png)\n",
    "The **clock** connected to the *D/A and A/D converters* supplies a pulse every T seconds and each D/A and A/D sends a signal only when the pulse arrives. The purpose of having this pulse is to require that Hzoh(z) have only samples u(k) to work on and produce only samples of output y(k); thus, Hzoh(z) can be realized as a discrete function. The philosophy of the design is the following. We want to find a discrete function Hzoh(z) so that for a piecewise constant input to the continuous system H(s), the sampled output of the continuous system equals the discrete output. Suppose the signal u(k) represents a sample of the input signal. There are techniques for taking this sample u(k) and holding it to produce a continuous signal uhat(t). The sketch below shows that the uhat(t) is held constant at u(k) over the interval kT to (k+1)T. This operation of holding uhat(t) constant over the sampling time is called zero-order hold.\n",
    "![zohfig.png](figures/zohfig.png)\n",
    "The zero-order held signal uhat(t) goes through H2(s) and A/D to produce the output y(k) that will be the piecewise same signal as if the discrete signal u(k) goes through Hzoh(z) to produce the discrete output y(k).\n",
    "![block7.png](figures/block7.png)\n",
    "Now we will redraw the schematic, placing Hzoh(z) in place of the continuous portion.\n",
    "![block6.png](figures/block6.png)\n",
    "By placing Hzoh(z), we can design digital control systems dealing with only discrete functions. *Note:* There are certain cases where the discrete response does not match the continuous response due to a hold circuit implemented in digital control systems. For information, see Lagging effect associated with the hold.\n",
    "\n",
    "## Conversion Using c2d\n",
    "\n",
    "There is a MATLAB function called c2d that converts a given continuous system (either in transfer function or state-space form) to a discrete system using the zero-order hold operation explained above. The basic command for this in MATLAB is |sys_d = c2d(sys,Ts,'zoh')| The sampling time (Ts in sec/sample) should be smaller than 1/(30*BW), where BW is the closed-loop bandwidth frequency.\n",
    "\n",
    "## Example: Mass-Spring-Damper\n",
    "\n",
    "**Transfer Function** Suppose you have the following continuous transfer function\n",
    "\n",
    "$$\n",
    "\\frac{X(s)}{F(s)} = \\frac{1}{Ms^2+bs+k}\n",
    "$$\n",
    "\n",
    "Assuming the closed-loop bandwidth frequency is greater than 1 rad/sec, we will choose the sampling time (Ts) equal to 1/100 sec. Now, create an new m-file and enter the following commands."
   ]
  },
  {
   "cell_type": "code",
   "execution_count": 4,
   "metadata": {},
   "outputs": [],
   "source": [
    "from IPython.display import display,Latex,Math\n",
    "import control\n",
    "import matplotlib.pyplot as plt\n",
    "import numpy as np\n",
    "import seaborn as sns\n",
    "s = control.TransferFunction.s"
   ]
  },
  {
   "cell_type": "code",
   "execution_count": 5,
   "metadata": {},
   "outputs": [],
   "source": [
    "# Generate Larger more readable plots\n",
    "# Double click on images to make them full scale.\n",
    "sns.set(\n",
    "    rc={\n",
    "        \"axes.labelsize\": 8,\n",
    "        \"axes.titlesize\": 8,\n",
    "        \"figure.figsize\": (4 * 1.618, 4),\n",
    "        \"figure.dpi\": 200,\n",
    "    }\n",
    ")"
   ]
  },
  {
   "cell_type": "code",
   "execution_count": 22,
   "metadata": {
    "slideshow": {
     "slide_type": "notes"
    }
   },
   "outputs": [
    {
     "data": {
      "text/latex": [
       "$\\displaystyle  G(s) = \\frac{1}{s^2 + 10 s + 20}$"
      ],
      "text/plain": [
       "<IPython.core.display.Math object>"
      ]
     },
     "metadata": {},
     "output_type": "display_data"
    }
   ],
   "source": [
    "M = 1\n",
    "b = 10\n",
    "k = 20\n",
    "sys = 1/(M*s**2+b*s+k)\n",
    "display(Math(\"$$ G(s) = \"+sys._repr_latex_().lstrip(\"$\")))"
   ]
  },
  {
   "cell_type": "code",
   "execution_count": 23,
   "metadata": {
    "slideshow": {
     "slide_type": "notes"
    }
   },
   "outputs": [
    {
     "data": {
      "text/latex": [
       "$\\displaystyle  G(z) = \\frac{4.837 \\times 10^{-5} z + 4.678 \\times 10^{-5}}{z^2 - 1.903 z + 0.9048}\\quad dt = 0.01$"
      ],
      "text/plain": [
       "<IPython.core.display.Math object>"
      ]
     },
     "metadata": {},
     "output_type": "display_data"
    }
   ],
   "source": [
    "Ts = 1/100\n",
    "sys_d = control.c2d(sys,Ts,'zoh')\n",
    "display(Math(\"$$ G(z) = \"+sys_d._repr_latex_().lstrip(\"$\")))\n"
   ]
  },
  {
   "cell_type": "markdown",
   "metadata": {
    "slideshow": {
     "slide_type": "notes"
    }
   },
   "source": [
    "**State-Space** The continuous time state-space model is as follows:\n",
    "\n",
    "$$\n",
    "\\mathbf{\\dot{x}} = \\left[ \\begin{array}{c} \\dot{x} \\\\ \\ddot{x} \\end{array} \\right] = \\left[ \\begin{array}{cc} 0 & 1 \\\\ -\\frac{k}{m}  & -\\frac{b}{m} \\end{array} \\right] \\left[ \\begin{array}{c} x \\\\ \\dot{x} \\end{array} \\right] + \\left[ \\begin{array}{c} 0 \\\\ \\frac{1}{m} \\end{array} \\right] F(t)\n",
    "$$\n",
    "\n",
    "\n",
    "\n",
    "$$\n",
    "y = \\left[ \\begin{array}{cc} 1 & 0 \\end{array} \\right] \\left[ \\begin{array}{c} x \\\\ \\dot{x} \\end{array} \\right]\n",
    "$$\n",
    "\n",
    "All constants are the same as before.  The following m-file converts the above continuous state-space to discrete state-space."
   ]
  },
  {
   "cell_type": "code",
   "execution_count": 15,
   "metadata": {
    "slideshow": {
     "slide_type": "notes"
    }
   },
   "outputs": [
    {
     "data": {
      "text/plain": [
       "A = [[  0.   1.]\n",
       " [-20. -10.]]\n",
       "\n",
       "B = [[ 0.]\n",
       " [ 1.]]\n",
       "\n",
       "C = [[1 0]]\n",
       "\n",
       "D = [[0]]"
      ]
     },
     "metadata": {},
     "output_type": "display_data"
    },
    {
     "data": {
      "text/plain": [
       "A = [[ 0.99903268  0.00951309]\n",
       " [-0.19026174  0.90390181]]\n",
       "\n",
       "B = [[  4.83661727e-05]\n",
       " [  9.51308696e-03]]\n",
       "\n",
       "C = [[1 0]]\n",
       "\n",
       "D = [[0]]\n",
       "\n",
       "dt = 0.01"
      ]
     },
     "metadata": {},
     "output_type": "display_data"
    }
   ],
   "source": [
    "A = numpy.array([[0,1],\n",
    "                 [-k/M,-b/M]])\n",
    "B = numpy.array([[0],\n",
    "                 [1/M]])\n",
    "C = numpy.array([[1,0]])\n",
    "D = numpy.array([[0]])\n",
    "Ts = 1/100;\n",
    "sys = control.ts(A,B,C,D)\n",
    "display(sys)\n",
    "sys_d = c2d(sys,Ts,'zoh')\n",
    "display(sys_d)"
   ]
  },
  {
   "cell_type": "markdown",
   "metadata": {
    "slideshow": {
     "slide_type": "notes"
    }
   },
   "source": [
    "From these matrices, the discrete state-space can be written as\n",
    "\n",
    "$$\n",
    "\\left[ \\begin{array}{c} x(k) \\\\ v(k) \\end{array} \\right] = \\left[ \\begin{array}{cc} 0.9990 & 0.0095 \\\\ -0.1903 & 0.9039  \\end{array} \\right] \\left[ \\begin{array}{c} x(k-1) \\\\ v(k-1) \\end{array} \\right] + \\left[ \\begin{array}{c} 0 \\\\ 0.0095 \\end{array} \\right] F(k-1)\n",
    "$$\n",
    "\n",
    "\n",
    "\n",
    "$$\n",
    "y(k-1) = \\left[ \\begin{array}{cc} 1 & 0 \\end{array} \\right] \\left[ \\begin{array}{c} x(k-1) \\\\ v(k-1) \\end{array} \\right]\n",
    "$$\n",
    "\n",
    "Now you have the discrete time state-space model.\n",
    "\n",
    "## Stability and Transient Response\n",
    "\n",
    "For continuous systems, we know that certain behaviors results from different pole locations in the s-plane. For instance, a system is unstable when any pole is located to the right of the imaginary axis. For discrete systems, we can analyze the system behaviors from different pole locations in the z-plane. The characteristics in the z-plane can be related to those in the s-plane by the expression\n",
    "\n",
    "$$\n",
    "z = e^{sT}\n",
    "$$\n",
    "\n",
    "\n",
    "* T = Sampling time (sec/sample)\n",
    "* s = Location in the s-plane\n",
    "* z = Location in the z-plane The figure below shows the mapping of lines of constant damping ratio (zeta) and natural frequency (Wn) from the s-plane to the z-plane using the expression shown above.\n",
    "![zgrid.gif](figures/zgrid.gif)\n",
    "If you noticed in the z-plane, the stability boundary is no longer imaginary axis, but is the unit circle |z|=1. The system is stable when all poles are located inside the unit circle and unstable when any pole is located outside. For analyzing the transient response from pole locations in the z-plane, the following three equations used in continuous system designs are still applicable.\n",
    "\n",
    "$$\n",
    "\\zeta \\omega_n \\geq \\frac{4.6}{Ts}\n",
    "$$\n",
    "\n",
    "\n",
    "\n",
    "$$\n",
    "\\omega_n \\geq \\frac{1.8}{Tr}\n",
    "$$\n",
    "\n",
    "\n",
    "\n",
    "$$\n",
    "\\zeta = \\frac{-\\ln(\\%OS/100)}{\\sqrt{\\pi^2+\\ln(\\%OS/100)^2}}\n",
    "$$\n",
    "\n",
    "where,\n",
    "* zeta = Damping ratio\n",
    "* Wn = Natural frequency (rad/sec)\n",
    "* Ts = Settling time\n",
    "* Tr = Rise time\n",
    "* Mp = Maximum overshoot Important: The natural frequency (Wn) in z-plane has the unit of rad/sample, but when you use the equations shown above, the Wn must be in the unit of rad/sec. Suppose we have the following discrete transfer function\n",
    "\n",
    "$$\n",
    "\\frac{Y(z)}{F(z)} = \\frac{1}{z^2-0.3z+0.5}\n",
    "$$\n",
    "\n",
    "Create an new m-file and enter the following commands. Running this m-file in the command window gives you the following plot with the lines of constant damping ratio and natural frequency."
   ]
  },
  {
   "cell_type": "code",
   "execution_count": 32,
   "metadata": {
    "scrolled": true,
    "slideshow": {
     "slide_type": "notes"
    }
   },
   "outputs": [
    {
     "data": {
      "image/png": "[encoded data removed]",
      "text/plain": [
       "<matplotlib.figure.Figure at 0x81ea24438>"
      ]
     },
     "metadata": {},
     "output_type": "display_data"
    }
   ],
   "source": [
    "numDz = [1]\n",
    "denDz = [1,-0.3,0.5]\n",
    "sys = tf(numDz,denDz)\n",
    "poles, zeros = pzmap(sys)"
   ]
  },
  {
   "cell_type": "markdown",
   "metadata": {
    "slideshow": {
     "slide_type": "notes"
    }
   },
   "source": [
    "From this plot, we see poles are located approximately at the natural frequency of $\\frac{9\\pi}{20T}$ (rad/sample) and the damping ratio of 0.25. Assuming that we have a sampling time of 1/20 sec (which leads to Wn = 28.2 rad/sec) and using three equations shown above, we can determine that this system should have the rise time of 0.06 sec, a settling time of 0.65 sec and a maximum overshoot of 45% (0.45 more than the steady-state value). Let's obtain the step response and see if these are correct. Add the following commands to the above cell and rerun it in the notebook. You should get the following step response."
   ]
  },
  {
   "cell_type": "code",
   "execution_count": 61,
   "metadata": {
    "slideshow": {
     "slide_type": "notes"
    }
   },
   "outputs": [
    {
     "data": {
      "text/plain": [
       "\n",
       "     z - 0.3\n",
       "-----------------\n",
       "z^2 - 1.6 z + 0.7\n",
       "\n",
       "dt = 0.05"
      ]
     },
     "metadata": {},
     "output_type": "display_data"
    }
   ],
   "source": [
    "sys = tf(numDz,denDz,1/20)\n",
    "display(sys)\n",
    "t = np.arange(0,2.5,0.01)\n",
    "\n",
    "# ToDo: Debug why this is returning weird answers for discrete controllers\n",
    "# out = step(sys, T=t)"
   ]
  },
  {
   "cell_type": "markdown",
   "metadata": {
    "slideshow": {
     "slide_type": "notes"
    }
   },
   "source": [
    "As you can see from the plot, the rise time, settling time and overshoot came out to be what we expected. This shows how you can use the locations of poles and the above three equations to analyze the transient response of the system.\n",
    "\n",
    "## Discrete Root Locus\n",
    "\n",
    "The root-locus is the locus of points where roots of characteristic equation can be found as a single gain is varied from zero to infinity. The characteristic equation of an unity feedback system is\n",
    "\n",
    "$$\n",
    "1+KG(z)Hzoh(z) = 0\n",
    "$$\n",
    "\n",
    "where G(z) is the compensator implemented in the digital controller and Hzoh(z) is the plant transfer function in z. The mechanics of drawing the root-loci are exactly the same in the z-plane as in the s-plane. Recall from the continuous Root-Locus Tutorial, we used the Python function called sgrid to find the root-locus region that gives an acceptable gain (K). For the discrete root-locus analysis, we will use the function zgrid that has the same characteristics as sgrid. The command zgrid(zeta, Wn) draws lines of constant damping ratio (zeta) and natural frequency (Wn). Suppose we have the following discrete transfer function\n",
    "\n",
    "$$\n",
    "\\frac{Y(z)}{F(z)} = \\frac{z-0.3}{z^2-1.6z+0.7}\n",
    "$$\n",
    "\n",
    "and the requirements are a damping ratio greater than 0.6 and a natural frequency greater than 0.4 rad/sample (these can be found from design requirements, sampling time (sec/sample) and three equations shown in the previous section). The following commands draw the root-locus with the lines of constant damping ratio and natural frequency. Create an new m-file and enter the following commands. Running this m-file should give you the following root-locus plot."
   ]
  },
  {
   "cell_type": "code",
   "execution_count": 62,
   "metadata": {
    "slideshow": {
     "slide_type": "notes"
    }
   },
   "outputs": [
    {
     "data": {
      "image/png": "[encoded data removed]",
      "text/plain": [
       "<matplotlib.figure.Figure at 0x81f0328d0>"
      ]
     },
     "metadata": {},
     "output_type": "display_data"
    }
   ],
   "source": [
    "numDz = [1,-0.3]\n",
    "denDz = [1,-1.6,0.7]\n",
    "sys = tf(numDz,denDz,-1);\n",
    "rlist, klist = rlocus(sys)\n",
    "\n",
    "# ToDo: Write Python version of zgrid\n",
    "# zeta = 0.4;\n",
    "# Wn = 0.3;\n",
    "# zgrid(zeta,Wn)"
   ]
  },
  {
   "cell_type": "code",
   "execution_count": 7,
   "metadata": {
    "exporter": {
     "cell_type": "toc"
    },
    "slideshow": {
     "slide_type": "skip"
    }
   },
   "outputs": [
    {
     "data": {
      "application/javascript": [
       "$.getScript('https://kmahelona.github.io/ipython_notebook_goodies/ipython_notebook_toc.js')"
      ],
      "text/plain": [
       "<IPython.core.display.Javascript object>"
      ]
     },
     "metadata": {},
     "output_type": "display_data"
    }
   ],
   "source": [
    "%%javascript\n",
    "$.getScript('https://kmahelona.github.io/ipython_notebook_goodies/ipython_notebook_toc.js')"
   ]
  }
 ],
 "metadata": {
  "celltoolbar": "Slideshow",
  "kernelspec": {
   "display_name": "Python 3",
   "language": "python",
   "name": "python3"
  },
  "language_info": {
   "codemirror_mode": {
    "name": "ipython",
    "version": 3
   },
   "file_extension": ".py",
   "mimetype": "text/x-python",
   "name": "python",
   "nbconvert_exporter": "python",
   "pygments_lexer": "ipython3",
   "version": "3.8.5"
  },
  "nikola": {
   "author": "d@h",
   "category": "Introduction",
   "date": "2016-02-16 08:00:00 UTC",
   "description": "Controls Tutorials for Python",
   "link": "",
   "slug": "introduction-controldigital",
   "tags": "ControlDigital",
   "title": "Introduction - Control Digital",
   "type": ""
  }
 },
 "nbformat": 4,
 "nbformat_minor": 1
}
