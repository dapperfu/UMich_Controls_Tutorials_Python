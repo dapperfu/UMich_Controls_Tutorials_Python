{
 "cells": [
  {
   "cell_type": "code",
   "execution_count": null,
   "metadata": {},
   "outputs": [],
   "source": [
    "import sympy\n",
    "from IPython.display import Latex, Math, display\n",
    "from sympy import Poly\n",
    "from sympy.abc import s, z\n",
    "\n",
    "import control\n",
    "from control.matlab import *"
   ]
  },
  {
   "cell_type": "code",
   "execution_count": 2,
   "metadata": {
    "exporter": {
     "cell_type": "init"
    },
    "slideshow": {
     "slide_type": "skip"
    }
   },
   "outputs": [
    {
     "name": "stderr",
     "output_type": "stream",
     "text": [
      "UsageError: unrecognized arguments: inline# Helper Functionsdef tex(eqn,lhs=None): # Quick way to display a symbolic equation. if lhs == None: display(Math(sympy.latex(eqn))) def sym_to_tf(sym_sys): # Convert a sympy symbolic equation into # a control library transfer function. sym_num=sympy.Poly(sympy.numer(sym_sys),s) sym_den=sympy.Poly(sympy.denom(sym_sys),s) num = float64(sym_num.all_coeffs()) den = float64(sym_den.all_coeffs()) sys = tf(num,den) return sys\n"
     ]
    }
   ],
   "source": [
    "%pylab %matplotlib inline# Helper Functionsdef tex(eqn,lhs=None):    # Quick way to display a symbolic equation.    if lhs == None:        display(Math(sympy.latex(eqn)))    def sym_to_tf(sym_sys):    # Convert a sympy symbolic equation into     # a control library transfer function.    sym_num=sympy.Poly(sympy.numer(sym_sys),s)    sym_den=sympy.Poly(sympy.denom(sym_sys),s)    num = float64(sym_num.all_coeffs())    den = float64(sym_den.all_coeffs())    sys = tf(num,den)    return sys"
   ]
  },
  {
   "cell_type": "code",
   "execution_count": 2,
   "metadata": {},
   "outputs": [],
   "source": [
    "# Helper Functions\n",
    "def tex(eqn):\n",
    "    # Quick way to display a symbolic equation.\n",
    "    display(Math(sympy.latex(eqn)))\n",
    "\n",
    "\n",
    "def sym_to_tf(sym_sys):\n",
    "    # Convert symbolic equation into a transfer function.\n",
    "    sym_num = sympy.Poly(sympy.numer(sym_sys), s)\n",
    "    sym_den = sympy.Poly(sympy.denom(sym_sys), s)\n",
    "    num = float64(sym_num.all_coeffs())\n",
    "    den = float64(sym_den.all_coeffs())\n",
    "    sys = tf(num, den)\n",
    "    return sys\n"
   ]
  },
  {
   "cell_type": "markdown",
   "metadata": {
    "slideshow": {
     "slide_type": "notes"
    }
   },
   "source": [
    "# Introduction: Frequency Domain Methods for Controller Design\n",
    "\n",
    "The frequency response method of controller design may be less intuitive than other methods you have studied previously.  However, it has certain advantages, especially in real-life situations such as modeling transfer functions from physical data.  In this tutorial, we will see how we can use the open-loop frequency response of a system to predict its behavior in closed-loop.\n",
    "\n",
    "## Gain and Phase Margin\n",
    "\n",
    "Consider the following unity feedback system:\n",
    "![FrequencyResponseTutorial_BodePlots_Margins_BlockDiagram.png](figures/FrequencyResponseTutorial_BodePlots_Margins_BlockDiagram.png)\n",
    "where \\\\(K\\\\) is a variable (constant) gain and \\\\(G(s)\\\\) is the plant under consideration.  The **gain margin** is defined as the change in open-loop gain required to make the system unstable.  Systems with greater gain margins can withstand greater changes in system parameters before becoming unstable in closed-loop. \n",
    "\n",
    "The **phase margin** is defined as the change in open-loop phase shift required to make a closed-loop system unstable. \n",
    "\n",
    "The phase margin also measures the system's tolerance to time delay.  If there is a time delay greater than \\\\(180/W_{pc}\\\\) in the loop (where \\\\(W_{pc}\\\\) is the frequency where the phase shift is 180 deg), the system will become unstable in closed-loop.  The time delay, \\\\(\\tau_d\\\\) can be thought of as an extra block in the forward path of the block diagram that adds phase to the system but has no effect on the gain.  That is, a time delay can be represented as a block with magnitude of 1 and phase \\\\(\\omega \\tau_d\\\\) (in radians/second).\n",
    "\n",
    "For now, we won't worry about where all this comes from and will concentrate on identifying the gain and phase margins on a Bode plot.\n",
    "\n",
    "The phase margin is the difference in phase between the phase curve and -180 degrees at the point corresponding to the frequency that gives us a gain of 0 dB (the gain crossover frequency, $W_{gc}$).  Likewise, the gain margin is the difference between the magnitude curve and 0 dB at the point corresponding to the frequency that gives us a phase of -180 degrees (the phase crossover frequency, $W_{pc}$).\n",
    "\n",
    "![FrequencyResponseTutorial_BodePlots_Margins_MarginDiagrams.png](figures/FrequencyResponseTutorial_BodePlots_Margins_MarginDiagrams.png)\n",
    "\n",
    "One nice thing about the phase margin is that you don't need to replot the Bode in order to find the new phase margin when changing the gains. If you recall, adding gain only shifts the magnitude plot up.  This is equivalent to changing the y-axis on the magnitude plot.  Finding the phase margin is simply a matter of finding the new cross-over frequency and reading off the phase margin.  For example, suppose you entered the command ```bode(sys)```. You will get the following bode plot:"
   ]
  },
  {
   "cell_type": "code",
   "execution_count": 3,
   "metadata": {
    "slideshow": {
     "slide_type": "notes"
    }
   },
   "outputs": [
    {
     "ename": "NameError",
     "evalue": "name 'tex' is not defined",
     "output_type": "error",
     "traceback": [
      "\u001b[0;31m---------------------------------------------------------------------------\u001b[0m",
      "\u001b[0;31mNameError\u001b[0m                                 Traceback (most recent call last)",
      "\u001b[0;32m<ipython-input-3-275ab0e0828c>\u001b[0m in \u001b[0;36m<module>\u001b[0;34m\u001b[0m\n\u001b[1;32m      1\u001b[0m \u001b[0msym_sys\u001b[0m \u001b[0;34m=\u001b[0m \u001b[0;36m50\u001b[0m \u001b[0;34m/\u001b[0m \u001b[0;34m(\u001b[0m\u001b[0ms\u001b[0m \u001b[0;34m**\u001b[0m \u001b[0;36m3\u001b[0m \u001b[0;34m+\u001b[0m \u001b[0;36m9\u001b[0m \u001b[0;34m*\u001b[0m \u001b[0ms\u001b[0m \u001b[0;34m**\u001b[0m \u001b[0;36m2\u001b[0m \u001b[0;34m+\u001b[0m \u001b[0;36m30\u001b[0m \u001b[0;34m*\u001b[0m \u001b[0ms\u001b[0m \u001b[0;34m+\u001b[0m \u001b[0;36m40\u001b[0m\u001b[0;34m)\u001b[0m\u001b[0;34m\u001b[0m\u001b[0m\n\u001b[0;32m----> 2\u001b[0;31m \u001b[0mtex\u001b[0m\u001b[0;34m(\u001b[0m\u001b[0msym_sys\u001b[0m\u001b[0;34m)\u001b[0m\u001b[0;34m\u001b[0m\u001b[0m\n\u001b[0m\u001b[1;32m      3\u001b[0m \u001b[0msys\u001b[0m \u001b[0;34m=\u001b[0m \u001b[0msym_to_tf\u001b[0m\u001b[0;34m(\u001b[0m\u001b[0msym_sys\u001b[0m\u001b[0;34m)\u001b[0m\u001b[0;34m\u001b[0m\u001b[0m\n\u001b[1;32m      4\u001b[0m \u001b[0mmag\u001b[0m\u001b[0;34m,\u001b[0m \u001b[0mphase\u001b[0m\u001b[0;34m,\u001b[0m \u001b[0momega\u001b[0m \u001b[0;34m=\u001b[0m \u001b[0mbode\u001b[0m\u001b[0;34m(\u001b[0m\u001b[0msys\u001b[0m\u001b[0;34m,\u001b[0m \u001b[0mPlot\u001b[0m\u001b[0;34m=\u001b[0m\u001b[0;32mTrue\u001b[0m\u001b[0;34m)\u001b[0m\u001b[0;34m\u001b[0m\u001b[0m\n",
      "\u001b[0;31mNameError\u001b[0m: name 'tex' is not defined"
     ]
    }
   ],
   "source": [
    "sym_sys = 50 / (s ** 3 + 9 * s ** 2 + 30 * s + 40)\n",
    "tex(sym_sys)\n",
    "sys = sym_to_tf(sym_sys)\n",
    "mag, phase, omega = bode(sys, Plot=True)\n"
   ]
  },
  {
   "cell_type": "markdown",
   "metadata": {
    "slideshow": {
     "slide_type": "notes"
    }
   },
   "source": [
    "You should see that the phase margin is about 100 degrees.  Now suppose you added a gain of 100, by entering the command ```bode(100*sys)```.  You should get the following plot:"
   ]
  },
  {
   "cell_type": "code",
   "execution_count": 4,
   "metadata": {
    "slideshow": {
     "slide_type": "notes"
    }
   },
   "outputs": [
    {
     "ename": "TypeError",
     "evalue": "unsupported operand type(s) for *: 'int' and 'module'",
     "output_type": "error",
     "traceback": [
      "\u001b[0;31m---------------------------------------------------------------------------\u001b[0m",
      "\u001b[0;31mTypeError\u001b[0m                                 Traceback (most recent call last)",
      "\u001b[0;32m<ipython-input-4-10857faa34da>\u001b[0m in \u001b[0;36m<module>\u001b[0;34m\u001b[0m\n\u001b[0;32m----> 1\u001b[0;31m \u001b[0mmag\u001b[0m\u001b[0;34m,\u001b[0m \u001b[0mphase\u001b[0m\u001b[0;34m,\u001b[0m \u001b[0momega\u001b[0m \u001b[0;34m=\u001b[0m \u001b[0mbode\u001b[0m\u001b[0;34m(\u001b[0m\u001b[0;36m100\u001b[0m \u001b[0;34m*\u001b[0m \u001b[0msys\u001b[0m\u001b[0;34m,\u001b[0m \u001b[0mPlot\u001b[0m\u001b[0;34m=\u001b[0m\u001b[0;32mTrue\u001b[0m\u001b[0;34m)\u001b[0m\u001b[0;34m\u001b[0m\u001b[0m\n\u001b[0m",
      "\u001b[0;31mTypeError\u001b[0m: unsupported operand type(s) for *: 'int' and 'module'"
     ]
    }
   ],
   "source": [
    "mag, phase, omega = bode(100 * sys, Plot=True)\n"
   ]
  },
  {
   "cell_type": "markdown",
   "metadata": {
    "slideshow": {
     "slide_type": "notes"
    }
   },
   "source": [
    "As you can see the phase plot is exactly the same as before, and the magnitude plot is shifted up by 40 dB (gain of 100).  The phase margin is now about -60 degrees.  This same result could be achieved if the y-axis of the magnitude plot was shifted down 40 dB.  Try this, look at the first Bode plot, find where the curve crosses the -40 dB line, and read off the phase margin.  It should be about 90 degrees, the same as the second Bode plot. \n",
    "\n",
    "We can calculate and display the gain and phase margins using the ```margin(sys)``` command. This command returns the gain and phase margins, the gain and phase cross over frequencies, and a graphical representation of these on the Bode plot.  Let's check it out:"
   ]
  },
  {
   "cell_type": "code",
   "execution_count": 5,
   "metadata": {
    "slideshow": {
     "slide_type": "notes"
    }
   },
   "outputs": [
    {
     "ename": "TypeError",
     "evalue": "unsupported operand type(s) for *: 'int' and 'module'",
     "output_type": "error",
     "traceback": [
      "\u001b[0;31m---------------------------------------------------------------------------\u001b[0m",
      "\u001b[0;31mTypeError\u001b[0m                                 Traceback (most recent call last)",
      "\u001b[0;32m<ipython-input-5-2bb4717a0c20>\u001b[0m in \u001b[0;36m<module>\u001b[0;34m\u001b[0m\n\u001b[0;32m----> 1\u001b[0;31m \u001b[0mmargin\u001b[0m\u001b[0;34m(\u001b[0m\u001b[0;36m100\u001b[0m \u001b[0;34m*\u001b[0m \u001b[0msys\u001b[0m\u001b[0;34m)\u001b[0m\u001b[0;34m\u001b[0m\u001b[0m\n\u001b[0m",
      "\u001b[0;31mTypeError\u001b[0m: unsupported operand type(s) for *: 'int' and 'module'"
     ]
    }
   ],
   "source": [
    "margin(100 * sys)\n"
   ]
  },
  {
   "cell_type": "markdown",
   "metadata": {},
   "source": [
    "[Author's Tangent: We can make a function to make that easier to read and more verbose.]"
   ]
  },
  {
   "cell_type": "code",
   "execution_count": 6,
   "metadata": {},
   "outputs": [
    {
     "ename": "TypeError",
     "evalue": "unsupported operand type(s) for *: 'int' and 'module'",
     "output_type": "error",
     "traceback": [
      "\u001b[0;31m---------------------------------------------------------------------------\u001b[0m",
      "\u001b[0;31mTypeError\u001b[0m                                 Traceback (most recent call last)",
      "\u001b[0;32m<ipython-input-6-632f8944c602>\u001b[0m in \u001b[0;36m<module>\u001b[0;34m\u001b[0m\n\u001b[1;32m     11\u001b[0m \u001b[0;34m\u001b[0m\u001b[0m\n\u001b[1;32m     12\u001b[0m \u001b[0;34m\u001b[0m\u001b[0m\n\u001b[0;32m---> 13\u001b[0;31m \u001b[0mmargin2\u001b[0m\u001b[0;34m(\u001b[0m\u001b[0;36m100\u001b[0m \u001b[0;34m*\u001b[0m \u001b[0msys\u001b[0m\u001b[0;34m)\u001b[0m\u001b[0;34m\u001b[0m\u001b[0m\n\u001b[0m",
      "\u001b[0;31mTypeError\u001b[0m: unsupported operand type(s) for *: 'int' and 'module'"
     ]
    }
   ],
   "source": [
    "def margin2(sys):\n",
    "    gm, pm, Wcg, Wcp = margin(sys)\n",
    "    gm_db = 20 * numpy.log10(gm)\n",
    "    # Sometimes this wrapps around.s\n",
    "    if pm > 0:\n",
    "        pm = pm - 360\n",
    "    tex(r\"GM: \" + \"{:.2f} dB\".format(gm_db))\n",
    "    tex(r\"\\omega_{gm}: \" + \"{:.2f} rad/sec\".format(Wcp))\n",
    "    tex(r\"PM: \" + \"{:.2f} ^o\".format(pm))\n",
    "    tex(r\"\\omega_{pm}: \" + \"{:.2f} rad/sec\".format(Wcg))\n",
    "\n",
    "\n",
    "margin2(100 * sys)\n"
   ]
  },
  {
   "cell_type": "markdown",
   "metadata": {
    "slideshow": {
     "slide_type": "notes"
    }
   },
   "source": [
    "### Bandwidth Frequency\n",
    "\n",
    "The bandwidth frequency is defined as the frequency at which the closed-loop magnitude response is equal to -3 dB.  However, when we design via frequency response, we are interested in predicting the closed-loop behavior from the open-loop response.  Therefore, we will use a second-order system approximation and say that the bandwidth frequency equals the frequency at which the open-loop magnitude response is between -6 and -7.5 dB, assuming the open-loop phase response is between -135 deg and -225 deg.  For a complete derivation of this approximation, consult your textbook.\n",
    "\n",
    "In order to illustrate the importance of the bandwidth frequency, we will show how the output changes with different input frequencies.  We will find that sinusoidal inputs with frequency less than ``Wbw`` (the bandwidth frequency) are tracked \"reasonably well\" by the system.  Sinusoidal inputs with frequency greater than ``Wbw`` are attenuated (in magnitude) by a factor of 0.707 or greater (and are also shifted in phase). Let's say we have the following closed-loop transfer function representing a system:\n",
    "\n",
    "$$\n",
    "G(s) = \\frac{1}{s^2 + 0.5s + 1}\n",
    "$$"
   ]
  },
  {
   "cell_type": "code",
   "execution_count": 7,
   "metadata": {
    "slideshow": {
     "slide_type": "notes"
    }
   },
   "outputs": [
    {
     "ename": "NameError",
     "evalue": "name 'sym_to_tf' is not defined",
     "output_type": "error",
     "traceback": [
      "\u001b[0;31m---------------------------------------------------------------------------\u001b[0m",
      "\u001b[0;31mNameError\u001b[0m                                 Traceback (most recent call last)",
      "\u001b[0;32m<ipython-input-7-467ef51dd903>\u001b[0m in \u001b[0;36m<module>\u001b[0;34m\u001b[0m\n\u001b[1;32m      1\u001b[0m \u001b[0msym_sys\u001b[0m \u001b[0;34m=\u001b[0m \u001b[0;36m1\u001b[0m \u001b[0;34m/\u001b[0m \u001b[0;34m(\u001b[0m\u001b[0ms\u001b[0m \u001b[0;34m**\u001b[0m \u001b[0;36m2\u001b[0m \u001b[0;34m+\u001b[0m \u001b[0;36m0.5\u001b[0m \u001b[0;34m*\u001b[0m \u001b[0ms\u001b[0m \u001b[0;34m+\u001b[0m \u001b[0;36m1\u001b[0m\u001b[0;34m)\u001b[0m\u001b[0;34m\u001b[0m\u001b[0m\n\u001b[0;32m----> 2\u001b[0;31m \u001b[0msys\u001b[0m \u001b[0;34m=\u001b[0m \u001b[0msym_to_tf\u001b[0m\u001b[0;34m(\u001b[0m\u001b[0msym_sys\u001b[0m\u001b[0;34m)\u001b[0m\u001b[0;34m\u001b[0m\u001b[0m\n\u001b[0m\u001b[1;32m      3\u001b[0m \u001b[0mmag\u001b[0m\u001b[0;34m,\u001b[0m \u001b[0mphase\u001b[0m\u001b[0;34m,\u001b[0m \u001b[0momega\u001b[0m \u001b[0;34m=\u001b[0m \u001b[0mbode\u001b[0m\u001b[0;34m(\u001b[0m\u001b[0msys\u001b[0m\u001b[0;34m,\u001b[0m \u001b[0mPlot\u001b[0m\u001b[0;34m=\u001b[0m\u001b[0;32mTrue\u001b[0m\u001b[0;34m)\u001b[0m\u001b[0;34m\u001b[0m\u001b[0m\n",
      "\u001b[0;31mNameError\u001b[0m: name 'sym_to_tf' is not defined"
     ]
    }
   ],
   "source": [
    "sym_sys = 1 / (s ** 2 + 0.5 * s + 1)\n",
    "sys = sym_to_tf(sym_sys)\n",
    "mag, phase, omega = bode(sys, Plot=True)\n"
   ]
  },
  {
   "cell_type": "markdown",
   "metadata": {
    "slideshow": {
     "slide_type": "notes"
    }
   },
   "source": [
    "Since this is the closed-loop transfer function, our bandwidth frequency will be the frequency corresponding to a gain of -3 dB.  Looking at the plot, we find that it is approximately 1.4 rad/s.  We can also read off the plot that for an input frequency of 0.3 radians, the output sinusoid should have a magnitude about one and the phase should be shifted by perhaps a few degrees (behind the input).  For an input frequency of 3 rad/sec, the output magnitude should be about -20 dB (or 1/10 as large as the input) and the phase should be nearly -180 (almost exactly out-of-phase).  We can use the ```lsim``` command to simulate the response of the system to sinusoidal inputs. \n",
    "\n",
    "First, consider a sinusoidal input with a **frequency lower than ```Wbw```**. We must also keep in mind that we want to view the steady state response. Therefore, we will modify the axes in order to see the steady state response clearly (ignoring the transient response)."
   ]
  },
  {
   "cell_type": "code",
   "execution_count": 8,
   "metadata": {},
   "outputs": [
    {
     "ename": "NameError",
     "evalue": "name 'tex' is not defined",
     "output_type": "error",
     "traceback": [
      "\u001b[0;31m---------------------------------------------------------------------------\u001b[0m",
      "\u001b[0;31mNameError\u001b[0m                                 Traceback (most recent call last)",
      "\u001b[0;32m<ipython-input-8-97c80c36f96a>\u001b[0m in \u001b[0;36m<module>\u001b[0;34m\u001b[0m\n\u001b[1;32m      1\u001b[0m \u001b[0msym_sys\u001b[0m \u001b[0;34m=\u001b[0m \u001b[0;36m1\u001b[0m \u001b[0;34m/\u001b[0m \u001b[0;34m(\u001b[0m\u001b[0ms\u001b[0m \u001b[0;34m**\u001b[0m \u001b[0;36m2\u001b[0m \u001b[0;34m+\u001b[0m \u001b[0;36m0.5\u001b[0m \u001b[0;34m*\u001b[0m \u001b[0ms\u001b[0m \u001b[0;34m+\u001b[0m \u001b[0;36m1\u001b[0m\u001b[0;34m)\u001b[0m\u001b[0;34m\u001b[0m\u001b[0m\n\u001b[0;32m----> 2\u001b[0;31m \u001b[0mtex\u001b[0m\u001b[0;34m(\u001b[0m\u001b[0msym_sys\u001b[0m\u001b[0;34m)\u001b[0m\u001b[0;34m\u001b[0m\u001b[0m\n\u001b[0m\u001b[1;32m      3\u001b[0m \u001b[0mw\u001b[0m \u001b[0;34m=\u001b[0m \u001b[0;36m0.3\u001b[0m\u001b[0;34m\u001b[0m\u001b[0m\n\u001b[1;32m      4\u001b[0m \u001b[0mt\u001b[0m \u001b[0;34m=\u001b[0m \u001b[0mnp\u001b[0m\u001b[0;34m.\u001b[0m\u001b[0marange\u001b[0m\u001b[0;34m(\u001b[0m\u001b[0;36m0\u001b[0m\u001b[0;34m,\u001b[0m \u001b[0;36m100\u001b[0m\u001b[0;34m,\u001b[0m \u001b[0;36m0.1\u001b[0m\u001b[0;34m)\u001b[0m\u001b[0;34m\u001b[0m\u001b[0m\n\u001b[1;32m      5\u001b[0m \u001b[0mu\u001b[0m \u001b[0;34m=\u001b[0m \u001b[0msin\u001b[0m\u001b[0;34m(\u001b[0m\u001b[0mw\u001b[0m \u001b[0;34m*\u001b[0m \u001b[0mt\u001b[0m\u001b[0;34m)\u001b[0m\u001b[0;34m\u001b[0m\u001b[0m\n",
      "\u001b[0;31mNameError\u001b[0m: name 'tex' is not defined"
     ]
    }
   ],
   "source": [
    "sym_sys = 1 / (s ** 2 + 0.5 * s + 1)\n",
    "tex(sym_sys)\n",
    "w = 0.3\n",
    "t = np.arange(0, 100, 0.1)\n",
    "u = sin(w * t)\n"
   ]
  },
  {
   "cell_type": "code",
   "execution_count": 9,
   "metadata": {
    "slideshow": {
     "slide_type": "notes"
    }
   },
   "outputs": [
    {
     "ename": "NameError",
     "evalue": "name 'sym_to_tf' is not defined",
     "output_type": "error",
     "traceback": [
      "\u001b[0;31m---------------------------------------------------------------------------\u001b[0m",
      "\u001b[0;31mNameError\u001b[0m                                 Traceback (most recent call last)",
      "\u001b[0;32m<ipython-input-9-02e1562bae38>\u001b[0m in \u001b[0;36m<module>\u001b[0;34m\u001b[0m\n\u001b[0;32m----> 1\u001b[0;31m \u001b[0msys\u001b[0m \u001b[0;34m=\u001b[0m \u001b[0msym_to_tf\u001b[0m\u001b[0;34m(\u001b[0m\u001b[0msym_sys\u001b[0m\u001b[0;34m)\u001b[0m\u001b[0;34m\u001b[0m\u001b[0m\n\u001b[0m\u001b[1;32m      2\u001b[0m \u001b[0myout\u001b[0m\u001b[0;34m,\u001b[0m \u001b[0mT\u001b[0m\u001b[0;34m,\u001b[0m \u001b[0mydot\u001b[0m \u001b[0;34m=\u001b[0m \u001b[0mlsim\u001b[0m\u001b[0;34m(\u001b[0m\u001b[0msys\u001b[0m\u001b[0;34m,\u001b[0m \u001b[0mu\u001b[0m\u001b[0;34m,\u001b[0m \u001b[0mt\u001b[0m\u001b[0;34m)\u001b[0m\u001b[0;34m\u001b[0m\u001b[0m\n\u001b[1;32m      3\u001b[0m \u001b[0mp\u001b[0m \u001b[0;34m=\u001b[0m \u001b[0mplot\u001b[0m\u001b[0;34m(\u001b[0m\u001b[0mt\u001b[0m\u001b[0;34m,\u001b[0m \u001b[0myout\u001b[0m\u001b[0;34m,\u001b[0m \u001b[0mt\u001b[0m\u001b[0;34m,\u001b[0m \u001b[0mu\u001b[0m\u001b[0;34m)\u001b[0m\u001b[0;34m\u001b[0m\u001b[0m\n\u001b[1;32m      4\u001b[0m \u001b[0ma\u001b[0m \u001b[0;34m=\u001b[0m \u001b[0maxis\u001b[0m\u001b[0;34m(\u001b[0m\u001b[0;34m[\u001b[0m\u001b[0;36m50\u001b[0m\u001b[0;34m,\u001b[0m \u001b[0;36m100\u001b[0m\u001b[0;34m,\u001b[0m \u001b[0;34m-\u001b[0m\u001b[0;36m2\u001b[0m\u001b[0;34m,\u001b[0m \u001b[0;36m2\u001b[0m\u001b[0;34m]\u001b[0m\u001b[0;34m)\u001b[0m\u001b[0;34m\u001b[0m\u001b[0m\n\u001b[1;32m      5\u001b[0m \u001b[0ml\u001b[0m \u001b[0;34m=\u001b[0m \u001b[0mlegend\u001b[0m\u001b[0;34m(\u001b[0m\u001b[0;34m(\u001b[0m\u001b[0;34m\"Y\"\u001b[0m\u001b[0;34m,\u001b[0m \u001b[0;34m\"X\"\u001b[0m\u001b[0;34m)\u001b[0m\u001b[0;34m)\u001b[0m\u001b[0;34m\u001b[0m\u001b[0m\n",
      "\u001b[0;31mNameError\u001b[0m: name 'sym_to_tf' is not defined"
     ]
    }
   ],
   "source": [
    "sys = sym_to_tf(sym_sys)\n",
    "yout, T, ydot = lsim(sys, u, t)\n",
    "p = plot(t, yout, t, u)\n",
    "a = axis([50, 100, -2, 2])\n",
    "l = legend((\"Y\", \"X\"))\n"
   ]
  },
  {
   "cell_type": "markdown",
   "metadata": {
    "slideshow": {
     "slide_type": "notes"
    }
   },
   "source": [
    "Note that the output (blue) tracks the input (green) fairly well; it is perhaps a few degrees behind the input as expected. However, if we set the frequency of the input **higher than the bandwidth frequency** for the system, we get a very distorted response (with respect to the input):"
   ]
  },
  {
   "cell_type": "code",
   "execution_count": 10,
   "metadata": {},
   "outputs": [
    {
     "ename": "NameError",
     "evalue": "name 'tex' is not defined",
     "output_type": "error",
     "traceback": [
      "\u001b[0;31m---------------------------------------------------------------------------\u001b[0m",
      "\u001b[0;31mNameError\u001b[0m                                 Traceback (most recent call last)",
      "\u001b[0;32m<ipython-input-10-a65f8ceda5fa>\u001b[0m in \u001b[0;36m<module>\u001b[0;34m\u001b[0m\n\u001b[1;32m      1\u001b[0m \u001b[0msym_sys\u001b[0m \u001b[0;34m=\u001b[0m \u001b[0;36m1\u001b[0m \u001b[0;34m/\u001b[0m \u001b[0;34m(\u001b[0m\u001b[0ms\u001b[0m \u001b[0;34m**\u001b[0m \u001b[0;36m2\u001b[0m \u001b[0;34m+\u001b[0m \u001b[0;36m0.5\u001b[0m \u001b[0;34m*\u001b[0m \u001b[0ms\u001b[0m \u001b[0;34m+\u001b[0m \u001b[0;36m1\u001b[0m\u001b[0;34m)\u001b[0m\u001b[0;34m\u001b[0m\u001b[0m\n\u001b[0;32m----> 2\u001b[0;31m \u001b[0mtex\u001b[0m\u001b[0;34m(\u001b[0m\u001b[0msym_sys\u001b[0m\u001b[0;34m)\u001b[0m\u001b[0;34m\u001b[0m\u001b[0m\n\u001b[0m\u001b[1;32m      3\u001b[0m \u001b[0mw\u001b[0m \u001b[0;34m=\u001b[0m \u001b[0;36m3\u001b[0m\u001b[0;34m\u001b[0m\u001b[0m\n\u001b[1;32m      4\u001b[0m \u001b[0mt\u001b[0m \u001b[0;34m=\u001b[0m \u001b[0mnp\u001b[0m\u001b[0;34m.\u001b[0m\u001b[0marange\u001b[0m\u001b[0;34m(\u001b[0m\u001b[0;36m0\u001b[0m\u001b[0;34m,\u001b[0m \u001b[0;36m100\u001b[0m\u001b[0;34m,\u001b[0m \u001b[0;36m0.1\u001b[0m\u001b[0;34m)\u001b[0m\u001b[0;34m\u001b[0m\u001b[0m\n\u001b[1;32m      5\u001b[0m \u001b[0mu\u001b[0m \u001b[0;34m=\u001b[0m \u001b[0msin\u001b[0m\u001b[0;34m(\u001b[0m\u001b[0mw\u001b[0m \u001b[0;34m*\u001b[0m \u001b[0mt\u001b[0m\u001b[0;34m)\u001b[0m\u001b[0;34m\u001b[0m\u001b[0m\n",
      "\u001b[0;31mNameError\u001b[0m: name 'tex' is not defined"
     ]
    }
   ],
   "source": [
    "sym_sys = 1 / (s ** 2 + 0.5 * s + 1)\n",
    "tex(sym_sys)\n",
    "w = 3\n",
    "t = np.arange(0, 100, 0.1)\n",
    "u = sin(w * t)\n"
   ]
  },
  {
   "cell_type": "code",
   "execution_count": 11,
   "metadata": {
    "slideshow": {
     "slide_type": "notes"
    }
   },
   "outputs": [
    {
     "ename": "NameError",
     "evalue": "name 'sym_to_tf' is not defined",
     "output_type": "error",
     "traceback": [
      "\u001b[0;31m---------------------------------------------------------------------------\u001b[0m",
      "\u001b[0;31mNameError\u001b[0m                                 Traceback (most recent call last)",
      "\u001b[0;32m<ipython-input-11-bf87f15389ee>\u001b[0m in \u001b[0;36m<module>\u001b[0;34m\u001b[0m\n\u001b[0;32m----> 1\u001b[0;31m \u001b[0msys\u001b[0m \u001b[0;34m=\u001b[0m \u001b[0msym_to_tf\u001b[0m\u001b[0;34m(\u001b[0m\u001b[0msym_sys\u001b[0m\u001b[0;34m)\u001b[0m\u001b[0;34m\u001b[0m\u001b[0m\n\u001b[0m\u001b[1;32m      2\u001b[0m \u001b[0myout\u001b[0m\u001b[0;34m,\u001b[0m \u001b[0mT\u001b[0m\u001b[0;34m,\u001b[0m \u001b[0mxout\u001b[0m \u001b[0;34m=\u001b[0m \u001b[0mlsim\u001b[0m\u001b[0;34m(\u001b[0m\u001b[0msys\u001b[0m\u001b[0;34m,\u001b[0m \u001b[0mu\u001b[0m\u001b[0;34m,\u001b[0m \u001b[0mt\u001b[0m\u001b[0;34m)\u001b[0m\u001b[0;34m\u001b[0m\u001b[0m\n\u001b[1;32m      3\u001b[0m \u001b[0mp\u001b[0m \u001b[0;34m=\u001b[0m \u001b[0mplot\u001b[0m\u001b[0;34m(\u001b[0m\u001b[0mt\u001b[0m\u001b[0;34m,\u001b[0m \u001b[0myout\u001b[0m\u001b[0;34m,\u001b[0m \u001b[0mt\u001b[0m\u001b[0;34m,\u001b[0m \u001b[0mu\u001b[0m\u001b[0;34m)\u001b[0m\u001b[0;34m\u001b[0m\u001b[0m\n\u001b[1;32m      4\u001b[0m \u001b[0ml\u001b[0m \u001b[0;34m=\u001b[0m \u001b[0mlegend\u001b[0m\u001b[0;34m(\u001b[0m\u001b[0;34m(\u001b[0m\u001b[0;34m\"Y\"\u001b[0m\u001b[0;34m,\u001b[0m \u001b[0;34m\"X\"\u001b[0m\u001b[0;34m)\u001b[0m\u001b[0;34m)\u001b[0m\u001b[0;34m\u001b[0m\u001b[0m\n\u001b[1;32m      5\u001b[0m \u001b[0ma\u001b[0m \u001b[0;34m=\u001b[0m \u001b[0maxis\u001b[0m\u001b[0;34m(\u001b[0m\u001b[0;34m[\u001b[0m\u001b[0;36m90\u001b[0m\u001b[0;34m,\u001b[0m \u001b[0;36m100\u001b[0m\u001b[0;34m,\u001b[0m \u001b[0;34m-\u001b[0m\u001b[0;36m1\u001b[0m\u001b[0;34m,\u001b[0m \u001b[0;36m1\u001b[0m\u001b[0;34m]\u001b[0m\u001b[0;34m)\u001b[0m\u001b[0;34m\u001b[0m\u001b[0m\n",
      "\u001b[0;31mNameError\u001b[0m: name 'sym_to_tf' is not defined"
     ]
    }
   ],
   "source": [
    "sys = sym_to_tf(sym_sys)\n",
    "yout, T, xout = lsim(sys, u, t)\n",
    "p = plot(t, yout, t, u)\n",
    "l = legend((\"Y\", \"X\"))\n",
    "a = axis([90, 100, -1, 1])\n"
   ]
  },
  {
   "cell_type": "markdown",
   "metadata": {
    "slideshow": {
     "slide_type": "notes"
    }
   },
   "source": [
    "Again, note that the magnitude is about 1/10 that of the input, as predicted, and that it is almost exactly out of phase (180 degrees behind) the input.  Feel free to experiment and view the response for several different frequencies $\\omega$, and see if they match the Bode plot.\n",
    "\n",
    "## Nyquist Diagram\n",
    "\n",
    "The Nyquist plot allows us to predict the stability and performance of a closed-loop system by observing its open-loop behavior.  The Nyquist criterion can be used for design purposes regardless of open-loop stability (remember that the Bode design methods assume that the system is stable in open-loop).  Therefore, we use this criterion to determine closed-loop stability when the Bode plots display confusing information. \n",
    "\n",
    "The Nyquist diagram is basically a plot of \\\\(G(j\\omega)\\\\) where \\\\(G(s)\\\\) is the open-loop transfer function and \\\\(\\omega\\\\) is a vector of frequencies which encloses the entire right-half plane.  In drawing the Nyquist diagram, both positive and negative frequencies (from zero to infinity) are taken into account.  We will represent positive frequencies in red and negative frequencies in green.  The frequency vector used in plotting the Nyquist diagram usually looks like this (if you can imagine the plot stretching out to infinity):\n",
    "\n",
    "![FrequencyResponseTutorial_NyquistDiagram_Block1.png](figures/FrequencyResponseTutorial_NyquistDiagram_Block1.png)\n",
    "\n",
    "However, if we have open-loop poles or zeros on the jw axis, \\\\(G(s)\\\\) will not be defined at those points, and we must loop around them when we are plotting the contour.  Such a contour would look as follows:\n",
    "\n",
    "![FrequencyResponseTutorial_NyquistDiagram_Block2.png](figures/FrequencyResponseTutorial_NyquistDiagram_Block2.png)\n",
    "\n",
    "Please note that the contour loops around the pole on the jw axis.  As we mentioned before, the MATLAB |nyquist| command does not take poles or zeros on the jw axis into account and therefore produces an incorrect plot.  To correct this, please download and use <Content/Introduction/Control/Frequency/nyquist1.m nyquist1.m>.  If we have a pole on the jw axis, we have to use ```nyquist1```.\n",
    "\n",
    "## The Cauchy Criterion\n",
    "\n",
    "The Cauchy criterion (from complex analysis) states that when taking a closed contour in the complex plane, and mapping it through a complex function \\\\(G(s)\\\\), the number of times that the plot of \\\\(G(s)\\\\) encircles the origin is equal to the number of zeros of \\\\(G(s)\\\\) enclosed by the frequency contour minus the number of poles of \\\\(G(s)\\\\) enclosed by the frequency contour.  Encirclements of the origin are counted as positive if they are in the same direction as the original closed contour or negative if they are in the opposite direction. When studying feedback controls, we are not as interested in \\\\(G(s)\\\\) as in the closed-loop transfer function:\n",
    "\n",
    "$$\n",
    "\\frac{G(s)}{1 + G(s)}\n",
    "$$\n",
    "\n",
    "**Note: The MATLAB nyquist command does not provide an adequate representation for systems that have open-loop poles in the jw-axis.**\n",
    "\n",
    "**[Author has not evaluated if this holds true for Python's nyquist. If anyone has any systems to test open an issue]**\n",
    "\n",
    "If \\\\(1 + G(s)\\\\) encircles the origin, then \\\\(G(s)\\\\) will enclose the point -1.  Since we are interested in the closed-loop stability, we want to know if there are any closed-loop poles (zeros of \\\\(1 + G(s)\\\\)) in the right-half plane.  More details on how to determine this will come later. Therefore, the behavior of the Nyquist diagram around the -1 point in the real axis is very important; however, the axis on the standard ```nyquist``` diagram might make it hard to see what's happening around this point. To view a simple Nyquist plot, we will define the following transfer function and view the Nyquist plot:\n",
    "\n",
    "$$\n",
    "\\frac{0.5}{s - 0.5}\n",
    "$$"
   ]
  },
  {
   "cell_type": "code",
   "execution_count": 12,
   "metadata": {},
   "outputs": [
    {
     "ename": "NameError",
     "evalue": "name 'tex' is not defined",
     "output_type": "error",
     "traceback": [
      "\u001b[0;31m---------------------------------------------------------------------------\u001b[0m",
      "\u001b[0;31mNameError\u001b[0m                                 Traceback (most recent call last)",
      "\u001b[0;32m<ipython-input-12-9a9cfc23bc20>\u001b[0m in \u001b[0;36m<module>\u001b[0;34m\u001b[0m\n\u001b[1;32m      1\u001b[0m \u001b[0msym_sys\u001b[0m \u001b[0;34m=\u001b[0m \u001b[0;36m0.5\u001b[0m \u001b[0;34m/\u001b[0m \u001b[0;34m(\u001b[0m\u001b[0ms\u001b[0m \u001b[0;34m-\u001b[0m \u001b[0;36m0.5\u001b[0m\u001b[0;34m)\u001b[0m\u001b[0;34m\u001b[0m\u001b[0m\n\u001b[0;32m----> 2\u001b[0;31m \u001b[0mtex\u001b[0m\u001b[0;34m(\u001b[0m\u001b[0msym_sys\u001b[0m\u001b[0;34m)\u001b[0m\u001b[0;34m\u001b[0m\u001b[0m\n\u001b[0m",
      "\u001b[0;31mNameError\u001b[0m: name 'tex' is not defined"
     ]
    }
   ],
   "source": [
    "sym_sys = 0.5 / (s - 0.5)\n",
    "tex(sym_sys)\n"
   ]
  },
  {
   "cell_type": "code",
   "execution_count": 13,
   "metadata": {},
   "outputs": [],
   "source": [
    "control.TransferFunction?"
   ]
  },
  {
   "cell_type": "code",
   "execution_count": 14,
   "metadata": {
    "slideshow": {
     "slide_type": "notes"
    }
   },
   "outputs": [
    {
     "ename": "NameError",
     "evalue": "name 'sym_to_tf' is not defined",
     "output_type": "error",
     "traceback": [
      "\u001b[0;31m---------------------------------------------------------------------------\u001b[0m",
      "\u001b[0;31mNameError\u001b[0m                                 Traceback (most recent call last)",
      "\u001b[0;32m<ipython-input-14-b4f16181e2df>\u001b[0m in \u001b[0;36m<module>\u001b[0;34m\u001b[0m\n\u001b[0;32m----> 1\u001b[0;31m \u001b[0msys\u001b[0m \u001b[0;34m=\u001b[0m \u001b[0msym_to_tf\u001b[0m\u001b[0;34m(\u001b[0m\u001b[0msym_sys\u001b[0m\u001b[0;34m)\u001b[0m\u001b[0;34m\u001b[0m\u001b[0m\n\u001b[0m\u001b[1;32m      2\u001b[0m \u001b[0mreal\u001b[0m\u001b[0;34m,\u001b[0m \u001b[0mimag\u001b[0m\u001b[0;34m,\u001b[0m \u001b[0mfreq\u001b[0m \u001b[0;34m=\u001b[0m \u001b[0mnyquist\u001b[0m\u001b[0;34m(\u001b[0m\u001b[0msys\u001b[0m\u001b[0;34m,\u001b[0m \u001b[0mPlot\u001b[0m\u001b[0;34m=\u001b[0m\u001b[0;32mTrue\u001b[0m\u001b[0;34m,\u001b[0m \u001b[0mlabelFreq\u001b[0m\u001b[0;34m=\u001b[0m\u001b[0;36m10\u001b[0m\u001b[0;34m)\u001b[0m\u001b[0;34m\u001b[0m\u001b[0m\n\u001b[1;32m      3\u001b[0m \u001b[0ma\u001b[0m \u001b[0;34m=\u001b[0m \u001b[0maxis\u001b[0m\u001b[0;34m(\u001b[0m\u001b[0;34m[\u001b[0m\u001b[0;34m-\u001b[0m\u001b[0;36m1\u001b[0m\u001b[0;34m,\u001b[0m \u001b[0;36m0\u001b[0m\u001b[0;34m,\u001b[0m \u001b[0;34m-\u001b[0m\u001b[0;36m1\u001b[0m\u001b[0;34m,\u001b[0m \u001b[0;36m1\u001b[0m\u001b[0;34m]\u001b[0m\u001b[0;34m)\u001b[0m\u001b[0;34m\u001b[0m\u001b[0m\n\u001b[1;32m      4\u001b[0m \u001b[0mxlabel\u001b[0m\u001b[0;34m(\u001b[0m\u001b[0;34m\"Real Axis\"\u001b[0m\u001b[0;34m)\u001b[0m\u001b[0;34m\u001b[0m\u001b[0m\n\u001b[1;32m      5\u001b[0m \u001b[0mylabel\u001b[0m\u001b[0;34m(\u001b[0m\u001b[0;34m\"Imaginary Axis\"\u001b[0m\u001b[0;34m)\u001b[0m\u001b[0;34m\u001b[0m\u001b[0m\n",
      "\u001b[0;31mNameError\u001b[0m: name 'sym_to_tf' is not defined"
     ]
    }
   ],
   "source": [
    "sys = sym_to_tf(sym_sys)\n",
    "real, imag, freq = nyquist(sys, Plot=True, labelFreq=10)\n",
    "a = axis([-1, 0, -1, 1])\n",
    "xlabel(\"Real Axis\")\n",
    "ylabel(\"Imaginary Axis\")\n",
    "title(\"Nyquist Diagram\")\n"
   ]
  },
  {
   "cell_type": "markdown",
   "metadata": {
    "slideshow": {
     "slide_type": "notes"
    }
   },
   "source": [
    "Now we will look at the Nyquist diagram for the following transfer function:\n",
    "\n",
    "$$\n",
    "\\frac{s + 2}{s^2}\n",
    "$$\n",
    "\n",
    "Note that this function has a pole at the origin.  We will see the difference between using the |nyquist|, |nyquist1|, and |lnyquist| commands with this particular function."
   ]
  },
  {
   "cell_type": "code",
   "execution_count": 15,
   "metadata": {
    "collapsed": true,
    "slideshow": {
     "slide_type": "notes"
    }
   },
   "outputs": [],
   "source": [
    "# sys = (s + 2)/(s^2);\n",
    "# nyquist(sys)\n"
   ]
  },
  {
   "cell_type": "code",
   "execution_count": 16,
   "metadata": {
    "collapsed": true,
    "slideshow": {
     "slide_type": "notes"
    }
   },
   "outputs": [],
   "source": [
    "# nyquist1(sys)\n"
   ]
  },
  {
   "cell_type": "code",
   "execution_count": 17,
   "metadata": {
    "collapsed": true,
    "slideshow": {
     "slide_type": "notes"
    }
   },
   "outputs": [],
   "source": [
    "# lnyquist(sys)\n"
   ]
  },
  {
   "cell_type": "markdown",
   "metadata": {
    "slideshow": {
     "slide_type": "notes"
    }
   },
   "source": [
    "Note that the |nyquist| plot is not the correct one, the |nyquist1| plot is correct, but it's hard to see what happens close to the -1 point, and the |lnyquist| plot is correct and has an appropriate scale.\n",
    "\n",
    "## Closed-Loop Performance from Bode Plots\n",
    "\n",
    "In order to predict closed-loop performance from open-loop frequency response, we need to have several concepts clear:\n",
    "* The system must be stable in open-loop if we are going to design via Bode plots.\n",
    "** If the **gain crossover frequency** is less than the **phase crossover frequency* (i.e. $W_{gc} < W_{pc}$), then the closed-loop system will be stable.\n",
    "* For second-order systems, the closed-loop damping ratio is approximately equal to the phase margin divided by 100 if the phase margin is between 0 and 60 degrees.  We can use this concept with caution if the phase margin is greater than 60 degrees.\n",
    "* For second-order systems, a relationship between damping ratio, bandwidth frequency, and settling time is given by an equation described on the [Extras: Bandwidth](../Extras_wbw.ipynb) page.\n",
    "* A very rough estimate that you can use is that the bandwidth is approximately equal to the natural frequency. Let's use these concepts to design a controller for the following system:\n",
    "![FrequencyResponseTutorial_BodePlots_CLPerformance_BlockDiagram.png](figures/FrequencyResponseTutorial_BodePlots_CLPerformance_BlockDiagram.png)\n",
    "Where \\\\(G_c(s)\\\\) is the controller and \\\\(G(s)\\\\) is:\n",
    "\n",
    "$$\n",
    "G(s) = \\frac{10}{1.25s + 1}\n",
    "$$\n",
    "\n",
    "The design must meet the following specifications:\n",
    "* Zero steady state error.\n",
    "* Maximum overshoot must be less than 40%.\n",
    "* Settling time must be less than 2 seconds. There are two ways of solving this problem: one is graphical and the other is numerical.  Within MATLAB, the graphical approach is best, so that is the approach we will use.  First, let's look at the Bode plot. Create a |m-file| with the following code:"
   ]
  },
  {
   "cell_type": "code",
   "execution_count": 18,
   "metadata": {
    "collapsed": true,
    "slideshow": {
     "slide_type": "notes"
    }
   },
   "outputs": [],
   "source": [
    "# sys = 10/(1.25*s + 1);\n",
    "# bode(sys)\n"
   ]
  },
  {
   "cell_type": "markdown",
   "metadata": {
    "slideshow": {
     "slide_type": "notes"
    }
   },
   "source": [
    "There are several characteristics of the system that can be read directly from this Bode plot.  First of all, we can see that the bandwidth frequency is around 10 rad/sec.  Since the bandwidth frequency is roughly the same as the natural frequency (for a first order system of this type), the rise time is |1.8/BW = 1.8/10 = 1.8 seconds|.  This is a rough estimate, so we will say the rise time is about 2 seconds. The phase margin for this system is approximately 95 degrees.  The relation |damping ratio = PM/100| only holds for |PM < 60|.  Since the system is first-order, there should be no overshoot. The last major point of interest is **steady-state error**. The steady-state error can be read directly off the Bode plot as well.  The constant ($K_p$, $K_v$, or $K_a$) is found from the intersection of the low frequency asymptote with the |w = 1| line.  Just extend the low frequency line to the |w = 1| line.  The magnitude at this point is the constant. Since the Bode plot of this system is a horizontal line at low frequencies (slope = 0), we know this system is of type zero.  Therefore, the intersection is easy to find.  The gain is 20 dB (magnitude 10). What this means is that the constant for the error function is 10.  The steady-state error is |1/(1+Kp) = 1/(1+10) = 0.091|. If our system was type one instead of type zero, the constant for the steady-state error would be found in a manner similar to the following.\n",
    "![FrequencyResponseTutorial_BodePlots_CLPerformance_Block2.png](figures/FrequencyResponseTutorial_BodePlots_CLPerformance_Block2.png)\n",
    "Let's check our predictions by looking at a step response plot.  This can be done by adding the following two lines of code into the MATLAB command window."
   ]
  },
  {
   "cell_type": "code",
   "execution_count": 19,
   "metadata": {
    "collapsed": true,
    "slideshow": {
     "slide_type": "notes"
    }
   },
   "outputs": [],
   "source": [
    "# sys_cl = feedback(sys,1);\n",
    "# step(sys_cl)\n",
    "# title('Closed-Loop Step Response, No Controller')\n"
   ]
  },
  {
   "cell_type": "markdown",
   "metadata": {
    "slideshow": {
     "slide_type": "notes"
    }
   },
   "source": [
    "As you can see, our predictions were very good.  The system has a rise time of about 2 seconds, has no overshoot, and has a steady-state error of about 9%.  Now we need to choose a controller that will allow us to meet the design criteria.  We choose a PI controller because it will yield zero steady-state error for a step input.  Also, the PI controller has a zero, which we can place.  This gives us additional design flexibility to help us meet our criteria.  Recall that a PI controller is given by:\n",
    "\n",
    "$$\n",
    "G_c(s) = \\frac{K(s + a)}{s}\n",
    "$$\n",
    "\n",
    "The first thing we need to find is the damping ratio corresponding to a percent overshoot of 40%.  Plugging in this value into the equation relating overshoot and damping ratio (or consulting a plot of this relation), we find that the damping ratio corresponding to this overshoot is approximately 0.28.  Therefore, our phase margin should be at least 30 degrees. We must have a bandwidth frequency greater than or equal to 12 if we want our settling time to be less than 1.75 seconds which meets the design specs. Now that we know our desired phase margin and bandwidth frequency, we can start our design.  Remember that we are looking at the open-loop Bode plots.  Therefore, our bandwidth frequency will be the frequency corresponding to a gain of approximately -7 dB. Let's see how the integrator portion of the PI or affects our response. Change your |m-file| to look like the following (this adds an integral term but no proportional term):"
   ]
  },
  {
   "cell_type": "code",
   "execution_count": 20,
   "metadata": {
    "collapsed": true,
    "slideshow": {
     "slide_type": "notes"
    }
   },
   "outputs": [],
   "source": [
    "# plant = 10/(1.25*s + 1);\n",
    "# contr = 1/s;\n",
    "# bode(contr*plant, logspace(0,2))\n"
   ]
  },
  {
   "cell_type": "markdown",
   "metadata": {
    "slideshow": {
     "slide_type": "notes"
    }
   },
   "source": [
    "Our phase margin and bandwidth frequency are too small.  We will add gain and phase with a zero.  Let's place the zero at 1 for now and see what happens.  Change your |m-file| to look like the following:"
   ]
  },
  {
   "cell_type": "code",
   "execution_count": 21,
   "metadata": {
    "collapsed": true,
    "slideshow": {
     "slide_type": "notes"
    }
   },
   "outputs": [],
   "source": [
    "# plant = 10/(1.25*s + 1);\n",
    "# contr = (s + 1)/s;\n",
    "# bode(contr*plant, logspace(0,2))\n"
   ]
  },
  {
   "cell_type": "markdown",
   "metadata": {
    "slideshow": {
     "slide_type": "notes"
    }
   },
   "source": [
    "It turns out that the zero at 1 with a unit gain gives us a satisfactory answer.  Our phase margin is greater than 60 degrees (even less overshoot than expected) and our bandwidth frequency is approximately 11 rad/s, which will give us a satisfactory response.  Although satisfactory, the response is not quite as good as we would like.  Therefore, let's try to get a higher bandwidth frequency without changing the phase margin too much.  Let's try to increase the gain to 5 and see what happens.  This will make the gain shift and the phase will remain the same."
   ]
  },
  {
   "cell_type": "code",
   "execution_count": 22,
   "metadata": {
    "collapsed": true,
    "slideshow": {
     "slide_type": "notes"
    }
   },
   "outputs": [],
   "source": [
    "# plant = 10/(1.25*s + 1);\n",
    "# contr = 5 * ((s + 1)/s);\n",
    "# bode(contr*plant, logspace(0,2))\n"
   ]
  },
  {
   "cell_type": "markdown",
   "metadata": {
    "slideshow": {
     "slide_type": "notes"
    }
   },
   "source": [
    "That looks really good.  Let's look at our step response and verify our results.  Add the following two lines to your |m-file|:"
   ]
  },
  {
   "cell_type": "code",
   "execution_count": 23,
   "metadata": {
    "collapsed": true,
    "slideshow": {
     "slide_type": "notes"
    }
   },
   "outputs": [],
   "source": [
    "# sys_cl = feedback(contr*plant,1);\n",
    "# step(sys_cl)\n"
   ]
  },
  {
   "cell_type": "markdown",
   "metadata": {
    "slideshow": {
     "slide_type": "notes"
    }
   },
   "source": [
    "As you can see, our response is better than we had hoped for.  However, we are not always quite as lucky and usually have to play around with the gain and the position of the poles and/or zeros in order to achieve our design requirements.\n",
    "\n",
    "## Closed-Loop Stability from the Nyquist Diagram\n",
    "\n",
    "Consider the negative feedback system:\n",
    "![FrequencyResponseTutorial_NyquistDiagram_CLStability_Block1.png](figures/FrequencyResponseTutorial_NyquistDiagram_CLStability_Block1.png)\n",
    "Remember from the Cauchy criterion that the number |N| of times that the plot of |G(s)H(s)| encircles -1 is equal to the number |Z| of zeros of |1 + G(s)H(s)| enclosed by the frequency contour minus the number |P| of poles of |1 + G(s)H(s)| enclosed by the frequency contour |(N = Z - P)|. Keeping careful track of open- and closed-loop transfer functions, as well as numerators and denominators, you should convince yourself that:\n",
    "* The zeros of |1 + G(s)H(s)| are the poles of the closed-loop transfer function.\n",
    "* The poles of |1 + G(s)H(s)| are the poles of the open-loop transfer function. The Nyquist criterion then states that:\n",
    "* |P| = the number of open-loop (unstable) poles of |G(s)H(s)|.\n",
    "* |N| = the number of times the Nyquist diagram encircles -1.\n",
    "* clockwise encirclements of -1 count as positive encirclements.\n",
    "* counter-clockwise encirclements of -1 count as negative encirclements.\n",
    "* |Z| = the number of right-half-plane (positive, real) poles of the closed-loop system. The important equation whih relates these three quantities is:\n",
    "\n",
    "$$\n",
    "Z = P + N\n",
    "$$\n",
    "\n",
    "*Note: This is only one convention for the Nyquist criterion. Another convention states that a positive |N| counts the counter-clockwise or anti-clockwise encirclements of -1.  The |P| and |Z| variables remain the same.  In this case the equation becomes |Z = P - N|.  Throughout these tutorials, we will use a positive sign for clockwise encirclements.* It is very important (and somewhat tricky) to learn how to count the number of times that the diagram encircles -1.  Therefore, we will go into some detail to help you visualize this.  You can view this **movie** as an example. Another way of looking at it is to imagine you are standing on top of the -1 point and are following the diagram from beginning to end.  Now ask yourself: How many times did I turn my head a full 360 degrees?  Again, if the motion was clockwise, |N| is positive, and if the motion is anti-clockwise, |N| is negative. Knowing the number of right-half plane (unstable) poles in open loop (|P|), and the number of encirclements of -1 made by the Nyquist diagram (|N|), we can determine the closed-loop stability of the system.  If |Z = P + N| is a positive, nonzero number, the closed-loop system is unstable. We can also use the Nyquist diagram to find the range of gains for a closed-loop unity feedback system to be stable.  The system we will test looks like this:\n",
    "![FrequencyResponseTutorial_NyquistDiagram_CLStability_Block2.png](figures/FrequencyResponseTutorial_NyquistDiagram_CLStability_Block2.png)\n",
    "where G(s) is:\n",
    "\n",
    "$$\n",
    "\\frac{s^2 + 10s + 24}{s^2 - 8s + 15}\n",
    "$$\n",
    "\n",
    "This system has a gain |K| which can be varied in order to modify the response of the closed-loop system.  However, we will see that we can only vary this gain within certain limits, since we have to make sure that our closed-loop system will be stable.  This is what we will be looking for: the range of gains that will make this system stable in the closed-loop. The first thing we need to do is find the number of positive real poles in our open-loop transfer function:"
   ]
  },
  {
   "cell_type": "code",
   "execution_count": 24,
   "metadata": {
    "collapsed": true,
    "slideshow": {
     "slide_type": "notes"
    }
   },
   "outputs": [],
   "source": [
    "# roots([1 -8 15])\n"
   ]
  },
  {
   "cell_type": "markdown",
   "metadata": {
    "slideshow": {
     "slide_type": "notes"
    }
   },
   "source": [
    "The poles of the open-loop transfer function are both positive. Therefore, we need two anti-clockwise (|N = -2|) encirclements of the Nyquist diagram in order to have a stable closed-loop system (|Z = P + N|).  If the number of encirclements is less than two or the encirclements are not anti-clockwise, our system will be unstable. Let's look at our Nyquist diagram for a gain of 1:"
   ]
  },
  {
   "cell_type": "code",
   "execution_count": 25,
   "metadata": {
    "collapsed": true,
    "slideshow": {
     "slide_type": "notes"
    }
   },
   "outputs": [],
   "source": [
    "# sys = (s^2 + 10*s + 24)/(s^2 - 8*s + 15);\n",
    "# nyquist(sys)\n"
   ]
  },
  {
   "cell_type": "markdown",
   "metadata": {
    "slideshow": {
     "slide_type": "notes"
    }
   },
   "source": [
    "There are two anti-clockwise encirclements of -1.  Therefore, the system is stable for a gain of 1.  Now we will see how the system behaves if we increase the gain to 20:"
   ]
  },
  {
   "cell_type": "code",
   "execution_count": 26,
   "metadata": {
    "collapsed": true,
    "slideshow": {
     "slide_type": "notes"
    }
   },
   "outputs": [],
   "source": [
    "# nyquist(20*sys)\n"
   ]
  },
  {
   "cell_type": "markdown",
   "metadata": {
    "slideshow": {
     "slide_type": "notes"
    }
   },
   "source": [
    "The diagram expanded.  Therefore, we know that the system will be stable no matter how much we increase the gain.  However, if we decrease the gain, the diagram will contract and the system might become unstable. Let's see what happens for a gain of 0.5:"
   ]
  },
  {
   "cell_type": "code",
   "execution_count": 27,
   "metadata": {
    "collapsed": true,
    "slideshow": {
     "slide_type": "notes"
    }
   },
   "outputs": [],
   "source": [
    "# nyquist(0.5*sys)\n"
   ]
  },
  {
   "cell_type": "markdown",
   "metadata": {
    "slideshow": {
     "slide_type": "notes"
    }
   },
   "source": [
    "The system is now unstable.  By trial and error we find that this system will become unstable for gains less than 0.80.  We can verify our answers by zooming in on the Nyquist plots as well as by looking at the closed-loop steps responses for gains of 0.79, 0.80, and 0.81. **Gain Margin** We already defined the gain margin as the change in open-loop gain expressed in decibels (dB), required at 180 degrees of phase shift to make the system unstable.  Now we are going to find out where this comes from.  First of all, let's say that we have a system that is stable if there are no Nyquist encirclements of -1, such as:\n",
    "\n",
    "$$\n",
    "\\frac{50}{s^3 + 9s^2 + 30s + 40}\n",
    "$$\n",
    "\n",
    "Looking at the roots, we find that we have no open loop poles in the right half plane and therefore no closed-loop poles in the right-half-plane if there are no Nyquist encirclements of -1.  Now, how much can we vary the gain before this system becomes unstable in closed-loop?  Let's look at the following figure:\n",
    "![FrequencyResponseTutorial_NyquistDiagram_GainMargin_Block1.png](figures/FrequencyResponseTutorial_NyquistDiagram_GainMargin_Block1.png)\n",
    "The open-loop system represented by this plot will become unstable in closed loop if the gain is increased past a certain boundary.  The negative real axis area between |-1/a| (defined as the point where the 180 degree phase shift occurs...that is, where the diagram crosses the real axis) and -1 represents the amount of increase in gain that can be tolerated before closed-loop instability. If we think about it, we realize that if the gain is equal to |a|, the diagram will touch the -1 point:\n",
    "\n",
    "$$\n",
    "G(jw) = \\frac{-1}{a}\n",
    "$$\n",
    "\n",
    "or\n",
    "\n",
    "$$\n",
    "aG(jw) = -1\n",
    "$$\n",
    "\n",
    "Therefore, we say that the gain margin is |a| units.  However, we mentioned before that the gain margin is usually measured in decibels. Hence, the gain margin is:\n",
    "\n",
    "$$\n",
    "GM = 20log_{10}(a) [dB]\n",
    "$$\n",
    "\n",
    "We will now find the gain margin of the stable, open-loop transfer function we viewed before.  Recall that the function is:\n",
    "\n",
    "$$\n",
    "\\frac{50}{s^3 + 9s^2 + 30s + 40}\n",
    "$$\n",
    "\n",
    "and that the Nyquist diagram can be viewed by typing:"
   ]
  },
  {
   "cell_type": "code",
   "execution_count": 28,
   "metadata": {
    "collapsed": true,
    "slideshow": {
     "slide_type": "notes"
    }
   },
   "outputs": [],
   "source": [
    "# sys = 50/(s^3 + 9*s^2 + 30*s + 20);\n",
    "# nyquist(sys)\n"
   ]
  },
  {
   "cell_type": "markdown",
   "metadata": {
    "slideshow": {
     "slide_type": "notes"
    }
   },
   "source": [
    "As we discussed before, all that we need to do to find the gain margin is find |a|, as defined in the preceding figure.  To do this, we need to find the point where there is exactly 180 degrees of phase shift.  This means that the transfer function at this point is real (has no imaginary part).  The numerator is already real, so we just need to look at the denominator.  When |s = jw|, the only terms in the denominator that will have imaginary parts are those which are odd powers of |s|.  Therefore, for |G(jw)| to be real, we must have:\n",
    "\n",
    "$$\n",
    "-jw^3 + 30jw = 0\n",
    "$$\n",
    "\n",
    "which means |w = 0| (this is the rightmost point in the Nyquist diagram) or |w = sqrt(30)|.  We can then find the value of |G(jw)| at this point using |polyval|:"
   ]
  },
  {
   "cell_type": "code",
   "execution_count": 29,
   "metadata": {
    "collapsed": true,
    "slideshow": {
     "slide_type": "notes"
    }
   },
   "outputs": [],
   "source": [
    "# w = sqrt(30);\n",
    "# polyval(50,j*w)/polyval([1 9 30 40],j*w)\n"
   ]
  },
  {
   "cell_type": "markdown",
   "metadata": {
    "slideshow": {
     "slide_type": "notes"
    }
   },
   "source": [
    "The answer is: |-0.2174 + 0i|.  The imaginary part is zero, so we know that our answer is correct.  We can also verify by looking at the Nyquist plot again.  The real part also makes sense.  Now we can proceed to find the gain margin. We found that the 180 degrees phase shift occurs at |-0.2174 + 0i|.  This point was previously defined as |-1/a|.  Therefore, we now have |a|, which is the gain margin.  However, we need to express the gain margin in decibels:\n",
    "\n",
    "$$\n",
    "\\frac{-1}{a} = -0.2174\n",
    "$$\n",
    "\n",
    "\n",
    "\n",
    "$$\n",
    "=> a = 4.6\n",
    "$$\n",
    "\n",
    "\n",
    "\n",
    "$$\n",
    "=> GM = 20log_{10}(4.6) = 13.26 dB\n",
    "$$\n",
    "\n",
    "We now have our gain margin.  Let's see how accurate it is by using a gain of |a = 4.6| and zooming in on the Nyquist plot:"
   ]
  },
  {
   "cell_type": "code",
   "execution_count": 30,
   "metadata": {
    "collapsed": true,
    "slideshow": {
     "slide_type": "notes"
    }
   },
   "outputs": [],
   "source": [
    "# a = 4.6;\n",
    "# nyquist(a*sys)\n"
   ]
  },
  {
   "cell_type": "code",
   "execution_count": 31,
   "metadata": {
    "exporter": {
     "cell_type": "toc"
    },
    "slideshow": {
     "slide_type": "skip"
    }
   },
   "outputs": [
    {
     "data": {
      "application/javascript": [
       "$.getScript('https://kmahelona.github.io/ipython_notebook_goodies/ipython_notebook_toc.js')\n"
      ],
      "text/plain": [
       "<IPython.core.display.Javascript object>"
      ]
     },
     "metadata": {},
     "output_type": "display_data"
    }
   ],
   "source": [
    "%%javascript\n",
    "$.getScript('https://kmahelona.github.io/ipython_notebook_goodies/ipython_notebook_toc.js')"
   ]
  }
 ],
 "metadata": {
  "celltoolbar": "Slideshow",
  "kernelspec": {
   "display_name": "Python 3",
   "language": "python",
   "name": "python3"
  },
  "language_info": {
   "codemirror_mode": {
    "name": "ipython",
    "version": 3
   },
   "file_extension": ".py",
   "mimetype": "text/x-python",
   "name": "python",
   "nbconvert_exporter": "python",
   "pygments_lexer": "ipython3",
   "version": "3.6.6"
  },
  "nikola": {
   "author": "d@h",
   "category": "Introduction",
   "date": "2016-02-16 08:00:00 UTC",
   "description": "Controls Tutorials for Python",
   "link": "",
   "slug": "introduction-controlfrequency",
   "tags": "ControlFrequency",
   "title": "Introduction - Control Frequency",
   "type": ""
  }
 },
 "nbformat": 4,
 "nbformat_minor": 1
}
