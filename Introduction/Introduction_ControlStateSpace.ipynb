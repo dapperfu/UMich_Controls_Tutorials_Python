{
 "cells": [
  {
   "cell_type": "markdown",
   "metadata": {
    "slideshow": {
     "slide_type": "notes"
    }
   },
   "source": [
    "# Introduction: State-Space Methods for Controller Design\n",
    "\n",
    "In this section, we will show how to design controllers and observers using state-space (or time-domain) methods."
   ]
  },
  {
   "cell_type": "markdown",
   "metadata": {
    "slideshow": {
     "slide_type": "notes"
    }
   },
   "source": [
    "## Modeling\n",
    "\n",
    "There are several different ways to describe a system of linear differential equations.  The **state-space representation** was introduced in the [Introduction: System Modeling](../Introduction/Introduction-SystemModeling.ipynb) section.  For a SISO LTI system, the state-space form is given below:\n",
    "\n",
    "$$\n",
    "\\frac{d\\mathbf{x}}{dt} = A\\mathbf{x} + Bu\n",
    "$$\n",
    "\n",
    "\n",
    "\n",
    "$$\n",
    "y = C\\mathbf{x} + Du\n",
    "$$\n",
    "\n",
    "where **x** is a n by 1 vector representing the state (commonly position and velocity variable in mechanical systems), $u$ is a scalar representing the input (commonly a force or torque in mechanical systems), and $y$ is a scalar representing the output.  The matrices A (n by n), B (n by 1), and C (1 by n) determine the relationships between the state and input and output variables.  Note that there are n first-order differential equations.  State space representation can also be used for systems with multiple inputs and outputs (MIMO), but we will only use single-input, single-output (SISO) systems in these tutorials. To introduce the state space design method, we will use the magnetically suspended ball as an example.  The current through the coils induces a magnetic force which can balance the force of gravity and cause the ball (which is made of a magnetic material) to be suspended in midair.  The modeling of this system has been established in many control text books (including [_Automatic Control Systems_ by B. C. Kuo](https://www.amazon.com/s?k=978-0130548429))\n",
    "![StateSpaceTutorial_StateSpaceEquations_MagneticModel.png](figures/StateSpaceTutorial_StateSpaceEquations_MagneticModel.png)\n",
    "The equations for the system are given by:\n",
    "\n",
    "$$\n",
    "M\\frac{d^2h}{dt^2} = Mg - \\frac{Ki^2}{h}\n",
    "$$\n",
    "\n",
    "\n",
    "\n",
    "$$\n",
    "V = L\\frac{di}{dt} + iR\n",
    "$$\n",
    "\n",
    "where $h$ is the vertical position of the ball, $i$ is the current through the electromagnet, $V$ is the applied voltage, $M$ is the mass of the ball, $g$ is gravity, $L$ is the inductance, $R$ is the resistance, and $K$ is a coefficient that determines the magnetic force exerted on the ball.  \n",
    "\n",
    "For simplicity, we will choose values:\n",
    "\n",
    "- `M = 0.05 Kg`\n",
    "- `K = 0.0001`\n",
    "- `L = 0.01 H`\n",
    "- `R = 1 Ohm`\n",
    "- `g = 9.81 m/sec^2`\n",
    "\n",
    "The system is at equilibrium (the ball is suspended in midair) whenever $h = K i^2/Mg$ (at which point $dh/dt = 0$).  We linearize the equations about the point $h = 0.01 m$ (where the nominal current is about 7 amp) and get the state space equations:\n",
    "\n",
    "$$\n",
    "\\frac{d\\vec{x}}{dt} = A\\vec{x} + Bu\n",
    "$$\n",
    "\n",
    "\n",
    "\n",
    "$$\n",
    "y = C\\vec{x} + Du\n",
    "$$\n",
    "\n",
    "where:\n",
    "\n",
    "$$\n",
    "x = \\left[{\\begin{array}{c} \\Delta h \\\\ \\Delta \\dot{h} \\\\ \\Delta i \\end{array}}\\right]\n",
    "$$\n",
    "\n",
    "is the set of state variables for the system (a 3x1 vector), $u$ is the input voltage (delta $V$), and $y$ (the output), is delta $h$."
   ]
  },
  {
   "cell_type": "code",
   "execution_count": 1,
   "metadata": {
    "execution": {
     "iopub.execute_input": "2021-03-08T02:15:20.103569Z",
     "iopub.status.busy": "2021-03-08T02:15:20.102294Z",
     "iopub.status.idle": "2021-03-08T02:15:21.737795Z",
     "shell.execute_reply": "2021-03-08T02:15:21.738794Z"
    }
   },
   "outputs": [],
   "source": [
    "import control\n",
    "import matplotlib.pyplot as plt\n",
    "import numpy as np\n",
    "import seaborn as sns"
   ]
  },
  {
   "cell_type": "code",
   "execution_count": 2,
   "metadata": {
    "execution": {
     "iopub.execute_input": "2021-03-08T02:15:21.743873Z",
     "iopub.status.busy": "2021-03-08T02:15:21.742264Z",
     "iopub.status.idle": "2021-03-08T02:15:21.750563Z",
     "shell.execute_reply": "2021-03-08T02:15:21.751678Z"
    },
    "slideshow": {
     "slide_type": "notes"
    }
   },
   "outputs": [],
   "source": [
    "A = np.array([[0, 1, 0], [980, 0, -2.8], [0, 0, -100]])\n",
    "B = np.array([[0], [0], [100]])\n",
    "C = np.array([[1, 0, 0]])"
   ]
  },
  {
   "cell_type": "markdown",
   "metadata": {
    "slideshow": {
     "slide_type": "notes"
    }
   },
   "source": [
    "### Stability\n",
    "\n",
    "One of the first things we want to do is analyze whether the open-loop system (without any control) is stable.  As discussed in the [Introduction: System Analysis](../Introduction/Introduction-SystemAnalysis.ipynb) section, the eigenvalues of the system matrix, A, (equivalent to the poles of the transfer fucntion) determine the stability. The eigenvalues of the A matrix are the values of $s$ where $det(sI - A) = 0$."
   ]
  },
  {
   "cell_type": "code",
   "execution_count": 3,
   "metadata": {
    "execution": {
     "iopub.execute_input": "2021-03-08T02:15:21.756678Z",
     "iopub.status.busy": "2021-03-08T02:15:21.755242Z",
     "iopub.status.idle": "2021-03-08T02:15:21.779927Z",
     "shell.execute_reply": "2021-03-08T02:15:21.780708Z"
    },
    "slideshow": {
     "slide_type": "notes"
    }
   },
   "outputs": [
    {
     "data": {
      "text/plain": [
       "array([  31.30495168,  -31.30495168, -100.        ])"
      ]
     },
     "execution_count": 1,
     "metadata": {},
     "output_type": "execute_result"
    }
   ],
   "source": [
    "poles, _ = np.linalg.eig(A)\n",
    "poles"
   ]
  },
  {
   "cell_type": "markdown",
   "metadata": {
    "slideshow": {
     "slide_type": "notes"
    }
   },
   "source": [
    "From inspection, it can be seen that one of the poles is in the right-half plane (i.e. has positive real part), which means that the open-loop system is unstable.\n",
    "\n",
    "To observe what happens to this unstable system when there is a non-zero initial condition, add the following lines to your m-file and run it again: "
   ]
  },
  {
   "cell_type": "code",
   "execution_count": 4,
   "metadata": {
    "execution": {
     "iopub.execute_input": "2021-03-08T02:15:21.789024Z",
     "iopub.status.busy": "2021-03-08T02:15:21.787259Z",
     "iopub.status.idle": "2021-03-08T02:15:21.790045Z",
     "shell.execute_reply": "2021-03-08T02:15:21.790754Z"
    },
    "slideshow": {
     "slide_type": "notes"
    }
   },
   "outputs": [],
   "source": [
    "# Time vector\n",
    "t = np.arange(0, 2, 0.01)\n",
    "# Zero Input\n",
    "u = np.zeros(np.shape(t))\n",
    "# Initial Conditions: 0.01m, 0 m/s, 0 m/s^2\n",
    "x0 = np.array([0.01, 0, 0])"
   ]
  },
  {
   "cell_type": "code",
   "execution_count": 5,
   "metadata": {
    "execution": {
     "iopub.execute_input": "2021-03-08T02:15:21.799852Z",
     "iopub.status.busy": "2021-03-08T02:15:21.798884Z",
     "iopub.status.idle": "2021-03-08T02:15:21.802271Z",
     "shell.execute_reply": "2021-03-08T02:15:21.802992Z"
    },
    "slideshow": {
     "slide_type": "notes"
    }
   },
   "outputs": [
    {
     "data": {
      "text/plain": [
       "StateSpace(array([[   0. ,    1. ,    0. ],\n",
       "       [ 980. ,    0. ,   -2.8],\n",
       "       [   0. ,    0. , -100. ]]), array([[  0.],\n",
       "       [  0.],\n",
       "       [100.]]), array([[1., 0., 0.]]), array([[0.]]))"
      ]
     },
     "execution_count": 1,
     "metadata": {},
     "output_type": "execute_result"
    }
   ],
   "source": [
    "sys = control.ss(A, B, C, 0)\n",
    "sys"
   ]
  },
  {
   "cell_type": "code",
   "execution_count": 6,
   "metadata": {
    "execution": {
     "iopub.execute_input": "2021-03-08T02:15:21.807070Z",
     "iopub.status.busy": "2021-03-08T02:15:21.806125Z",
     "iopub.status.idle": "2021-03-08T02:15:22.164869Z",
     "shell.execute_reply": "2021-03-08T02:15:22.164342Z"
    },
    "slideshow": {
     "slide_type": "notes"
    }
   },
   "outputs": [
    {
     "data": {
      "text/plain": [
       "Text(0, 0.5, 'Ball Position (m)')"
      ]
     },
     "execution_count": 1,
     "metadata": {},
     "output_type": "execute_result"
    },
    {
     "data": {
      "image/png": "[encoded data removed]",
      "text/plain": [
       "<Figure size 432x288 with 1 Axes>"
      ]
     },
     "metadata": {
      "needs_background": "light"
     },
     "output_type": "display_data"
    }
   ],
   "source": [
    "_, y, _ = control.forced_response(sys, T=t, U=u, X0=x0)\n",
    "plt.plot(t, y)\n",
    "plt.title(\"Open-Loop Response to Non-Zero Initial Condition\")\n",
    "plt.xlabel(\"Time (sec)\")\n",
    "plt.ylabel(\"Ball Position (m)\");"
   ]
  },
  {
   "cell_type": "markdown",
   "metadata": {
    "slideshow": {
     "slide_type": "notes"
    }
   },
   "source": [
    "It looks like the distance between the ball and the electromagnet will go to infinity, but probably the ball hits the table or the floor first (and also probably goes out of the range where our linearization is valid)."
   ]
  },
  {
   "cell_type": "markdown",
   "metadata": {
    "slideshow": {
     "slide_type": "notes"
    }
   },
   "source": [
    "### Controllability and Observability\n",
    "\n",
    "A system is **controllable** if there exists a control input, u(t), that transfers any state of the system to zero in finite time.  It can be shown that an LTI system is controllable if and only if its controllabilty matrix, CO, has full rank (i.e. if rank(CO) = n where n is the number of states ). The rank of the controllability matrix of an LTI model can be determined using the commands ```numpy.linalg.matrix_rank(ctrb(A,B))``` or ```numpy.linalg.matrix_rank(ctrb(sys))```.\n",
    "\n",
    "$$\n",
    "CO = [B | AB | A^2B | ... | A^{n-1}B];\n",
    "$$\n",
    "\n",
    "All the state variables of a system may not be directly measurable, for instance if the component is in an inaccessible location. In these cases it is neccesary to **estimate** the values of the unknown internal state variables using only the available system outputs.  A system is **observable** if the initial state, x(t_0), can be determined from the system output, y(t), over some finite time t_0 < t < t_f. For LTI systems, the system is observable if and only if the observability matrix, OB, has full rank (i.e. if rank(OB) = n where n is the number of states). The observability of an LTI model can be determined using the command ```rank(obsv(A,C))``` or ```rank(obsv(sys))```.\n",
    "\n",
    "$$\n",
    "OB = \\left[ \\begin{array}{c} C \\\\ CA \\\\ CA^2 \\\\ \\vdots \\\\ CA^{n-1} \\end{array} \\right]\n",
    "$$\n",
    "\n",
    "Controllability and observability are **dual** concepts.  A system (A,B) is controllable if and only if a system (A',C,B',D) is observable. This fact will be useful when designing an observer, as we shall see below."
   ]
  },
  {
   "cell_type": "markdown",
   "metadata": {
    "slideshow": {
     "slide_type": "notes"
    }
   },
   "source": [
    "### Control Design Using Pole Placement\n",
    "\n",
    "Let's build a controller for this system using pole placement.  The schematic of a full-state feedback system is shown below.  By full-state, we mean that all state variables are known to the controller at all times.  For instance in this system, we would need a sensor measuring the ball position, another measuring velocity, and a third measuring current in the electro-magnet.\n",
    "![StateSpaceTutorial_ControlDesign_BlockDiagram.png](figures/StateSpaceTutorial_ControlDesign_BlockDiagram.png)\n",
    "For simplicity, let's assume the reference is zero, R=0.  The input is then:\n",
    "\n",
    "$$\n",
    "u = -Kx\n",
    "$$\n",
    "\n",
    "The state-space equations for the closed-loop feedback system are therefore:\n",
    "\n",
    "$$\n",
    "\\dot{\\mathbf{x}} = A\\mathbf{x} + B(-K\\mathbf{x}) = (A-BK)\\mathbf{x} $$\n",
    "\n",
    "$$\n",
    "y = (C-DK)x\n",
    "$$\n",
    "\n",
    "The stability and time-domain performance of the closed-loop feedback system are determined primarily by the location of the eigenvalues of the matrix ($A-BK$), which are equal to the closed-loop poles. Since the matrices $A$ and $BK$ are both 3x3, there will be 3 poles for the system. By choosing an appropriate state-feedback gain matrix $K$, we can place these closed-loop poles anywhere we'd like (because the system is controllable). We can use the MATLAB function place to find the state-feedback gain, $K$, which will provide the desired closed-loop poles.\n",
    "\n",
    "Before attempting this method, we have to decide where we want to place the closed-loop poles. Suppose the criteria for the controller were settling time < 0.5 sec and overshoot < 5%, then we might try to place the two dominant poles at -10 +/- 10i (at $\\zeta$ = 0.7 or 45 degrees with $\\sigma$ = 10 > 4.6*2). The third pole we might place at -50 to start (so that it is sufficiently fast that it won't have much effect on the response), and we can change it later depending on what closed-loop behavior results. "
   ]
  },
  {
   "cell_type": "code",
   "execution_count": 7,
   "metadata": {
    "execution": {
     "iopub.execute_input": "2021-03-08T02:15:22.173209Z",
     "iopub.status.busy": "2021-03-08T02:15:22.171368Z",
     "iopub.status.idle": "2021-03-08T02:15:22.184114Z",
     "shell.execute_reply": "2021-03-08T02:15:22.184743Z"
    },
    "slideshow": {
     "slide_type": "notes"
    }
   },
   "outputs": [],
   "source": [
    "p1 = -10 + 10j\n",
    "p2 = -10 - 10j\n",
    "p3 = -50\n",
    "K = control.place(A, B, [p1, p2, p3])\n",
    "sys_cl = control.StateSpace(A - B * K, B, C, 0)"
   ]
  },
  {
   "cell_type": "code",
   "execution_count": 8,
   "metadata": {
    "execution": {
     "iopub.execute_input": "2021-03-08T02:15:22.188721Z",
     "iopub.status.busy": "2021-03-08T02:15:22.187789Z",
     "iopub.status.idle": "2021-03-08T02:15:22.437554Z",
     "shell.execute_reply": "2021-03-08T02:15:22.438006Z"
    }
   },
   "outputs": [
    {
     "data": {
      "image/png": "[encoded data removed]",
      "text/plain": [
       "<Figure size 432x288 with 1 Axes>"
      ]
     },
     "metadata": {
      "needs_background": "light"
     },
     "output_type": "display_data"
    }
   ],
   "source": [
    "_, y, _ = control.forced_response(sys_cl, T=t, U=u, X0=x0)\n",
    "plt.plot(t, y)\n",
    "plt.title(\"Closed Loop Response with Non-Zero Initial Condition\")\n",
    "plt.xlabel(\"Time (sec)\")\n",
    "plt.ylabel(\"Ball Position (m)\")\n",
    "plt.grid(\"on\")"
   ]
  },
  {
   "cell_type": "markdown",
   "metadata": {
    "slideshow": {
     "slide_type": "notes"
    }
   },
   "source": [
    "The overshoot is too large (there are also zeros in the transfer function which can increase the overshoot; you do not see the zeros in the state-space formulation).  Try placing the poles further to the left to see if the transient response improves (this should also make the response faster)."
   ]
  },
  {
   "cell_type": "code",
   "execution_count": 9,
   "metadata": {
    "execution": {
     "iopub.execute_input": "2021-03-08T02:15:22.446109Z",
     "iopub.status.busy": "2021-03-08T02:15:22.445164Z",
     "iopub.status.idle": "2021-03-08T02:15:22.831310Z",
     "shell.execute_reply": "2021-03-08T02:15:22.832345Z"
    },
    "slideshow": {
     "slide_type": "notes"
    }
   },
   "outputs": [
    {
     "data": {
      "image/png": "[encoded data removed]",
      "text/plain": [
       "<Figure size 432x288 with 1 Axes>"
      ]
     },
     "metadata": {
      "needs_background": "light"
     },
     "output_type": "display_data"
    }
   ],
   "source": [
    "p1 = -20 + 20j\n",
    "p2 = -20 - 20j\n",
    "p3 = -100\n",
    "K = control.place(A, B, [p1, p2, p3])\n",
    "sys_cl = control.StateSpace(A - B * K, B, C, 0)\n",
    "_, y, _ = control.forced_response(sys_cl, T=t, U=u, X0=x0)\n",
    "plt.plot(t, y)\n",
    "plt.title(\"Closed-Loop Response with Non-Zero Initial Condition\")\n",
    "plt.xlabel(\"Time (sec)\")\n",
    "plt.ylabel(\"Ball Position (m)\")\n",
    "plt.grid(\"on\")"
   ]
  },
  {
   "cell_type": "markdown",
   "metadata": {
    "slideshow": {
     "slide_type": "notes"
    }
   },
   "source": [
    "This time the overshoot is smaller. Consult your textbook for further suggestions on choosing the desired closed-loop poles.\n",
    "\n",
    "Compare the control effort required ($u$) in both cases. In general, the farther you move the poles to the left, the more control effort is required. \n",
    "\n",
    "**Note**: If you want to place two or more poles at the same position, place will not work. You can use a function called acker which achieves the same goal (but can be less numerically well-conditioned): "
   ]
  },
  {
   "cell_type": "code",
   "execution_count": 10,
   "metadata": {
    "execution": {
     "iopub.execute_input": "2021-03-08T02:15:22.839498Z",
     "iopub.status.busy": "2021-03-08T02:15:22.838296Z",
     "iopub.status.idle": "2021-03-08T02:15:22.843091Z",
     "shell.execute_reply": "2021-03-08T02:15:22.843812Z"
    }
   },
   "outputs": [],
   "source": [
    "K = control.acker(A, B, [p1, p2, p3])"
   ]
  },
  {
   "cell_type": "markdown",
   "metadata": {},
   "source": [
    "### Introducing the Reference Input\n",
    "\n",
    "Now, we will take the control system as defined above and apply a step input (we choose a small value for the step, so we remain in the region where our linearization is valid)."
   ]
  },
  {
   "cell_type": "code",
   "execution_count": 11,
   "metadata": {
    "execution": {
     "iopub.execute_input": "2021-03-08T02:15:22.861802Z",
     "iopub.status.busy": "2021-03-08T02:15:22.860853Z",
     "iopub.status.idle": "2021-03-08T02:15:23.166989Z",
     "shell.execute_reply": "2021-03-08T02:15:23.168014Z"
    },
    "scrolled": true,
    "slideshow": {
     "slide_type": "notes"
    }
   },
   "outputs": [
    {
     "data": {
      "image/png": "[encoded data removed]",
      "text/plain": [
       "<Figure size 432x288 with 1 Axes>"
      ]
     },
     "metadata": {
      "needs_background": "light"
     },
     "output_type": "display_data"
    }
   ],
   "source": [
    "t = np.arange(0, 2, 0.01)\n",
    "# Input step response\n",
    "u = 0.001 * np.ones(np.shape(t))\n",
    "#\n",
    "sys_cl = control.StateSpace(A - B * K, B, C, 0)\n",
    "_, y, _ = control.forced_response(sys_cl, T=t, U=u)\n",
    "plt.plot(t, y)\n",
    "plt.title(\"Closed-Loop with Zero Initial Condition\")\n",
    "plt.xlabel(\"Time (sec)\")\n",
    "plt.ylabel(\"Ball Position (m)\")\n",
    "plt.grid(\"on\")"
   ]
  },
  {
   "cell_type": "markdown",
   "metadata": {
    "slideshow": {
     "slide_type": "notes"
    }
   },
   "source": [
    "The system does not track the step well at all; not only is the magnitude not one, but it is negative instead of positive!\n",
    "\n",
    "Recall the schematic above, we don't compare the output to the reference; instead we measure all the states, multiply by the gain vector $K$, and then subtract this result from the reference. There is no reason to expect that $K\\mathbf{x}$ will be equal to the desired output. To eliminate this problem, we can scale the reference input to make it equal to $K\\mathbf{x}$ in steady-state. The scale factor, $\\overline{N}$, is shown in the following schematic: \n",
    "\n",
    "\n",
    "![StateSpaceTutorial_ReferenceInput_BlockDiagram.png](figures/StateSpaceTutorial_ReferenceInput_BlockDiagram.png)\n",
    "We can get Nbar from Python by creating the following function `rscale`"
   ]
  },
  {
   "cell_type": "code",
   "execution_count": 12,
   "metadata": {
    "execution": {
     "iopub.execute_input": "2021-03-08T02:15:23.178845Z",
     "iopub.status.busy": "2021-03-08T02:15:23.177901Z",
     "iopub.status.idle": "2021-03-08T02:15:23.180593Z",
     "shell.execute_reply": "2021-03-08T02:15:23.181506Z"
    }
   },
   "outputs": [],
   "source": [
    "def rscale(sys, K):\n",
    "    \"\"\" Given the single-input linear system: \n",
    "      x = Ax + Bu\n",
    "      y = Cx + Du\n",
    "    and the feedback matrix K,\n",
    "\n",
    "    the function rscale(sys,K) or rscale(A,B,C,D,K) \n",
    "    finds the scale factor N which will \n",
    "    eliminate the steady-state error to a step reference \n",
    "    for a continuous-time, single-input system\n",
    "    with full-state feedback using the schematic below:\n",
    "\n",
    "                            /---------\\\n",
    "         R         +     u  | .       |\n",
    "         ---> N --->() ---->| X=Ax+Bu |--> y=Cx ---> y\n",
    "                   -|       \\\\---------/\n",
    "                    |             | \n",
    "                    |<---- K <----|\n",
    "\n",
    "    8/21/96 Yanjie Sun of the University of Michigan\n",
    "           under the supervision of Prof. D. Tilbury\n",
    "    6/12/98 John Yook, Dawn Tilbury revised\n",
    "    07-Mar-2021. Converted to Python. Jed Frey.\n",
    "    \n",
    "    % compute Nbar\n",
    "    s = size(A,1);\n",
    "    Z = [zeros([1,s]) 1];\n",
    "    N = inv([A,B;C,D])*Z';\n",
    "    Nx = N(1:s);\n",
    "    Nu = N(1+s);\n",
    "    Nbar=Nu + K*Nx;\n",
    "    \"\"\"\n",
    "    s = A.shape[0]\n",
    "    Z = np.zeros((s + 1, 1))\n",
    "    Z[-1] = 1\n",
    "    # Concatenate each section\n",
    "    tmpa = np.concatenate((sys.A, sys.B), axis=1)\n",
    "    tmpb = np.concatenate((sys.C, sys.D), axis=1)\n",
    "    # Concatenate together and multiply by Z.\n",
    "    N = np.linalg.inv(np.concatenate((tmpa, tmpb), axis=0)) * Z\n",
    "\n",
    "    Nx = N[0:-1]\n",
    "    Nu = N[-1]\n",
    "    return Nu + K * Nx"
   ]
  },
  {
   "cell_type": "code",
   "execution_count": 13,
   "metadata": {
    "execution": {
     "iopub.execute_input": "2021-03-08T02:15:23.189221Z",
     "iopub.status.busy": "2021-03-08T02:15:23.188271Z",
     "iopub.status.idle": "2021-03-08T02:15:23.203493Z",
     "shell.execute_reply": "2021-03-08T02:15:23.204984Z"
    },
    "slideshow": {
     "slide_type": "notes"
    }
   },
   "outputs": [
    {
     "data": {
      "text/plain": [
       "matrix([[-285.71428571]])"
      ]
     },
     "execution_count": 1,
     "metadata": {},
     "output_type": "execute_result"
    }
   ],
   "source": [
    "Nbar = rscale(sys, K)\n",
    "Nbar"
   ]
  },
  {
   "cell_type": "markdown",
   "metadata": {
    "slideshow": {
     "slide_type": "notes"
    }
   },
   "source": [
    "Now, if we want to find the response of the system under state feedback with this introduction of the reference, we simply note the fact that the input is multiplied by this new factor, $\\bar{N}$:"
   ]
  },
  {
   "cell_type": "code",
   "execution_count": 14,
   "metadata": {
    "execution": {
     "iopub.execute_input": "2021-03-08T02:15:23.211585Z",
     "iopub.status.busy": "2021-03-08T02:15:23.210661Z",
     "iopub.status.idle": "2021-03-08T02:15:23.552719Z",
     "shell.execute_reply": "2021-03-08T02:15:23.553754Z"
    }
   },
   "outputs": [
    {
     "data": {
      "image/png": "[encoded data removed]",
      "text/plain": [
       "<Figure size 432x288 with 1 Axes>"
      ]
     },
     "metadata": {
      "needs_background": "light"
     },
     "output_type": "display_data"
    }
   ],
   "source": [
    "_, y, _ = control.forced_response(sys_cl, T=t, U=Nbar * u)\n",
    "plt.plot(t, y)\n",
    "plt.title(\"Linear Simulation Results (with Nbar)\")\n",
    "plt.xlabel(\"Time (sec)\")\n",
    "plt.ylabel(\"Ball Position (m)\")\n",
    "plt.grid(\"on\")"
   ]
  },
  {
   "cell_type": "markdown",
   "metadata": {},
   "source": [
    "and now a step can be tracked reasonably well. Note, our calculation of the scaling factor requires good knowledge of the system. If our model is in error, then we will scale the input an incorrect amount. An alternative, similar to what was introduced with PID control, is to add a state variable for the integral of the output error. This has the effect of adding an integral term to our controller which is known to reduce steady-state error. "
   ]
  },
  {
   "cell_type": "markdown",
   "metadata": {
    "slideshow": {
     "slide_type": "notes"
    }
   },
   "source": [
    "### Observer Design\n",
    "\n",
    "When we can't measure all the states |x| (often the case in practice), we can build an **observer** to estimate them, while measuring only the output |y = C x|.  For the magnetic ball example, we will add three new, estimated states to the system.  The schematic is as follows:\n",
    "![StateSpaceTutorial_ObserverDesign_BlockDiagram.png](figures/StateSpaceTutorial_ObserverDesign_BlockDiagram.png)\n",
    "\n",
    "The observer is basically a copy of the plant; it has the same input and almost the same differential equation. An extra term compares the actual measured output $y$ to the estimated output $\\hat{y} = C\\hat{\\mathbf{x}}$; this will help to correct the estimated state $\\hat{\\mathbf{x}}$ and cause it to approach the values of the actual state $\\mathbf{x}$ (if the measurement has minimal error).\n",
    "\n",
    "$$ \\dot{\\hat{\\mathbf{x}}} = A\\hat{\\mathbf{x}} + Bu + L(y - \\hat{y}) $$\n",
    "\n",
    "$$ \\hat{y} = C\\hat{\\mathbf{x}} $$\n",
    "\n",
    "The error dynamics of the observer are given by the poles of $A-LC$.\n",
    "\n",
    "$$ \\dot{\\mathbf{e}} = \\dot{\\mathbf{x}} - \\dot{\\hat{\\mathbf{x}}} = (A - LC)\\mathbf{e} $$\n",
    "\n",
    "First, we need to choose the observer gain $L$. Since we want the dynamics of the observer to be much faster than the system itself, we need to place the poles at least five times farther to the left than the dominant poles of the system. If we want to use place, we need to put the three observer poles at different locations. "
   ]
  },
  {
   "cell_type": "code",
   "execution_count": 15,
   "metadata": {
    "execution": {
     "iopub.execute_input": "2021-03-08T02:15:23.560168Z",
     "iopub.status.busy": "2021-03-08T02:15:23.559208Z",
     "iopub.status.idle": "2021-03-08T02:15:23.561608Z",
     "shell.execute_reply": "2021-03-08T02:15:23.562428Z"
    },
    "slideshow": {
     "slide_type": "notes"
    }
   },
   "outputs": [],
   "source": [
    "op1 = -100\n",
    "op2 = -101\n",
    "op3 = -102"
   ]
  },
  {
   "cell_type": "markdown",
   "metadata": {
    "slideshow": {
     "slide_type": "notes"
    }
   },
   "source": [
    "Because of the duality between controllability and observability, we can use the same technique used to find the control matrix by replacing the matrix $B$ by the matrix $C$ and taking the transposes of each matrix: "
   ]
  },
  {
   "cell_type": "code",
   "execution_count": 16,
   "metadata": {
    "execution": {
     "iopub.execute_input": "2021-03-08T02:15:23.569263Z",
     "iopub.status.busy": "2021-03-08T02:15:23.568306Z",
     "iopub.status.idle": "2021-03-08T02:15:23.583784Z",
     "shell.execute_reply": "2021-03-08T02:15:23.584536Z"
    },
    "slideshow": {
     "slide_type": "notes"
    }
   },
   "outputs": [
    {
     "data": {
      "text/plain": [
       "matrix([[  203.        ],\n",
       "        [11282.00000001],\n",
       "        [   -0.        ]])"
      ]
     },
     "execution_count": 1,
     "metadata": {},
     "output_type": "execute_result"
    }
   ],
   "source": [
    "L = control.place(A.transpose(), C.transpose(), [op1, op2, op3]).transpose()\n",
    "L"
   ]
  },
  {
   "cell_type": "markdown",
   "metadata": {
    "slideshow": {
     "slide_type": "notes"
    }
   },
   "source": [
    "The equations in the block diagram above are given for the estimate $\\hat{\\mathbf{x}}$. It is conventional to write the combined equations for the system plus observer using the original state equations plus the estimation error: $\\mathbf{e} = \\mathbf{x} - \\hat{\\mathbf{x}}$. We use the estimated state for feedback, $u = -K \\hat{\\mathbf{x}}$, since not all state variables are necessarily measured. After a little bit of algebra (consult your textbook for more details), we arrive at the combined state and error equations for full-state feedback with an observer."
   ]
  },
  {
   "cell_type": "code",
   "execution_count": 17,
   "metadata": {
    "execution": {
     "iopub.execute_input": "2021-03-08T02:15:23.616583Z",
     "iopub.status.busy": "2021-03-08T02:15:23.614791Z",
     "iopub.status.idle": "2021-03-08T02:15:23.626382Z",
     "shell.execute_reply": "2021-03-08T02:15:23.615642Z"
    }
   },
   "outputs": [
    {
     "data": {
      "text/plain": [
       "matrix([[ 0.00000000e+00,  1.00000000e+00,  0.00000000e+00,\n",
       "          0.00000000e+00,  0.00000000e+00,  0.00000000e+00],\n",
       "        [ 9.80000000e+02,  0.00000000e+00, -2.80000000e+00,\n",
       "          0.00000000e+00,  0.00000000e+00,  0.00000000e+00],\n",
       "        [ 7.75714286e+04,  2.06428571e+03, -1.40000000e+02,\n",
       "         -7.75714286e+04, -2.06428571e+03,  4.00000000e+01],\n",
       "        [ 0.00000000e+00,  0.00000000e+00,  0.00000000e+00,\n",
       "         -2.03000000e+02,  1.00000000e+00,  0.00000000e+00],\n",
       "        [ 0.00000000e+00,  0.00000000e+00,  0.00000000e+00,\n",
       "         -1.03020000e+04,  0.00000000e+00, -2.80000000e+00],\n",
       "        [ 0.00000000e+00,  0.00000000e+00,  0.00000000e+00,\n",
       "          0.00000000e+00,  0.00000000e+00, -1.00000000e+02]])"
      ]
     },
     "execution_count": 1,
     "metadata": {},
     "output_type": "execute_result"
    }
   ],
   "source": [
    "At1 = np.concatenate((A - B * K, B * K), axis=1)\n",
    "At2 = np.concatenate((np.zeros(A.shape), A - L * C), axis=1)\n",
    "At = np.concatenate((At1, At2), axis=0)\n",
    "At"
   ]
  },
  {
   "cell_type": "code",
   "execution_count": 18,
   "metadata": {
    "execution": {
     "iopub.execute_input": "2021-03-08T02:15:23.638152Z",
     "iopub.status.busy": "2021-03-08T02:15:23.634114Z",
     "iopub.status.idle": "2021-03-08T02:15:23.642107Z",
     "shell.execute_reply": "2021-03-08T02:15:23.641280Z"
    }
   },
   "outputs": [
    {
     "data": {
      "text/plain": [
       "matrix([[     0.        ],\n",
       "        [     0.        ],\n",
       "        [-28571.42857143],\n",
       "        [     0.        ],\n",
       "        [     0.        ],\n",
       "        [     0.        ]])"
      ]
     },
     "execution_count": 1,
     "metadata": {},
     "output_type": "execute_result"
    }
   ],
   "source": [
    "Bt = np.concatenate((B * Nbar, np.zeros(B.shape)), axis=0)\n",
    "Bt"
   ]
  },
  {
   "cell_type": "code",
   "execution_count": 19,
   "metadata": {
    "execution": {
     "iopub.execute_input": "2021-03-08T02:15:23.659262Z",
     "iopub.status.busy": "2021-03-08T02:15:23.655161Z",
     "iopub.status.idle": "2021-03-08T02:15:23.666543Z",
     "shell.execute_reply": "2021-03-08T02:15:23.655989Z"
    }
   },
   "outputs": [
    {
     "data": {
      "text/plain": [
       "array([[1., 0., 0., 0., 0., 0.]])"
      ]
     },
     "execution_count": 1,
     "metadata": {},
     "output_type": "execute_result"
    }
   ],
   "source": [
    "Ct = np.concatenate((C, np.zeros(C.shape)), axis=1)\n",
    "Ct"
   ]
  },
  {
   "cell_type": "code",
   "execution_count": 20,
   "metadata": {
    "execution": {
     "iopub.execute_input": "2021-03-08T02:15:23.673581Z",
     "iopub.status.busy": "2021-03-08T02:15:23.672647Z",
     "iopub.status.idle": "2021-03-08T02:15:23.675834Z",
     "shell.execute_reply": "2021-03-08T02:15:23.674943Z"
    }
   },
   "outputs": [],
   "source": [
    "sys = control.StateSpace(At, Bt, Ct, 0)"
   ]
  },
  {
   "cell_type": "code",
   "execution_count": 21,
   "metadata": {
    "execution": {
     "iopub.execute_input": "2021-03-08T02:15:23.683026Z",
     "iopub.status.busy": "2021-03-08T02:15:23.681235Z",
     "iopub.status.idle": "2021-03-08T02:15:23.684074Z",
     "shell.execute_reply": "2021-03-08T02:15:23.684842Z"
    }
   },
   "outputs": [],
   "source": [
    "x00 = np.concatenate((x0, x0), axis=0)"
   ]
  },
  {
   "cell_type": "code",
   "execution_count": 22,
   "metadata": {
    "execution": {
     "iopub.execute_input": "2021-03-08T02:15:23.700640Z",
     "iopub.status.busy": "2021-03-08T02:15:23.691625Z",
     "iopub.status.idle": "2021-03-08T02:15:24.028878Z",
     "shell.execute_reply": "2021-03-08T02:15:24.029616Z"
    }
   },
   "outputs": [
    {
     "data": {
      "image/png": "[encoded data removed]",
      "text/plain": [
       "<Figure size 432x288 with 1 Axes>"
      ]
     },
     "metadata": {
      "needs_background": "light"
     },
     "output_type": "display_data"
    }
   ],
   "source": [
    "T, Y, xout = control.forced_response(sys, T=t, U=np.zeros(t.shape), X0=x00)\n",
    "plt.plot(T, Y)\n",
    "plt.title(\"Linear Simulation Results (with observer)\")\n",
    "plt.xlabel(\"Time (sec)\")\n",
    "plt.ylabel(\"Ball Position (m)\")\n",
    "plt.grid(\"on\")"
   ]
  },
  {
   "cell_type": "markdown",
   "metadata": {
    "slideshow": {
     "slide_type": "notes"
    }
   },
   "source": [
    "Responses of all the state variables are plotted below. Recall that lsim gives us $\\mathbf{x}$ and $\\mathbf{e}$; to get $\\hat{\\mathbf{x}}$, we need to compute $\\mathbf{x} - \\mathbf{e}$. "
   ]
  },
  {
   "cell_type": "code",
   "execution_count": 23,
   "metadata": {
    "execution": {
     "iopub.execute_input": "2021-03-08T02:15:24.038530Z",
     "iopub.status.busy": "2021-03-08T02:15:24.037390Z",
     "iopub.status.idle": "2021-03-08T02:15:26.524749Z",
     "shell.execute_reply": "2021-03-08T02:15:26.525557Z"
    },
    "slideshow": {
     "slide_type": "notes"
    }
   },
   "outputs": [],
   "source": [
    "t = np.arange(0, 0.1, 1e-6)\n",
    "x0 = np.array([[0.01, 0.5, -5]])\n",
    "x00 = np.squeeze(np.concatenate((x0, x0), axis=1))\n",
    "T, Y, x = control.forced_response(sys, T=t, U=np.zeros(t.shape), X0=x00)"
   ]
  },
  {
   "cell_type": "markdown",
   "metadata": {},
   "source": [
    "Save state variables explicitly to aid in plotting"
   ]
  },
  {
   "cell_type": "code",
   "execution_count": 24,
   "metadata": {
    "execution": {
     "iopub.execute_input": "2021-03-08T02:15:26.533842Z",
     "iopub.status.busy": "2021-03-08T02:15:26.532773Z",
     "iopub.status.idle": "2021-03-08T02:15:26.538239Z",
     "shell.execute_reply": "2021-03-08T02:15:26.539110Z"
    }
   },
   "outputs": [],
   "source": [
    "e = x[:3, :]\n",
    "x2 = x[3:, :]\n",
    "x_est = x2 - e\n",
    "\n",
    "h = x[0, :]\n",
    "h_dot = x[1, :]\n",
    "i = x[2, :]\n",
    "\n",
    "h_est = x_est[0, :]\n",
    "h_dot_est = x_est[1, :]\n",
    "i_est = x_est[2, :]"
   ]
  },
  {
   "cell_type": "code",
   "execution_count": 25,
   "metadata": {
    "execution": {
     "iopub.execute_input": "2021-03-08T02:15:26.543574Z",
     "iopub.status.busy": "2021-03-08T02:15:26.542588Z",
     "iopub.status.idle": "2021-03-08T02:15:28.515990Z",
     "shell.execute_reply": "2021-03-08T02:15:28.516498Z"
    }
   },
   "outputs": [
    {
     "data": {
      "image/png": "[encoded data removed]",
      "text/plain": [
       "<Figure size 432x288 with 1 Axes>"
      ]
     },
     "metadata": {
      "needs_background": "light"
     },
     "output_type": "display_data"
    },
    {
     "data": {
      "image/png": "[encoded data removed]",
      "text/plain": [
       "<Figure size 432x288 with 1 Axes>"
      ]
     },
     "metadata": {
      "needs_background": "light"
     },
     "output_type": "display_data"
    },
    {
     "data": {
      "image/png": "[encoded data removed]",
      "text/plain": [
       "<Figure size 432x288 with 1 Axes>"
      ]
     },
     "metadata": {
      "needs_background": "light"
     },
     "output_type": "display_data"
    }
   ],
   "source": [
    "# todo: Figure out why these are flipped\n",
    "plt.plot(t, h, t, -h_est)\n",
    "plt.legend([\"$h$\", \"$h_{est}$\"])\n",
    "plt.ylabel(\"Ball Position (m)\")\n",
    "plt.xlabel(\"Time (sec)\")\n",
    "plt.show()\n",
    "\n",
    "plt.plot(t, h_dot, t, -h_dot_est)\n",
    "plt.legend([r\"$\\dot{h}$\", r\"$\\dot{h_{est}}$\"])\n",
    "plt.ylabel(\"Ball Position (m)\")\n",
    "plt.xlabel(\"Time (sec)\")\n",
    "plt.show()\n",
    "\n",
    "plt.plot(t, i, t, -i_est)\n",
    "\n",
    "plt.legend([\"$i$\", \"$i_{est}$\"])\n",
    "plt.ylabel(\"Ball Position (m)\")\n",
    "plt.xlabel(\"Time (sec)\")\n",
    "plt.show()"
   ]
  },
  {
   "cell_type": "markdown",
   "metadata": {},
   "source": [
    "From the above, we can see that the observer estimates converge to the actual state variables quickly and track the state variables well in steady-state. "
   ]
  }
 ],
 "metadata": {
  "celltoolbar": "Slideshow",
  "kernelspec": {
   "display_name": "Python 3",
   "language": "python",
   "name": "python3"
  },
  "language_info": {
   "codemirror_mode": {
    "name": "ipython",
    "version": 3
   },
   "file_extension": ".py",
   "mimetype": "text/x-python",
   "name": "python",
   "nbconvert_exporter": "python",
   "pygments_lexer": "ipython3",
   "version": "3.8.5"
  },
  "nikola": {
   "author": "d@h",
   "category": "Introduction",
   "date": "2016-02-16 08:00:00 UTC",
   "description": "Controls Tutorials for Python",
   "link": "",
   "slug": "introduction-controlstatespace",
   "tags": "ControlStateSpace",
   "title": "Introduction - Control State Space",
   "type": ""
  }
 },
 "nbformat": 4,
 "nbformat_minor": 1
}
