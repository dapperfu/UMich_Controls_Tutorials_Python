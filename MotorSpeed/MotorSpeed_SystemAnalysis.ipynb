{
 "cells": [
  {
   "cell_type": "code",
   "execution_count": null,
   "metadata": {},
   "outputs": [],
   "source": [
    "import sympy\n",
    "from IPython.display import Latex, display\n",
    "from sympy import Poly\n",
    "from sympy.abc import s, z\n",
    "\n",
    "from control.matlab import *"
   ]
  },
  {
   "cell_type": "code",
   "execution_count": 1,
   "metadata": {
    "exporter": {
     "cell_type": "init"
    },
    "slideshow": {
     "slide_type": "skip"
    }
   },
   "outputs": [
    {
     "name": "stdout",
     "output_type": "stream",
     "text": [
      "Using matplotlib backend: TkAgg\n",
      "Populating the interactive namespace from numpy and matplotlib\n"
     ]
    }
   ],
   "source": [
    "%pylab %matplotlib inline"
   ]
  },
  {
   "cell_type": "markdown",
   "metadata": {
    "exporter": {
     "cell_type": "toc"
    },
    "slideshow": {
     "slide_type": "skip"
    }
   },
   "source": [
    "<div id=\"toc\"></div>"
   ]
  },
  {
   "cell_type": "markdown",
   "metadata": {
    "slideshow": {
     "slide_type": "notes"
    }
   },
   "source": [
    "# DC Motor Speed: System Analysis\n",
    "\n",
    "From the main problem, the dynamic equations in the Laplace domain and the open-loop transfer function of the DC Motor are the following.\n",
    "\n",
    "$$\n",
    "s(Js + b)\\Theta(s) = KI(s)\n",
    "$$\n",
    "\n",
    "\n",
    "\n",
    "$$\n",
    "(Ls + R)I(s) = V(s) - Ks\\Theta(s)\n",
    "$$\n",
    "\n",
    "\n",
    "\n",
    "$$\n",
    "P(s) = \\frac{\\dot{\\Theta}(s)}{V(s)} = \\frac{K}{(Js + b)(Ls + R) + K^2}  \\qquad  [ \\frac{rad/sec}{V} ]\n",
    "$$\n",
    "\n",
    "For the original problem setup and the derivation of the above equations, please refer to the [DC Motor Speed: System Modeling](../MotorSpeed/MotorSpeed-SystemModeling.ipynb) page. For a 1-rad/sec step reference, the design criteria are the following.\n",
    "* Settling time less than 2 seconds\n",
    "* Overshoot less than 5\n",
    "* Steady-state error less than 1\n",
    "\n",
    "## Open-loop response\n",
    "\n",
    "First create a new [m-file](../Extras_Mfile.ipynb) and type in the following commands (refer to the main problem for the details of getting these commands)."
   ]
  },
  {
   "cell_type": "code",
   "execution_count": 2,
   "metadata": {
    "slideshow": {
     "slide_type": "notes"
    }
   },
   "outputs": [],
   "source": [
    "# J = 0.01;\n",
    "# b = 0.1;\n",
    "# K = 0.01;\n",
    "# R = 1;\n",
    "# L = 0.5;\n",
    "# s = tf('s');\n",
    "# P_motor = K/((J*s+b)*(L*s+R)+K^2);\n"
   ]
  },
  {
   "cell_type": "markdown",
   "metadata": {
    "slideshow": {
     "slide_type": "notes"
    }
   },
   "source": [
    "Now let's see how the original open-loop system performs. Add the following |ltiview| command onto the end of the m-file and run it in the MATLAB command window. The string |'step'| passed to the function specifies to generate a unit step response plot for the system |P_motor|. The range of numbers |0:0.1:5| specify that the step response plot should include data points for times from 0 to 5 seconds in steps of 0.1 seconds. The resulting plot is shown in the figure below, where you can view some of the system's characteristics by right clicking on the figure and choosing from the **Characteristics** menu such performance aspects as **Settling Time** and **Steady State**. <html> </p><pre class=\"codeinput\"> ltiview('step', P_motor, 0:0.1:5); </pre> </html>\n",
    "![MotorSpeed_SystemAnalysis_step.png](figures/MotorSpeed_SystemAnalysis_step.png)\n",
    "From the plot we see that when 1 Volt is applied to the system the motor can only achieve a maximum speed of 0.1 rad/sec, ten times smaller than our desired speed. Also, it takes the motor 2.07 seconds to reach its steady-state speed; this does not satisfy our 2 second settling time criterion.\n",
    "\n",
    "## LTI model characteristics\n",
    "\n",
    "Since our open-loop transfer function has the form of a canonical second-order system, we should be able to accurately predict the step response characteristics observed above based on the transfer function's pole locations. You can graphically see the location of the poles (and zeros) of the |P_motor| system from within the **LTI Viewer** by right-clicking on the plot area and selecting *Plot Types > Pole/Zero* from the resulting menu. Performing this action will change the **LTI Viewer** to the following map where the blue |x|'s identify the locations of poles.\n",
    "![MotorSpeed_SystemAnalysis_Picture2.png](figures/MotorSpeed_SystemAnalysis_Picture2.png)\n",
    "From the above you can see that the open-loop transfer function has two real poles, one at _s_ = -2 and one at _s_ = -10. Since both poles are real, there is no oscillation in the step response (or overshoot) as we have already seen. Futhermore, since the one pole is 5 times more negative than the other, the slower of the two poles will dominate the dynamics. That is, the pole at _s_ = -2 primarily determines the speed of response of the system and the system behaves similarly to a first-order system. Let's see just how closely a first-order model approximates our original motor model. Enter the following command at the MATLAB command line to build a first-order transfer function with pole at _s_ = -2 and steady-state value matching the original transfer function."
   ]
  },
  {
   "cell_type": "code",
   "execution_count": 3,
   "metadata": {
    "slideshow": {
     "slide_type": "notes"
    }
   },
   "outputs": [],
   "source": [
    "# rP_motor = 0.1/(0.5*s+1)\n"
   ]
  },
  {
   "cell_type": "code",
   "execution_count": 4,
   "metadata": {
    "exporter": {
     "cell_type": "toc"
    },
    "slideshow": {
     "slide_type": "skip"
    }
   },
   "outputs": [
    {
     "data": {
      "application/javascript": [
       "$.getScript('https://kmahelona.github.io/ipython_notebook_goodies/ipython_notebook_toc.js')"
      ],
      "text/plain": [
       "<IPython.core.display.Javascript object>"
      ]
     },
     "metadata": {},
     "output_type": "display_data"
    }
   ],
   "source": [
    "%%javascript\n",
    "$.getScript('https://kmahelona.github.io/ipython_notebook_goodies/ipython_notebook_toc.js')"
   ]
  }
 ],
 "metadata": {
  "celltoolbar": "Slideshow",
  "nikola": {
   "author": "d@h",
   "category": "MotorSpeed",
   "date": "2016-02-16 08:00:00 UTC",
   "description": "Controls Tutorials for Python",
   "link": "",
   "slug": "motorspeed-systemanalysis",
   "tags": "SystemAnalysis",
   "title": "Motor Speed - System Analysis",
   "type": ""
  }
 },
 "nbformat": 4,
 "nbformat_minor": 0
}
