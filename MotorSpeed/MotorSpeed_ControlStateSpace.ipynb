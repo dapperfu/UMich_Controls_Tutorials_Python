{
 "cells": [
  {
   "cell_type": "code",
   "execution_count": 1,
   "metadata": {
    "exporter": {
     "cell_type": "init"
    },
    "slideshow": {
     "slide_type": "skip"
    }
   },
   "outputs": [
    {
     "name": "stdout",
     "output_type": "stream",
     "text": [
      "Using matplotlib backend: TkAgg\n",
      "Populating the interactive namespace from numpy and matplotlib\n"
     ]
    }
   ],
   "source": [
    "%pylab \n",
    "%matplotlib inline\n",
    "import sympy\n",
    "from control.matlab import *\n",
    "from sympy import Poly\n",
    "from sympy.abc import s, z\n",
    "from IPython.display import display,Latex"
   ]
  },
  {
   "cell_type": "markdown",
   "metadata": {
    "exporter": {
     "cell_type": "toc"
    },
    "slideshow": {
     "slide_type": "skip"
    }
   },
   "source": [
    "<div id=\"toc\"></div>"
   ]
  },
  {
   "cell_type": "markdown",
   "metadata": {
    "slideshow": {
     "slide_type": "notes"
    }
   },
   "source": [
    "# DC Motor Speed: State-Space Methods for Controller Design\n",
    "\n",
    "From the main problem, the dynamic equations in state-space form are given below.\n",
    "\n",
    "$$\n",
    "\\frac{d}{dt}\\left [\\begin{array}{c} \\dot{\\theta} \\\\ \\ \\\\ i \\end{array} \\right] = \\left [\\begin{array}{cc} -\\frac{b}{J} & \\frac{K}{J} \\\\ \\ \\\\ -\\frac{K}{L} & -\\frac{R}{L} \\end{array} \\right] \\left [\\begin{array}{c} \\dot{\\theta} \\\\ \\ \\\\ i \\end{array} \\right]  + \\left [\\begin{array}{c} 0 \\\\ \\ \\\\ \\frac{1}{L} \\end{array} \\right] V\n",
    "$$\n",
    "\n",
    "\n",
    "\n",
    "$$\n",
    "y = [ \\begin{array}{cc}1 & 0\\end{array}] \\left [ \\begin{array}{c} \\dot{\\theta} \\\\ \\ \\\\ i \\end{array} \\right]\n",
    "$$\n",
    "\n",
    "For the original problem setup and the derivation of the above equations, please refer to the [DC Motor Speed: System Modeling](../MotorSpeed/MotorSpeed-SystemModeling.ipynb) page. These state-space equations have the standard form shown below where the state vector **x** = [ _theta_dot_ _i_ ] and the input _u_ = _V_.\n",
    "\n",
    "$$\n",
    "\\dot{{\\bf x}} = A{\\bf x} + Bu\n",
    "$$\n",
    "\n",
    "\n",
    "\n",
    "$$\n",
    "y = C\\bf{x}\n",
    "$$\n",
    "\n",
    "For a 1-rad/sec step reference, the design criteria are the following.\n",
    "* Settling time less than 2 seconds\n",
    "* Overshoot less than 5\n",
    "* Steady-stage error less than 1 Now let's design a controller using the methods introduced in the [Introduction: State-Space Methods for Controller Design](../Introduction/Introduction-ControlStateSpace.ipynb) page. Create a new [m-file](../Extras_Mfile.ipynb) and type in the following commands."
   ]
  },
  {
   "cell_type": "code",
   "execution_count": 2,
   "metadata": {
    "slideshow": {
     "slide_type": "notes"
    }
   },
   "outputs": [
    {
     "ename": "NameError",
     "evalue": "name 'b' is not defined",
     "output_type": "error",
     "traceback": [
      "\u001b[1;31m---------------------------------------------------------------------------\u001b[0m",
      "\u001b[1;31mNameError\u001b[0m                                 Traceback (most recent call last)",
      "\u001b[1;32m<ipython-input-2-4e98b14941f4>\u001b[0m in \u001b[0;36m<module>\u001b[1;34m()\u001b[0m\n\u001b[1;32m----> 1\u001b[1;33m \u001b[0mA\u001b[0m \u001b[1;33m=\u001b[0m \u001b[0mnumpy\u001b[0m\u001b[1;33m.\u001b[0m\u001b[0marray\u001b[0m\u001b[1;33m(\u001b[0m\u001b[1;33m[\u001b[0m\u001b[1;33m[\u001b[0m\u001b[1;33m-\u001b[0m\u001b[0mb\u001b[0m\u001b[1;33m/\u001b[0m\u001b[0mJ\u001b[0m\u001b[1;33m,\u001b[0m\u001b[0mK\u001b[0m\u001b[1;33m/\u001b[0m\u001b[0mJ\u001b[0m\u001b[1;33m,\u001b[0m\u001b[1;33m-\u001b[0m\u001b[0mK\u001b[0m\u001b[1;33m/\u001b[0m\u001b[0mL\u001b[0m\u001b[1;33m,\u001b[0m\u001b[1;33m-\u001b[0m\u001b[0mR\u001b[0m\u001b[1;33m/\u001b[0m\u001b[0mL\u001b[0m\u001b[1;33m]\u001b[0m\u001b[1;33m]\u001b[0m\u001b[1;33m)\u001b[0m\u001b[1;33m\u001b[0m\u001b[0m\n\u001b[0m\u001b[0;32m      2\u001b[0m \u001b[0mB\u001b[0m \u001b[1;33m=\u001b[0m \u001b[0mnumpy\u001b[0m\u001b[1;33m.\u001b[0m\u001b[0marray\u001b[0m\u001b[1;33m(\u001b[0m\u001b[1;33m[\u001b[0m\u001b[1;33m[\u001b[0m\u001b[1;36m0\u001b[0m\u001b[1;33m,\u001b[0m\u001b[1;36m1\u001b[0m\u001b[1;33m/\u001b[0m\u001b[0mL\u001b[0m\u001b[1;33m]\u001b[0m\u001b[1;33m]\u001b[0m\u001b[1;33m)\u001b[0m\u001b[1;33m\u001b[0m\u001b[0m\n\u001b[0;32m      3\u001b[0m \u001b[0mC\u001b[0m \u001b[1;33m=\u001b[0m \u001b[0mnumpy\u001b[0m\u001b[1;33m.\u001b[0m\u001b[0marray\u001b[0m\u001b[1;33m(\u001b[0m\u001b[1;33m[\u001b[0m\u001b[1;33m[\u001b[0m\u001b[1;36m1\u001b[0m\u001b[1;33m,\u001b[0m\u001b[1;36m0\u001b[0m\u001b[1;33m]\u001b[0m\u001b[1;33m]\u001b[0m\u001b[1;33m)\u001b[0m\u001b[1;33m\u001b[0m\u001b[0m\n\u001b[0;32m      4\u001b[0m \u001b[1;31m# J = 0.01;\u001b[0m\u001b[1;33m\u001b[0m\u001b[1;33m\u001b[0m\u001b[0m\n\u001b[0;32m      5\u001b[0m \u001b[1;31m# b = 0.1;\u001b[0m\u001b[1;33m\u001b[0m\u001b[1;33m\u001b[0m\u001b[0m\n",
      "\u001b[1;31mNameError\u001b[0m: name 'b' is not defined"
     ]
    }
   ],
   "source": [
    "A = numpy.array([[-b/J,K/J,-K/L,-R/L]])\n",
    "B = numpy.array([[0,1/L]])\n",
    "C = numpy.array([[1,0]])\n",
    "# J = 0.01;\n",
    "# b = 0.1;\n",
    "# K = 0.01;\n",
    "# R = 1;\n",
    "# L = 0.5;\n",
    "# A = [-b/J   K/J\n",
    "#     -K/L   -R/L];\n",
    "# B = [0\n",
    "#     1/L];\n",
    "# C = [1   0];\n",
    "# D = 0;\n",
    "# sys = ss(A,B,C,D);"
   ]
  },
  {
   "cell_type": "markdown",
   "metadata": {
    "slideshow": {
     "slide_type": "notes"
    }
   },
   "source": [
    "## Designing the full-state feedback controller\n",
    "\n",
    "Since both of the state variables in our problem are easy to measure (simply add an ammeter for current and a tachometer for the speed), we can design a full-state feedback controller for the system without worrying about having to add an observer. The control law for a full-state feedback system has the form _u_ = _r_ - _Kc_ **x** and the associated schematic is shown below.\n",
    "![statefeedback_motors.png](figures/statefeedback_motors.png)\n",
    "Recall that the characteristic polynomial for this closed-loop system is the determinant of _sI_ - (_A_ - _B*Kc_) where _s_ is the Laplace variable. Since the matrices _A_ and _B*Kc_ are both 2x2 matrices, there should be 2 poles for the system. This fact can be verified with the MATLAB command |order|. If the given system is controllable, then by designing a full-state feedback controller we can move these two poles anywhere we'd like.  Whether the given system is controllable or not can be determined by checking the rank of the controllability matrix [ _B_ _AB_ _A^2B_ ...]. The MATLAB command |ctrb| constructs the controllability matrix given matrices _A_ and _B_. Additionally, the command |rank| determines the rank of a given matrix. The following commands executed at the command line will verify the system's order and whether or not the system is controllable."
   ]
  },
  {
   "cell_type": "code",
   "execution_count": 3,
   "metadata": {
    "slideshow": {
     "slide_type": "notes"
    }
   },
   "outputs": [],
   "source": [
    "# sys_order = order(sys)\n",
    "# sys_rank = rank(ctrb(A,B))"
   ]
  },
  {
   "cell_type": "markdown",
   "metadata": {
    "slideshow": {
     "slide_type": "notes"
    }
   },
   "source": [
    "From the above, we know that our system is controllable since the controllability matrix is full rank. We will first place the poles at -5+i and -5-i (note that this corresponds to a _zeta_ = 0.98 which gives close to 0% overshoot and a _sigma_ = 5 which provides a 0.8 second settling time). Once we have determined the pole locations we desire, we can use the MATLAB commands |place| or |acker| to determine the controller gain matrix, _Kc_, to achieve these poles. We will use the command |place| since it is numerically better conditioned than |acker|. However, if we wished to place a pole with multiplicity greater than the rank of the matrix B, then we would have to use the command |acker|. Add the following code to the end of your m-file. Running in the command window will generate the feedback gain matrix output below."
   ]
  },
  {
   "cell_type": "code",
   "execution_count": 4,
   "metadata": {
    "slideshow": {
     "slide_type": "notes"
    }
   },
   "outputs": [],
   "source": [
    "# p1 = -5 + 1i;\n",
    "# p2 = -5 - 1i;\n",
    "# Kc = place(A,B,[p1 p2])"
   ]
  },
  {
   "cell_type": "markdown",
   "metadata": {
    "slideshow": {
     "slide_type": "notes"
    }
   },
   "source": [
    "Referring back to the state-space equations at the top of the page, we see that substituting the state-feedback law _u_ = _r_ - _Kc_ **x** for _u_ leads to the following expression.\n",
    "\n",
    "$$\n",
    "\\dot{{\\bf x}} = (A - BK_c){\\bf x} + Br\n",
    "$$\n",
    "\n",
    "\n",
    "\n",
    "$$\n",
    "y = C\\bf{x}\n",
    "$$\n",
    "\n",
    "We can then see the closed-loop response by simply adding the following lines to the end of your m-file. Running your m-file in the command window will then give the plot shown below."
   ]
  },
  {
   "cell_type": "code",
   "execution_count": 5,
   "metadata": {
    "slideshow": {
     "slide_type": "notes"
    }
   },
   "outputs": [],
   "source": [
    "# t = 0:0.01:3;\n",
    "# sys_cl = ss(A-B*Kc,B,C,D);\n",
    "# step(sys_cl,t)\n",
    "# grid\n",
    "# title('Step Response with State-Feedback Controller')"
   ]
  },
  {
   "cell_type": "markdown",
   "metadata": {
    "slideshow": {
     "slide_type": "notes"
    }
   },
   "source": [
    "## Adding a precompensator\n",
    "\n",
    "From this plot we see that the steady-state error is too large. One approach for eliminating the steady-state error is to simply scale the input so that the output in turn is scaled to the desired level. This is a little challenging in our example because we have two states to consider. Therefore, we need to compute what the steady-state values of both states should be, multiply them by the chosen gain _Kc_, and use the result as our \"reference\" for computing the input _u_. This can be done in one step by adding a constant gain precompensator _Nbar_ after the reference as shown in the following schematic.\n",
    "![statefeedback_w_pre_motors.png](figures/statefeedback_w_pre_motors.png)\n",
    "We can find this _Nbar_ factor by employing the used-defined function [rscale.m](../Extras_rscale.ipynb) as shown below."
   ]
  },
  {
   "cell_type": "code",
   "execution_count": 6,
   "metadata": {
    "slideshow": {
     "slide_type": "notes"
    }
   },
   "outputs": [],
   "source": [
    "# Nbar = rscale(sys,Kc)"
   ]
  },
  {
   "cell_type": "markdown",
   "metadata": {
    "slideshow": {
     "slide_type": "notes"
    }
   },
   "source": [
    "Note that the function |rscale.m| is not a standard function in MATLAB. You will have to download it and place it in your current directory. Click [here](../Extras_Function.ipynb) for further information. Now you can plot the step response by adding the above and following lines of code to your m-file and re-running at the command line."
   ]
  },
  {
   "cell_type": "code",
   "execution_count": 7,
   "metadata": {
    "slideshow": {
     "slide_type": "notes"
    }
   },
   "outputs": [],
   "source": [
    "# t = 0:0.01:10;\n",
    "# step(sys_cl*Nbar,t)\n",
    "# grid\n",
    "# title('Step Response with State-Feedback Controller and Precompensator')"
   ]
  },
  {
   "cell_type": "code",
   "execution_count": 8,
   "metadata": {
    "exporter": {
     "cell_type": "toc"
    },
    "slideshow": {
     "slide_type": "skip"
    }
   },
   "outputs": [
    {
     "data": {
      "application/javascript": [
       "$.getScript('https://kmahelona.github.io/ipython_notebook_goodies/ipython_notebook_toc.js')"
      ],
      "text/plain": [
       "<IPython.core.display.Javascript object>"
      ]
     },
     "metadata": {},
     "output_type": "display_data"
    }
   ],
   "source": [
    "%%javascript\n",
    "$.getScript('https://kmahelona.github.io/ipython_notebook_goodies/ipython_notebook_toc.js')"
   ]
  }
 ],
 "metadata": {
  "celltoolbar": "Slideshow",
  "nikola": {
   "author": "d@h",
   "category": "MotorSpeed",
   "date": "2016-02-16 08:00:00 UTC",
   "description": "Controls Tutorials for Python",
   "link": "",
   "slug": "motorspeed-controlstatespace",
   "tags": "ControlStateSpace",
   "title": "Motor Speed - Control State Space",
   "type": ""
  }
 },
 "nbformat": 4,
 "nbformat_minor": 0
}
