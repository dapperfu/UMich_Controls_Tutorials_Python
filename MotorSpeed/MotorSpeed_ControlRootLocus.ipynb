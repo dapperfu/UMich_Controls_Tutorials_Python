{
 "cells": [
  {
   "cell_type": "code",
   "execution_count": null,
   "metadata": {},
   "outputs": [],
   "source": [
    "import sympy\n",
    "from control.matlab import *\n",
    "from IPython.display import Latex, display\n",
    "from sympy import Poly\n",
    "from sympy.abc import s, z"
   ]
  },
  {
   "cell_type": "code",
   "execution_count": 1,
   "metadata": {
    "exporter": {
     "cell_type": "init"
    },
    "slideshow": {
     "slide_type": "skip"
    }
   },
   "outputs": [
    {
     "name": "stdout",
     "output_type": "stream",
     "text": [
      "Using matplotlib backend: TkAgg\n",
      "Populating the interactive namespace from numpy and matplotlib\n"
     ]
    }
   ],
   "source": [
    "%pylab %matplotlib inline"
   ]
  },
  {
   "cell_type": "markdown",
   "metadata": {
    "exporter": {
     "cell_type": "toc"
    },
    "slideshow": {
     "slide_type": "skip"
    }
   },
   "source": [
    "<div id=\"toc\"></div>"
   ]
  },
  {
   "cell_type": "markdown",
   "metadata": {
    "slideshow": {
     "slide_type": "notes"
    }
   },
   "source": [
    "# DC Motor Speed: Root Locus Controller Design\n",
    "\n",
    "From the main problem, the dynamic equations in the Laplace domain and the open-loop transfer function of the DC Motor are the following.\n",
    "\n",
    "$$\n",
    "s(Js + b)\\Theta(s) = KI(s)\n",
    "$$\n",
    "\n",
    "\n",
    "\n",
    "$$\n",
    "(Ls + R)I(s) = V(s) - Ks\\Theta(s)\n",
    "$$\n",
    "\n",
    "\n",
    "\n",
    "$$\n",
    "P(s) = \\frac{\\dot{\\Theta}(s)}{V(s)} = \\frac{K}{(Js + b)(Ls + R) + K^2}  \\qquad [\\frac{rad/sec}{V}]\n",
    "$$\n",
    "\n",
    "The structure of the control system has the form shown in the figure below.\n",
    "![MotorSpeed_ControlRootLocus_feedback_motors.png](figures/MotorSpeed_ControlRootLocus_feedback_motors.png)\n",
    "For the original problem setup and the derivation of the above equations, please refer to the [DC Motor Speed: System Modeling](../MotorSpeed/MotorSpeed-SystemModeling.ipynb) page. For a 1-rad/sec step reference, the design criteria are the following.\n",
    "* Settling time less than 2 seconds\n",
    "* Overshoot less than 5\n",
    "* Steady-state error less than 1 Now let's design a controller using the methods introduced in the [Introduction: Root Locus Controller Design](../Introduction/Introduction-ControlRootLocus.ipynb) page. Create a new [m-file](../Extras_Mfile.ipynb) and type in the following commands."
   ]
  },
  {
   "cell_type": "code",
   "execution_count": 2,
   "metadata": {
    "slideshow": {
     "slide_type": "notes"
    }
   },
   "outputs": [],
   "source": [
    "# J = 0.01;\n",
    "# b = 0.1;\n",
    "# K = 0.01;\n",
    "# R = 1;\n",
    "# L = 0.5;\n",
    "# s = tf('s');\n",
    "# P_motor = K/((J*s+b)*(L*s+R)+K^2);"
   ]
  },
  {
   "cell_type": "code",
   "execution_count": 3,
   "metadata": {
    "exporter": {
     "cell_type": "toc"
    },
    "slideshow": {
     "slide_type": "skip"
    }
   },
   "outputs": [
    {
     "data": {
      "application/javascript": [
       "$.getScript('https://kmahelona.github.io/ipython_notebook_goodies/ipython_notebook_toc.js')"
      ],
      "text/plain": [
       "<IPython.core.display.Javascript object>"
      ]
     },
     "metadata": {},
     "output_type": "display_data"
    }
   ],
   "source": [
    "%%javascript\n",
    "$.getScript('https://kmahelona.github.io/ipython_notebook_goodies/ipython_notebook_toc.js')"
   ]
  }
 ],
 "metadata": {
  "celltoolbar": "Slideshow",
  "nikola": {
   "author": "d@h",
   "category": "MotorSpeed",
   "date": "2016-02-16 08:00:00 UTC",
   "description": "Controls Tutorials for Python",
   "link": "",
   "slug": "motorspeed-controlrootlocus",
   "tags": "ControlRootLocus",
   "title": "Motor Speed - Control Root Locus",
   "type": ""
  }
 },
 "nbformat": 4,
 "nbformat_minor": 0
}
