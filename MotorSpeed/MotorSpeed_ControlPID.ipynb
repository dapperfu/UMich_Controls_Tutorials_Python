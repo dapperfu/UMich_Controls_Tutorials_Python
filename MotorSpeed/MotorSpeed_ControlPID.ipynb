{
 "cells": [
  {
   "cell_type": "code",
   "execution_count": null,
   "metadata": {},
   "outputs": [],
   "source": [
    "import sympy\n",
    "from control.matlab import *\n",
    "from IPython.display import Latex, Math, display\n",
    "from sympy import Poly\n",
    "from sympy.abc import s, z"
   ]
  },
  {
   "cell_type": "code",
   "execution_count": 8,
   "metadata": {
    "collapsed": false,
    "exporter": {
     "cell_type": "init"
    },
    "slideshow": {
     "slide_type": "skip"
    }
   },
   "outputs": [
    {
     "name": "stdout",
     "output_type": "stream",
     "text": [
      "Using matplotlib backend: TkAgg\n",
      "Populating the interactive namespace from numpy and matplotlib\n"
     ]
    },
    {
     "name": "stderr",
     "output_type": "stream",
     "text": [
      "WARNING: pylab import has clobbered these variables: ['margins', 'step', 'unwrap', 'connect', 'append', 'place']\n",
      "`%matplotlib` prevents importing * from pylab and numpy\n"
     ]
    }
   ],
   "source": [
    "%pylab %matplotlib inlinedef tex(eqn):    display(Math(sympy.latex(eqn)))"
   ]
  },
  {
   "cell_type": "code",
   "execution_count": 9,
   "metadata": {
    "collapsed": false,
    "slideshow": {
     "slide_type": "skip"
    }
   },
   "outputs": [
    {
     "data": {
      "application/javascript": [
       "$.getScript('https://kmahelona.github.io/ipython_notebook_goodies/ipython_notebook_toc.js')"
      ],
      "text/plain": [
       "<IPython.core.display.Javascript object>"
      ]
     },
     "metadata": {},
     "output_type": "display_data"
    }
   ],
   "source": [
    "%%javascript\n",
    "$.getScript('https://kmahelona.github.io/ipython_notebook_goodies/ipython_notebook_toc.js')"
   ]
  },
  {
   "cell_type": "markdown",
   "metadata": {
    "exporter": {
     "cell_type": "toc"
    },
    "slideshow": {
     "slide_type": "skip"
    }
   },
   "source": [
    "<div id=\"toc\"></div>"
   ]
  },
  {
   "cell_type": "markdown",
   "metadata": {
    "slideshow": {
     "slide_type": "notes"
    }
   },
   "source": [
    "# DC Motor Speed: PID Controller Design\n",
    "\n",
    "From the main problem, the dynamic equations in the Laplace domain and the open-loop transfer function of the DC Motor are the following.\n",
    "\n",
    "$$\n",
    "s(Js + b)\\Theta(s) = KI(s)\n",
    "$$\n",
    "\n",
    "\n",
    "\n",
    "$$\n",
    "(Ls + R)I(s) = V(s) - Ks\\Theta(s)\n",
    "$$\n",
    "\n",
    "\n",
    "\n",
    "$$\n",
    "P(s) = \\frac{\\dot{\\Theta}(s)}{V(s)} = \\frac{K}{(Js + b)(Ls + R) + K^2}  \\qquad [\\frac{rad/sec}{V}]\n",
    "$$\n",
    "\n",
    "The structure of the control system has the form shown in the figure below.\n",
    "![feedback_motors.png](figures/feedback_motors.png)\n",
    "For the original problem setup and the derivation of the above equations, please refer to the [DC Motor Speed: System Modeling](../MotorSpeed/MotorSpeed-SystemModeling.ipynb) page. For a 1-rad/sec step reference, the design criteria are the following:\n",
    "\n",
    "* Settling time less than 2 seconds\n",
    "* Overshoot less than 5\n",
    "* Steady-state error less than 1\n",
    "\n",
    "Now let's design a controller using the methods introduced in the [Introduction: PID Controller Design](../Introduction/Introduction-ControlPID.ipynb) page."
   ]
  },
  {
   "cell_type": "code",
   "execution_count": 10,
   "metadata": {
    "collapsed": false,
    "slideshow": {
     "slide_type": "notes"
    }
   },
   "outputs": [
    {
     "data": {
      "text/latex": [
       "$$\\frac{0.01}{\\left(0.01 s + 0.1\\right) \\left(0.5 s + 1\\right) + 0.0001}$$"
      ],
      "text/plain": [
       "<IPython.core.display.Math object>"
      ]
     },
     "metadata": {},
     "output_type": "display_data"
    }
   ],
   "source": [
    "J = 0.01\n",
    "b = 0.1\n",
    "K = 0.01\n",
    "R = 1\n",
    "L = 0.5\n",
    "P_motor_sym = K / ((J * s + b) * (L * s + R) + K ** 2)\n",
    "tex(P_motor_sym)"
   ]
  },
  {
   "cell_type": "markdown",
   "metadata": {
    "slideshow": {
     "slide_type": "notes"
    }
   },
   "source": [
    "Recall that the transfer function for a PID controller is:\n",
    "\n",
    "$$\n",
    "C(s) = K_{p} + \\frac {K_{i}} {s} + K_{d}s = \\frac{K_{d}s^2 + K_{p}s + K_{i}} {s}\n",
    "$$\n",
    "\n",
    "\n",
    "\n",
    "## Proportional control\n",
    "\n",
    "Let's first try employing a proportional controller with a gain of 100, that is, _C_(_s_) = 100. To determine the closed-loop transfer function, we use the |feedback| command.  Add the following code to the end of your m-file."
   ]
  },
  {
   "cell_type": "code",
   "execution_count": 3,
   "metadata": {
    "collapsed": true,
    "slideshow": {
     "slide_type": "notes"
    }
   },
   "outputs": [],
   "source": [
    "Kp = 100\n",
    "C = Kp\n",
    "# sys_cl = feedback(C*P_motor,1);"
   ]
  },
  {
   "cell_type": "markdown",
   "metadata": {
    "slideshow": {
     "slide_type": "notes"
    }
   },
   "source": [
    "Now let's examine the closed-loop step response. Add the following commands to the end of your m-file and run it in the command window. You should generate the plot shown below. You can view some of the system's characteristics by right-clicking on the figure and choosing **Characteristics** from the resulting menu. In the figure below, annotations have specifically been added for **Settling Time**, **Peak Response**, and **Steady State**. <html> </p><pre class=\"codeinput\"> t = 0:0.01:5; step(sys_cl,t) grid title('Step Response with Proportional Control') </pre> </html>\n",
    "![sPID_control_01.png](figures/sPID_control_01.png)\n",
    "From the plot above we see that both the steady-state error and the overshoot are too large. Recall from the [Introduction: PID Controller Design](../Introduction/Introduction-ControlPID.ipynb) page that increasing the proportional gain _Kp_ will reduce the steady-state error. However, also recall that increasing _Kp_ often results in increased overshoot, therefore, it appears that not all of the design requirements can be met with a simple proportional controller. This fact can be verified by experimenting with different values of _Kp_. Specifically, you can employ the **SISO Design Tool** by entering the command |sisotool(P_motor)| then opening a closed-loop step response plot from the **Analysis Plots** tab of the **Control and Estimation Tools Manager** window. With the **Real-Time Update** box checked, you can then vary the control gain in the **Compensator Editor** tab and see the resulting effect on the closed-loop step response. A little experimentation verifies what we anticipated, a proportional controller is insufficient for meeting the given design requirements; derivative and/or integral terms must be added to the controller.\n",
    "\n",
    "## PID control\n",
    "\n",
    "Recall from the [Introduction: PID Controller Design](../Introduction/Introduction-ControlPID.ipynb) page adding an integral term will eliminate the steady-state error to a step reference and a derivative term will often reduce the overshoot. Let's try a PID controller with small _Ki_ and _Kd_. Modify your m-file so that the lines defining your control are as follows. Running this new m-file gives you the plot shown below."
   ]
  },
  {
   "cell_type": "code",
   "execution_count": 4,
   "metadata": {
    "collapsed": true,
    "slideshow": {
     "slide_type": "notes"
    }
   },
   "outputs": [],
   "source": [
    "# Kp = 75;\n",
    "# Ki = 1;\n",
    "# Kd = 1;\n",
    "# C = pid(Kp,Ki,Kd);\n",
    "# sys_cl = feedback(C*P_motor,1);\n",
    "# step(sys_cl,[0:1:200])\n",
    "# title('PID Control with Small Ki and Small Kd')"
   ]
  }
 ],
 "metadata": {
  "celltoolbar": "Slideshow",
  "kernelspec": {
   "display_name": "Python 3",
   "language": "python",
   "name": "python3"
  },
  "language_info": {
   "codemirror_mode": {
    "name": "ipython",
    "version": 3
   },
   "file_extension": ".py",
   "mimetype": "text/x-python",
   "name": "python",
   "nbconvert_exporter": "python",
   "pygments_lexer": "ipython3",
   "version": "3.4.4"
  },
  "nikola": {
   "author": "d@h",
   "category": "MotorSpeed",
   "date": "2016-02-16 08:00:00 UTC",
   "description": "Controls Tutorials for Python",
   "link": "",
   "slug": "motorspeed-controlpid",
   "tags": "ControlPID",
   "title": "Motor Speed - Control PI D",
   "type": ""
  }
 },
 "nbformat": 4,
 "nbformat_minor": 0
}
