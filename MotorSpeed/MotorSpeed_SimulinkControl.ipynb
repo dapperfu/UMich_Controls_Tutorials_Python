{
 "cells": [
  {
   "cell_type": "code",
   "execution_count": null,
   "metadata": {},
   "outputs": [],
   "source": [
    "import sympy\n",
    "from IPython.display import Latex, display\n",
    "from sympy import Poly\n",
    "from sympy.abc import s, z\n",
    "\n",
    "from control.matlab import *"
   ]
  },
  {
   "cell_type": "code",
   "execution_count": 1,
   "metadata": {
    "exporter": {
     "cell_type": "init"
    },
    "slideshow": {
     "slide_type": "skip"
    }
   },
   "outputs": [
    {
     "name": "stdout",
     "output_type": "stream",
     "text": [
      "Using matplotlib backend: TkAgg\n",
      "Populating the interactive namespace from numpy and matplotlib\n"
     ]
    }
   ],
   "source": [
    "%pylab %matplotlib inline"
   ]
  },
  {
   "cell_type": "markdown",
   "metadata": {
    "exporter": {
     "cell_type": "toc"
    },
    "slideshow": {
     "slide_type": "skip"
    }
   },
   "source": [
    "<div id=\"toc\"></div>"
   ]
  },
  {
   "cell_type": "markdown",
   "metadata": {
    "slideshow": {
     "slide_type": "notes"
    }
   },
   "source": [
    "# DC Motor Speed: Simulink Controller Design\n",
    "\n",
    "From the [DC Motor Speed: Simulink Modeling](../MotorSpeed/MotorSpeed-SimulinkModeling.ipynb) page we generated two different DC motor models in Simulink. We will now employ these models within Simulink to simulate the system response and design different approaches to control.\n",
    "\n",
    "## Extracting a linear model into MATLAB\n",
    "\n",
    "A linear model of the system can be extracted from the Simulink model into the MATLAB workspace. This can accomplished employing the MATLAB command |linmod| or from directly within Simulink as we will do here. We will specifically use the base Simulink model developed from first principles shown below. You can download this model <Content/MotorSpeed/Simulink/Control/Motor_Model.mdl here>, or you can refer to the [DC Motor Speed: Simulink Modeling](../MotorSpeed/MotorSpeed-SimulinkModeling.ipynb) page to recreate the model yourself.\n",
    "![Picture4.png](figures/Picture4.png)\n",
    "Recall that the physical parameters have to be set if they have not previously been defined in the workspace."
   ]
  },
  {
   "cell_type": "code",
   "execution_count": 2,
   "metadata": {
    "slideshow": {
     "slide_type": "notes"
    }
   },
   "outputs": [],
   "source": [
    "# J = 0.01;\n",
    "# b = 0.1;\n",
    "# K = 0.01;\n",
    "# R = 1;\n",
    "# L = 0.5;\n"
   ]
  },
  {
   "cell_type": "markdown",
   "metadata": {
    "slideshow": {
     "slide_type": "notes"
    }
   },
   "source": [
    "We then need to identify the inputs and outputs of the model we wish to extract. First right-click on the signal representing the Voltage input in the Simulink model. Then choose *Linearization > Input Point* from the resulting menu. Similarly, right-click on the signal representing the Speed output and select *Linearization > Output Point* from the resulting menu. The input and output signals should now be identified on your model by arrow symbols as shown in the figure below.\n",
    "![inputoutput.png](figures/inputoutput.png)\n",
    "In order to perform the extraction, select from the menus at the top of the model window *Tools > Control Design > Linear Analysis*. This will cause the **Linear Analysis Tool** to open. Within the **Linear Analysis Tool** window, the **Operating Point** to be linearized about can remain the default, |Model Initial Condition|. In order to perform the linearization, next click the **Linearize** button identified by the green triangle. The result of this linearization is the |linsys1| object which now appears in the **Linear Analysis Workspace** as shown below. Furthermore, the open-loop step response of the linearized system was also generated automatically.\n",
    "![linearize.png](figures/linearize.png)\n",
    "The open-loop step response above is consistent with the response generated in the [DC Motor Speed: System Analysis](../MotorSpeed/MotorSpeed-SystemAnalysis.ipynb) page The reason the responses match so closely is because this Simulink model uses only linear components. Note that this process can be used extract linear approximations of models with nonlinear elements too. We will further verify the model extraction by looking at the model itself. The linearized model can be exported by simply dragging the object into the **MATLAB Workspace**. This object can then be used within MATLAB in the same manner as an object created directly from the MATLAB command line. Specifically, entering the command |zpk(linsys1)| in the MATLAB command window demonstrates that the resulting model has the following form.\n",
    "\n",
    "$$\n",
    "P(s) = \\frac {\\dot{\\Theta}(s)}{V(s)} = \\frac{2}{(s+9.997)(s+2.003)} \\qquad  [ \\frac{rad/sec}{V} ]\n",
    "$$\n",
    "\n",
    "This model matches the one generated in the [DC Motor Speed: System Modeling](../MotorSpeed/MotorSpeed-SystemModeling.ipynb) page. This can be seen by repeating the MATLAB commands given below."
   ]
  },
  {
   "cell_type": "code",
   "execution_count": 3,
   "metadata": {
    "slideshow": {
     "slide_type": "notes"
    }
   },
   "outputs": [],
   "source": [
    "# s = tf('s');\n",
    "# P_motor = K/((J*s+b)*(L*s+R)+K^2);\n",
    "# zpk(P_motor)\n"
   ]
  },
  {
   "cell_type": "code",
   "execution_count": 4,
   "metadata": {
    "exporter": {
     "cell_type": "toc"
    },
    "slideshow": {
     "slide_type": "skip"
    }
   },
   "outputs": [
    {
     "data": {
      "application/javascript": [
       "$.getScript('https://kmahelona.github.io/ipython_notebook_goodies/ipython_notebook_toc.js')"
      ],
      "text/plain": [
       "<IPython.core.display.Javascript object>"
      ]
     },
     "metadata": {},
     "output_type": "display_data"
    }
   ],
   "source": [
    "%%javascript\n",
    "$.getScript('https://kmahelona.github.io/ipython_notebook_goodies/ipython_notebook_toc.js')"
   ]
  }
 ],
 "metadata": {
  "celltoolbar": "Slideshow",
  "nikola": {
   "author": "d@h",
   "category": "MotorSpeed",
   "date": "2016-02-16 08:00:00 UTC",
   "description": "Controls Tutorials for Python",
   "link": "",
   "slug": "motorspeed-simulinkcontrol",
   "tags": "SimulinkControl",
   "title": "Motor Speed - Simulink Control",
   "type": ""
  }
 },
 "nbformat": 4,
 "nbformat_minor": 0
}
