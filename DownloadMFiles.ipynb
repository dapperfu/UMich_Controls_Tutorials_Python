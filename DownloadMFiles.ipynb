{
 "cells": [
  {
   "cell_type": "code",
   "execution_count": 2,
   "metadata": {
    "collapsed": true
   },
   "outputs": [],
   "source": [
    "import requests\n",
    "import re\n",
    "import os"
   ]
  },
  {
   "cell_type": "code",
   "execution_count": 22,
   "metadata": {
    "collapsed": false,
    "scrolled": true
   },
   "outputs": [],
   "source": [
    "# Index page for University of Michigan's Controls Tutorials for Matlab and Simulink\n",
    "index=r\"http://ctms.engin.umich.edu/CTMS/index.php?aux=Index_Tutorials\"\n",
    "# Fetch the page\n",
    "page = requests.get(index)\n",
    "# Make sure the page returned a good status.\n",
    "assert page.status_code==200\n",
    "# Get the page body (HTML)\n",
    "page_body = page.content.decode()"
   ]
  },
  {
   "cell_type": "code",
   "execution_count": 24,
   "metadata": {
    "collapsed": false
   },
   "outputs": [],
   "source": [
    "# Search for html for .m source code \n",
    "# Matlab's HTML publisher makes this easy.\n",
    "source_code_search = re.compile(r\"##### SOURCE BEGIN #####(.*)##### SOURCE END #####\", re.S)\n",
    "m_script=source_code_search.findall(page_body)"
   ]
  },
  {
   "cell_type": "code",
   "execution_count": 26,
   "metadata": {
    "collapsed": true
   },
   "outputs": [
    {
     "data": {
      "text/plain": [
       "[('Introduction', 'SystemModeling', 'Modeling'),\n",
       " ('Introduction', 'SystemAnalysis', 'Analysis'),\n",
       " ('Introduction', 'ControlPID', 'PID'),\n",
       " ('Introduction', 'ControlRootLocus', 'Root'),\n",
       " ('Introduction', 'ControlFrequency', 'Frequency'),\n",
       " ('Introduction', 'ControlStateSpace', 'State'),\n",
       " ('Introduction', 'ControlDigital', 'Digital'),\n",
       " ('Introduction', 'SimulinkModeling', 'Modeling'),\n",
       " ('Introduction', 'SimulinkControl', 'Control'),\n",
       " ('CruiseControl', 'SystemModeling', 'Modeling'),\n",
       " ('CruiseControl', 'SystemAnalysis', 'Analysis'),\n",
       " ('CruiseControl', 'ControlPID', 'PID'),\n",
       " ('CruiseControl', 'ControlRootLocus', 'Root'),\n",
       " ('CruiseControl', 'ControlFrequency', 'Frequency'),\n",
       " ('CruiseControl', 'ControlStateSpace', 'State'),\n",
       " ('CruiseControl', 'ControlDigital', 'Digital'),\n",
       " ('CruiseControl', 'SimulinkModeling', 'Modeling'),\n",
       " ('CruiseControl', 'SimulinkControl', 'Control'),\n",
       " ('MotorSpeed', 'SystemModeling', 'Modeling'),\n",
       " ('MotorSpeed', 'SystemAnalysis', 'Analysis'),\n",
       " ('MotorSpeed', 'ControlPID', 'PID'),\n",
       " ('MotorSpeed', 'ControlRootLocus', 'Root'),\n",
       " ('MotorSpeed', 'ControlFrequency', 'Frequency'),\n",
       " ('MotorSpeed', 'ControlStateSpace', 'State'),\n",
       " ('MotorSpeed', 'ControlDigital', 'Digital'),\n",
       " ('MotorSpeed', 'SimulinkModeling', 'Modeling'),\n",
       " ('MotorSpeed', 'SimulinkControl', 'Control'),\n",
       " ('MotorPosition', 'SystemModeling', 'Modeling'),\n",
       " ('MotorPosition', 'SystemAnalysis', 'Analysis'),\n",
       " ('MotorPosition', 'ControlPID', 'PID'),\n",
       " ('MotorPosition', 'ControlRootLocus', 'Root'),\n",
       " ('MotorPosition', 'ControlFrequency', 'Frequency'),\n",
       " ('MotorPosition', 'ControlStateSpace', 'State'),\n",
       " ('MotorPosition', 'ControlDigital', 'Digital'),\n",
       " ('MotorPosition', 'SimulinkModeling', 'Modeling'),\n",
       " ('MotorPosition', 'SimulinkControl', 'Control'),\n",
       " ('Suspension', 'SystemModeling', 'Modeling'),\n",
       " ('Suspension', 'SystemAnalysis', 'Analysis'),\n",
       " ('Suspension', 'ControlPID', 'PID'),\n",
       " ('Suspension', 'ControlRootLocus', 'Root'),\n",
       " ('Suspension', 'ControlFrequency', 'Frequency'),\n",
       " ('Suspension', 'ControlStateSpace', 'State'),\n",
       " ('Suspension', 'ControlDigital', 'Digital'),\n",
       " ('Suspension', 'SimulinkModeling', 'Modeling'),\n",
       " ('Suspension', 'SimulinkControl', 'Control'),\n",
       " ('InvertedPendulum', 'SystemModeling', 'Modeling'),\n",
       " ('InvertedPendulum', 'SystemAnalysis', 'Analysis'),\n",
       " ('InvertedPendulum', 'ControlPID', 'PID'),\n",
       " ('InvertedPendulum', 'ControlRootLocus', 'Root'),\n",
       " ('InvertedPendulum', 'ControlFrequency', 'Frequency'),\n",
       " ('InvertedPendulum', 'ControlStateSpace', 'State'),\n",
       " ('InvertedPendulum', 'ControlDigital', 'Digital'),\n",
       " ('InvertedPendulum', 'SimulinkModeling', 'Modeling'),\n",
       " ('InvertedPendulum', 'SimulinkControl', 'Control'),\n",
       " ('AircraftPitch', 'SystemModeling', 'Modeling'),\n",
       " ('AircraftPitch', 'SystemAnalysis', 'Analysis'),\n",
       " ('AircraftPitch', 'ControlPID', 'PID'),\n",
       " ('AircraftPitch', 'ControlRootLocus', 'Root'),\n",
       " ('AircraftPitch', 'ControlFrequency', 'Frequency'),\n",
       " ('AircraftPitch', 'ControlStateSpace', 'State'),\n",
       " ('AircraftPitch', 'ControlDigital', 'Digital'),\n",
       " ('AircraftPitch', 'SimulinkModeling', 'Modeling'),\n",
       " ('AircraftPitch', 'SimulinkControl', 'Control'),\n",
       " ('BallBeam', 'SystemModeling', 'Modeling'),\n",
       " ('BallBeam', 'SystemAnalysis', 'Analysis'),\n",
       " ('BallBeam', 'ControlPID', 'PID'),\n",
       " ('BallBeam', 'ControlRootLocus', 'Root'),\n",
       " ('BallBeam', 'ControlFrequency', 'Frequency'),\n",
       " ('BallBeam', 'ControlStateSpace', 'State'),\n",
       " ('BallBeam', 'ControlDigital', 'Digital'),\n",
       " ('BallBeam', 'SimulinkModeling', 'Modeling'),\n",
       " ('BallBeam', 'SimulinkControl', 'Control')]"
      ]
     },
     "execution_count": 26,
     "metadata": {},
     "output_type": "execute_result"
    }
   ],
   "source": [
    "# Parse out links to all other sections and examples.\n",
    "regex=r\"\"\"example=([\\w]+)\\&section=([\\w]+) ([\\w]+)\"\"\"\n",
    "pages = re.compile(regex).findall(script)\n",
    "pages"
   ]
  },
  {
   "cell_type": "code",
   "execution_count": 30,
   "metadata": {
    "collapsed": false
   },
   "outputs": [
    {
     "name": "stdout",
     "output_type": "stream",
     "text": [
      "BallBeam\n"
     ]
    }
   ],
   "source": [
    "for page in pages:\n",
    "    example, section, title = page\n",
    "    m_script_file=os.path.join(example,\"{}_{}.m\".format(example,section))\n",
    "    if not os.path.exists(example):\n",
    "        os.mkdir(example)"
   ]
  },
  {
   "cell_type": "code",
   "execution_count": 28,
   "metadata": {
    "collapsed": false
   },
   "outputs": [
    {
     "name": "stdout",
     "output_type": "stream",
     "text": [
      "SystemModeling\n"
     ]
    }
   ],
   "source": [
    "print(section)"
   ]
  },
  {
   "cell_type": "code",
   "execution_count": 29,
   "metadata": {
    "collapsed": false
   },
   "outputs": [
    {
     "name": "stdout",
     "output_type": "stream",
     "text": [
      "Modeling\n"
     ]
    }
   ],
   "source": [
    "print(title)"
   ]
  },
  {
   "cell_type": "code",
   "execution_count": 1,
   "metadata": {
    "collapsed": false
   },
   "outputs": [
    {
     "ename": "ImportError",
     "evalue": "No module named 'scandir'",
     "output_type": "error",
     "traceback": [
      "\u001b[0;31m---------------------------------------------------------------------------\u001b[0m",
      "\u001b[0;31mImportError\u001b[0m                               Traceback (most recent call last)",
      "\u001b[0;32m<ipython-input-1-fd565cebabf0>\u001b[0m in \u001b[0;36m<module>\u001b[0;34m()\u001b[0m\n\u001b[1;32m      6\u001b[0m \u001b[0;32mtry\u001b[0m\u001b[0;34m:\u001b[0m\u001b[0;34m\u001b[0m\u001b[0m\n\u001b[0;32m----> 7\u001b[0;31m     \u001b[0;32mfrom\u001b[0m \u001b[0mos\u001b[0m \u001b[0;32mimport\u001b[0m \u001b[0mscandir\u001b[0m\u001b[0;34m,\u001b[0m \u001b[0mwalk\u001b[0m\u001b[0;34m\u001b[0m\u001b[0m\n\u001b[0m\u001b[1;32m      8\u001b[0m \u001b[0;32mexcept\u001b[0m \u001b[0mImportError\u001b[0m\u001b[0;34m:\u001b[0m\u001b[0;34m\u001b[0m\u001b[0m\n",
      "\u001b[0;31mImportError\u001b[0m: cannot import name 'scandir'",
      "\nDuring handling of the above exception, another exception occurred:\n",
      "\u001b[0;31mImportError\u001b[0m                               Traceback (most recent call last)",
      "\u001b[0;32m<ipython-input-1-fd565cebabf0>\u001b[0m in \u001b[0;36m<module>\u001b[0;34m()\u001b[0m\n\u001b[1;32m      7\u001b[0m     \u001b[0;32mfrom\u001b[0m \u001b[0mos\u001b[0m \u001b[0;32mimport\u001b[0m \u001b[0mscandir\u001b[0m\u001b[0;34m,\u001b[0m \u001b[0mwalk\u001b[0m\u001b[0;34m\u001b[0m\u001b[0m\n\u001b[1;32m      8\u001b[0m \u001b[0;32mexcept\u001b[0m \u001b[0mImportError\u001b[0m\u001b[0;34m:\u001b[0m\u001b[0;34m\u001b[0m\u001b[0m\n\u001b[0;32m----> 9\u001b[0;31m     \u001b[0;32mfrom\u001b[0m \u001b[0mscandir\u001b[0m \u001b[0;32mimport\u001b[0m \u001b[0mscandir\u001b[0m\u001b[0;34m,\u001b[0m \u001b[0mwalk\u001b[0m\u001b[0;34m\u001b[0m\u001b[0m\n\u001b[0m\u001b[1;32m     10\u001b[0m \u001b[0;32mfrom\u001b[0m \u001b[0mnbformat\u001b[0m \u001b[0;32mimport\u001b[0m \u001b[0mv4\u001b[0m \u001b[0;32mas\u001b[0m \u001b[0mnbf\u001b[0m\u001b[0;34m\u001b[0m\u001b[0m\n\u001b[1;32m     11\u001b[0m \u001b[0;32mimport\u001b[0m \u001b[0mre\u001b[0m\u001b[0;34m\u001b[0m\u001b[0m\n",
      "\u001b[0;31mImportError\u001b[0m: No module named 'scandir'"
     ]
    }
   ],
   "source": [
    "    m_script_file=os.path.join(example,\"{}_{}.m\".format(example,section))\n",
    "    if not os.path.exists(example):\n",
    "        os.mkdir(example)\n",
    "    page = requests.get(root.format(example=example,section=section))\n",
    "    page_body = page.content.decode()\n",
    "    script = get_source(page_body)\n",
    "    script = script.strip()\n",
    "    script = script.replace(\"\\r\",\"\")\n",
    "    with open(m_script_file, \"w\") as fid:\n",
    "        print(script, file=fid, end=\"\")"
   ]
  },
  {
   "cell_type": "code",
   "execution_count": null,
   "metadata": {
    "collapsed": true
   },
   "outputs": [],
   "source": []
  }
 ],
 "metadata": {
  "kernelspec": {
   "display_name": "Python 3",
   "language": "python",
   "name": "python3"
  },
  "language_info": {
   "codemirror_mode": {
    "name": "ipython",
    "version": 3
   },
   "file_extension": ".py",
   "mimetype": "text/x-python",
   "name": "python",
   "nbconvert_exporter": "python",
   "pygments_lexer": "ipython3",
   "version": "3.5.2"
  }
 },
 "nbformat": 4,
 "nbformat_minor": 0
}
