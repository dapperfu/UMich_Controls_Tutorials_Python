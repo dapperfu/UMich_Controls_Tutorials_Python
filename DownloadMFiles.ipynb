{
 "cells": [
  {
   "cell_type": "code",
   "execution_count": 1,
   "metadata": {
    "collapsed": true
   },
   "outputs": [],
   "source": [
    "import requests\n",
    "import re\n",
    "import os"
   ]
  },
  {
   "cell_type": "code",
   "execution_count": 2,
   "metadata": {
    "collapsed": false,
    "scrolled": true
   },
   "outputs": [],
   "source": [
    "# Index page for University of Michigan's Controls Tutorials for Matlab and Simulink\n",
    "index=r\"http://ctms.engin.umich.edu/CTMS/index.php?aux=Index_Tutorials\"\n",
    "# Fetch the page\n",
    "page = requests.get(index)\n",
    "# Make sure the page returned a good status.\n",
    "assert page.status_code==200\n",
    "# Get the page body (HTML)\n",
    "page_body = page.content.decode()"
   ]
  },
  {
   "cell_type": "code",
   "execution_count": 11,
   "metadata": {
    "collapsed": true
   },
   "outputs": [],
   "source": [
    "# Search for html for .m source code \n",
    "# Matlab's HTML publisher makes this easy.\n",
    "source_code_search = re.compile(r\"##### SOURCE BEGIN #####(.*)##### SOURCE END #####\", re.S)\n",
    "index_script=source_code_search.findall(page_body)[0]"
   ]
  },
  {
   "cell_type": "code",
   "execution_count": 12,
   "metadata": {
    "collapsed": true
   },
   "outputs": [
    {
     "data": {
      "text/plain": [
       "[('Introduction', 'SystemModeling', 'Modeling'),\n",
       " ('Introduction', 'SystemAnalysis', 'Analysis'),\n",
       " ('Introduction', 'ControlPID', 'PID'),\n",
       " ('Introduction', 'ControlRootLocus', 'Root'),\n",
       " ('Introduction', 'ControlFrequency', 'Frequency'),\n",
       " ('Introduction', 'ControlStateSpace', 'State'),\n",
       " ('Introduction', 'ControlDigital', 'Digital'),\n",
       " ('Introduction', 'SimulinkModeling', 'Modeling'),\n",
       " ('Introduction', 'SimulinkControl', 'Control'),\n",
       " ('CruiseControl', 'SystemModeling', 'Modeling'),\n",
       " ('CruiseControl', 'SystemAnalysis', 'Analysis'),\n",
       " ('CruiseControl', 'ControlPID', 'PID'),\n",
       " ('CruiseControl', 'ControlRootLocus', 'Root'),\n",
       " ('CruiseControl', 'ControlFrequency', 'Frequency'),\n",
       " ('CruiseControl', 'ControlStateSpace', 'State'),\n",
       " ('CruiseControl', 'ControlDigital', 'Digital'),\n",
       " ('CruiseControl', 'SimulinkModeling', 'Modeling'),\n",
       " ('CruiseControl', 'SimulinkControl', 'Control'),\n",
       " ('MotorSpeed', 'SystemModeling', 'Modeling'),\n",
       " ('MotorSpeed', 'SystemAnalysis', 'Analysis'),\n",
       " ('MotorSpeed', 'ControlPID', 'PID'),\n",
       " ('MotorSpeed', 'ControlRootLocus', 'Root'),\n",
       " ('MotorSpeed', 'ControlFrequency', 'Frequency'),\n",
       " ('MotorSpeed', 'ControlStateSpace', 'State'),\n",
       " ('MotorSpeed', 'ControlDigital', 'Digital'),\n",
       " ('MotorSpeed', 'SimulinkModeling', 'Modeling'),\n",
       " ('MotorSpeed', 'SimulinkControl', 'Control'),\n",
       " ('MotorPosition', 'SystemModeling', 'Modeling'),\n",
       " ('MotorPosition', 'SystemAnalysis', 'Analysis'),\n",
       " ('MotorPosition', 'ControlPID', 'PID'),\n",
       " ('MotorPosition', 'ControlRootLocus', 'Root'),\n",
       " ('MotorPosition', 'ControlFrequency', 'Frequency'),\n",
       " ('MotorPosition', 'ControlStateSpace', 'State'),\n",
       " ('MotorPosition', 'ControlDigital', 'Digital'),\n",
       " ('MotorPosition', 'SimulinkModeling', 'Modeling'),\n",
       " ('MotorPosition', 'SimulinkControl', 'Control'),\n",
       " ('Suspension', 'SystemModeling', 'Modeling'),\n",
       " ('Suspension', 'SystemAnalysis', 'Analysis'),\n",
       " ('Suspension', 'ControlPID', 'PID'),\n",
       " ('Suspension', 'ControlRootLocus', 'Root'),\n",
       " ('Suspension', 'ControlFrequency', 'Frequency'),\n",
       " ('Suspension', 'ControlStateSpace', 'State'),\n",
       " ('Suspension', 'ControlDigital', 'Digital'),\n",
       " ('Suspension', 'SimulinkModeling', 'Modeling'),\n",
       " ('Suspension', 'SimulinkControl', 'Control'),\n",
       " ('InvertedPendulum', 'SystemModeling', 'Modeling'),\n",
       " ('InvertedPendulum', 'SystemAnalysis', 'Analysis'),\n",
       " ('InvertedPendulum', 'ControlPID', 'PID'),\n",
       " ('InvertedPendulum', 'ControlRootLocus', 'Root'),\n",
       " ('InvertedPendulum', 'ControlFrequency', 'Frequency'),\n",
       " ('InvertedPendulum', 'ControlStateSpace', 'State'),\n",
       " ('InvertedPendulum', 'ControlDigital', 'Digital'),\n",
       " ('InvertedPendulum', 'SimulinkModeling', 'Modeling'),\n",
       " ('InvertedPendulum', 'SimulinkControl', 'Control'),\n",
       " ('AircraftPitch', 'SystemModeling', 'Modeling'),\n",
       " ('AircraftPitch', 'SystemAnalysis', 'Analysis'),\n",
       " ('AircraftPitch', 'ControlPID', 'PID'),\n",
       " ('AircraftPitch', 'ControlRootLocus', 'Root'),\n",
       " ('AircraftPitch', 'ControlFrequency', 'Frequency'),\n",
       " ('AircraftPitch', 'ControlStateSpace', 'State'),\n",
       " ('AircraftPitch', 'ControlDigital', 'Digital'),\n",
       " ('AircraftPitch', 'SimulinkModeling', 'Modeling'),\n",
       " ('AircraftPitch', 'SimulinkControl', 'Control'),\n",
       " ('BallBeam', 'SystemModeling', 'Modeling'),\n",
       " ('BallBeam', 'SystemAnalysis', 'Analysis'),\n",
       " ('BallBeam', 'ControlPID', 'PID'),\n",
       " ('BallBeam', 'ControlRootLocus', 'Root'),\n",
       " ('BallBeam', 'ControlFrequency', 'Frequency'),\n",
       " ('BallBeam', 'ControlStateSpace', 'State'),\n",
       " ('BallBeam', 'ControlDigital', 'Digital'),\n",
       " ('BallBeam', 'SimulinkModeling', 'Modeling'),\n",
       " ('BallBeam', 'SimulinkControl', 'Control')]"
      ]
     },
     "execution_count": 12,
     "metadata": {},
     "output_type": "execute_result"
    }
   ],
   "source": [
    "# Parse out links to all other sections and examples.\n",
    "regex=r\"\"\"example=([\\w]+)\\&section=([\\w]+) ([\\w]+)\"\"\"\n",
    "pages = re.compile(regex).findall(index_script)\n",
    "pages"
   ]
  },
  {
   "cell_type": "code",
   "execution_count": 5,
   "metadata": {
    "collapsed": true
   },
   "outputs": [],
   "source": [
    "example_root=r\"http://ctms.engin.umich.edu/CTMS/index.php?example={example}&section={section}\""
   ]
  },
  {
   "cell_type": "code",
   "execution_count": 6,
   "metadata": {
    "collapsed": true
   },
   "outputs": [],
   "source": [
    "base_folder = \"m-scripts\""
   ]
  },
  {
   "cell_type": "code",
   "execution_count": 26,
   "metadata": {
    "collapsed": false,
    "scrolled": true
   },
   "outputs": [
    {
     "name": "stdout",
     "output_type": "stream",
     "text": [
      "Writing: m-scripts/Introduction/Introduction_SystemModeling.m\n"
     ]
    },
    {
     "ename": "NameError",
     "evalue": "name 'script' is not defined",
     "output_type": "error",
     "traceback": [
      "\u001b[0;31m---------------------------------------------------------------------------\u001b[0m",
      "\u001b[0;31mNameError\u001b[0m                                 Traceback (most recent call last)",
      "\u001b[0;32m<ipython-input-26-8ee763d2e499>\u001b[0m in \u001b[0;36m<module>\u001b[0;34m()\u001b[0m\n\u001b[1;32m     18\u001b[0m     \u001b[0;32mwith\u001b[0m \u001b[0mopen\u001b[0m\u001b[0;34m(\u001b[0m\u001b[0mm_script_filename\u001b[0m\u001b[0;34m,\u001b[0m \u001b[0;34m\"w\"\u001b[0m\u001b[0;34m)\u001b[0m \u001b[0;32mas\u001b[0m \u001b[0mfid\u001b[0m\u001b[0;34m:\u001b[0m\u001b[0;34m\u001b[0m\u001b[0m\n\u001b[1;32m     19\u001b[0m         \u001b[0mprint\u001b[0m\u001b[0;34m(\u001b[0m\u001b[0;34m\"Writing: \"\u001b[0m\u001b[0;34m+\u001b[0m\u001b[0mm_script_filename\u001b[0m\u001b[0;34m)\u001b[0m\u001b[0;34m\u001b[0m\u001b[0m\n\u001b[0;32m---> 20\u001b[0;31m         \u001b[0mprint\u001b[0m\u001b[0;34m(\u001b[0m\u001b[0mscript\u001b[0m\u001b[0;34m,\u001b[0m \u001b[0mfile\u001b[0m\u001b[0;34m=\u001b[0m\u001b[0mfid\u001b[0m\u001b[0;34m,\u001b[0m \u001b[0mend\u001b[0m\u001b[0;34m=\u001b[0m\u001b[0;34m\"\"\u001b[0m\u001b[0;34m)\u001b[0m\u001b[0;34m\u001b[0m\u001b[0m\n\u001b[0m\u001b[1;32m     21\u001b[0m     \u001b[0;32mbreak\u001b[0m\u001b[0;34m\u001b[0m\u001b[0m\n",
      "\u001b[0;31mNameError\u001b[0m: name 'script' is not defined"
     ]
    }
   ],
   "source": [
    "for page in pages:\n",
    "    example, section, title = page\n",
    "    example_folder = os.path.join(base_folder, example)\n",
    "    # If the page is a Simulink Example, ignore it.\n",
    "    if \"Simulink\" in section:\n",
    "        continue\n",
    "    # Generate the m_script_filename\n",
    "    m_script_filename=os.path.join(example_folder ,\"{}_{}.m\".format(example,section))\n",
    "    if not os.path.exists(example_folder):\n",
    "        os.makedirs(example_folder)\n",
    "\n",
    "    page = requests.get(example_root.format(example=example,section=section))\n",
    "    page_body = page.content.decode()\n",
    "    \n",
    "    m_script=source_code_search.findall(page_body)[0]\n",
    "    m_script = m_script.strip()\n",
    "    m_script = m_script.replace(\"\\r\",\"\")\n",
    "    with open(m_script_filename, \"w\") as fid:\n",
    "        print(\"Writing: \"+m_script_filename)\n",
    "        print(m_script, file=fid, end=\"\")\n",
    "    break"
   ]
  },
  {
   "cell_type": "code",
   "execution_count": 19,
   "metadata": {
    "collapsed": false
   },
   "outputs": [
    {
     "data": {
      "text/plain": [
       "'http://ctms.engin.umich.edu/CTMS/index.php?example=Introduction&section=SystemModeling'"
      ]
     },
     "execution_count": 19,
     "metadata": {},
     "output_type": "execute_result"
    }
   ],
   "source": [
    "example_root.format(example=example,section=section)"
   ]
  },
  {
   "cell_type": "code",
   "execution_count": null,
   "metadata": {
    "collapsed": true
   },
   "outputs": [],
   "source": []
  }
 ],
 "metadata": {
  "kernelspec": {
   "display_name": "Python 3",
   "language": "python",
   "name": "python3"
  },
  "language_info": {
   "codemirror_mode": {
    "name": "ipython",
    "version": 3
   },
   "file_extension": ".py",
   "mimetype": "text/x-python",
   "name": "python",
   "nbconvert_exporter": "python",
   "pygments_lexer": "ipython3",
   "version": "3.5.2"
  }
 },
 "nbformat": 4,
 "nbformat_minor": 0
}
