{
 "cells": [
  {
   "cell_type": "code",
   "execution_count": null,
   "metadata": {},
   "outputs": [],
   "source": [
    "import sympy\n",
    "from control.matlab import *\n",
    "from IPython.display import Latex, display\n",
    "from sympy import Poly\n",
    "from sympy.abc import s, z"
   ]
  },
  {
   "cell_type": "code",
   "execution_count": 1,
   "metadata": {
    "exporter": {
     "cell_type": "init"
    },
    "slideshow": {
     "slide_type": "skip"
    }
   },
   "outputs": [
    {
     "name": "stdout",
     "output_type": "stream",
     "text": [
      "Using matplotlib backend: TkAgg\n",
      "Populating the interactive namespace from numpy and matplotlib\n"
     ]
    }
   ],
   "source": [
    "%pylab %matplotlib inline"
   ]
  },
  {
   "cell_type": "markdown",
   "metadata": {
    "exporter": {
     "cell_type": "toc"
    },
    "slideshow": {
     "slide_type": "skip"
    }
   },
   "source": [
    "<div id=\"toc\"></div>"
   ]
  },
  {
   "cell_type": "markdown",
   "metadata": {
    "slideshow": {
     "slide_type": "notes"
    }
   },
   "source": [
    "# Ball & Beam: PID Controller Design\n",
    "\n",
    "The open-loop transfer function of the plant for the ball and beam experiment is given below:\n",
    "\n",
    "$$\n",
    "P(s) = \\frac{R(s)}{\\Theta(s)} = -\\frac{mgd}{L\\left(\\frac{J}{R^2}+m\\right)}\\frac{1}{s^2} \\qquad [ \\frac{m}{rad} ]\n",
    "$$\n",
    "\n",
    "The design criteria for this problem are:\n",
    "* Settling time less than 3 seconds\n",
    "* Overshoot less than 5 To see the derivation of the equations for this problem refer to the [Ball & Beam: System Modeling](../BallBeam/BallBeam-SystemModeling.ipynb) page.\n",
    "\n",
    "## Closed-loop representation\n",
    "\n",
    "The block diagram for this example with a controller and unity feedback of the ball's position is shown below:\n",
    "![feedback_ball.png](figures/feedback_ball.png)\n",
    "First, we will study the response of the system shown above when a proportional controller is used. Then, derivative and/or integral control will be added if necessary. Recall, that the transfer function for a PID controller is:\n",
    "\n",
    "$$\n",
    "C(s) = K_p + \\frac{K_i}{s} + K_d s = \\frac{K_d s^2 + K_p s + K_i}{s}\n",
    "$$\n",
    "\n",
    "\n",
    "\n",
    "## Proportional control\n",
    "\n",
    "The closed-loop transfer function for proportional control with a proportional gain (Kp) equal to 100, can be modeled by copying the following lines of MATLAB code into a new [m-file](../Extras_Mfile.ipynb) (or a '.m' file located in the same directory as MATLAB)"
   ]
  },
  {
   "cell_type": "code",
   "execution_count": 2,
   "metadata": {
    "slideshow": {
     "slide_type": "notes"
    }
   },
   "outputs": [],
   "source": [
    "# m = 0.111;\n",
    "# R = 0.015;\n",
    "# g = -9.8;\n",
    "# L = 1.0;\n",
    "# d = 0.03;\n",
    "# J = 9.99e-6;\n",
    "# s = tf('s');\n",
    "# P_ball = -m*g*d/L/(J/R^2+m)/s^2;\n",
    "# Kp = 1;\n",
    "# C = pid(Kp);\n",
    "# sys_cl=feedback(C*P_ball,1);"
   ]
  },
  {
   "cell_type": "markdown",
   "metadata": {
    "slideshow": {
     "slide_type": "notes"
    }
   },
   "source": [
    "Now, we can model the system's response to a step input of 0.25 m. Add the following line of code to your m-file and run it. You should get the following output:"
   ]
  },
  {
   "cell_type": "code",
   "execution_count": 3,
   "metadata": {
    "slideshow": {
     "slide_type": "notes"
    }
   },
   "outputs": [],
   "source": [
    "# step(0.25*sys_cl)\n",
    "# axis([0 70 0 0.5])"
   ]
  },
  {
   "cell_type": "markdown",
   "metadata": {
    "slideshow": {
     "slide_type": "notes"
    }
   },
   "source": [
    "As you can see, the system remains marginally stable with the addition of a proportional gain. Try changing the value of Kp and note that the system remains unstable.\n",
    "\n",
    "## Proportional-derivative control\n",
    "\n",
    "Now, we will add a derivative term to the controller. Copy the following lines of code to an m-file and run it to view the system's response to this control method. Your plot should be similar to the following:"
   ]
  },
  {
   "cell_type": "code",
   "execution_count": 4,
   "metadata": {
    "slideshow": {
     "slide_type": "notes"
    }
   },
   "outputs": [],
   "source": [
    "# m = 0.111;\n",
    "# R = 0.015;\n",
    "# g = -9.8;\n",
    "# L = 1.0;\n",
    "# d = 0.03;\n",
    "# J = 9.99e-6;\n",
    "# s = tf('s');\n",
    "# P_ball = -m*g*d/L/(J/R^2+m)/s^2;\n",
    "# Kp = 10;\n",
    "# Kd = 10;\n",
    "# C = pid(Kp,0,Kd);\n",
    "# sys_cl=feedback(C*P_ball,1);\n",
    "# t=0:0.01:5;\n",
    "# step(0.25*sys_cl)"
   ]
  },
  {
   "cell_type": "markdown",
   "metadata": {
    "slideshow": {
     "slide_type": "notes"
    }
   },
   "source": [
    "Now the system is stable but the overshoot is much too high and the settling time needs to go down a bit. From the PID tutorial page in the section on characteristics of P, I, and D controllers, we see that by increasing Kd we can lower the overshoot and decrease the settling time slightly. Therefore, make Kd = 20 in your m-file and run it again. Your output should be:"
   ]
  },
  {
   "cell_type": "code",
   "execution_count": 5,
   "metadata": {
    "slideshow": {
     "slide_type": "notes"
    }
   },
   "outputs": [],
   "source": [
    "# Kp = 10;\n",
    "# Kd = 20;\n",
    "# C = pid(Kp,0,Kd);\n",
    "# sys_cl=feedback(C*P_ball,1);\n",
    "# step(0.25*sys_cl)"
   ]
  },
  {
   "cell_type": "markdown",
   "metadata": {
    "slideshow": {
     "slide_type": "notes"
    }
   },
   "source": [
    "The overshoot criterion is met but the settling time needs to come down a bit. To decrease the settling time we may try increasing the Kp slightly to increase the rise time. The derivative gain (Kd) can also be increased to take off some of the overshoot that increasing Kp will cause. After playing with the gains a bit, the following step response plot can be achieved with Kp = 15 and Kd = 40:"
   ]
  },
  {
   "cell_type": "code",
   "execution_count": 6,
   "metadata": {
    "slideshow": {
     "slide_type": "notes"
    }
   },
   "outputs": [],
   "source": [
    "# Kp = 15;\n",
    "# Kd = 40;\n",
    "# C = pid(Kp,0,Kd);\n",
    "# sys_cl=feedback(C*P_ball,1);\n",
    "# step(0.25*sys_cl)"
   ]
  },
  {
   "cell_type": "code",
   "execution_count": 7,
   "metadata": {
    "exporter": {
     "cell_type": "toc"
    },
    "slideshow": {
     "slide_type": "skip"
    }
   },
   "outputs": [
    {
     "data": {
      "application/javascript": [
       "$.getScript('https://kmahelona.github.io/ipython_notebook_goodies/ipython_notebook_toc.js')"
      ],
      "text/plain": [
       "<IPython.core.display.Javascript object>"
      ]
     },
     "metadata": {},
     "output_type": "display_data"
    }
   ],
   "source": [
    "%%javascript\n",
    "$.getScript('https://kmahelona.github.io/ipython_notebook_goodies/ipython_notebook_toc.js')"
   ]
  }
 ],
 "metadata": {
  "celltoolbar": "Slideshow",
  "nikola": {
   "author": "d@h",
   "category": "BallBeam",
   "date": "2016-02-16 08:00:00 UTC",
   "description": "Controls Tutorials for Python",
   "link": "",
   "slug": "ballbeam-controlpid",
   "tags": "ControlPID",
   "title": "Ball Beam - Control PI D",
   "type": ""
  }
 },
 "nbformat": 4,
 "nbformat_minor": 0
}
