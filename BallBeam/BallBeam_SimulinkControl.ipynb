{
 "cells": [
  {
   "cell_type": "code",
   "execution_count": null,
   "metadata": {},
   "outputs": [],
   "source": [
    "import sympy\n",
    "from control.matlab import *\n",
    "from IPython.display import Latex, display\n",
    "from sympy import Poly\n",
    "from sympy.abc import s, z"
   ]
  },
  {
   "cell_type": "code",
   "execution_count": 1,
   "metadata": {
    "exporter": {
     "cell_type": "init"
    },
    "slideshow": {
     "slide_type": "skip"
    }
   },
   "outputs": [
    {
     "name": "stdout",
     "output_type": "stream",
     "text": [
      "Using matplotlib backend: TkAgg\n",
      "Populating the interactive namespace from numpy and matplotlib\n"
     ]
    }
   ],
   "source": [
    "%pylab %matplotlib inline"
   ]
  },
  {
   "cell_type": "markdown",
   "metadata": {
    "exporter": {
     "cell_type": "toc"
    },
    "slideshow": {
     "slide_type": "skip"
    }
   },
   "source": [
    "<div id=\"toc\"></div>"
   ]
  },
  {
   "cell_type": "markdown",
   "metadata": {
    "slideshow": {
     "slide_type": "notes"
    }
   },
   "source": [
    "# Ball & Beam: Simulink Controller Design\n",
    "\n",
    "\n",
    "\n",
    "## Simulink model\n",
    "\n",
    "The Simulink model for the ball and beam system was developed in the [Ball & Beam: Simulink Modeling](../BallBeam/BallBeam-SimulinkModeling.ipynb) section, and can be downloaded here: <Content/BallBeam/Simulink/Control/ball.mdl ball.mdl>.\n",
    "\n",
    "## Open-loop response\n",
    "\n",
    "Before obtaining a step response, we must set the physical parameters Enter the following commands at the MATLAB prompt."
   ]
  },
  {
   "cell_type": "code",
   "execution_count": 2,
   "metadata": {
    "slideshow": {
     "slide_type": "notes"
    }
   },
   "outputs": [],
   "source": [
    "# m = 0.111;\n",
    "# R = 0.015;\n",
    "# g = -9.8;\n",
    "# L = 1.0;\n",
    "# d = 0.03;\n",
    "# J = 9.99e-6;"
   ]
  },
  {
   "cell_type": "markdown",
   "metadata": {
    "slideshow": {
     "slide_type": "notes"
    }
   },
   "source": [
    "We are now ready to run the simulation. Start the simulation by selecting Start from the Simulation menu (or hit Ctrl-T). When the simulation is finished, open the Scope by double clicking on it and hit the Scope's autoscale button. You will see the following response.\n",
    "![ballol003.png](figures/ballol003.png)\n",
    "From this plot it is clear that the system is unstable in open-loop causing the ball to roll right off the end of the beam. Therefore, some method of controlling the ball's position in this system is required. Later in this tutorial, we will implement a lead compensator.\n",
    "\n",
    "## Extracting the linear model into MATLAB\n",
    "\n",
    "The Simulink model can be extracted into an equivalent state-space or transfer function model in MATLAB. This is done through the use of In1 and Out1 blocks and the MATLAB function |linmod|. The Simulink model can be extracted into an equivalent state-space or transfer function model in MATLAB. This is done through the use of In and Out Connection blocks and the MATLAB function linmod. At the MATLAB prompt, enter the following commands. You will see the following output providing the open-loop model of the system."
   ]
  },
  {
   "cell_type": "code",
   "execution_count": 3,
   "metadata": {
    "slideshow": {
     "slide_type": "notes"
    }
   },
   "outputs": [],
   "source": [
    "# [A,B,C,D] = linmod('ball')\n",
    "# [num,den] = ss2tf(A,B,C,D)"
   ]
  },
  {
   "cell_type": "markdown",
   "metadata": {
    "slideshow": {
     "slide_type": "notes"
    }
   },
   "source": [
    "We can verify this model by obtaining an open-loop step response. Enter the following command at the MATLAB prompt. You will see the following open-loop response:"
   ]
  },
  {
   "cell_type": "code",
   "execution_count": 4,
   "metadata": {
    "slideshow": {
     "slide_type": "notes"
    }
   },
   "outputs": [],
   "source": [
    "# step(num,den);"
   ]
  },
  {
   "cell_type": "code",
   "execution_count": 5,
   "metadata": {
    "exporter": {
     "cell_type": "toc"
    },
    "slideshow": {
     "slide_type": "skip"
    }
   },
   "outputs": [
    {
     "data": {
      "application/javascript": [
       "$.getScript('https://kmahelona.github.io/ipython_notebook_goodies/ipython_notebook_toc.js')"
      ],
      "text/plain": [
       "<IPython.core.display.Javascript object>"
      ]
     },
     "metadata": {},
     "output_type": "display_data"
    }
   ],
   "source": [
    "%%javascript\n",
    "$.getScript('https://kmahelona.github.io/ipython_notebook_goodies/ipython_notebook_toc.js')"
   ]
  }
 ],
 "metadata": {
  "celltoolbar": "Slideshow",
  "nikola": {
   "author": "d@h",
   "category": "BallBeam",
   "date": "2016-02-16 08:00:00 UTC",
   "description": "Controls Tutorials for Python",
   "link": "",
   "slug": "ballbeam-simulinkcontrol",
   "tags": "SimulinkControl",
   "title": "Ball Beam - Simulink Control",
   "type": ""
  }
 },
 "nbformat": 4,
 "nbformat_minor": 0
}
