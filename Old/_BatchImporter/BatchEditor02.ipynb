{
 "cells": [
  {
   "cell_type": "markdown",
   "metadata": {},
   "source": [
    "BatchEditor## are used to clean up things that I found later after all the files have already been converted (without reconverting them and losing everything I've done)."
   ]
  },
  {
   "cell_type": "code",
   "execution_count": 2,
   "metadata": {
    "collapsed": true
   },
   "outputs": [],
   "source": [
    "import nbformat\n",
    "import nbformat.v4 as nbf\n",
    "from nbconvert.preprocessors import ExecutePreprocessor\n",
    "# Preprocessor\n",
    "ep = ExecutePreprocessor()\n",
    "# Passover errors\n",
    "ep.allow_errors = True\n",
    "# Long timeout\n",
    "ep.timeout = 3600"
   ]
  },
  {
   "cell_type": "code",
   "execution_count": 3,
   "metadata": {
    "collapsed": true
   },
   "outputs": [],
   "source": [
    "import getFiles\n",
    "import os"
   ]
  },
  {
   "cell_type": "code",
   "execution_count": 5,
   "metadata": {
    "collapsed": false
   },
   "outputs": [
    {
     "name": "stdout",
     "output_type": "stream",
     "text": [
      "/mnt/keg/Python/CTP/BatchImporter/CruiseControl/CruiseControl_ControlPID.ipynb\n"
     ]
    }
   ],
   "source": [
    "for directory in getFiles.getDirs(\".\", depth=1):\n",
    "    if os.path.basename(directory).startswith(\".\"):\n",
    "        continue\n",
    "    if os.path.basename(directory).startswith(\"_\"):\n",
    "        continue\n",
    "    files=getFiles.getFilesGen(directory=directory, extensions=[\".ipynb\"], depth=1)\n",
    "    for notebook in files:\n",
    "        print(notebook)\n",
    "        break\n",
    "        batch_edit(notebook)\n",
    "    break"
   ]
  },
  {
   "cell_type": "code",
   "execution_count": 60,
   "metadata": {
    "collapsed": true
   },
   "outputs": [],
   "source": [
    "def batch_edit(notebook):\n",
    "    # Read the notebook\n",
    "    nb = nbformat.read(notebook, as_version=4)\n",
    "    # Execute the notebook\n",
    "    nb_exec, jnk = ep.preprocess(nb, {})\n",
    "    # Create a new notebook \n",
    "    nb_out = nbf.new_notebook()\n",
    "    nb_out[\"metadata\"] = nb[\"metadata\"]\n",
    "\n",
    "    for cell in nb_exec[\"cells\"]:\n",
    "        cell_out = nbf.new_markdown_cell()\n",
    "        cell_type=getattr(cell,\"cell_type\",\"skip\")\n",
    "        if cell_type == \"markdown\":\n",
    "            # Automatically decrement headings after the first one.\n",
    "            src = cell[\"source\"]         \n",
    "            \n",
    "            cell_out[\"source\"] = \"\\n\".join(dst)\n",
    "            nb_out[\"cells\"].append(cell_out)\n",
    "        else:\n",
    "            cell[\"source\"] = cell[\"source\"].strip()\n",
    "            nb_out[\"cells\"].append(cell)\n",
    "    with open(notebook,\"w\") as fid:\n",
    "        nbformat.write(nb, fid)"
   ]
  }
 ],
 "metadata": {
  "kernelspec": {
   "display_name": "Python 3",
   "language": "python",
   "name": "python3"
  },
  "language_info": {
   "codemirror_mode": {
    "name": "ipython",
    "version": 3
   },
   "file_extension": ".py",
   "mimetype": "text/x-python",
   "name": "python",
   "nbconvert_exporter": "python",
   "pygments_lexer": "ipython3",
   "version": "3.4.4"
  }
 },
 "nbformat": 4,
 "nbformat_minor": 0
}
