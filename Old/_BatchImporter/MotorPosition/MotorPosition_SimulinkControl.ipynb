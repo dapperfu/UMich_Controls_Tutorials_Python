{
 "cells": [
  {
   "cell_type": "code",
   "execution_count": 1,
   "metadata": {
    "exporter": {
     "cell_type": "init"
    },
    "slideshow": {
     "slide_type": "skip"
    }
   },
   "outputs": [
    {
     "name": "stdout",
     "output_type": "stream",
     "text": [
      "Using matplotlib backend: TkAgg\n",
      "Populating the interactive namespace from numpy and matplotlib\n"
     ]
    }
   ],
   "source": [
    "%pylab \n",
    "%matplotlib inline\n",
    "import sympy\n",
    "from control.matlab import *\n",
    "from sympy import Poly\n",
    "from sympy.abc import s, z\n",
    "from IPython.display import display,Latex"
   ]
  },
  {
   "cell_type": "markdown",
   "metadata": {
    "exporter": {
     "cell_type": "toc"
    },
    "slideshow": {
     "slide_type": "skip"
    }
   },
   "source": [
    "<div id=\"toc\"></div>"
   ]
  },
  {
   "cell_type": "markdown",
   "metadata": {
    "slideshow": {
     "slide_type": "notes"
    }
   },
   "source": [
    "# DC Motor Position: Simulink Controller Design\n",
    "\n",
    "In the [DC Motor Position: Simulink Modeling](../MotorPosition/MotorPosition-SimulinkModeling.ipynb) section, we developed a Simulink model of the DC motor system using three different methods.  You can download one of these models here, <Content/MotorPosition/Simulink/Control/Motor_Pos.mdl Motor_Pos.mdl>. In this section, we will employ this model within Simulink to simulate and design different approaches to control. Specifically, we will explore the design of a digital control system.\n",
    "\n",
    "## Open-loop response\n",
    "\n",
    "\n",
    "![Picture5.png](figures/Picture5.png)\n",
    "Begin with the above model saved as a subsystem and follow the steps given below.\n",
    "* Remove the In and Out ports.\n",
    "* Insert a Step block from the Simulink/Sources library and connect it with a line to the Voltage input.\n",
    "* To view the output position, insert a Scope from the Simulink/Sinks library and connect it to the Position output.\n",
    "* To provide an appropriate unit step input at t=0, double-click the Step block and set the **Step time** to \"0\". The system should now appear as in the following figure.\n",
    "![Picture.png](figures/Picture.png)\n",
    "In order to simulate this system, the details of the simulation must first be set. This can be accomplished by selecting **Configuration Parameters** from the **Simulation** menu. Within the resulting menu, define the length for which the simulation is to run in the **Stop time** field. We will enter \"0.2\" since 0.2 seconds will be long enough for the step response to reach steady state. Also in the **Configuration Parameters** dialog box, the numerical solver employed in the simulation can be specified. Go ahead and change the **Solver** field from the default |ode45 (Dormand-Prince)| to the |ode15s (stiff/NDF)| solver. Since the time scales in this example are very small, this stiff system integration method is more efficient than the default integration method.\n",
    "![Picture1.png](figures/Picture1.png)\n",
    "The physical parameters must now be set. Enter the following commands at in the MATLAB command window."
   ]
  },
  {
   "cell_type": "code",
   "execution_count": 2,
   "metadata": {
    "slideshow": {
     "slide_type": "notes"
    }
   },
   "outputs": [],
   "source": [
    "# J = 3.2284E-6;\n",
    "# b = 3.5077E-6;\n",
    "# K = 0.0274;\n",
    "# R = 4;\n",
    "# L = 2.75E-6;"
   ]
  },
  {
   "cell_type": "markdown",
   "metadata": {
    "slideshow": {
     "slide_type": "notes"
    }
   },
   "source": [
    "Then run the simulation (press **Ctrl-T** or select **Start** from the **Simulation** menu). When the simulation is finished, double-click on the scope and hit its autoscale button. You should see the following output which goes unstable and obviously does not meet our design requirements. Note that this response is consistent with the results we achieved from the MATLAB command line in the [DC Motor Position: System Analysis](../MotorPosition/MotorPosition-SystemAnalysis.ipynb) page.\n",
    "![Picture2.png](figures/Picture2.png)\n",
    "\n",
    "\n",
    "## Extracting a linear sampled model into MATLAB\n",
    "\n",
    "We will now extract a linear sampled version of this continuous-time model into the MATLAB workspace. The extraction of a sampled model can be performed from the MATLAB command line using the command |dlinmod|, though it is preferrable to perform the extraction from directly within Simulink as we will demonstrate here. We will use the model from above. The first thing that we need to do is to identify the inputs and outputs of the model we wish to extract. First right-click on the signal representing the Voltage input in the Simulink model. Then choose *Linearization > Input Point* from the resulting menu. Similarly, right-click on the signal representing the Position output and select *Linearization > Output Point* from the resulting menu. The input and output signals should now be identified on your model by arrow symbols as shown in the figure below.\n",
    "![inputoutput.png](figures/inputoutput.png)\n",
    "In order to perform the extraction, select from the menus at the top of the model window *Tools > Control Design > Linear Analysis*. This will cause the **Linear Analysis Tool** to open. Next follow the steps given below.\n",
    "** From the **Linear Analysis Tool* window, click the **Options** button. From the resulting window, change the **sample time** to \"0.001\" as shown in the figure below. The **rate conversion method** can remain the default |Zero-Order Hold|.\n",
    "![extract.png](figures/extract.png)\n",
    "\n",
    "** Within the **Linear Analysis Tool* window, the **Operating Point** to be linearized about can remain the default, |Model Initial Condition|. In order to perform the linearization/discretization, next click the **Linearize** button identified by the green triangle.\n",
    "* The result of this linearization/discretization is the |linsys1| object which now appears in the **Linear Analysis Workspace**. This model can be exported by simply dragging the object into the **MATLAB Workspace**. This object can then be used within MATLAB in the same manner as an object created directly from the MATLAB command line. Specifically, entering the command |zpk(linsys1)| in the MATLAB command window demonstrates that the resulting model has the following form.\n",
    "\n",
    "$$\n",
    "P(z) = \\frac {\\Theta(z)}{V(z)} = \\frac{0.0010389(z+0.9831)(z + 9.256\\times10^{-7})}{z(z-1)(z-0.9425)} \\qquad  [ \\frac{rad}{V} ]\n",
    "$$\n",
    "\n",
    "Note that this model is identical to the model generated from the conversion performed in [DC Motor Position: Digital Controller Design](../MotorPosition/MotorPosition-ControlDigital.ipynb) page. This makes sense since the same sample time and discretization method were used, and because the original model was already linear. To further verify the validity of the model extraction, we will generate an open-loop step response of the discrete-time transfer function in MATLAB. Enter the following commands at the prompt of the MATLAB command window. You should see the following plot which is in agreement with the output from the continous Simulink model evaluated above. <html> </p><pre class=\"codeinput\"> t = 0:0.001:0.2; step(linsys1,t); grid </pre> </html>\n",
    "![dstep.png](figures/dstep.png)\n",
    "The extracted discrete models can then be used within MATLAB for various analysis and controller design tasks. In the following, we directly employ the Simulink model from above to simulate the implementation of a digital controller without explicitly discretizing the continuous-time plant model.\n",
    "\n",
    "## Implementing digital control in Simulink\n",
    "\n",
    "In the [DC Motor Position: Digital Controller Design](../MotorPosition/MotorPosition-ControlDigital.ipynb) page a digital controller was designed with the following transfer function.\n",
    "\n",
    "$$\n",
    "C(z) = 800\\frac{(z - 0.95)(z - 0.80)^2}{(z + 0.98)(z - 0.6)(z - 1)}\n",
    "$$\n",
    "\n",
    "We can use this compensator to simulate the associated closed-loop digital control system in Simulink. Starting from the Simulink model we used above for extraction, delete the Input and Output ports and add the following:\n",
    "* Two Zero Order Hold blocks from the Simulink/Discrete library\n",
    "* Discrete Zero Pole block from the Simulink/Discrete library\n",
    "* Sum block from Simulink/Math Operations library Place one Zero Order Hold block on the input of the Motor_pos subsystem which is a continuous model of the plant. This Zero Order Hold blocks converts a discrete-time signal to a stepwise-constant continuous signal. The other Zero Order Hold block is placed on the output of the Motor_pos subsystem and serves to take discrete samples of the output signal of the plant. Edit the Zero Order Hold blocks such that the **Sample time** fields are set to \"0.001\" (this is fast compared to the desired step response in the MATLAB tutorial). Next edit the Discrete Zero Pole block to model the discrete controller transfer function described above. Specifically, edit the **Zeros** field to \"[0.95 0.80 0.80]\", the **Poles** field to \"[-0.98 0.6 1]\", the **Gain** field to \"800\", and the **Sample time** field to \"0.001\". Then label the block \"Controller\" and resize it to view its entire contents. Next, enter \"|+-\" to the **List of signs** field of the Sum block. The character \"|\" serves as a spacer between input ports. Now we need to set up the simulation to observe the motor's position for a step input.\n",
    "* Attach a Step block to the positve input of the Sum block and attach a Scope block to the plant output.\n",
    "** Double-click the Step block and set the **Step time* to \"0\". Finally, connect the blocks as shown below.\n",
    "![Figure8.png](figures/Figure8.png)\n",
    "Before we can simulate the closed-loop system, we again need to set an appropriate simulation time. Select *Configuration Parameters...** from the **Simulation* menu and enter \"0.08\" in the **Stop time** field. We choose this stop time in order to observe the system long enough to see if it satisfies the 0.04 seconds settling time requirement. If you have started a new session of MATLAB or skipped the open-loop response part of this example, then the physical parameters for the simulation must be set again. Run the following commands at the MATLAB prompt if necessary."
   ]
  },
  {
   "cell_type": "code",
   "execution_count": 3,
   "metadata": {
    "slideshow": {
     "slide_type": "notes"
    }
   },
   "outputs": [],
   "source": [
    "# J = 3.2284E-6;\n",
    "# b = 3.5077E-6;\n",
    "# K = 0.0274;\n",
    "# R = 4;\n",
    "# L = 2.75E-6;"
   ]
  },
  {
   "cell_type": "markdown",
   "metadata": {
    "slideshow": {
     "slide_type": "notes"
    }
   },
   "source": [
    "Now the simulation can finally be run. Recall that this can be accomplished by pressing **Ctrl-T** or selecting **Start** from the **Simulation** menu. When the simulation is finished, double-click on the scope and hit its autoscale button. You should see the following output.\n",
    "![Figure9a.png](figures/Figure9a.png)\n",
    "From the above figure, it appears that the overshoot is less than 16% and the settling time is less than 0.04 seconds as required. This is consistent with the analysis employed in designing the digital controller. We have not, however, assessed the response of the system with a disturbance present. A step disturbance can be added in a similar manner to the way that the step reference was added as shown in the following figure. Sum the disturbance between the controller and plant following the Zero Order Hold block since the disturbance signal is continous.\n",
    "![Figure10a.png](figures/Figure10a.png)\n",
    "Within the model, set the disturbance **Step time** to occur at \"0.03\" seconds. Then re-run the simulation and observe the scope output as described above. The resulting position graph should appear as shown below.\n",
    "![Figure10b.png](figures/Figure10b.png)\n",
    "From inspection of the above, you can see that there is a slight bump beginning at 0.03 seconds due to the disturbance, but the system is able to reject its effect and the steady-state error still goes to zero as required. If you have not done so already, save your Simulink model. You can also download our version of this model here, <Content/MotorPosition/Simulink/Control/Motor_Pos_cl.mdl Motor_Pos_cl.mdl>.\n",
    "\n",
    "## Converting a continuous-time model to discrete-time within Simulink\n",
    "\n",
    "In the above, we extracted a linear sampled model of our plant from our Simulink model into the MATLAB workspace using the **Linear Analysis Tool**. We also, in effect, discretized the plant for the purposes of simulation using Zero Order Hold blocks within Simulink. In this section, we will generate a discrete-time model of our plant without the use of the Zero Order Hold blocks. This approach offers a wider array of discretization techniques than can be achieved through Simulink blocks, which are limited to Zero Order and First Order Hold. This is especially useful in generating a digital controller from a continous design. So far we have chosen to employ the first principles simulink model but we could have just as easily used the Simscape model or the LTI System model. One thing to be careful of, however, is that if you were to use the Simscape model of the plant in the above, the physical Simscape signals would need to be converted to dimensionless Simulink signals in order to interface with the Simulink blocks we employed. This process is described in the [DC Motor Position: Simulink Modeling](../MotorPosition/MotorPosition-SimulinkModeling.ipynb) page. In the following, we will discretize the LTI System model which can be downloaded here, <Content/MotorPosition/Simulink/Control/Motor_Pos_LTI.mdl Motor_Pos_LTI.mdl>, or you can create it yourself as [DC Motor Position: Simulink Modeling](../MotorPosition/MotorPosition-SimulinkModeling.ipynb)  page. Recall that the LTI System block imports a model from the MATLAB workspace. Therefore, you need to enter the following commands at the command line where it is presumed that values have already been entered for the various physical parameters."
   ]
  },
  {
   "cell_type": "code",
   "execution_count": 4,
   "metadata": {
    "slideshow": {
     "slide_type": "notes"
    }
   },
   "outputs": [
    {
     "ename": "NameError",
     "evalue": "name 'b' is not defined",
     "output_type": "error",
     "traceback": [
      "\u001b[1;31m---------------------------------------------------------------------------\u001b[0m",
      "\u001b[1;31mNameError\u001b[0m                                 Traceback (most recent call last)",
      "\u001b[1;32m<ipython-input-4-ebdb6404a812>\u001b[0m in \u001b[0;36m<module>\u001b[1;34m()\u001b[0m\n\u001b[1;32m----> 1\u001b[1;33m \u001b[0mA\u001b[0m \u001b[1;33m=\u001b[0m \u001b[0mnumpy\u001b[0m\u001b[1;33m.\u001b[0m\u001b[0marray\u001b[0m\u001b[1;33m(\u001b[0m\u001b[1;33m[\u001b[0m\u001b[1;33m[\u001b[0m\u001b[1;36m0\u001b[0m\u001b[1;33m,\u001b[0m\u001b[1;36m1\u001b[0m\u001b[1;33m,\u001b[0m\u001b[1;36m0\u001b[0m\u001b[1;33m,\u001b[0m\u001b[1;36m0\u001b[0m\u001b[1;33m,\u001b[0m\u001b[1;33m-\u001b[0m\u001b[0mb\u001b[0m\u001b[1;33m/\u001b[0m\u001b[0mJ\u001b[0m\u001b[1;33m,\u001b[0m\u001b[0mK\u001b[0m\u001b[1;33m/\u001b[0m\u001b[0mJ\u001b[0m\u001b[1;33m,\u001b[0m\u001b[1;36m0\u001b[0m\u001b[1;33m,\u001b[0m\u001b[1;33m-\u001b[0m\u001b[0mK\u001b[0m\u001b[1;33m/\u001b[0m\u001b[0mL\u001b[0m\u001b[1;33m,\u001b[0m\u001b[1;33m-\u001b[0m\u001b[0mR\u001b[0m\u001b[1;33m/\u001b[0m\u001b[0mL\u001b[0m\u001b[1;33m]\u001b[0m\u001b[1;33m]\u001b[0m\u001b[1;33m)\u001b[0m\u001b[1;33m\u001b[0m\u001b[0m\n\u001b[0m\u001b[0;32m      2\u001b[0m \u001b[0mB\u001b[0m \u001b[1;33m=\u001b[0m \u001b[0mnumpy\u001b[0m\u001b[1;33m.\u001b[0m\u001b[0marray\u001b[0m\u001b[1;33m(\u001b[0m\u001b[1;33m[\u001b[0m\u001b[1;33m[\u001b[0m\u001b[1;36m0\u001b[0m\u001b[1;33m,\u001b[0m\u001b[1;33m]\u001b[0m\u001b[1;33m,\u001b[0m\u001b[1;33m[\u001b[0m\u001b[1;36m0\u001b[0m\u001b[1;33m,\u001b[0m\u001b[1;33m]\u001b[0m\u001b[1;33m,\u001b[0m\u001b[1;33m[\u001b[0m\u001b[1;36m1\u001b[0m\u001b[1;33m/\u001b[0m\u001b[0mL\u001b[0m\u001b[1;33m]\u001b[0m\u001b[1;33m]\u001b[0m\u001b[1;33m)\u001b[0m\u001b[1;33m\u001b[0m\u001b[0m\n\u001b[0;32m      3\u001b[0m \u001b[0mC\u001b[0m \u001b[1;33m=\u001b[0m \u001b[0mnumpy\u001b[0m\u001b[1;33m.\u001b[0m\u001b[0marray\u001b[0m\u001b[1;33m(\u001b[0m\u001b[1;33m[\u001b[0m\u001b[1;33m[\u001b[0m\u001b[1;36m1\u001b[0m\u001b[1;33m,\u001b[0m\u001b[1;36m0\u001b[0m\u001b[1;33m,\u001b[0m\u001b[1;36m0\u001b[0m\u001b[1;33m]\u001b[0m\u001b[1;33m]\u001b[0m\u001b[1;33m)\u001b[0m\u001b[1;33m\u001b[0m\u001b[0m\n\u001b[0;32m      4\u001b[0m \u001b[1;31m# A = [0 1 0\u001b[0m\u001b[1;33m\u001b[0m\u001b[1;33m\u001b[0m\u001b[0m\n\u001b[0;32m      5\u001b[0m \u001b[1;31m#      0 -b/J K/J\u001b[0m\u001b[1;33m\u001b[0m\u001b[1;33m\u001b[0m\u001b[0m\n",
      "\u001b[1;31mNameError\u001b[0m: name 'b' is not defined"
     ]
    }
   ],
   "source": [
    "A = numpy.array([[0,1,0,0,-b/J,K/J,0,-K/L,-R/L]])\n",
    "B = numpy.array([[0,],[0,],[1/L]])\n",
    "C = numpy.array([[1,0,0]])\n",
    "# A = [0 1 0\n",
    "#      0 -b/J K/J\n",
    "#      0 -K/L -R/L];\n",
    "# B = [0 ; 0 ; 1/L];\n",
    "# C = [1 0 0];\n",
    "# D = 0;"
   ]
  },
  {
   "cell_type": "code",
   "execution_count": 5,
   "metadata": {
    "exporter": {
     "cell_type": "toc"
    },
    "slideshow": {
     "slide_type": "skip"
    }
   },
   "outputs": [
    {
     "data": {
      "application/javascript": [
       "$.getScript('https://kmahelona.github.io/ipython_notebook_goodies/ipython_notebook_toc.js')"
      ],
      "text/plain": [
       "<IPython.core.display.Javascript object>"
      ]
     },
     "metadata": {},
     "output_type": "display_data"
    }
   ],
   "source": [
    "%%javascript\n",
    "$.getScript('https://kmahelona.github.io/ipython_notebook_goodies/ipython_notebook_toc.js')"
   ]
  }
 ],
 "metadata": {
  "celltoolbar": "Slideshow",
  "nikola": {
   "author": "d@h",
   "category": "MotorPosition",
   "date": "2016-02-16 08:00:00 UTC",
   "description": "Controls Tutorials for Python",
   "link": "",
   "slug": "motorposition-simulinkcontrol",
   "tags": "SimulinkControl",
   "title": "Motor Position - Simulink Control",
   "type": ""
  }
 },
 "nbformat": 4,
 "nbformat_minor": 0
}
