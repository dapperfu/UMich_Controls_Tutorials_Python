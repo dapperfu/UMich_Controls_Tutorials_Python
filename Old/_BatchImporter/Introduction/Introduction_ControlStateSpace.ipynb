{
 "cells": [
  {
   "cell_type": "code",
   "execution_count": 2,
   "metadata": {
    "collapsed": false,
    "exporter": {
     "cell_type": "init"
    },
    "slideshow": {
     "slide_type": "skip"
    }
   },
   "outputs": [
    {
     "name": "stdout",
     "output_type": "stream",
     "text": [
      "Using matplotlib backend: TkAgg\n",
      "Populating the interactive namespace from numpy and matplotlib\n"
     ]
    }
   ],
   "source": [
    "%pylab \n",
    "%matplotlib inline\n",
    "import sympy\n",
    "from control.matlab import *\n",
    "from sympy import Poly\n",
    "from sympy.abc import s, z\n",
    "from IPython.display import display,Latex"
   ]
  },
  {
   "cell_type": "markdown",
   "metadata": {
    "exporter": {
     "cell_type": "toc"
    },
    "slideshow": {
     "slide_type": "skip"
    }
   },
   "source": [
    "<div id=\"toc\"></div>"
   ]
  },
  {
   "cell_type": "markdown",
   "metadata": {
    "slideshow": {
     "slide_type": "notes"
    }
   },
   "source": [
    "# Introduction: State-Space Methods for Controller Design\n",
    "\n",
    "In this section, we will show how to design controllers and observers using state-space (or time-domain) methods.\n",
    "\n",
    "## Modeling\n",
    "\n",
    "There are several different ways to describe a system of linear differential equations.  The **state-space representation** was introduced in the [Introduction: System Modeling](../Introduction/Introduction-SystemModeling.ipynb) section.  For a SISO LTI system, the state-space form is given below:\n",
    "\n",
    "$$\n",
    "\\frac{d\\mathbf{x}}{dt} = A\\mathbf{x} + Bu\n",
    "$$\n",
    "\n",
    "\n",
    "\n",
    "$$\n",
    "y = C\\mathbf{x} + Du\n",
    "$$\n",
    "\n",
    "where **x** is a n by 1 vector representing the state (commonly position and velocity variable in mechanical systems), |u| is a scalar representing the input (commonly a force or torque in mechanical systems), and |y| is a scalar representing the output.  The matrices A (n by n), B (n by 1), and C (1 by n) determine the relationships between the state and input and output variables.  Note that there are n first-order differential equations.  State space representation can also be used for systems with multiple inputs and outputs (MIMO), but we will only use single-input, single-output (SISO) systems in these tutorials. To introduce the state space design method, we will use the magnetically suspended ball as an example.  The current through the coils induces a magnetic force which can balance the force of gravity and cause the ball (which is made of a magnetic material) to be suspended in midair.  The modeling of this system has been established in many control text books (including _Automatic Control Systems_ by B. C. Kuo, the seventh edition).\n",
    "![StateSpaceTutorial_StateSpaceEquations_MagneticModel.png](figures/StateSpaceTutorial_StateSpaceEquations_MagneticModel.png)\n",
    "The equations for the system are given by:\n",
    "\n",
    "$$\n",
    "M\\frac{d^2h}{dt^2} = Mg - \\frac{Ki^2}{h}\n",
    "$$\n",
    "\n",
    "\n",
    "\n",
    "$$\n",
    "V = L\\frac{di}{dt} + iR\n",
    "$$\n",
    "\n",
    "where |h| is the vertical position of the ball, |i| is the current through the electromagnet, |V| is the applied voltage, |M| is the mass of the ball, |g| is gravity, |L| is the inductance, |R| is the resistance, and |K| is a coefficient that determines the magnetic force exerted on the ball.  For simplicity, we will choose values |M = 0.05 Kg|, |K = 0.0001|, |L = 0.01 H|, |R = 1 Ohm|, |g = 9.81 m/sec^2|. The system is at equilibrium (the ball is suspended in midair) whenever |h = K i^2/Mg| (at which point |dh/dt = 0|).  We linearize the equations about the point |h = 0.01 m| (where the nominal current is about 7 amp) and get the state space equations:\n",
    "\n",
    "$$\n",
    "\\frac{d\\vec{x}}{dt} = A\\vec{x} + Bu\n",
    "$$\n",
    "\n",
    "\n",
    "\n",
    "$$\n",
    "y = C\\vec{x} + Du\n",
    "$$\n",
    "\n",
    "where:\n",
    "\n",
    "$$\n",
    "x = \\left[{\\begin{array}{c} \\Delta h \\\\ \\Delta \\dot{h} \\\\ \\Delta i \\end{array}}\\right]\n",
    "$$\n",
    "\n",
    "is the set of state variables for the system (a 3x1 vector), |u| is the input voltage (delta |V|), and |y| (the output), is delta |h|.  Enter the system matricies into a |m-file|."
   ]
  },
  {
   "cell_type": "code",
   "execution_count": 12,
   "metadata": {
    "collapsed": false,
    "slideshow": {
     "slide_type": "notes"
    }
   },
   "outputs": [],
   "source": [
    "A = np.array([[0,1,0],\n",
    "              [980,0,-2.8],\n",
    "              [0,0,-100]])\n",
    "B = np.array([[0],\n",
    "              [0],\n",
    "              [100]])\n",
    "C = np.array([[1,0,0]])"
   ]
  },
  {
   "cell_type": "markdown",
   "metadata": {
    "slideshow": {
     "slide_type": "notes"
    }
   },
   "source": [
    "## Stability\n",
    "\n",
    "One of the first things we want to do is analyze whether the open-loop system (without any control) is stable.  As discussed in the [Introduction: System Analysis](../Introduction/Introduction-SystemAnalysis.ipynb) section, the eigenvalues of the system matrix, A, (equivalent to the poles of the transfer fucntion) determine the stability. The eigenvalues of the A matrix are the values of |s| where |det(sI - A) = 0|."
   ]
  },
  {
   "cell_type": "code",
   "execution_count": 13,
   "metadata": {
    "collapsed": false,
    "slideshow": {
     "slide_type": "notes"
    }
   },
   "outputs": [
    {
     "data": {
      "text/plain": [
       "(array([  31.30495168,  -31.30495168, -100.        ]),\n",
       " array([[  3.19275428e-02,  -3.19275428e-02,  -3.10271816e-04],\n",
       "        [  9.99490186e-01,   9.99490186e-01,   3.10271816e-02],\n",
       "        [  0.00000000e+00,   0.00000000e+00,   9.99518493e-01]]))"
      ]
     },
     "metadata": {},
     "output_type": "display_data"
    }
   ],
   "source": [
    "poles = eig(A)\n",
    "display(poles)"
   ]
  },
  {
   "cell_type": "markdown",
   "metadata": {
    "slideshow": {
     "slide_type": "notes"
    }
   },
   "source": [
    "One of the poles is in the right-half plane, (i.e. has positive real part which means that the system is unstable in open-loop. To check out what happens to this unstable system when there is a nonzero initial condition, add the following lines to your |m-file| and it again:"
   ]
  },
  {
   "cell_type": "code",
   "execution_count": 18,
   "metadata": {
    "collapsed": false,
    "slideshow": {
     "slide_type": "notes"
    }
   },
   "outputs": [
    {
     "data": {
      "text/plain": [
       "<matplotlib.text.Text at 0x81e4feba8>"
      ]
     },
     "execution_count": 18,
     "metadata": {},
     "output_type": "execute_result"
    },
    {
     "data": {
      "image/png": "[encoded data removed]",
      "text/plain": [
       "<matplotlib.figure.Figure at 0x81e468240>"
      ]
     },
     "metadata": {},
     "output_type": "display_data"
    }
   ],
   "source": [
    "t = np.arange(0,2,0.01)\n",
    "u = zeros(size(t))\n",
    "x0 = np.array([0.01,0,0])\n",
    "sys = ss(A,B,C,0);\n",
    "[y,t,x] = lsim(sys,u,t,x0);\n",
    "plot(t,y)\n",
    "title('Open-Loop Response to Non-Zero Initial Condition')\n",
    "xlabel('Time (sec)')\n",
    "ylabel('Ball Position (m)')"
   ]
  },
  {
   "cell_type": "markdown",
   "metadata": {
    "slideshow": {
     "slide_type": "notes"
    }
   },
   "source": [
    "It looks like the distance between the ball and the electromagnet will go to infinity, but probably the ball hits the table or the floor first (and also probably goes out of the range where our linearization is valid).\n",
    "\n",
    "## Controllability and Observability\n",
    "\n",
    "A system is **controllable** if there exists a control input, u(t), that transfers any state of the system to zero in finite time.  It can be shown that an LTI system is controllable if and only if its controllabilty matrix, CO, has full rank (i.e. if rank(CO) = n where n is the number of states ). The rank of the controllability matrix of an LTI model can be determined using the commands ```numpy.linalg.matrix_rank(ctrb(A,B))``` or ```numpy.linalg.matrix_rank(ctrb(sys))```.\n",
    "\n",
    "$$\n",
    "CO = [B | AB | A^2B | ... | A^{n-1}B];\n",
    "$$\n",
    "\n",
    "All the state variables of a system may not be directly measurable, for instance if the component is in an inaccessible location. In these cases it is neccesary to **estimate** the values of the unknown internal state variables using only the available system outputs.  A system is **observable** if the initial state, x(t_0), can be determined from the system output, y(t), over some finite time t_0 < t < t_f. For LTI systems, the system is observable if and only if the observability matrix, OB, has full rank (i.e. if rank(OB) = n where n is the number of states). The observability of an LTI model can be determined using the command ```rank(obsv(A,C))``` or ```rank(obsv(sys))```.\n",
    "\n",
    "$$\n",
    "OB = \\left[ \\begin{array}{c} C \\\\ CA \\\\ CA^2 \\\\ \\vdots \\\\ CA^{n-1} \\end{array} \\right]\n",
    "$$\n",
    "\n",
    "Controllability and observability are **dual** concepts.  A system (A,B) is controllable if and only if a system (A',C,B',D) is observable. This fact will be useful when designing an observer, as we shall see below.\n",
    "\n",
    "## Control Design Using Pole Placement\n",
    "\n",
    "Let's build a controller for this system using pole placement.  The schematic of a full-state feedback system is shown below.  By full-state, we mean that all state variables are known to the controller at all times.  For instance in this system, we would need a sensor measuring the ball position, another measuring velocity, and a third measuring current in the electro-magnet.\n",
    "![StateSpaceTutorial_ControlDesign_BlockDiagram.png](figures/StateSpaceTutorial_ControlDesign_BlockDiagram.png)\n",
    "For simplicity, let's assume the reference is zero, R=0.  The input is then:\n",
    "\n",
    "$$\n",
    "u = -Kx\n",
    "$$\n",
    "\n",
    "The state-space equations for the closed-loop feedback system are therefore:\n",
    "\n",
    "$$\n",
    "\\dot{x} = (A-BK)x\n",
    "$$\n",
    "\n",
    "$$\n",
    "y = (C-DK)x\n",
    "$$\n",
    "\n",
    "The stability and time domain performance of the closed-loop feedback system are determined primarily by the location of the poles (eigenvalues) of the matrix (A-BK).  Since the matrices A and B\\*K are both 3 by 3 matrices, there will be 3 poles for the system. By choosing an appropriate K matrix we can place these closed-loop poles anywhere we want. We can use the function ```place``` to find the control matrix, K, which will give the desired poles. Before attempting this method, we have to decide where we want the closed-loop poles to be. Suppose the criteria for the controller were settling time < 0.5 sec and overshoot < 5%, then we might try to place the two dominant poles at -10 +/- 10i (at |zeta| = 0.7 or 45 degrees with |sigma| = 10 > 4.6\\*2).  The third pole we might place at -50 to start, and we can change it later depending on what the closed-loop behavior is."
   ]
  },
  {
   "cell_type": "code",
   "execution_count": 27,
   "metadata": {
    "collapsed": false,
    "slideshow": {
     "slide_type": "notes"
    }
   },
   "outputs": [
    {
     "ename": "ControlSlycot",
     "evalue": "can't find slycot module 'sb01bd'",
     "output_type": "error",
     "traceback": [
      "\u001b[1;31m---------------------------------------------------------------------------\u001b[0m",
      "\u001b[1;31mImportError\u001b[0m                               Traceback (most recent call last)",
      "\u001b[1;32m/usr/local/lib/python3.4/site-packages/control/statefbk.py\u001b[0m in \u001b[0;36mplace\u001b[1;34m(A, B, p)\u001b[0m\n\u001b[0;32m     74\u001b[0m     \u001b[1;32mtry\u001b[0m\u001b[1;33m:\u001b[0m\u001b[1;33m\u001b[0m\u001b[0m\n\u001b[1;32m---> 75\u001b[1;33m         \u001b[1;32mfrom\u001b[0m \u001b[0mslycot\u001b[0m \u001b[1;32mimport\u001b[0m \u001b[0msb01bd\u001b[0m\u001b[1;33m\u001b[0m\u001b[0m\n\u001b[0m\u001b[0;32m     76\u001b[0m     \u001b[1;32mexcept\u001b[0m \u001b[0mImportError\u001b[0m\u001b[1;33m:\u001b[0m\u001b[1;33m\u001b[0m\u001b[0m\n",
      "\u001b[1;32m/usr/local/lib/python3.4/site-packages/slycot/__init__.py\u001b[0m in \u001b[0;36m<module>\u001b[1;34m()\u001b[0m\n\u001b[0;32m     15\u001b[0m     \u001b[1;31m# Analysis routines (6/40 wrapped)\u001b[0m\u001b[1;33m\u001b[0m\u001b[1;33m\u001b[0m\u001b[0m\n\u001b[1;32m---> 16\u001b[1;33m     \u001b[1;32mfrom\u001b[0m \u001b[1;33m.\u001b[0m\u001b[0manalysis\u001b[0m \u001b[1;32mimport\u001b[0m \u001b[0mab01nd\u001b[0m\u001b[1;33m,\u001b[0m\u001b[0mab05md\u001b[0m\u001b[1;33m,\u001b[0m\u001b[0mab05nd\u001b[0m\u001b[1;33m,\u001b[0m\u001b[0mab07nd\u001b[0m\u001b[1;33m,\u001b[0m\u001b[0mab08nd\u001b[0m\u001b[1;33m,\u001b[0m \u001b[0mab09ad\u001b[0m\u001b[1;33m,\u001b[0m\u001b[0;31m \u001b[0m\u001b[0;31m\\\u001b[0m\u001b[1;33m\u001b[0m\u001b[0m\n\u001b[0m\u001b[0;32m     17\u001b[0m                           \u001b[0mab09ax\u001b[0m\u001b[1;33m,\u001b[0m \u001b[0mab09bd\u001b[0m\u001b[1;33m\u001b[0m\u001b[0m\n",
      "\u001b[1;32m/usr/local/lib/python3.4/site-packages/slycot/analysis.py\u001b[0m in \u001b[0;36m<module>\u001b[1;34m()\u001b[0m\n\u001b[0;32m     20\u001b[0m \u001b[1;33m\u001b[0m\u001b[0m\n\u001b[1;32m---> 21\u001b[1;33m \u001b[1;32mfrom\u001b[0m \u001b[1;33m.\u001b[0m \u001b[1;32mimport\u001b[0m \u001b[0m_wrapper\u001b[0m\u001b[1;33m\u001b[0m\u001b[0m\n\u001b[0m\u001b[0;32m     22\u001b[0m \u001b[1;32mimport\u001b[0m \u001b[0mwarnings\u001b[0m\u001b[1;33m\u001b[0m\u001b[0m\n",
      "\u001b[1;31mImportError\u001b[0m: /usr/local/lib/python3.4/site-packages/slycot/_wrapper.so: Undefined symbol \"dtrmm_\"",
      "\nDuring handling of the above exception, another exception occurred:\n",
      "\u001b[1;31mControlSlycot\u001b[0m                             Traceback (most recent call last)",
      "\u001b[1;32m<ipython-input-27-b031dd7c3ca5>\u001b[0m in \u001b[0;36m<module>\u001b[1;34m()\u001b[0m\n\u001b[0;32m      2\u001b[0m \u001b[0mp2\u001b[0m \u001b[1;33m=\u001b[0m \u001b[1;33m-\u001b[0m\u001b[1;36m10\u001b[0m \u001b[1;33m-\u001b[0m \u001b[1;36m10j\u001b[0m\u001b[1;33m\u001b[0m\u001b[0m\n\u001b[0;32m      3\u001b[0m \u001b[0mp3\u001b[0m \u001b[1;33m=\u001b[0m \u001b[1;33m-\u001b[0m\u001b[1;36m50\u001b[0m\u001b[1;33m\u001b[0m\u001b[0m\n\u001b[1;32m----> 4\u001b[1;33m \u001b[0mK\u001b[0m \u001b[1;33m=\u001b[0m \u001b[0mplace\u001b[0m\u001b[1;33m(\u001b[0m\u001b[0mA\u001b[0m\u001b[1;33m,\u001b[0m\u001b[0mB\u001b[0m\u001b[1;33m,\u001b[0m\u001b[1;33m[\u001b[0m\u001b[0mp1\u001b[0m\u001b[1;33m,\u001b[0m\u001b[0mp2\u001b[0m\u001b[1;33m,\u001b[0m\u001b[0mp3\u001b[0m\u001b[1;33m]\u001b[0m\u001b[1;33m)\u001b[0m\u001b[1;33m;\u001b[0m\u001b[1;33m\u001b[0m\u001b[0m\n\u001b[0m\u001b[0;32m      5\u001b[0m \u001b[1;31m# sys_cl = ss(A-B*K,B,C,0);\u001b[0m\u001b[1;33m\u001b[0m\u001b[1;33m\u001b[0m\u001b[0m\n\u001b[0;32m      6\u001b[0m \u001b[1;31m# lsim(sys_cl,u,t,x0);\u001b[0m\u001b[1;33m\u001b[0m\u001b[1;33m\u001b[0m\u001b[0m\n",
      "\u001b[1;32m/usr/local/lib/python3.4/site-packages/control/statefbk.py\u001b[0m in \u001b[0;36mplace\u001b[1;34m(A, B, p)\u001b[0m\n\u001b[0;32m     75\u001b[0m         \u001b[1;32mfrom\u001b[0m \u001b[0mslycot\u001b[0m \u001b[1;32mimport\u001b[0m \u001b[0msb01bd\u001b[0m\u001b[1;33m\u001b[0m\u001b[0m\n\u001b[0;32m     76\u001b[0m     \u001b[1;32mexcept\u001b[0m \u001b[0mImportError\u001b[0m\u001b[1;33m:\u001b[0m\u001b[1;33m\u001b[0m\u001b[0m\n\u001b[1;32m---> 77\u001b[1;33m         \u001b[1;32mraise\u001b[0m \u001b[0mControlSlycot\u001b[0m\u001b[1;33m(\u001b[0m\u001b[1;34m\"can't find slycot module 'sb01bd'\"\u001b[0m\u001b[1;33m)\u001b[0m\u001b[1;33m\u001b[0m\u001b[0m\n\u001b[0m\u001b[0;32m     78\u001b[0m \u001b[1;33m\u001b[0m\u001b[0m\n\u001b[0;32m     79\u001b[0m     \u001b[1;31m# Convert the system inputs to NumPy arrays\u001b[0m\u001b[1;33m\u001b[0m\u001b[1;33m\u001b[0m\u001b[0m\n",
      "\u001b[1;31mControlSlycot\u001b[0m: can't find slycot module 'sb01bd'"
     ]
    }
   ],
   "source": [
    "p1 = -10 + 10j\n",
    "p2 = -10 - 10j\n",
    "p3 = -50\n",
    "K = place(A,B,[p1,p2,p3])\n",
    "sys_cl = ss(A-B*K,B,C,0)\n",
    "[y,t,x] = lsim(sys,u,t,x0)\n",
    "plot(t, y)\n",
    "xlabel('Time (sec)')\n",
    "ylabel('Ball Position (m)')"
   ]
  },
  {
   "cell_type": "markdown",
   "metadata": {
    "slideshow": {
     "slide_type": "notes"
    }
   },
   "source": [
    "The overshoot is too large (there are also zeros in the transfer function which can increase the overshoot; you do not see the zeros in the state-space formulation).  Try placing the poles further to the left to see if the transient response improves (this should also make the response faster)."
   ]
  },
  {
   "cell_type": "code",
   "execution_count": 6,
   "metadata": {
    "collapsed": true,
    "slideshow": {
     "slide_type": "notes"
    }
   },
   "outputs": [],
   "source": [
    "p1 = -20 + 20j\n",
    "p2 = -20 - 20j\n",
    "p3 = -100\n",
    "K = place(A,B,[p1 p2 p3])\n",
    "sys_cl = ss(A-B*K,B,C,0)\n",
    "[y,t,x] = lsim(sys,u,t,x0)\n",
    "plot(t, y)\n",
    "xlabel('Time (sec)')\n",
    "ylabel('Ball Position (m)')"
   ]
  },
  {
   "cell_type": "markdown",
   "metadata": {
    "slideshow": {
     "slide_type": "notes"
    }
   },
   "source": [
    "This time the overshoot is smaller.  Consult your textbook for further suggestions on choosing the desired closed-loop poles. Compare the control effort required (K) in both cases.  In general, the farther you move the poles, the more control effort it takes.\n",
    "\n",
    "## Introducing the Reference Input\n",
    "\n",
    "Now, we will take the control system as defined above and apply a step input (we choose a small value for the step, so we remain in the region where our linearization is valid)."
   ]
  },
  {
   "cell_type": "code",
   "execution_count": 31,
   "metadata": {
    "collapsed": false,
    "scrolled": true,
    "slideshow": {
     "slide_type": "notes"
    }
   },
   "outputs": [
    {
     "ename": "ControlSlycot",
     "evalue": "can't find slycot module 'sb01bd'",
     "output_type": "error",
     "traceback": [
      "\u001b[1;31m---------------------------------------------------------------------------\u001b[0m",
      "\u001b[1;31mImportError\u001b[0m                               Traceback (most recent call last)",
      "\u001b[1;32m/usr/local/lib/python3.4/site-packages/control/statefbk.py\u001b[0m in \u001b[0;36mplace\u001b[1;34m(A, B, p)\u001b[0m\n\u001b[0;32m     74\u001b[0m     \u001b[1;32mtry\u001b[0m\u001b[1;33m:\u001b[0m\u001b[1;33m\u001b[0m\u001b[0m\n\u001b[1;32m---> 75\u001b[1;33m         \u001b[1;32mfrom\u001b[0m \u001b[0mslycot\u001b[0m \u001b[1;32mimport\u001b[0m \u001b[0msb01bd\u001b[0m\u001b[1;33m\u001b[0m\u001b[0m\n\u001b[0m\u001b[0;32m     76\u001b[0m     \u001b[1;32mexcept\u001b[0m \u001b[0mImportError\u001b[0m\u001b[1;33m:\u001b[0m\u001b[1;33m\u001b[0m\u001b[0m\n",
      "\u001b[1;32m/usr/local/lib/python3.4/site-packages/slycot/__init__.py\u001b[0m in \u001b[0;36m<module>\u001b[1;34m()\u001b[0m\n\u001b[0;32m     15\u001b[0m     \u001b[1;31m# Analysis routines (6/40 wrapped)\u001b[0m\u001b[1;33m\u001b[0m\u001b[1;33m\u001b[0m\u001b[0m\n\u001b[1;32m---> 16\u001b[1;33m     \u001b[1;32mfrom\u001b[0m \u001b[1;33m.\u001b[0m\u001b[0manalysis\u001b[0m \u001b[1;32mimport\u001b[0m \u001b[0mab01nd\u001b[0m\u001b[1;33m,\u001b[0m\u001b[0mab05md\u001b[0m\u001b[1;33m,\u001b[0m\u001b[0mab05nd\u001b[0m\u001b[1;33m,\u001b[0m\u001b[0mab07nd\u001b[0m\u001b[1;33m,\u001b[0m\u001b[0mab08nd\u001b[0m\u001b[1;33m,\u001b[0m \u001b[0mab09ad\u001b[0m\u001b[1;33m,\u001b[0m\u001b[0;31m \u001b[0m\u001b[0;31m\\\u001b[0m\u001b[1;33m\u001b[0m\u001b[0m\n\u001b[0m\u001b[0;32m     17\u001b[0m                           \u001b[0mab09ax\u001b[0m\u001b[1;33m,\u001b[0m \u001b[0mab09bd\u001b[0m\u001b[1;33m\u001b[0m\u001b[0m\n",
      "\u001b[1;32m/usr/local/lib/python3.4/site-packages/slycot/analysis.py\u001b[0m in \u001b[0;36m<module>\u001b[1;34m()\u001b[0m\n\u001b[0;32m     20\u001b[0m \u001b[1;33m\u001b[0m\u001b[0m\n\u001b[1;32m---> 21\u001b[1;33m \u001b[1;32mfrom\u001b[0m \u001b[1;33m.\u001b[0m \u001b[1;32mimport\u001b[0m \u001b[0m_wrapper\u001b[0m\u001b[1;33m\u001b[0m\u001b[0m\n\u001b[0m\u001b[0;32m     22\u001b[0m \u001b[1;32mimport\u001b[0m \u001b[0mwarnings\u001b[0m\u001b[1;33m\u001b[0m\u001b[0m\n",
      "\u001b[1;31mImportError\u001b[0m: /usr/local/lib/python3.4/site-packages/slycot/_wrapper.so: Undefined symbol \"dtrmm_\"",
      "\nDuring handling of the above exception, another exception occurred:\n",
      "\u001b[1;31mControlSlycot\u001b[0m                             Traceback (most recent call last)",
      "\u001b[1;32m<ipython-input-31-4fc2bacc4fb8>\u001b[0m in \u001b[0;36m<module>\u001b[1;34m()\u001b[0m\n\u001b[1;32m----> 1\u001b[1;33m \u001b[0mK\u001b[0m \u001b[1;33m=\u001b[0m \u001b[0mplace\u001b[0m\u001b[1;33m(\u001b[0m\u001b[0mA\u001b[0m\u001b[1;33m,\u001b[0m\u001b[0mB\u001b[0m\u001b[1;33m,\u001b[0m\u001b[1;33m[\u001b[0m\u001b[0mp1\u001b[0m\u001b[1;33m,\u001b[0m\u001b[0mp2\u001b[0m\u001b[1;33m,\u001b[0m\u001b[0mp3\u001b[0m\u001b[1;33m]\u001b[0m\u001b[1;33m)\u001b[0m\u001b[1;33m\u001b[0m\u001b[0m\n\u001b[0m\u001b[0;32m      2\u001b[0m \u001b[1;33m\u001b[0m\u001b[0m\n\u001b[0;32m      3\u001b[0m \u001b[0mt\u001b[0m \u001b[1;33m=\u001b[0m \u001b[0mnp\u001b[0m\u001b[1;33m.\u001b[0m\u001b[0marange\u001b[0m\u001b[1;33m(\u001b[0m\u001b[1;36m0\u001b[0m\u001b[1;33m,\u001b[0m\u001b[1;36m2\u001b[0m\u001b[1;33m,\u001b[0m\u001b[1;36m0.01\u001b[0m\u001b[1;33m)\u001b[0m\u001b[1;33m\u001b[0m\u001b[0m\n\u001b[0;32m      4\u001b[0m \u001b[0mu\u001b[0m \u001b[1;33m=\u001b[0m \u001b[1;36m0.001\u001b[0m\u001b[1;33m*\u001b[0m\u001b[0mones\u001b[0m\u001b[1;33m(\u001b[0m\u001b[0msize\u001b[0m\u001b[1;33m(\u001b[0m\u001b[0mt\u001b[0m\u001b[1;33m)\u001b[0m\u001b[1;33m)\u001b[0m\u001b[1;33m\u001b[0m\u001b[0m\n\u001b[0;32m      5\u001b[0m \u001b[0msys_cl\u001b[0m \u001b[1;33m=\u001b[0m \u001b[0mss\u001b[0m\u001b[1;33m(\u001b[0m\u001b[0mA\u001b[0m\u001b[1;33m-\u001b[0m\u001b[0mB\u001b[0m\u001b[1;33m*\u001b[0m\u001b[0mK\u001b[0m\u001b[1;33m,\u001b[0m\u001b[0mB\u001b[0m\u001b[1;33m,\u001b[0m\u001b[0mC\u001b[0m\u001b[1;33m,\u001b[0m\u001b[1;36m0\u001b[0m\u001b[1;33m)\u001b[0m\u001b[1;33m\u001b[0m\u001b[0m\n",
      "\u001b[1;32m/usr/local/lib/python3.4/site-packages/control/statefbk.py\u001b[0m in \u001b[0;36mplace\u001b[1;34m(A, B, p)\u001b[0m\n\u001b[0;32m     75\u001b[0m         \u001b[1;32mfrom\u001b[0m \u001b[0mslycot\u001b[0m \u001b[1;32mimport\u001b[0m \u001b[0msb01bd\u001b[0m\u001b[1;33m\u001b[0m\u001b[0m\n\u001b[0;32m     76\u001b[0m     \u001b[1;32mexcept\u001b[0m \u001b[0mImportError\u001b[0m\u001b[1;33m:\u001b[0m\u001b[1;33m\u001b[0m\u001b[0m\n\u001b[1;32m---> 77\u001b[1;33m         \u001b[1;32mraise\u001b[0m \u001b[0mControlSlycot\u001b[0m\u001b[1;33m(\u001b[0m\u001b[1;34m\"can't find slycot module 'sb01bd'\"\u001b[0m\u001b[1;33m)\u001b[0m\u001b[1;33m\u001b[0m\u001b[0m\n\u001b[0m\u001b[0;32m     78\u001b[0m \u001b[1;33m\u001b[0m\u001b[0m\n\u001b[0;32m     79\u001b[0m     \u001b[1;31m# Convert the system inputs to NumPy arrays\u001b[0m\u001b[1;33m\u001b[0m\u001b[1;33m\u001b[0m\u001b[0m\n",
      "\u001b[1;31mControlSlycot\u001b[0m: can't find slycot module 'sb01bd'"
     ]
    }
   ],
   "source": [
    "t = np.arange(0,2,0.01)\n",
    "u = 0.001*ones(size(t))\n",
    "sys_cl = ss(A-B*K,B,C,0)\n",
    "# lsim(sys_cl,u,t);\n",
    "# xlabel('Time (sec)')\n",
    "# ylabel('Ball Position (m)')\n",
    "# axis([0 2 -4E-6 0])"
   ]
  },
  {
   "cell_type": "markdown",
   "metadata": {
    "slideshow": {
     "slide_type": "notes"
    }
   },
   "source": [
    "The system does not track the step well at all; not only is the magnitude not one, but it is negative instead of positive! Recall the schematic above, we don't compare the output to the reference; instead we measure all the states, multiply by the gain vector K, and then subtract this result from the reference.  There is no reason to expect that K*x will be equal to the desired output.  To eliminate this problem, we can scale the reference input to make it equal to K*x steadystate.  This scale factor is often called |Nbar|; it is introduced as shown in the following schematic:\n",
    "![StateSpaceTutorial_ReferenceInput_BlockDiagram.png](figures/StateSpaceTutorial_ReferenceInput_BlockDiagram.png)\n",
    "We can get Nbar from MATLAB by using the function |rscale| (place the following line of code after |K| = ...)."
   ]
  },
  {
   "cell_type": "code",
   "execution_count": 8,
   "metadata": {
    "collapsed": true,
    "slideshow": {
     "slide_type": "notes"
    }
   },
   "outputs": [],
   "source": [
    "# Nbar = rscale(sys,K)"
   ]
  },
  {
   "cell_type": "markdown",
   "metadata": {
    "slideshow": {
     "slide_type": "notes"
    }
   },
   "source": [
    "Note that this function is not standard in MATLAB.  You will need download it here, <Content/Introduction/Control/StateSpace/rscale.m rscale.m>, and save it to your current workspace. Now, if we want to find the response of the system under state feedback with this introduction of the reference, we simply note the fact that the input is multiplied by this new factor, |Nbar|:"
   ]
  },
  {
   "cell_type": "code",
   "execution_count": 9,
   "metadata": {
    "collapsed": true,
    "slideshow": {
     "slide_type": "notes"
    }
   },
   "outputs": [],
   "source": [
    "# lsim(sys_cl,Nbar*u,t)\n",
    "# title('Linear Simulation Results (with Nbar)')\n",
    "# xlabel('Time (sec)')\n",
    "# ylabel('Ball Position (m)')\n",
    "# axis([0 2 0 1.2*10^-3])"
   ]
  },
  {
   "cell_type": "markdown",
   "metadata": {
    "slideshow": {
     "slide_type": "notes"
    }
   },
   "source": [
    "and now a step can be tracked reasonably well.\n",
    "\n",
    "## Observer Design\n",
    "\n",
    "When we can't measure all the states |x| (often the case in practice), we can build an **observer** to estimate them, while measuring only the output |y = C x|.  For the magnetic ball example, we will add three new, estimated states to the system.  The schematic is as follows:\n",
    "![StateSpaceTutorial_ObserverDesign_BlockDiagram.png](figures/StateSpaceTutorial_ObserverDesign_BlockDiagram.png)\n",
    "The observer is basically a copy of the plant; it has the same input and almost the same differential equation.  An extra term compares the actual measured output |y| to the estimated output y_hat; this will cause the estimated states \\hat{x} to approach the values of the actual states |x|. The error dynamics of the observer are given by the poles of (A-LC). First, we need to choose the observer gain L.  Since we want the dynamics of the observer to be much faster than the system itself, we need to place the poles at least five times farther to the left than the dominant poles of the system.  If we want to use |place|, we need to put the three observer poles at different locations."
   ]
  },
  {
   "cell_type": "code",
   "execution_count": 10,
   "metadata": {
    "collapsed": true,
    "slideshow": {
     "slide_type": "notes"
    }
   },
   "outputs": [],
   "source": [
    "# op1 = -100;\n",
    "# op2 = -101;\n",
    "# op3 = -102;"
   ]
  },
  {
   "cell_type": "markdown",
   "metadata": {
    "slideshow": {
     "slide_type": "notes"
    }
   },
   "source": [
    "Because of the duality between controllability and observability, we can use the same technique used to find the control matrix, but replacing the matrix B by the matrix C and taking the transposes of each matrix"
   ]
  },
  {
   "cell_type": "code",
   "execution_count": 11,
   "metadata": {
    "collapsed": true,
    "slideshow": {
     "slide_type": "notes"
    }
   },
   "outputs": [],
   "source": [
    "# L = place(A',C',[op1 op2 op3])';"
   ]
  },
  {
   "cell_type": "markdown",
   "metadata": {
    "slideshow": {
     "slide_type": "notes"
    }
   },
   "source": [
    "The equations in the block diagram above are given for \\hat{x}.  It is conventional to write the combined equations for the system plus observer using the original state |x| plus the error state: |e = x - \\hat{x}|.  We use as state feedback |u = -K \\hat{x}|.  After a little bit of algebra (consult your textbook for more details), we arrive at the combined state and error equations with the full-state feedback and an observer."
   ]
  },
  {
   "cell_type": "code",
   "execution_count": 12,
   "metadata": {
    "collapsed": false,
    "slideshow": {
     "slide_type": "notes"
    }
   },
   "outputs": [
    {
     "ename": "NameError",
     "evalue": "name 'A' is not defined",
     "output_type": "error",
     "traceback": [
      "\u001b[1;31m---------------------------------------------------------------------------\u001b[0m",
      "\u001b[1;31mNameError\u001b[0m                                 Traceback (most recent call last)",
      "\u001b[1;32m<ipython-input-12-483ceb423d26>\u001b[0m in \u001b[0;36m<module>\u001b[1;34m()\u001b[0m\n\u001b[1;32m----> 1\u001b[1;33m \u001b[0mAt\u001b[0m \u001b[1;33m=\u001b[0m \u001b[0mnumpy\u001b[0m\u001b[1;33m.\u001b[0m\u001b[0marray\u001b[0m\u001b[1;33m(\u001b[0m\u001b[1;33m[\u001b[0m\u001b[1;33m[\u001b[0m\u001b[0mA\u001b[0m\u001b[1;33m-\u001b[0m\u001b[0mB\u001b[0m\u001b[1;33m*\u001b[0m\u001b[0mK\u001b[0m\u001b[1;33m,\u001b[0m\u001b[0mB\u001b[0m\u001b[1;33m*\u001b[0m\u001b[0mK\u001b[0m\u001b[1;33m,\u001b[0m\u001b[0mzeros\u001b[0m\u001b[1;33m(\u001b[0m\u001b[0msize\u001b[0m\u001b[1;33m(\u001b[0m\u001b[0mA\u001b[0m\u001b[1;33m)\u001b[0m\u001b[1;33m)\u001b[0m\u001b[1;33m,\u001b[0m\u001b[0mA\u001b[0m\u001b[1;33m-\u001b[0m\u001b[0mL\u001b[0m\u001b[1;33m*\u001b[0m\u001b[0mC\u001b[0m\u001b[1;33m]\u001b[0m\u001b[1;33m]\u001b[0m\u001b[1;33m)\u001b[0m\u001b[1;33m\u001b[0m\u001b[0m\n\u001b[0m\u001b[0;32m      2\u001b[0m \u001b[0mBt\u001b[0m \u001b[1;33m=\u001b[0m \u001b[0mnumpy\u001b[0m\u001b[1;33m.\u001b[0m\u001b[0marray\u001b[0m\u001b[1;33m(\u001b[0m\u001b[1;33m[\u001b[0m\u001b[1;33m[\u001b[0m\u001b[0mB\u001b[0m\u001b[1;33m*\u001b[0m\u001b[0mNbar\u001b[0m\u001b[1;33m,\u001b[0m\u001b[0mzeros\u001b[0m\u001b[1;33m(\u001b[0m\u001b[0msize\u001b[0m\u001b[1;33m(\u001b[0m\u001b[0mB\u001b[0m\u001b[1;33m)\u001b[0m\u001b[1;33m)\u001b[0m\u001b[1;33m]\u001b[0m\u001b[1;33m]\u001b[0m\u001b[1;33m)\u001b[0m\u001b[1;33m\u001b[0m\u001b[0m\n\u001b[0;32m      3\u001b[0m \u001b[0mCt\u001b[0m \u001b[1;33m=\u001b[0m \u001b[0mnumpy\u001b[0m\u001b[1;33m.\u001b[0m\u001b[0marray\u001b[0m\u001b[1;33m(\u001b[0m\u001b[1;33m[\u001b[0m\u001b[1;33m[\u001b[0m\u001b[0mC\u001b[0m\u001b[1;33m,\u001b[0m\u001b[0mzeros\u001b[0m\u001b[1;33m(\u001b[0m\u001b[0msize\u001b[0m\u001b[1;33m(\u001b[0m\u001b[0mC\u001b[0m\u001b[1;33m)\u001b[0m\u001b[1;33m)\u001b[0m\u001b[1;33m]\u001b[0m\u001b[1;33m]\u001b[0m\u001b[1;33m)\u001b[0m\u001b[1;33m\u001b[0m\u001b[0m\n\u001b[0;32m      4\u001b[0m \u001b[1;31m# At = [ A-B*K             B*K\u001b[0m\u001b[1;33m\u001b[0m\u001b[1;33m\u001b[0m\u001b[0m\n\u001b[0;32m      5\u001b[0m \u001b[1;31m#        zeros(size(A))    A-L*C ];\u001b[0m\u001b[1;33m\u001b[0m\u001b[1;33m\u001b[0m\u001b[0m\n",
      "\u001b[1;31mNameError\u001b[0m: name 'A' is not defined"
     ]
    }
   ],
   "source": [
    "At = numpy.array([[A-B*K,B*K,zeros(size(A)),A-L*C]])\n",
    "Bt = numpy.array([[B*Nbar,zeros(size(B))]])\n",
    "Ct = numpy.array([[C,zeros(size(C))]])\n",
    "# At = [ A-B*K             B*K\n",
    "#        zeros(size(A))    A-L*C ];\n",
    "# Bt = [    B*Nbar\n",
    "#        zeros(size(B)) ];\n",
    "# Ct = [ C    zeros(size(C)) ];"
   ]
  },
  {
   "cell_type": "markdown",
   "metadata": {
    "slideshow": {
     "slide_type": "notes"
    }
   },
   "source": [
    "To see how the response looks to a nonzero initial condition with no reference input, add the following lines into your |m-file|. We typically assume that the observer begins with zero initial condition, \\hat{x} = 0. This gives us that the initial condition for the error is equal to the initial condition of the state."
   ]
  },
  {
   "cell_type": "code",
   "execution_count": 13,
   "metadata": {
    "collapsed": true,
    "slideshow": {
     "slide_type": "notes"
    }
   },
   "outputs": [],
   "source": [
    "# sys = ss(At,Bt,Ct,0);\n",
    "# lsim(sys,zeros(size(t)),t,[x0 x0]);\n",
    "# title('Linear Simulation Results (with observer)')\n",
    "# xlabel('Time (sec)')\n",
    "# ylabel('Ball Position (m)')"
   ]
  },
  {
   "cell_type": "markdown",
   "metadata": {
    "slideshow": {
     "slide_type": "notes"
    }
   },
   "source": [
    "Responses of all the states are plotted below.  Recall that |lsim| gives us |x| and |e|; to get |\\hat{x}|, we need to compute |x - e|."
   ]
  },
  {
   "cell_type": "code",
   "execution_count": 14,
   "metadata": {
    "collapsed": true,
    "slideshow": {
     "slide_type": "notes"
    }
   },
   "outputs": [],
   "source": [
    "x0 = numpy.array([[0.01,0.5,-5]])\n",
    "# t = 0:1E-6:0.1;\n",
    "# x0 = [0.01 0.5 -5];\n",
    "# [y,t,x] = lsim(sys,zeros(size(t)),t,[x0 x0]);\n",
    "# n = 3;\n",
    "# e = x(:,n+1:end);\n",
    "# x = x(:,1:n);\n",
    "# x_est = x - e;"
   ]
  },
  {
   "cell_type": "markdown",
   "metadata": {
    "slideshow": {
     "slide_type": "notes"
    }
   },
   "source": [
    "Save state variables explicitly to aid in plotting"
   ]
  },
  {
   "cell_type": "code",
   "execution_count": 15,
   "metadata": {
    "collapsed": true,
    "slideshow": {
     "slide_type": "notes"
    }
   },
   "outputs": [],
   "source": [
    "# h = x(:,1); h_dot = x(:,2); i = x(:,3);\n",
    "# h_est = x_est(:,1); h_dot_est = x_est(:,2); i_est = x_est(:,3);\n",
    "# plot(t,h,'-r',t,h_est,':r',t,h_dot,'-b',t,h_dot_est,':b',t,i,'-g',t,i_est,':g')\n",
    "# xlabel('Time (sec)')"
   ]
  },
  {
   "cell_type": "code",
   "execution_count": 16,
   "metadata": {
    "collapsed": false,
    "exporter": {
     "cell_type": "toc"
    },
    "slideshow": {
     "slide_type": "skip"
    }
   },
   "outputs": [
    {
     "data": {
      "application/javascript": [
       "$.getScript('https://kmahelona.github.io/ipython_notebook_goodies/ipython_notebook_toc.js')"
      ],
      "text/plain": [
       "<IPython.core.display.Javascript object>"
      ]
     },
     "metadata": {},
     "output_type": "display_data"
    }
   ],
   "source": [
    "%%javascript\n",
    "$.getScript('https://kmahelona.github.io/ipython_notebook_goodies/ipython_notebook_toc.js')"
   ]
  }
 ],
 "metadata": {
  "celltoolbar": "Slideshow",
  "kernelspec": {
   "display_name": "Python 3",
   "language": "python",
   "name": "python3"
  },
  "language_info": {
   "codemirror_mode": {
    "name": "ipython",
    "version": 3
   },
   "file_extension": ".py",
   "mimetype": "text/x-python",
   "name": "python",
   "nbconvert_exporter": "python",
   "pygments_lexer": "ipython3",
   "version": "3.4.4"
  },
  "nikola": {
   "author": "d@h",
   "category": "Introduction",
   "date": "2016-02-16 08:00:00 UTC",
   "description": "Controls Tutorials for Python",
   "link": "",
   "slug": "introduction-controlstatespace",
   "tags": "ControlStateSpace",
   "title": "Introduction - Control State Space",
   "type": ""
  }
 },
 "nbformat": 4,
 "nbformat_minor": 0
}
