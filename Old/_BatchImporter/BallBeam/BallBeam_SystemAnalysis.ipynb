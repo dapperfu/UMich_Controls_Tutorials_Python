{
 "cells": [
  {
   "cell_type": "code",
   "execution_count": 1,
   "metadata": {
    "exporter": {
     "cell_type": "init"
    },
    "slideshow": {
     "slide_type": "skip"
    }
   },
   "outputs": [
    {
     "name": "stdout",
     "output_type": "stream",
     "text": [
      "Using matplotlib backend: TkAgg\n",
      "Populating the interactive namespace from numpy and matplotlib\n"
     ]
    }
   ],
   "source": [
    "%pylab \n",
    "%matplotlib inline\n",
    "import sympy\n",
    "from control.matlab import *\n",
    "from sympy import Poly\n",
    "from sympy.abc import s, z\n",
    "from IPython.display import display,Latex"
   ]
  },
  {
   "cell_type": "markdown",
   "metadata": {
    "exporter": {
     "cell_type": "toc"
    },
    "slideshow": {
     "slide_type": "skip"
    }
   },
   "source": [
    "<div id=\"toc\"></div>"
   ]
  },
  {
   "cell_type": "markdown",
   "metadata": {
    "slideshow": {
     "slide_type": "notes"
    }
   },
   "source": [
    "# Ball & Beam: System Analysis\n",
    "\n",
    "\n",
    "\n",
    "## System model\n",
    "\n",
    "The transfer function from the gear angle ($\\theta(s)$) to the ball position ($R(s)$), as derived in the [Ball & Beam: System Modeling](../BallBeam/BallBeam-SystemModeling.ipynb) page.\n",
    "\n",
    "$$\n",
    "P(s) = \\frac{R(s)}{\\Theta(s)} = -\\frac{mgd}{L \\left(\\frac{J}{R^2}+m\\right)} \\frac{1}{s^2} \\qquad [ \\frac{m}{rad} ]\n",
    "$$\n",
    "\n",
    "Open a new [m-file](../Extras_Mfile.ipynb) and add the following code to create a transfer function model in MATLAB."
   ]
  },
  {
   "cell_type": "code",
   "execution_count": 2,
   "metadata": {
    "slideshow": {
     "slide_type": "notes"
    }
   },
   "outputs": [],
   "source": [
    "# m = 0.111;\n",
    "# R = 0.015;\n",
    "# g = -9.8;\n",
    "# L = 1.0;\n",
    "# d = 0.03;\n",
    "# J = 9.99e-6;\n",
    "# s = tf('s');\n",
    "# P_ball = -m*g*d/L/(J/R^2+m)/s^2"
   ]
  },
  {
   "cell_type": "markdown",
   "metadata": {
    "slideshow": {
     "slide_type": "notes"
    }
   },
   "source": [
    "## Pole/zero map\n",
    "\n",
    "The Ball and Beam system is a type II system which has two poles at the origin, as seen in the pole/zero map below.  Since the poles are not strictly in the left half plane, the open loop system will be unstable as seen in the step response below."
   ]
  },
  {
   "cell_type": "code",
   "execution_count": 3,
   "metadata": {
    "slideshow": {
     "slide_type": "notes"
    }
   },
   "outputs": [],
   "source": [
    "# pzmap(P_ball)"
   ]
  },
  {
   "cell_type": "markdown",
   "metadata": {
    "slideshow": {
     "slide_type": "notes"
    }
   },
   "source": [
    "## Open-loop step response\n",
    "\n",
    "Now, we would like to observe the ball's response to a step input on the motor servo gear angle theta (1-radian step). To do this you will need to add the following line to your m-file."
   ]
  },
  {
   "cell_type": "code",
   "execution_count": 4,
   "metadata": {
    "slideshow": {
     "slide_type": "notes"
    }
   },
   "outputs": [],
   "source": [
    "# step(P_ball)"
   ]
  },
  {
   "cell_type": "code",
   "execution_count": 5,
   "metadata": {
    "exporter": {
     "cell_type": "toc"
    },
    "slideshow": {
     "slide_type": "skip"
    }
   },
   "outputs": [
    {
     "data": {
      "application/javascript": [
       "$.getScript('https://kmahelona.github.io/ipython_notebook_goodies/ipython_notebook_toc.js')"
      ],
      "text/plain": [
       "<IPython.core.display.Javascript object>"
      ]
     },
     "metadata": {},
     "output_type": "display_data"
    }
   ],
   "source": [
    "%%javascript\n",
    "$.getScript('https://kmahelona.github.io/ipython_notebook_goodies/ipython_notebook_toc.js')"
   ]
  }
 ],
 "metadata": {
  "celltoolbar": "Slideshow",
  "nikola": {
   "author": "d@h",
   "category": "BallBeam",
   "date": "2016-02-16 08:00:00 UTC",
   "description": "Controls Tutorials for Python",
   "link": "",
   "slug": "ballbeam-systemanalysis",
   "tags": "SystemAnalysis",
   "title": "Ball Beam - System Analysis",
   "type": ""
  }
 },
 "nbformat": 4,
 "nbformat_minor": 0
}
