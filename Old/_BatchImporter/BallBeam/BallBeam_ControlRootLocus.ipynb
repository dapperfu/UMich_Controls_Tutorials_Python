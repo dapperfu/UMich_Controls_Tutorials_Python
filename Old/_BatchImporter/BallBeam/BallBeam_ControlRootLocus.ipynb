{
 "cells": [
  {
   "cell_type": "code",
   "execution_count": 1,
   "metadata": {
    "exporter": {
     "cell_type": "init"
    },
    "slideshow": {
     "slide_type": "skip"
    }
   },
   "outputs": [
    {
     "name": "stdout",
     "output_type": "stream",
     "text": [
      "Using matplotlib backend: TkAgg\n",
      "Populating the interactive namespace from numpy and matplotlib\n"
     ]
    }
   ],
   "source": [
    "%pylab \n",
    "%matplotlib inline\n",
    "import sympy\n",
    "from control.matlab import *\n",
    "from sympy import Poly\n",
    "from sympy.abc import s, z\n",
    "from IPython.display import display,Latex"
   ]
  },
  {
   "cell_type": "markdown",
   "metadata": {
    "exporter": {
     "cell_type": "toc"
    },
    "slideshow": {
     "slide_type": "skip"
    }
   },
   "source": [
    "<div id=\"toc\"></div>"
   ]
  },
  {
   "cell_type": "markdown",
   "metadata": {
    "slideshow": {
     "slide_type": "notes"
    }
   },
   "source": [
    "# Ball & Beam: Root Locus Controller Design\n",
    "\n",
    "The open-loop transfer function of the plant for the ball and beam experiment is given below:\n",
    "\n",
    "$$\n",
    "P(s) = \\frac{R(s)}{\\Theta(s)} = -\\frac{mgd}{L\\left(\\frac{J}{R^2}+m\\right)}\\frac{1}{s^2} \\qquad [ \\frac{m}{rad} ]\n",
    "$$\n",
    "\n",
    "The design criteria for this problem are:\n",
    "* Settling time less than 3 seconds\n",
    "* Overshoot less than 5 To see the derivation of the equations for this problem refer to the [Ball & Beam: System Modeling](../BallBeam/BallBeam-SystemModeling.ipynb) page.\n",
    "![feedback_ball.png](figures/feedback_ball.png)\n",
    "\n",
    "\n",
    "## Open-loop root locus\n",
    "\n",
    "The main idea of the root locus design is to estimate the closed-loop response from the open-loop root locus plot. By adding zeroes and/or poles to the original system (adding a compensator), the root locus and thus the closed-loop response will be modified. Let us first view the root locus for the plant in open loop. Create a new [m-file](../Extras_Mfile.ipynb) with the following MATLAB code in order to model the plant and plot the root locus. Now, run the m-file and you should see the following root locus plot:"
   ]
  },
  {
   "cell_type": "code",
   "execution_count": 2,
   "metadata": {
    "slideshow": {
     "slide_type": "notes"
    }
   },
   "outputs": [],
   "source": [
    "# m = 0.111;\n",
    "# R = 0.015;\n",
    "# g = -9.8;\n",
    "# L = 1.0;\n",
    "# d = 0.03;\n",
    "# J = 9.99e-6;\n",
    "# s = tf('s');\n",
    "# P_ball = -m*g*d/L/(J/R^2+m)/s^2;\n",
    "# rlocus(P_ball)"
   ]
  },
  {
   "cell_type": "markdown",
   "metadata": {
    "slideshow": {
     "slide_type": "notes"
    }
   },
   "source": [
    "As you can see the system has two poles at the origin which go off to infinity along the imaginary axes. The design criteria can also be plotted onto the root locus using the sgrid command. This command generates a grid of constant damping ratio and natural frequency. The damping ratio and natural frequency were found using the following equation, which relates them to our percent overshoot (%OS) and settling time (Ts) requirements:\n",
    "\n",
    "$$\n",
    "\\%OS = 100 e^{-\\zeta \\pi \\sqrt{1-\\zeta^2}}\n",
    "$$\n",
    "\n",
    "\n",
    "\n",
    "$$\n",
    "T_s = \\frac{4}{\\zeta \\omega_n}\n",
    "$$\n",
    "\n",
    "Note, that the equation with Ts is found by assuming the system has settled is when the response remains within 2% of its final value. From these equations, the damping ratio and natural frequency were found to be 0.7 and 1.9 respectively."
   ]
  },
  {
   "cell_type": "code",
   "execution_count": 3,
   "metadata": {
    "slideshow": {
     "slide_type": "notes"
    }
   },
   "outputs": [],
   "source": [
    "# sgrid(0.70, 1.9)\n",
    "# axis([-5 5 -2 2])"
   ]
  },
  {
   "cell_type": "markdown",
   "metadata": {
    "slideshow": {
     "slide_type": "notes"
    }
   },
   "source": [
    "The area between the two dotted diagonal lines represents locations where the percent overshoot is less than 5%. The area outside the curved line represents locations where the settling time is less than 3 seconds. Note that no region of the plot falls within the design criteria shown be these lines. To remedy this and bring the root locus into the left-hand plane for stability we will try adding a lead-compensator to the system.\n",
    "\n",
    "## Lead controller\n",
    "\n",
    "A first order lead compensator tends to shift the root locus into the left-hand plane. For a more detailed description of lead compensators refer to the [& Lag Compensator Design](../Extras_Leadlag Lead.ipynb) page. A lead compensator has the form given below:\n",
    "\n",
    "$$\n",
    "C(s) = K_c \\frac{(s-z_0)}{(s-p_0)}\n",
    "$$\n",
    "\n",
    "where, the magnitude of \\\\(z_0\\\\) is less than the magnitude of $p_0$. Now, let us add the controller to the plant and view the root locus. We will position the zero near the origin to cancel out one of the poles. The pole of our compensator will be placed to the left of the origin to pull the root locus further into the left-hand plane. Add the following lines of MATLAB code to your m-file. Run your m-file in the MATLAB command window and you should see the following:"
   ]
  },
  {
   "cell_type": "code",
   "execution_count": 4,
   "metadata": {
    "slideshow": {
     "slide_type": "notes"
    }
   },
   "outputs": [],
   "source": [
    "# zo = 0.01;\n",
    "# po = 5;\n",
    "# C=tf([1 zo],[1 po]);\n",
    "# rlocus(C*P_ball)\n",
    "# sgrid(0.70, 1.9)"
   ]
  },
  {
   "cell_type": "code",
   "execution_count": 5,
   "metadata": {
    "exporter": {
     "cell_type": "toc"
    },
    "slideshow": {
     "slide_type": "skip"
    }
   },
   "outputs": [
    {
     "data": {
      "application/javascript": [
       "$.getScript('https://kmahelona.github.io/ipython_notebook_goodies/ipython_notebook_toc.js')"
      ],
      "text/plain": [
       "<IPython.core.display.Javascript object>"
      ]
     },
     "metadata": {},
     "output_type": "display_data"
    }
   ],
   "source": [
    "%%javascript\n",
    "$.getScript('https://kmahelona.github.io/ipython_notebook_goodies/ipython_notebook_toc.js')"
   ]
  }
 ],
 "metadata": {
  "celltoolbar": "Slideshow",
  "nikola": {
   "author": "d@h",
   "category": "BallBeam",
   "date": "2016-02-16 08:00:00 UTC",
   "description": "Controls Tutorials for Python",
   "link": "",
   "slug": "ballbeam-controlrootlocus",
   "tags": "ControlRootLocus",
   "title": "Ball Beam - Control Root Locus",
   "type": ""
  }
 },
 "nbformat": 4,
 "nbformat_minor": 0
}
