{
 "cells": [
  {
   "cell_type": "code",
   "execution_count": 1,
   "metadata": {
    "exporter": {
     "cell_type": "init"
    },
    "slideshow": {
     "slide_type": "skip"
    }
   },
   "outputs": [
    {
     "name": "stdout",
     "output_type": "stream",
     "text": [
      "Using matplotlib backend: TkAgg\n",
      "Populating the interactive namespace from numpy and matplotlib\n"
     ]
    }
   ],
   "source": [
    "%pylab \n",
    "%matplotlib inline\n",
    "import sympy\n",
    "from control.matlab import *\n",
    "from sympy import Poly\n",
    "from sympy.abc import s, z\n",
    "from IPython.display import display,Latex"
   ]
  },
  {
   "cell_type": "markdown",
   "metadata": {
    "exporter": {
     "cell_type": "toc"
    },
    "slideshow": {
     "slide_type": "skip"
    }
   },
   "source": [
    "<div id=\"toc\"></div>"
   ]
  },
  {
   "cell_type": "markdown",
   "metadata": {
    "slideshow": {
     "slide_type": "notes"
    }
   },
   "source": [
    "# Ball & Beam: Frequency Domain Methods for Controller Design\n",
    "\n",
    "The open-loop transfer function of the plant for the ball and beam experiment is given below:\n",
    "\n",
    "$$\n",
    "P(s) = \\frac{R(s)}{\\Theta(s)} = -\\frac{mgd}{L\\left(\\frac{J}{R^2}+m\\right)}\\frac{1}{s^2} \\qquad [ \\frac{rad}{V}  ]\n",
    "$$\n",
    "\n",
    "The design criteria for this problem are:\n",
    "* Settling time less than 3 seconds\n",
    "* Overshoot less than 5 To see the derivation of the equations for this problem refer to the [Ball & Beam: System Modeling](../BallBeam/BallBeam-SystemModeling.ipynb) page.\n",
    "![feedback_ball.png](figures/feedback_ball.png)\n",
    "\n",
    "\n",
    "## Open-loop bode plot\n",
    "\n",
    "The main idea of frequency based design is to use the Bode plot of the open-loop transfer function to estimate the closed-loop response. Adding a controller to the system changes the open-loop Bode plot, therefore changing the closed-loop response. Let's first draw the bode plot for the original open-loop transfer function. Create a new [m-file](../Extras_Mfile.ipynb) with the following code and then run it in the MATLAB command window. You should get the following Bode plot:"
   ]
  },
  {
   "cell_type": "code",
   "execution_count": 2,
   "metadata": {
    "slideshow": {
     "slide_type": "notes"
    }
   },
   "outputs": [],
   "source": [
    "# m = 0.111;\n",
    "# R = 0.015;\n",
    "# g = -9.8;\n",
    "# L = 1.0;\n",
    "# d = 0.03;\n",
    "# J = 9.99e-6;\n",
    "# s = tf('s');\n",
    "# P_ball = -m*g*d/L/(J/R^2+m)/s^2;\n",
    "# bode(P_ball)"
   ]
  },
  {
   "cell_type": "markdown",
   "metadata": {
    "slideshow": {
     "slide_type": "notes"
    }
   },
   "source": [
    "From this plot we see that the phase margin is zero. Since the phase margin is defined as the change in open-loop phase shift necessary to make a closed-loop system unstable this means that our zero phase margin indicates our system is unstable. We want to increase the phase margin and we can use a lead compensator controller to do this. For more information on Phase and Gain margins please refer to the [Introduction: Frequency Domain Methods for Controller Design](../Introduction/Introduction-ControlFrequency.ipynb) page.\n",
    "\n",
    "## Phase-lead controller\n",
    "\n",
    "A first order phase-lead compensator has the form given below:\n",
    "\n",
    "$$\n",
    "C(s) = K \\left( \\frac{1+Ts}{1+aTs} \\right)\n",
    "$$\n",
    "\n",
    "The phase-lead compensator will add positive phase to our system over the frequency range 1/aT and 1/T, which are called the corner frequencies. The maximum added phase for one lead compensator is 90 degrees. For our controller design we need a percent overshoot of less than 5 %, which corresponds to a \\\\(\\zeta\\\\) of 0.7. Generally \\\\(\\zeta\\\\) * 100 will give you the minimum phase margin needed to obtain your desired overshoot. Therefore we require a phase margin greater than 70 degrees. To obtain \"T\" and \"a\", the following steps can be used. *1. Determine the positive phase needed:* We need at least 70 degrees from our controller. *2. Determine the frequency where the phase should be added (center frequency):* In our case this is difficult to determine because the phase vs. frequency graph in the bode plot is a flat line. However, we have a relation between bandwidth frequency ($\\omega_{\\mathrm{bw}}$ ) and settling time which tells us that \\\\(\\omega_{\\mathrm{bw}}\\\\) is approximately 1.92 rad/s. Therefore we want a center frequency just before this. For now we will choose 1. *3. Determine the constant \"a\" from the equation below:* this determines the required space between the zero and the pole for the maximum phase added.\n",
    "\n",
    "$$\n",
    "a =\\frac{1-\\sin\\phi}{1+\\sin\\phi}\n",
    "$$\n",
    "\n",
    "where phi refers to the desired phase margin. For 70 degrees, a = 0.0311. *4. Determine \"T\" and \"aT\" from the following equations:*\n",
    "\n",
    "$$\n",
    "T = \\frac{1}{w \\sqrt{a}}\n",
    "$$\n",
    "\n",
    "\n",
    "\n",
    "$$\n",
    "aT = \\frac{\\sqrt{a}}{w}\n",
    "$$\n",
    "\n",
    "For 70 degrees and center frequency (w) = 1, aT = 0.176 and T = 5.67 Now, we can add our lead controller to the system and view the bode plot. Remove the |bode| command from your m-file and add the following. You should get the following bode plot:"
   ]
  },
  {
   "cell_type": "code",
   "execution_count": 3,
   "metadata": {
    "slideshow": {
     "slide_type": "notes"
    }
   },
   "outputs": [],
   "source": [
    "# phi=70*pi/180;\n",
    "# a=(1-sin(phi))/(1+sin(phi));\n",
    "# w=1;\n",
    "# T=1/(w*sqrt(a));\n",
    "# K = 1;\n",
    "# C = K*(1+T*s)/(1+a*T*s);\n",
    "# bode(C*P_ball)"
   ]
  },
  {
   "cell_type": "markdown",
   "metadata": {
    "slideshow": {
     "slide_type": "notes"
    }
   },
   "source": [
    "You can see that our phase margin is now 70 degrees. Let's check the closed-loop response to a step input of 0.25m. Add the following to your m-file. You should get the following plot:"
   ]
  },
  {
   "cell_type": "code",
   "execution_count": 4,
   "metadata": {
    "slideshow": {
     "slide_type": "notes"
    }
   },
   "outputs": [],
   "source": [
    "# sys_cl = feedback(C*P_ball,1);\n",
    "# t = 0:0.01:5;\n",
    "# step(0.25*sys_cl,t)"
   ]
  },
  {
   "cell_type": "markdown",
   "metadata": {
    "slideshow": {
     "slide_type": "notes"
    }
   },
   "source": [
    "Although the system is now stable and the overshoot is only slightly over 5%, the settling time is not satisfactory. Increasing the gain will increase the crossover frequency and make the response faster. With k = 5, your response should look like:"
   ]
  },
  {
   "cell_type": "code",
   "execution_count": 5,
   "metadata": {
    "slideshow": {
     "slide_type": "notes"
    }
   },
   "outputs": [],
   "source": [
    "# K = 5;\n",
    "# C = K*(1+T*s)/(1+a*T*s);\n",
    "# sys_cl = feedback(C*P_ball,1);\n",
    "# bode(C*P_ball)\n",
    "# step(0.25*sys_cl,t)"
   ]
  },
  {
   "cell_type": "markdown",
   "metadata": {
    "slideshow": {
     "slide_type": "notes"
    }
   },
   "source": [
    "The response is faster, however, the overshoot is much too high. Increasing the gain further will just make the overshoot worse.\n",
    "\n",
    "## Adding more phase\n",
    "\n",
    "We can increase our phase-lead compensator to decrease the overshoot. Create an m-file and copy the following code from your web-browser into it:"
   ]
  },
  {
   "cell_type": "code",
   "execution_count": 6,
   "metadata": {
    "slideshow": {
     "slide_type": "notes"
    }
   },
   "outputs": [],
   "source": [
    "# pm = 80;\n",
    "# w  = 1;\n",
    "# K  = 1;"
   ]
  },
  {
   "cell_type": "markdown",
   "metadata": {
    "slideshow": {
     "slide_type": "notes"
    }
   },
   "source": [
    "view compensated system bode plot"
   ]
  },
  {
   "cell_type": "code",
   "execution_count": 7,
   "metadata": {
    "slideshow": {
     "slide_type": "notes"
    }
   },
   "outputs": [],
   "source": [
    "# pmr = pm*pi/180;\n",
    "# a = (1 - sin(pmr))/(1+sin(pmr));\n",
    "# T = sqrt(a)/w;\n",
    "# aT = 1/(w*sqrt(a));\n",
    "# C = K*(1+aT*s)/(1+T*s);\n",
    "# figure\n",
    "# bode(C*P_ball)"
   ]
  },
  {
   "cell_type": "markdown",
   "metadata": {
    "slideshow": {
     "slide_type": "notes"
    }
   },
   "source": [
    "view step response"
   ]
  },
  {
   "cell_type": "code",
   "execution_count": 8,
   "metadata": {
    "slideshow": {
     "slide_type": "notes"
    }
   },
   "outputs": [],
   "source": [
    "# sys_cl = feedback(C*P_ball,1);\n",
    "# t = 0:0.01:5;\n",
    "# figure\n",
    "# step(0.25*sys_cl,t)"
   ]
  },
  {
   "cell_type": "markdown",
   "metadata": {
    "slideshow": {
     "slide_type": "notes"
    }
   },
   "source": [
    "The overshoot is fine but the settling time is just a bit long. Try different numbers and see what happens. Using the following values the design criteria was met."
   ]
  },
  {
   "cell_type": "code",
   "execution_count": 9,
   "metadata": {
    "slideshow": {
     "slide_type": "notes"
    }
   },
   "outputs": [],
   "source": [
    "# pm = 85;\n",
    "# w  = 1.9;\n",
    "# K  = 2;"
   ]
  },
  {
   "cell_type": "markdown",
   "metadata": {
    "slideshow": {
     "slide_type": "notes"
    }
   },
   "source": [
    "view compensated system bode plot"
   ]
  },
  {
   "cell_type": "code",
   "execution_count": 10,
   "metadata": {
    "slideshow": {
     "slide_type": "notes"
    }
   },
   "outputs": [],
   "source": [
    "# pmr = pm*pi/180;\n",
    "# a = (1 - sin(pmr))/(1+sin(pmr));\n",
    "# T = sqrt(a)/w;\n",
    "# aT = 1/(w*sqrt(a));\n",
    "# C = K*(1+aT*s)/(1+T*s);\n",
    "# figure\n",
    "# bode(C*P_ball)"
   ]
  },
  {
   "cell_type": "markdown",
   "metadata": {
    "slideshow": {
     "slide_type": "notes"
    }
   },
   "source": [
    "view step response"
   ]
  },
  {
   "cell_type": "code",
   "execution_count": 11,
   "metadata": {
    "slideshow": {
     "slide_type": "notes"
    }
   },
   "outputs": [],
   "source": [
    "# sys_cl = feedback(C*P_ball,1);\n",
    "# t = 0:0.01:5;\n",
    "# figure\n",
    "# step(0.25*sys_cl,t)"
   ]
  },
  {
   "cell_type": "code",
   "execution_count": 12,
   "metadata": {
    "exporter": {
     "cell_type": "toc"
    },
    "slideshow": {
     "slide_type": "skip"
    }
   },
   "outputs": [
    {
     "data": {
      "application/javascript": [
       "$.getScript('https://kmahelona.github.io/ipython_notebook_goodies/ipython_notebook_toc.js')"
      ],
      "text/plain": [
       "<IPython.core.display.Javascript object>"
      ]
     },
     "metadata": {},
     "output_type": "display_data"
    }
   ],
   "source": [
    "%%javascript\n",
    "$.getScript('https://kmahelona.github.io/ipython_notebook_goodies/ipython_notebook_toc.js')"
   ]
  }
 ],
 "metadata": {
  "celltoolbar": "Slideshow",
  "nikola": {
   "author": "d@h",
   "category": "BallBeam",
   "date": "2016-02-16 08:00:00 UTC",
   "description": "Controls Tutorials for Python",
   "link": "",
   "slug": "ballbeam-controlfrequency",
   "tags": "ControlFrequency",
   "title": "Ball Beam - Control Frequency",
   "type": ""
  }
 },
 "nbformat": 4,
 "nbformat_minor": 0
}
