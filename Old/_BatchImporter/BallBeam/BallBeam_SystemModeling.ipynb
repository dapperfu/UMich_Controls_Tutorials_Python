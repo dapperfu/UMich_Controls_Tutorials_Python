{
 "cells": [
  {
   "cell_type": "code",
   "execution_count": 1,
   "metadata": {
    "exporter": {
     "cell_type": "init"
    },
    "slideshow": {
     "slide_type": "skip"
    }
   },
   "outputs": [
    {
     "name": "stdout",
     "output_type": "stream",
     "text": [
      "Using matplotlib backend: TkAgg\n",
      "Populating the interactive namespace from numpy and matplotlib\n"
     ]
    }
   ],
   "source": [
    "%pylab \n",
    "%matplotlib inline\n",
    "import sympy\n",
    "from control.matlab import *\n",
    "from sympy import Poly\n",
    "from sympy.abc import s, z\n",
    "from IPython.display import display,Latex"
   ]
  },
  {
   "cell_type": "markdown",
   "metadata": {
    "exporter": {
     "cell_type": "toc"
    },
    "slideshow": {
     "slide_type": "skip"
    }
   },
   "source": [
    "<div id=\"toc\"></div>"
   ]
  },
  {
   "cell_type": "markdown",
   "metadata": {
    "slideshow": {
     "slide_type": "notes"
    }
   },
   "source": [
    "# Ball & Beam: System Modeling\n",
    "\n",
    "\n",
    "\n",
    "## Physical setup\n",
    "\n",
    "A ball is placed on a beam, see figure below, where it is allowed to roll with 1 degree of freedom along the length of the beam. A lever arm is attached to the beam at one end and a servo gear at the other. As the servo gear turns by an angle $\\theta$, the lever changes the angle of the beam by $\\alpha$. When the angle is changed from the horizontal position, gravity causes the ball to roll along the beam. A controller will be designed for this system so that the ball's position can be manipulated.\n",
    "![bb2.png](figures/bb2.png)\n",
    "\n",
    "\n",
    "## System parameters\n",
    "\n",
    "For this problem, we will assume that the ball rolls without slipping and friction between the beam and ball is negligible. The constants and variables for this example are defined as follows: (m)      mass of the ball              0.11 kg (R)      radius of the ball            0.015 m (d)      lever arm offset              0.03 m (g)      gravitational acceleration    9.8 m/s^2 (L)      length of the beam            1.0 m (J)      ball's moment of inertia      9.99e-6 kg.m^2 (r)      ball position coordinate (alpha)  beam angle coordinate (theta)  servo gear angle\n",
    "\n",
    "## Design criteria\n",
    "\n",
    "\n",
    "* Settling time < 3 seconds\n",
    "* Overshoot < 5\n",
    "\n",
    "## System equations\n",
    "\n",
    "The second derivative of the input angle \\\\(\\alpha\\\\) actually affects the second derivative of $r$. However, we will ignore this contribution. The Lagrangian equation of motion for the ball is then given by the following:\n",
    "\n",
    "$$\n",
    "0 = \\left(\\frac{J}{R^2}+m\\right) \\ddot{r} + m g \\sin{\\alpha} - m r \\dot{\\alpha}^2\n",
    "$$\n",
    "\n",
    "Linearization of this equation about the beam angle, $\\alpha = 0$, gives us the following linear approximation of the system:\n",
    "\n",
    "$$\n",
    "\\left(\\frac{J}{R^2}+m\\right) \\ddot{r} = - m g \\alpha\n",
    "$$\n",
    "\n",
    "The equation which relates the beam angle to the angle of the gear can be approximated as linear by the equation below:\n",
    "\n",
    "$$\n",
    "\\alpha = \\frac{d}{L}\\theta\n",
    "$$\n",
    "\n",
    "Substituting this into the previous equation, we get:\n",
    "\n",
    "$$\n",
    "\\left(\\frac{J}{R^2}+m\\right) \\ddot{r} = - m g \\frac{d}{L} \\theta\n",
    "$$\n",
    "\n",
    "*1. Transfer Function* Taking the Laplace transform of the equation above, the following equation is found:\n",
    "\n",
    "$$\n",
    "\\left(\\frac{J}{R^2}+m\\right) R(s) s^2 = - m g \\frac{d}{L} \\Theta(s)\n",
    "$$\n",
    "\n",
    "Rearranging we find the transfer function from the gear angle ($\\theta(s)$) to the ball position ($R(s)$).\n",
    "\n",
    "$$\n",
    "P(s) = \\frac{R(s)}{\\Theta(s)} = -\\frac{mgd}{L \\left(\\frac{J}{R^2}+m\\right)} \\frac{1}{s^2} \\qquad [ \\frac{m}{rad} ]\n",
    "$$\n",
    "\n",
    "It should be noted that the above plant transfer function is a double integrator. As such it is marginally stable and will provide a challenging control problem. The transfer function can be implemented in MATLAB as follows:"
   ]
  },
  {
   "cell_type": "code",
   "execution_count": 2,
   "metadata": {
    "slideshow": {
     "slide_type": "notes"
    }
   },
   "outputs": [],
   "source": [
    "# m = 0.111;\n",
    "# R = 0.015;\n",
    "# g = -9.8;\n",
    "# L = 1.0;\n",
    "# d = 0.03;\n",
    "# J = 9.99e-6;\n",
    "# s = tf('s');\n",
    "# P_ball = -m*g*d/L/(J/R^2+m)/s^2"
   ]
  },
  {
   "cell_type": "markdown",
   "metadata": {
    "slideshow": {
     "slide_type": "notes"
    }
   },
   "source": [
    "*2. State-Space* The linearized system equations can also be represented in state-space form. This can be done by selecting the ball's position ($r$) and velocity ($\\dot{r}$) as the state variable and the gear angle ($\\theta$) as the input. The state-space representation is shown below:\n",
    "\n",
    "$$\n",
    "\\left[{\\begin{array}{c} \\dot{r} \\\\ \\ddot{r} \\end{array}}\\right] = \\left[{\\begin{array}{cc} 0 & 1 \\\\ 0 & 0 \\end{array}}\\right] \\left[{\\begin{array}{c} r \\\\ \\dot{r} \\end{array}}\\right] + \\left[{\\begin{array}{c} 0 \\\\ \\frac{m g d}{L \\left(\\frac{J}{R^2}+m\\right)}\\end{array}}\\right] \\Theta\n",
    "$$\n",
    "\n",
    "However, for our state-space example we will be using a slightly different model. The same equation for the ball still applies but instead of controlling the position through the gear angle, $\\theta$, we will control the torque of the beam. Below is the representation of this system:\n",
    "\n",
    "$$\n",
    "\\left[{\\begin{array}{c} \\dot{r} \\\\ \\ddot{r} \\\\ \\dot{\\alpha} \\\\ \\ddot{\\alpha} \\end{array}}\\right] = \\left[{\\begin{array}{cccc} 0 & 1 & 0 & 0 \\\\ 0 & 0 & \\frac{-m g}{\\left(\\frac{J}{R^2}+m\\right)} & 0 \\\\ 0 & 0 & 0 & 0 \\\\ 0 & 0 & 0 & 0 \\end{array}}\\right] \\left[{\\begin{array}{c} r \\\\ \\dot{r} \\\\ \\alpha \\\\ \\dot{\\alpha} \\end{array}}\\right] + \\left[{\\begin{array}{c} 0 \\\\ 0 \\\\ 0 \\\\ 1 \\end{array}}\\right] u\n",
    "$$\n",
    "\n",
    "\n",
    "\n",
    "$$\n",
    "y = \\left[{\\begin{array}{cccc} 1 & 0 & 0 & 0 \\end{array}}\\right] \\left[{\\begin{array}{c} r \\\\ \\dot{r} \\\\ \\alpha \\\\ \\dot{\\alpha} \\end{array}}\\right]\n",
    "$$\n",
    "\n",
    "Note: For this system the gear and lever arm would not be used, instead a motor at the center of the beam will apply torque to the beam, to control the ball's position. The state-space equations can be represented in MATLAB with the following commands (these equations are for the torque control model)."
   ]
  },
  {
   "cell_type": "code",
   "execution_count": 3,
   "metadata": {
    "exporter": {
     "cell_type": "toc"
    },
    "slideshow": {
     "slide_type": "skip"
    }
   },
   "outputs": [
    {
     "data": {
      "application/javascript": [
       "$.getScript('https://kmahelona.github.io/ipython_notebook_goodies/ipython_notebook_toc.js')"
      ],
      "text/plain": [
       "<IPython.core.display.Javascript object>"
      ]
     },
     "metadata": {},
     "output_type": "display_data"
    }
   ],
   "source": [
    "%%javascript\n",
    "$.getScript('https://kmahelona.github.io/ipython_notebook_goodies/ipython_notebook_toc.js')"
   ]
  }
 ],
 "metadata": {
  "celltoolbar": "Slideshow",
  "nikola": {
   "author": "d@h",
   "category": "BallBeam",
   "date": "2016-02-16 08:00:00 UTC",
   "description": "Controls Tutorials for Python",
   "link": "",
   "slug": "ballbeam-systemmodeling",
   "tags": "SystemModeling",
   "title": "Ball Beam - System Modeling",
   "type": ""
  }
 },
 "nbformat": 4,
 "nbformat_minor": 0
}
