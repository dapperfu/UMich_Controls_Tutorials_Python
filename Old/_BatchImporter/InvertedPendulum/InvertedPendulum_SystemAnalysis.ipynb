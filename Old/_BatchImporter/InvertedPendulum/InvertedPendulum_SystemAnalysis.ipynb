{
 "cells": [
  {
   "cell_type": "code",
   "execution_count": 1,
   "metadata": {
    "exporter": {
     "cell_type": "init"
    },
    "slideshow": {
     "slide_type": "skip"
    }
   },
   "outputs": [
    {
     "name": "stdout",
     "output_type": "stream",
     "text": [
      "Using matplotlib backend: TkAgg\n",
      "Populating the interactive namespace from numpy and matplotlib\n"
     ]
    }
   ],
   "source": [
    "%pylab \n",
    "%matplotlib inline\n",
    "import sympy\n",
    "from control.matlab import *\n",
    "from sympy import Poly\n",
    "from sympy.abc import s, z\n",
    "from IPython.display import display,Latex"
   ]
  },
  {
   "cell_type": "markdown",
   "metadata": {
    "exporter": {
     "cell_type": "toc"
    },
    "slideshow": {
     "slide_type": "skip"
    }
   },
   "source": [
    "<div id=\"toc\"></div>"
   ]
  },
  {
   "cell_type": "markdown",
   "metadata": {
    "slideshow": {
     "slide_type": "notes"
    }
   },
   "source": [
    "# Inverted Pendulum: System Analysis\n",
    "\n",
    "From the main problem, we derived the open-loop transfer functions of the inverted pendulum system as the following.\n",
    "\n",
    "$$\n",
    "P_{pend}(s) = \\frac{\\Phi(s)}{U(s)}=\\frac{\\frac{ml}{q}s}{s^3+\\frac{b(I+ml^2)}{q}s^2-\\frac{(M+m)mgl}{q}s-\\frac{bmgl}{q}} \\qquad [ \\frac{rad}{N}]\n",
    "$$\n",
    "\n",
    "\n",
    "\n",
    "$$\n",
    "P_{cart}(s) =  \\frac{X(s)}{U(s)} = \\frac{ \\frac{ (I+ml^2)s^2 - gml } {q}}{s^4+\\frac{b(I+ml^2)}{q}s^3-\\frac{(M+m)mgl}{q}s^2-\\frac{bmgl}{q}s} \\qquad [ \\frac{m}{N}]\n",
    "$$\n",
    "\n",
    "where\n",
    "\n",
    "$$\n",
    "q = (M + m)(I + ml^2) - (ml)^2\n",
    "$$\n",
    "\n",
    "Recall that the above two transfer functions are valid only for small values of the angle _phi_ where \\\\(\\phi\\\\) is the deviation of the pendulum from the vertically upward position. Also, the absolute pendulum angle \\\\(\\theta\\\\) is equal to \\\\(\\pi\\\\) + $\\phi$. For the original problem setup and the derivation of the above transfer functions, please refer to the [Inverted Pendulum: System Modeling](../InvertedPendulum/InvertedPendulum-SystemModeling.ipynb) page. Considering the response of the pendulum to a 1-Nsec impulse applied to the cart, the design requirements for the pendulum are:\n",
    "* Settling time for \\\\(\\theta\\\\) of less than 5 seconds\n",
    "* Pendulum angle \\\\(\\theta\\\\) never more than 0.05 radians from the vertical Additionally, the requirements for the response of the system to a 0.2-meter step command in cart position are:\n",
    "* Settling time for \\\\(x\\\\) and \\\\(\\theta\\\\) of less than 5 seconds\n",
    "* Rise time for \\\\(x\\\\) of less than 0.5 seconds\n",
    "* Pendulum angle \\\\(\\theta\\\\) never more than 20 degrees (0.35 radians) from the vertical\n",
    "\n",
    "## Open-loop impulse response\n",
    "\n",
    "We will begin by looking at the open-loop response of the inverted pendulum system. Create a new [m-file](../Extras_Mfile.ipynb) and type in the following commands to create the system model (refer to the main problem for the details of getting these commands)."
   ]
  },
  {
   "cell_type": "code",
   "execution_count": 2,
   "metadata": {
    "slideshow": {
     "slide_type": "notes"
    }
   },
   "outputs": [
    {
     "ename": "NameError",
     "evalue": "name 'P_cart' is not defined",
     "output_type": "error",
     "traceback": [
      "\u001b[1;31m---------------------------------------------------------------------------\u001b[0m",
      "\u001b[1;31mNameError\u001b[0m                                 Traceback (most recent call last)",
      "\u001b[1;32m<ipython-input-2-adacb3dd7989>\u001b[0m in \u001b[0;36m<module>\u001b[1;34m()\u001b[0m\n\u001b[1;32m----> 1\u001b[1;33m \u001b[0msys_tf\u001b[0m \u001b[1;33m=\u001b[0m \u001b[0mnumpy\u001b[0m\u001b[1;33m.\u001b[0m\u001b[0marray\u001b[0m\u001b[1;33m(\u001b[0m\u001b[1;33m[\u001b[0m\u001b[1;33m[\u001b[0m\u001b[0mP_cart\u001b[0m\u001b[1;33m,\u001b[0m\u001b[1;33m]\u001b[0m\u001b[1;33m,\u001b[0m\u001b[1;33m[\u001b[0m\u001b[0mP_pend\u001b[0m\u001b[1;33m]\u001b[0m\u001b[1;33m]\u001b[0m\u001b[1;33m)\u001b[0m\u001b[1;33m\u001b[0m\u001b[0m\n\u001b[0m\u001b[0;32m      2\u001b[0m \u001b[1;31m# M = 0.5;\u001b[0m\u001b[1;33m\u001b[0m\u001b[1;33m\u001b[0m\u001b[0m\n\u001b[0;32m      3\u001b[0m \u001b[1;31m# m = 0.2;\u001b[0m\u001b[1;33m\u001b[0m\u001b[1;33m\u001b[0m\u001b[0m\n\u001b[0;32m      4\u001b[0m \u001b[1;31m# b = 0.1;\u001b[0m\u001b[1;33m\u001b[0m\u001b[1;33m\u001b[0m\u001b[0m\n\u001b[0;32m      5\u001b[0m \u001b[1;31m# I = 0.006;\u001b[0m\u001b[1;33m\u001b[0m\u001b[1;33m\u001b[0m\u001b[0m\n",
      "\u001b[1;31mNameError\u001b[0m: name 'P_cart' is not defined"
     ]
    }
   ],
   "source": [
    "sys_tf = numpy.array([[P_cart,],[P_pend]])\n",
    "# M = 0.5;\n",
    "# m = 0.2;\n",
    "# b = 0.1;\n",
    "# I = 0.006;\n",
    "# g = 9.8;\n",
    "# l = 0.3;\n",
    "# q = (M+m)*(I+m*l^2)-(m*l)^2;\n",
    "# s = tf('s');\n",
    "# P_cart = (((I+m*l^2)/q)*s^2 - (m*g*l/q))/(s^4 + (b*(I + m*l^2))*s^3/q - ((M + m)*m*g*l)*s^2/q - b*m*g*l*s/q);\n",
    "# P_pend = (m*l*s/q)/(s^3 + (b*(I + m*l^2))*s^2/q - ((M + m)*m*g*l)*s/q - b*m*g*l/q);\n",
    "# sys_tf = [P_cart ; P_pend];\n",
    "# inputs = {'u'};\n",
    "# outputs = {'x'; 'phi'};\n",
    "# set(sys_tf,'InputName',inputs)\n",
    "# set(sys_tf,'OutputName',outputs)"
   ]
  },
  {
   "cell_type": "markdown",
   "metadata": {
    "slideshow": {
     "slide_type": "notes"
    }
   },
   "source": [
    "We can now examine the open-loop impulse response of the system. Specifically, we will examine how the system responds to an impulsive force applied to the cart employing the MATLAB command |impulse|. Add the following commands onto the end of the m-file and run it in the MATLAB command window to get the associated plot shown below."
   ]
  },
  {
   "cell_type": "code",
   "execution_count": 3,
   "metadata": {
    "slideshow": {
     "slide_type": "notes"
    }
   },
   "outputs": [],
   "source": [
    "# t=0:0.01:1;\n",
    "# impulse(sys_tf,t);\n",
    "# title('Open-Loop Impulse Response')"
   ]
  },
  {
   "cell_type": "markdown",
   "metadata": {
    "slideshow": {
     "slide_type": "notes"
    }
   },
   "source": [
    "As you can see from the plot, the system response is entirely unsatisfactory. In fact, it is not stable in open loop.  Although the pendulum's position is shown to increase past 100 radians (15 revolutions), the model is only valid for small $\\phi$. You can also see that the cart's position moves infinitely far to the right, though there is no requirement on cart position for an impulsive force input. The poles of a system can also tell us about its time response. Since our system has two outputs and one input, it is described by two transfer functions. In general, all transfer functions from each input to each output of a multi-input, multi-output (MIMO) system will have the same poles (but different zeros) unless there are pole-zero cancellations. We will specifically examine the poles and zeros of the system using the MATLAB function |zpkdata|. The parameter |'v'| shown below returns the poles and zeros as column vectors rather than as cell arrays. The zeros and poles of the system where the pendulum position is the output are found as shown below:"
   ]
  },
  {
   "cell_type": "code",
   "execution_count": 4,
   "metadata": {
    "slideshow": {
     "slide_type": "notes"
    }
   },
   "outputs": [],
   "source": [
    "# [zeros poles] = zpkdata(P_pend,'v')"
   ]
  },
  {
   "cell_type": "markdown",
   "metadata": {
    "slideshow": {
     "slide_type": "notes"
    }
   },
   "source": [
    "Likewise, the zeros and poles of the system where the cart position is the output are found as follows:"
   ]
  },
  {
   "cell_type": "code",
   "execution_count": 5,
   "metadata": {
    "slideshow": {
     "slide_type": "notes"
    }
   },
   "outputs": [],
   "source": [
    "# [zeros poles] = zpkdata(P_cart,'v')"
   ]
  },
  {
   "cell_type": "markdown",
   "metadata": {
    "slideshow": {
     "slide_type": "notes"
    }
   },
   "source": [
    "As predicted, the poles for both transfer functions are identical. The pole at 5.5651 indicates that the system is unstable since the pole has positive real part. In other words, the pole is in the right half of the complex s-plane. This agrees with what we observed above.\n",
    "\n",
    "## Open-loop step response\n",
    "\n",
    "Since the system has a pole with positive real part its response to a step input will also grow unbounded. We will verify this using the |lsim| command which can be employed to simulate the response of LTI models to arbitrary inputs. In this case, a 1-Newton step input will be used. Adding the following code to your m-file and running it in the MATLAB command window will generate the plot shown below."
   ]
  },
  {
   "cell_type": "code",
   "execution_count": 6,
   "metadata": {
    "slideshow": {
     "slide_type": "notes"
    }
   },
   "outputs": [],
   "source": [
    "# t = 0:0.05:10;              \n",
    "# u = ones(size(t));     \n",
    "# [y,t] = lsim(sys_tf,u,t);\n",
    "# plot(t,y)\n",
    "# title('Open-Loop Step Response')\n",
    "# axis([0 3 0 50])\n",
    "# legend('x','phi')"
   ]
  },
  {
   "cell_type": "markdown",
   "metadata": {
    "slideshow": {
     "slide_type": "notes"
    }
   },
   "source": [
    "You can also identify some important characteristics of the response using the |lsiminfo| command as shown."
   ]
  },
  {
   "cell_type": "code",
   "execution_count": 7,
   "metadata": {
    "slideshow": {
     "slide_type": "notes"
    }
   },
   "outputs": [],
   "source": [
    "# step_info = lsiminfo(y,t);\n",
    "# cart_info = step_info(1)\n",
    "# pend_info = step_info(2)"
   ]
  },
  {
   "cell_type": "code",
   "execution_count": 8,
   "metadata": {
    "exporter": {
     "cell_type": "toc"
    },
    "slideshow": {
     "slide_type": "skip"
    }
   },
   "outputs": [
    {
     "data": {
      "application/javascript": [
       "$.getScript('https://kmahelona.github.io/ipython_notebook_goodies/ipython_notebook_toc.js')"
      ],
      "text/plain": [
       "<IPython.core.display.Javascript object>"
      ]
     },
     "metadata": {},
     "output_type": "display_data"
    }
   ],
   "source": [
    "%%javascript\n",
    "$.getScript('https://kmahelona.github.io/ipython_notebook_goodies/ipython_notebook_toc.js')"
   ]
  }
 ],
 "metadata": {
  "celltoolbar": "Slideshow",
  "nikola": {
   "author": "d@h",
   "category": "InvertedPendulum",
   "date": "2016-02-16 08:00:00 UTC",
   "description": "Controls Tutorials for Python",
   "link": "",
   "slug": "invertedpendulum-systemanalysis",
   "tags": "SystemAnalysis",
   "title": "Inverted Pendulum - System Analysis",
   "type": ""
  }
 },
 "nbformat": 4,
 "nbformat_minor": 0
}
