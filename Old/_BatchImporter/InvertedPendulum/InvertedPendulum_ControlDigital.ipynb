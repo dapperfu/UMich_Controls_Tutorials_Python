{
 "cells": [
  {
   "cell_type": "code",
   "execution_count": 1,
   "metadata": {
    "exporter": {
     "cell_type": "init"
    },
    "slideshow": {
     "slide_type": "skip"
    }
   },
   "outputs": [
    {
     "name": "stdout",
     "output_type": "stream",
     "text": [
      "Using matplotlib backend: TkAgg\n",
      "Populating the interactive namespace from numpy and matplotlib\n"
     ]
    }
   ],
   "source": [
    "%pylab \n",
    "%matplotlib inline\n",
    "import sympy\n",
    "from control.matlab import *\n",
    "from sympy import Poly\n",
    "from sympy.abc import s, z\n",
    "from IPython.display import display,Latex"
   ]
  },
  {
   "cell_type": "markdown",
   "metadata": {
    "exporter": {
     "cell_type": "toc"
    },
    "slideshow": {
     "slide_type": "skip"
    }
   },
   "source": [
    "<div id=\"toc\"></div>"
   ]
  },
  {
   "cell_type": "markdown",
   "metadata": {
    "slideshow": {
     "slide_type": "notes"
    }
   },
   "source": [
    "# Inverted Pendulum: Digital Controller Design\n",
    "\n",
    "In this digital control version of the inverted pendulum problem, we will use the state-space method to design the digital controller. If you refer to the [Inverted Pendulum: System Modeling](../InvertedPendulum/InvertedPendulum-SystemModeling.ipynb) page, the linearized state-space equations were derived as:\n",
    "\n",
    "$$\n",
    "\\left[{\\begin{array}{c} \\dot{x}\\\\ \\ddot{x}\\\\ \\dot{\\phi}\\\\ \\ddot{\\phi} \\end{array}}\\right] = \\left[{\\begin{array}{cccc} 0&1&0&0\\\\ 0&\\frac{-(I+ml^2)b}{I(M+m)+Mml^2}&\\frac{m^2gl^2}{I(M+m)+Mml^2}&0\\\\ 0&0&0&1\\\\ 0&\\frac{-mlb}{I(M+m)+Mml^2}&\\frac{mgl(M+m)}{I(M+m)+Mml^2}&0 \\end{array}}\\right] \\left[{\\begin{array}{c} x\\\\ \\dot{x}\\\\ \\phi\\\\ \\dot{\\phi} \\end{array}}\\right]+ \\left[{\\begin{array}{c}0\\\\ \\frac{I+ml^2}{I(M+m)+Mml^2}\\\\ 0 \\\\ \\frac{ml}{I(M+m)+Mml^2} \\end{array}}\\right]u\n",
    "$$\n",
    "\n",
    "\n",
    "\n",
    "$$\n",
    "{\\bf y} = \\left[{\\begin{array}{cccc} 1&0&0&0\\\\0&0&1&0 \\end{array}}\\right] \\left[{\\begin{array}{c} x\\\\ \\dot{x}\\\\ \\phi\\\\ \\dot{\\phi} \\end{array}}\\right]+ \\left[{\\begin{array}{c} 0\\\\0 \\end{array}}\\right]u\n",
    "$$\n",
    "\n",
    "where: (M)       mass of the cart                         0.5 kg (m)       mass of the pendulum                     0.2 kg (b)       coefficient of friction for cart         0.1 N/m/sec (l)       length to pendulum center of mass        0.3 m (I)       mass moment of inertia of the pendulum   0.006 kg.m^2 (F)       force applied to the cart (x)       cart position coordinate (theta)   pendulum angle from vertical (down) For this problem the outputs are the cart's displacement ($x$ in meters) and the pendulum angle ($\\phi$ in radians) where \\\\(\\phi\\\\) represents the deviation of the pedulum's position from equilibrium, that is, \\\\(\\theta\\\\) = \\\\(\\pi\\\\) + $\\phi$. The design criteria for this system for a 0.2-m step in desired cart position \\\\(x\\\\) are as follows:\n",
    "* Settling time for \\\\(x\\\\) and _theta_ of less than 5 seconds\n",
    "* Rise time for \\\\(x\\\\) of less than 0.5 seconds\n",
    "* Pendulum angle \\\\(\\theta\\\\) never more than 20 degrees (0.35 radians) from the vertical\n",
    "* Steady-state error of less than 2% for \\\\(x\\\\) and \\\\(\\theta\\\\)\n",
    "\n",
    "## Discrete state-space\n",
    "\n",
    "Our first step in designing a digital controller is to convert the above continuous state-space equations to a discrete form. We will accomplish this employing the MATLAB function |c2d|. This function requires that we specify three arguments: a continuous system model, the sampling time (|Ts| in sec/sample), and the |'method'|. You should already be familiar with how to construct a state-space system from $\\mathbf{A}$, $\\mathbf{B}$, $\\mathbf{C}$, and \\\\(\\mathbf{D}\\\\) matrices. In choosing a sample time, note that it is desired that the sampling frequency be fast compared to the dynamics of the system. One measure of a system's \"speed\" is its closed-loop bandwidth. A good rule of thumb is that the sampling time be smaller than 1/30th of the closed-loop bandwidth frequency which can be determined from the closed-loop Bode plot. Assuming that the closed-loop bandwidth frequencies are around 1 rad/sec for both the cart and the pendulum, let the sampling time be 1/100 sec/sample. The discretization method we will use is the **zero-order hold** (|'zoh'|). For further details, refer to the [Introduction: Digital Controller Design](../Introduction/Introduction-ControlDigital.ipynb) page. Now we are ready to use |c2d| function. Enter the following commands into an [m-file](../Extras_Mfile.ipynb). Running this m-file in the MATLAB command window gives you the following four matrices representing the discrete time state-space model."
   ]
  },
  {
   "cell_type": "code",
   "execution_count": 2,
   "metadata": {
    "slideshow": {
     "slide_type": "notes"
    }
   },
   "outputs": [
    {
     "ename": "NameError",
     "evalue": "name 'I' is not defined",
     "output_type": "error",
     "traceback": [
      "\u001b[1;31m---------------------------------------------------------------------------\u001b[0m",
      "\u001b[1;31mNameError\u001b[0m                                 Traceback (most recent call last)",
      "\u001b[1;32m<ipython-input-2-5dae7df86253>\u001b[0m in \u001b[0;36m<module>\u001b[1;34m()\u001b[0m\n\u001b[1;32m----> 1\u001b[1;33m \u001b[0mA\u001b[0m \u001b[1;33m=\u001b[0m \u001b[0mnumpy\u001b[0m\u001b[1;33m.\u001b[0m\u001b[0marray\u001b[0m\u001b[1;33m(\u001b[0m\u001b[1;33m[\u001b[0m\u001b[1;33m[\u001b[0m\u001b[1;36m0\u001b[0m\u001b[1;33m,\u001b[0m\u001b[1;36m1\u001b[0m\u001b[1;33m,\u001b[0m\u001b[1;36m0\u001b[0m\u001b[1;33m,\u001b[0m\u001b[1;36m0\u001b[0m\u001b[1;33m]\u001b[0m\u001b[1;33m,\u001b[0m\u001b[1;33m[\u001b[0m\u001b[1;36m0\u001b[0m\u001b[1;33m,\u001b[0m\u001b[1;33m-\u001b[0m\u001b[1;33m(\u001b[0m\u001b[0mI\u001b[0m\u001b[1;33m+\u001b[0m\u001b[0mm\u001b[0m\u001b[1;33m*\u001b[0m\u001b[0ml\u001b[0m\u001b[1;33m^\u001b[0m\u001b[1;36m2\u001b[0m\u001b[1;33m)\u001b[0m\u001b[1;33m*\u001b[0m\u001b[0mb\u001b[0m\u001b[1;33m/\u001b[0m\u001b[0mp\u001b[0m\u001b[1;33m,\u001b[0m\u001b[1;33m(\u001b[0m\u001b[0mm\u001b[0m\u001b[1;33m^\u001b[0m\u001b[1;36m2\u001b[0m\u001b[1;33m*\u001b[0m\u001b[0mg\u001b[0m\u001b[1;33m*\u001b[0m\u001b[0ml\u001b[0m\u001b[1;33m^\u001b[0m\u001b[1;36m2\u001b[0m\u001b[1;33m)\u001b[0m\u001b[1;33m/\u001b[0m\u001b[0mp\u001b[0m\u001b[1;33m,\u001b[0m\u001b[1;36m0\u001b[0m\u001b[1;33m]\u001b[0m\u001b[1;33m,\u001b[0m\u001b[1;33m[\u001b[0m\u001b[1;36m0\u001b[0m\u001b[1;33m,\u001b[0m\u001b[1;36m0\u001b[0m\u001b[1;33m,\u001b[0m\u001b[1;36m0\u001b[0m\u001b[1;33m,\u001b[0m\u001b[1;36m1\u001b[0m\u001b[1;33m]\u001b[0m\u001b[1;33m,\u001b[0m\u001b[1;33m[\u001b[0m\u001b[1;36m0\u001b[0m\u001b[1;33m,\u001b[0m\u001b[1;33m-\u001b[0m\u001b[1;33m(\u001b[0m\u001b[0mm\u001b[0m\u001b[1;33m*\u001b[0m\u001b[0ml\u001b[0m\u001b[1;33m*\u001b[0m\u001b[0mb\u001b[0m\u001b[1;33m)\u001b[0m\u001b[1;33m/\u001b[0m\u001b[0mp\u001b[0m\u001b[1;33m,\u001b[0m\u001b[0mm\u001b[0m\u001b[1;33m*\u001b[0m\u001b[0mg\u001b[0m\u001b[1;33m*\u001b[0m\u001b[0ml\u001b[0m\u001b[1;33m*\u001b[0m\u001b[1;33m(\u001b[0m\u001b[0mM\u001b[0m\u001b[1;33m+\u001b[0m\u001b[0mm\u001b[0m\u001b[1;33m)\u001b[0m\u001b[1;33m/\u001b[0m\u001b[0mp\u001b[0m\u001b[1;33m,\u001b[0m\u001b[1;36m0\u001b[0m\u001b[1;33m]\u001b[0m\u001b[1;33m]\u001b[0m\u001b[1;33m)\u001b[0m\u001b[1;33m\u001b[0m\u001b[0m\n\u001b[0m\u001b[0;32m      2\u001b[0m \u001b[0mB\u001b[0m \u001b[1;33m=\u001b[0m \u001b[0mnumpy\u001b[0m\u001b[1;33m.\u001b[0m\u001b[0marray\u001b[0m\u001b[1;33m(\u001b[0m\u001b[1;33m[\u001b[0m\u001b[1;33m[\u001b[0m\u001b[1;36m0\u001b[0m\u001b[1;33m]\u001b[0m\u001b[1;33m,\u001b[0m\u001b[1;33m[\u001b[0m\u001b[1;33m(\u001b[0m\u001b[0mI\u001b[0m\u001b[1;33m+\u001b[0m\u001b[0mm\u001b[0m\u001b[1;33m*\u001b[0m\u001b[0ml\u001b[0m\u001b[1;33m^\u001b[0m\u001b[1;36m2\u001b[0m\u001b[1;33m)\u001b[0m\u001b[1;33m/\u001b[0m\u001b[0mp\u001b[0m\u001b[1;33m]\u001b[0m\u001b[1;33m,\u001b[0m\u001b[1;33m[\u001b[0m\u001b[1;36m0\u001b[0m\u001b[1;33m]\u001b[0m\u001b[1;33m,\u001b[0m\u001b[1;33m[\u001b[0m\u001b[0mm\u001b[0m\u001b[1;33m*\u001b[0m\u001b[0ml\u001b[0m\u001b[1;33m/\u001b[0m\u001b[0mp\u001b[0m\u001b[1;33m]\u001b[0m\u001b[1;33m]\u001b[0m\u001b[1;33m)\u001b[0m\u001b[1;33m\u001b[0m\u001b[0m\n\u001b[0;32m      3\u001b[0m \u001b[0mC\u001b[0m \u001b[1;33m=\u001b[0m \u001b[0mnumpy\u001b[0m\u001b[1;33m.\u001b[0m\u001b[0marray\u001b[0m\u001b[1;33m(\u001b[0m\u001b[1;33m[\u001b[0m\u001b[1;33m[\u001b[0m\u001b[1;36m1\u001b[0m\u001b[1;33m,\u001b[0m\u001b[1;36m0\u001b[0m\u001b[1;33m,\u001b[0m\u001b[1;36m0\u001b[0m\u001b[1;33m,\u001b[0m\u001b[1;36m0\u001b[0m\u001b[1;33m]\u001b[0m\u001b[1;33m,\u001b[0m\u001b[1;33m[\u001b[0m\u001b[1;36m0\u001b[0m\u001b[1;33m,\u001b[0m\u001b[1;36m0\u001b[0m\u001b[1;33m,\u001b[0m\u001b[1;36m1\u001b[0m\u001b[1;33m,\u001b[0m\u001b[1;36m0\u001b[0m\u001b[1;33m]\u001b[0m\u001b[1;33m]\u001b[0m\u001b[1;33m)\u001b[0m\u001b[1;33m\u001b[0m\u001b[0m\n\u001b[0;32m      4\u001b[0m \u001b[0mD\u001b[0m \u001b[1;33m=\u001b[0m \u001b[0mnumpy\u001b[0m\u001b[1;33m.\u001b[0m\u001b[0marray\u001b[0m\u001b[1;33m(\u001b[0m\u001b[1;33m[\u001b[0m\u001b[1;33m[\u001b[0m\u001b[1;36m0\u001b[0m\u001b[1;33m]\u001b[0m\u001b[1;33m,\u001b[0m\u001b[1;33m[\u001b[0m\u001b[1;36m0\u001b[0m\u001b[1;33m]\u001b[0m\u001b[1;33m]\u001b[0m\u001b[1;33m)\u001b[0m\u001b[1;33m\u001b[0m\u001b[0m\n\u001b[0;32m      5\u001b[0m \u001b[1;31m# M = 0.5;\u001b[0m\u001b[1;33m\u001b[0m\u001b[1;33m\u001b[0m\u001b[0m\n",
      "\u001b[1;31mNameError\u001b[0m: name 'I' is not defined"
     ]
    }
   ],
   "source": [
    "A = numpy.array([[0,1,0,0],[0,-(I+m*l^2)*b/p,(m^2*g*l^2)/p,0],[0,0,0,1],[0,-(m*l*b)/p,m*g*l*(M+m)/p,0]])\n",
    "B = numpy.array([[0],[(I+m*l^2)/p],[0],[m*l/p]])\n",
    "C = numpy.array([[1,0,0,0],[0,0,1,0]])\n",
    "D = numpy.array([[0],[0]])\n",
    "# M = 0.5;\n",
    "# m = 0.2;\n",
    "# b = 0.1;\n",
    "# I = 0.006;\n",
    "# g = 9.8;\n",
    "# l = 0.3;\n",
    "# p = I*(M+m)+M*m*l^2; %denominator for the A and B matrices\n",
    "# A = [0      1              0           0;\n",
    "#      0 -(I+m*l^2)*b/p  (m^2*g*l^2)/p   0;\n",
    "#      0      0              0           1;\n",
    "#      0 -(m*l*b)/p       m*g*l*(M+m)/p  0];\n",
    "# B = [     0; \n",
    "#      (I+m*l^2)/p;\n",
    "#           0;\n",
    "#         m*l/p];\n",
    "# C = [1 0 0 0;\n",
    "#      0 0 1 0];\n",
    "# D = [0;\n",
    "#      0];\n",
    "# states = {'x' 'x_dot' 'phi' 'phi_dot'};\n",
    "# inputs = {'u'};\n",
    "# outputs = {'x'; 'phi'};\n",
    "# sys_ss = ss(A,B,C,D,'statename',states,'inputname',inputs,'outputname',outputs);\n",
    "# Ts = 1/100;\n",
    "# sys_d = c2d(sys_ss,Ts,'zoh')"
   ]
  },
  {
   "cell_type": "markdown",
   "metadata": {
    "slideshow": {
     "slide_type": "notes"
    }
   },
   "source": [
    "Now we have obtained the discrete state-space model of the form:\n",
    "\n",
    "$$\n",
    "\\left[{\\begin{array}{c} x(k+1)\\\\ \\dot{x}(k+1)\\\\ \\*\\phi(k+1)\\\\ *\\dot{\\phi}(k+1) \\end{array}}\\right]= \\left[{\\begin{array}{cccc} 1&0.01&0.0001&0\\\\ 0&0.9982&0.0267&0.0001\\\\ 0&0&1.0016&0.01\\\\ 0&-0.0045&0.3119&1.0016 \\end{array}}\\right] \\left[{\\begin{array}{c} x(k)\\\\ \\dot{x}(k)\\\\ *\\phi(k)\\\\ *\\dot{\\phi}(k) \\end{array}}\\right] + \\left[{\\begin{array}{c} 0.0001\\\\ 0.0182\\\\ 0.0002\\\\ 0.0454 \\end{array}}\\right]u(k)\n",
    "$$\n",
    "\n",
    "\n",
    "\n",
    "$$\n",
    "{\\bf y}(k) = \\left[{\\begin{array}{cccc}1&0&0&0\\\\0&0&1&0\\end{array}}\\right] \\left[{\\begin{array}{c} x(k)\\\\ \\dot{x}(k)\\\\ *\\phi(k)\\\\ *\\dot{\\phi}(k) \\end{array}}\\right] +\\left[{\\begin{array}{c}0\\\\0\\end{array}}\\right]u(k)\n",
    "$$\n",
    "\n",
    "\n",
    "\n",
    "## Controllability and observability\n",
    "\n",
    "The next step is to check the controllability and the observability of the system. For the system to be completely state controllable, the controllability matrix\n",
    "\n",
    "$$\n",
    "C = \\left[{\\begin{array}{ccccc} B & AB & A^2B & \\cdots & A^{n-1}B \\end{array}}\\right]\n",
    "$$\n",
    "\n",
    "must have the **rank of n**. The rank of the matrix is the number of independent rows (or columns). In the same token, for the system to be completely state observable, the observability matrix\n",
    "\n",
    "$$\n",
    "O = \\left[{\\begin{array}{c} C \\\\ CA \\\\ \\vdots \\\\ CA^{n-1} \\end{array}}\\right]\n",
    "$$\n",
    "\n",
    "must also have the **rank of n**. These tests for controllability and observability are identical to the situation of continuous control except that now the state space model is discrete. Since the number of state variables in our system is 4, the rank of both matrices must be 4. The function |rank| can give you the rank of each matrix. Adding the following commands to your m-file and running in the MATLAB command window will generate the results shown below."
   ]
  },
  {
   "cell_type": "code",
   "execution_count": 3,
   "metadata": {
    "slideshow": {
     "slide_type": "notes"
    }
   },
   "outputs": [],
   "source": [
    "# co = ctrb(sys_d);\n",
    "# ob = obsv(sys_d);\n",
    "# controllability = rank(co)\n",
    "# observability = rank(ob)"
   ]
  },
  {
   "cell_type": "markdown",
   "metadata": {
    "slideshow": {
     "slide_type": "notes"
    }
   },
   "source": [
    "This proves that our discrete system is both completely state controllable and completely state observable.\n",
    "\n",
    "## Control design via pole placement\n",
    "\n",
    "The schematic of a full-state feedback control system is shown below.\n",
    "![dstatefeedback_pend2.png](figures/dstatefeedback_pend2.png)\n",
    "The next step is to assume that all four states are measurable and design the control gain matrix $\\mathbf{K}$. If you refer to the continuous [Inverted Pendulum: State-Space Methods for Controller Design](../InvertedPendulum/InvertedPendulum-ControlStateSpace.ipynb) page the *Linear Quadratic Regulator (LQR)* method was used to find the control gain matrix $\\mathbf{K}$. In this digital version, we will use the same LQR method. This method allows you to find the control gain that results in the optimal balance between system errors and control effort. Please consult your control textbook for details. To use this LQR method, we need to specify two parameters, the performance index matrix \\\\(R\\\\) and the state-cost matrix $\\mathbf{Q}$. For simplicity, we will initially choose the performance index matrix \\\\(\\mathbf{R}\\\\) equal to 1, and the state-cost matrix \\\\(\\mathbf{Q}\\\\) equal to $\\mathbf{C'C}$. The relative weightings of these two matrices will then be tuned by trial and error. The state-cost matrix \\\\(\\mathbf{Q}\\\\) has the following structure.\n",
    "\n",
    "$$\n",
    "Q = C'C = \\left[{\\begin{array}{cccc} 1 & 0 & 0 & 0 \\\\ 0 & 0 & 0 & 0 \\\\ 0 & 0 & 1 & 0 \\\\ 0 & 0 & 0 & 0 \\\\ \\end{array}}\\right]\n",
    "$$\n",
    "\n",
    "The element in the (1,1) position of \\\\(\\mathbf{Q}\\\\) represents the weight on the cart's position and the element in the (3,3) position represents the weight on the pendulum's angle. Now we are ready to find the control gain matrix \\\\(\\mathbf{K}\\\\) and observe the resulting closed-loop response of the system. Since we are designing a digital controller, we will specificially employ the MATLAB function |dlqr|. Add the following commands to a your m-file and run it in the MATLAB command window. Note that in the following we are overwriting the values of the state-space matrices $\\mathbf{A}$, $\\mathbf{B}$, $\\mathbf{C}$, and \\\\(\\mathbf{D}\\\\) with their discrete-time equivalents using the model derived with the |c2d| command above."
   ]
  },
  {
   "cell_type": "code",
   "execution_count": 4,
   "metadata": {
    "slideshow": {
     "slide_type": "notes"
    }
   },
   "outputs": [
    {
     "ename": "NameError",
     "evalue": "name 'A' is not defined",
     "output_type": "error",
     "traceback": [
      "\u001b[1;31m---------------------------------------------------------------------------\u001b[0m",
      "\u001b[1;31mNameError\u001b[0m                                 Traceback (most recent call last)",
      "\u001b[1;32m<ipython-input-4-0cc9d4d5ab4c>\u001b[0m in \u001b[0;36m<module>\u001b[1;34m()\u001b[0m\n\u001b[1;32m----> 1\u001b[1;33m \u001b[0mAc\u001b[0m \u001b[1;33m=\u001b[0m \u001b[0mnumpy\u001b[0m\u001b[1;33m.\u001b[0m\u001b[0marray\u001b[0m\u001b[1;33m(\u001b[0m\u001b[1;33m[\u001b[0m\u001b[1;33m[\u001b[0m\u001b[1;33m(\u001b[0m\u001b[0mA\u001b[0m\u001b[1;33m-\u001b[0m\u001b[0mB\u001b[0m\u001b[1;33m*\u001b[0m\u001b[0mK\u001b[0m\u001b[1;33m)\u001b[0m\u001b[1;33m]\u001b[0m\u001b[1;33m]\u001b[0m\u001b[1;33m)\u001b[0m\u001b[1;33m\u001b[0m\u001b[0m\n\u001b[0m\u001b[0;32m      2\u001b[0m \u001b[0mBc\u001b[0m \u001b[1;33m=\u001b[0m \u001b[0mnumpy\u001b[0m\u001b[1;33m.\u001b[0m\u001b[0marray\u001b[0m\u001b[1;33m(\u001b[0m\u001b[1;33m[\u001b[0m\u001b[1;33m[\u001b[0m\u001b[0mB\u001b[0m\u001b[1;33m]\u001b[0m\u001b[1;33m]\u001b[0m\u001b[1;33m)\u001b[0m\u001b[1;33m\u001b[0m\u001b[0m\n\u001b[0;32m      3\u001b[0m \u001b[0mCc\u001b[0m \u001b[1;33m=\u001b[0m \u001b[0mnumpy\u001b[0m\u001b[1;33m.\u001b[0m\u001b[0marray\u001b[0m\u001b[1;33m(\u001b[0m\u001b[1;33m[\u001b[0m\u001b[1;33m[\u001b[0m\u001b[0mC\u001b[0m\u001b[1;33m]\u001b[0m\u001b[1;33m]\u001b[0m\u001b[1;33m)\u001b[0m\u001b[1;33m\u001b[0m\u001b[0m\n\u001b[0;32m      4\u001b[0m \u001b[0mDc\u001b[0m \u001b[1;33m=\u001b[0m \u001b[0mnumpy\u001b[0m\u001b[1;33m.\u001b[0m\u001b[0marray\u001b[0m\u001b[1;33m(\u001b[0m\u001b[1;33m[\u001b[0m\u001b[1;33m[\u001b[0m\u001b[0mD\u001b[0m\u001b[1;33m]\u001b[0m\u001b[1;33m]\u001b[0m\u001b[1;33m)\u001b[0m\u001b[1;33m\u001b[0m\u001b[0m\n\u001b[0;32m      5\u001b[0m \u001b[1;31m# A = sys_d.a;\u001b[0m\u001b[1;33m\u001b[0m\u001b[1;33m\u001b[0m\u001b[0m\n",
      "\u001b[1;31mNameError\u001b[0m: name 'A' is not defined"
     ]
    }
   ],
   "source": [
    "Ac = numpy.array([[(A-B*K)]])\n",
    "Bc = numpy.array([[B]])\n",
    "Cc = numpy.array([[C]])\n",
    "Dc = numpy.array([[D]])\n",
    "# A = sys_d.a;\n",
    "# B = sys_d.b;\n",
    "# C = sys_d.c;\n",
    "# D = sys_d.d;\n",
    "# Q = C'*C\n",
    "# R = 1;\n",
    "# [K] = dlqr(A,B,Q,R) \n",
    "# Ac = [(A-B*K)];\n",
    "# Bc = [B];\n",
    "# Cc = [C];\n",
    "# Dc = [D];\n",
    "# states = {'x' 'x_dot' 'phi' 'phi_dot'};\n",
    "# inputs = {'r'};\n",
    "# outputs = {'x'; 'phi'};\n",
    "# sys_cl = ss(Ac,Bc,Cc,Dc,Ts,'statename',states,'inputname',inputs,'outputname',outputs);\n",
    "# t = 0:0.01:5;\n",
    "# r =0.2*ones(size(t));\n",
    "# [y,t,x]=lsim(sys_cl,r,t);\n",
    "# [AX,H1,H2] = plotyy(t,y(:,1),t,y(:,2),'plot');\n",
    "# set(get(AX(1),'Ylabel'),'String','cart position (m)') \n",
    "# set(get(AX(2),'Ylabel'),'String','pendulum angle (radians)') \n",
    "# title('Step Response with Digital LQR Control')"
   ]
  },
  {
   "cell_type": "markdown",
   "metadata": {
    "slideshow": {
     "slide_type": "notes"
    }
   },
   "source": [
    "The curve in green represents the pendulum's angle in radians, and the curve in blue represents the cart's position in meters. As you can see, this plot is not satisfactory. The pendulum and cart's overshoot appear fine, but their settling times need improvement and the cart's rise time needs to be reduced. As I'm sure you have noticed, the cart's final position is also not near the desired location but has in fact moved in the opposite direction. This error will be dealt with in the next section and right now we will focus on the settling and rise times. Go back to your m-file and change the \\\\(\\mathbf{Q}\\\\) matrix to see if you can get a better response. You will find that increasing the (1,1) and (3,3) elements makes the settling and rise times go down, and lowers the angle the pendulum moves. In other words, you are putting more weight on the errors at the cost of increased control effort $u$. Modifying your m-file so that the (1,1) element of \\\\(\\mathbf{Q}\\\\) is 5000 and the (3,3) element is 100, will produce the following value of \\\\(\\mathbf{K}\\\\) and the step response shown below."
   ]
  },
  {
   "cell_type": "code",
   "execution_count": 5,
   "metadata": {
    "slideshow": {
     "slide_type": "notes"
    }
   },
   "outputs": [
    {
     "ename": "NameError",
     "evalue": "name 'A' is not defined",
     "output_type": "error",
     "traceback": [
      "\u001b[1;31m---------------------------------------------------------------------------\u001b[0m",
      "\u001b[1;31mNameError\u001b[0m                                 Traceback (most recent call last)",
      "\u001b[1;32m<ipython-input-5-b6cdbf44532b>\u001b[0m in \u001b[0;36m<module>\u001b[1;34m()\u001b[0m\n\u001b[1;32m----> 1\u001b[1;33m \u001b[0mAc\u001b[0m \u001b[1;33m=\u001b[0m \u001b[0mnumpy\u001b[0m\u001b[1;33m.\u001b[0m\u001b[0marray\u001b[0m\u001b[1;33m(\u001b[0m\u001b[1;33m[\u001b[0m\u001b[1;33m[\u001b[0m\u001b[1;33m(\u001b[0m\u001b[0mA\u001b[0m\u001b[1;33m-\u001b[0m\u001b[0mB\u001b[0m\u001b[1;33m*\u001b[0m\u001b[0mK\u001b[0m\u001b[1;33m)\u001b[0m\u001b[1;33m]\u001b[0m\u001b[1;33m]\u001b[0m\u001b[1;33m)\u001b[0m\u001b[1;33m\u001b[0m\u001b[0m\n\u001b[0m\u001b[0;32m      2\u001b[0m \u001b[0mBc\u001b[0m \u001b[1;33m=\u001b[0m \u001b[0mnumpy\u001b[0m\u001b[1;33m.\u001b[0m\u001b[0marray\u001b[0m\u001b[1;33m(\u001b[0m\u001b[1;33m[\u001b[0m\u001b[1;33m[\u001b[0m\u001b[0mB\u001b[0m\u001b[1;33m]\u001b[0m\u001b[1;33m]\u001b[0m\u001b[1;33m)\u001b[0m\u001b[1;33m\u001b[0m\u001b[0m\n\u001b[0;32m      3\u001b[0m \u001b[0mCc\u001b[0m \u001b[1;33m=\u001b[0m \u001b[0mnumpy\u001b[0m\u001b[1;33m.\u001b[0m\u001b[0marray\u001b[0m\u001b[1;33m(\u001b[0m\u001b[1;33m[\u001b[0m\u001b[1;33m[\u001b[0m\u001b[0mC\u001b[0m\u001b[1;33m]\u001b[0m\u001b[1;33m]\u001b[0m\u001b[1;33m)\u001b[0m\u001b[1;33m\u001b[0m\u001b[0m\n\u001b[0;32m      4\u001b[0m \u001b[0mDc\u001b[0m \u001b[1;33m=\u001b[0m \u001b[0mnumpy\u001b[0m\u001b[1;33m.\u001b[0m\u001b[0marray\u001b[0m\u001b[1;33m(\u001b[0m\u001b[1;33m[\u001b[0m\u001b[1;33m[\u001b[0m\u001b[0mD\u001b[0m\u001b[1;33m]\u001b[0m\u001b[1;33m]\u001b[0m\u001b[1;33m)\u001b[0m\u001b[1;33m\u001b[0m\u001b[0m\n\u001b[0;32m      5\u001b[0m \u001b[1;31m# A = sys_d.a;\u001b[0m\u001b[1;33m\u001b[0m\u001b[1;33m\u001b[0m\u001b[0m\n",
      "\u001b[1;31mNameError\u001b[0m: name 'A' is not defined"
     ]
    }
   ],
   "source": [
    "Ac = numpy.array([[(A-B*K)]])\n",
    "Bc = numpy.array([[B]])\n",
    "Cc = numpy.array([[C]])\n",
    "Dc = numpy.array([[D]])\n",
    "# A = sys_d.a;\n",
    "# B = sys_d.b;\n",
    "# C = sys_d.c;\n",
    "# D = sys_d.d;\n",
    "# Q = C'*C;\n",
    "# Q(1,1) = 5000;\n",
    "# Q(3,3) = 100\n",
    "# R = 1;\n",
    "# [K] = dlqr(A,B,Q,R) \n",
    "# Ac = [(A-B*K)];\n",
    "# Bc = [B];\n",
    "# Cc = [C];\n",
    "# Dc = [D];\n",
    "# states = {'x' 'x_dot' 'phi' 'phi_dot'};\n",
    "# inputs = {'r'};\n",
    "# outputs = {'x'; 'phi'};\n",
    "# sys_cl = ss(Ac,Bc,Cc,Dc,Ts,'statename',states,'inputname',inputs,'outputname',outputs);\n",
    "# t = 0:0.01:5;\n",
    "# r =0.2*ones(size(t));\n",
    "# [y,t,x]=lsim(sys_cl,r,t);\n",
    "# [AX,H1,H2] = plotyy(t,y(:,1),t,y(:,2),'plot');\n",
    "# set(get(AX(1),'Ylabel'),'String','cart position (m)') \n",
    "# set(get(AX(2),'Ylabel'),'String','pendulum angle (radians)') \n",
    "# title('Step Response with Digital LQR Control')"
   ]
  },
  {
   "cell_type": "markdown",
   "metadata": {
    "slideshow": {
     "slide_type": "notes"
    }
   },
   "source": [
    "From this plot, we see that all design requirements are satisfied except the steady-state error of the cart position $x$. We can easily correct this by introducing a feedforward scaling factor $\\bar{N}$.\n",
    "\n",
    "## Precompensator design\n",
    "\n",
    "Unlike other design methods, the full-state feedback system does not compare the output directly to the reference, rather, it compares the state vector multiplied by the control matrix ($\\mathbf{Kx}$) to the reference (see the schematic shown above). Thus, we should not expect the output to converge to the commanded reference. To obtain the desired output, we need to scale the reference input so that the output equals the reference. This can be easily done by introducing a feedforward scaling factor $\\bar{N}$. The basic full state-feedback schematic with scaling factor is shown below.\n",
    "![dstatefeedback_w_pre_pend.png](figures/dstatefeedback_w_pre_pend.png)\n",
    "Unfortunately, we cannot use our user-defined function |rscale| to find \\\\(\\bar{N}\\\\) because this function was defined for continuous-time single-output systems. We can, however, find the scaling factor by trial and error. After several trials, \\\\(\\bar{N}\\\\) equal to -61.55 provided a satisfactory response. Adding the following commands to your m-file and running in the command window will generate the response shown below."
   ]
  },
  {
   "cell_type": "code",
   "execution_count": 6,
   "metadata": {
    "slideshow": {
     "slide_type": "notes"
    }
   },
   "outputs": [],
   "source": [
    "# Nbar = -61.55;\n",
    "# sys_cl = ss(Ac,Bc*Nbar,Cc,Dc,Ts,'statename',states,'inputname',inputs,'outputname',outputs);\n",
    "# t = 0:0.01:5;\n",
    "# r =0.2*ones(size(t));\n",
    "# [y,t,x]=lsim(sys_cl,r,t);\n",
    "# [AX,H1,H2] = plotyy(t,y(:,1),t,y(:,2),'plot');\n",
    "# set(get(AX(1),'Ylabel'),'String','cart position (m)') \n",
    "# set(get(AX(2),'Ylabel'),'String','pendulum angle (radians)') \n",
    "# title('Step Response with Digital LQR Control and Precompensation')"
   ]
  },
  {
   "cell_type": "markdown",
   "metadata": {
    "slideshow": {
     "slide_type": "notes"
    }
   },
   "source": [
    "Notice that the steady-state error of the cart's position has been eliminated.  Now we have designed a system that satisfies all of the design requirements. Note, however, that the scaling factor \\\\(\\bar{N}\\\\) was designed based on a model of the system. If our model is in error or there are unknown disturbances, then the steady-state error will no longer be driven to zero.\n",
    "\n",
    "## Observer design\n",
    "\n",
    "The above response satisfies all of the design requirements, however, it was found assuming all state variables of the system are measurable. This assumption may not be valid for all systems. In this section, we develop a technique for estimating the state of the system based on the measured outputs and a model of the plant. The object that estimates the state of system is called an **observer**. Thus, in this section we will design a full-order state observer to estimate all of the system's state variables, including those that are measured. For further explanation on how an observer works, please consult your control textbook. A basic schematic of the observer-based state-feedback system is shown below.\n",
    "![dobserver_statefeedback_pend.png](figures/dobserver_statefeedback_pend.png)\n",
    "Designing the observer equates to finding the observer gain matrix $\\mathbf{L}$. To accomplish this, we need to first determine the closed-loop poles of the system without the observer (the eigenvalues of $$\\mathbf{A-BK}$). This can be achieved using the MATLAB command |eig| as shown below."
   ]
  },
  {
   "cell_type": "code",
   "execution_count": 7,
   "metadata": {
    "slideshow": {
     "slide_type": "notes"
    }
   },
   "outputs": [],
   "source": [
    "# poles = eig(A-B*K)"
   ]
  },
  {
   "cell_type": "markdown",
   "metadata": {
    "slideshow": {
     "slide_type": "notes"
    }
   },
   "source": [
    "Since the observer is attempting to estimate the values of state variables which are themselves changing, it is desired that the dynamics of the observer be significantly faster than the dynamics of the closed-loop system without the observer. A common guideline is to make the estimator poles (eigenvalues of $\\mathbf{A-LC}$) 4-10 times faster than the slowest controller pole (eigenvalue of $\\mathbf{A-BK}$). Making the estimator poles too fast can be problematic if the measurement is corrupted by noise or there are errors in the sensor measurement in general.  Based on the poles found above, we will place the observer poles at [-0.2 -0.21 -0.22 -0.23]. These poles can be modified later, if necessary. We will use the MATLAB function |place| to find the \\\\(\\mathbf{L}\\\\) matrix. Add the following code to your m-file and re-run in the command window to generate the observer gain matrix shown below."
   ]
  },
  {
   "cell_type": "code",
   "execution_count": 8,
   "metadata": {
    "slideshow": {
     "slide_type": "notes"
    }
   },
   "outputs": [],
   "source": [
    "P = numpy.array([[-0.2,-0.21,-0.22,-0.23]])\n",
    "# P = [-0.2 -0.21 -0.22 -0.23];\n",
    "# L = place(A',C',P)'"
   ]
  },
  {
   "cell_type": "markdown",
   "metadata": {
    "slideshow": {
     "slide_type": "notes"
    }
   },
   "source": [
    "Now we will obtain the overall system response including the observer. Add the following commands to your m-file and run to generate the response shown below."
   ]
  },
  {
   "cell_type": "code",
   "execution_count": 9,
   "metadata": {
    "slideshow": {
     "slide_type": "notes"
    }
   },
   "outputs": [
    {
     "ename": "NameError",
     "evalue": "name 'A' is not defined",
     "output_type": "error",
     "traceback": [
      "\u001b[1;31m---------------------------------------------------------------------------\u001b[0m",
      "\u001b[1;31mNameError\u001b[0m                                 Traceback (most recent call last)",
      "\u001b[1;32m<ipython-input-9-a1482c381ab8>\u001b[0m in \u001b[0;36m<module>\u001b[1;34m()\u001b[0m\n\u001b[1;32m----> 1\u001b[1;33m \u001b[0mAce\u001b[0m \u001b[1;33m=\u001b[0m \u001b[0mnumpy\u001b[0m\u001b[1;33m.\u001b[0m\u001b[0marray\u001b[0m\u001b[1;33m(\u001b[0m\u001b[1;33m[\u001b[0m\u001b[1;33m[\u001b[0m\u001b[1;33m(\u001b[0m\u001b[0mA\u001b[0m\u001b[1;33m-\u001b[0m\u001b[0mB\u001b[0m\u001b[1;33m*\u001b[0m\u001b[0mK\u001b[0m\u001b[1;33m)\u001b[0m\u001b[1;33m,\u001b[0m\u001b[1;33m(\u001b[0m\u001b[0mB\u001b[0m\u001b[1;33m*\u001b[0m\u001b[0mK\u001b[0m\u001b[1;33m)\u001b[0m\u001b[1;33m]\u001b[0m\u001b[1;33m,\u001b[0m\u001b[1;33m[\u001b[0m\u001b[0mzeros\u001b[0m\u001b[1;33m(\u001b[0m\u001b[0msize\u001b[0m\u001b[1;33m(\u001b[0m\u001b[0mA\u001b[0m\u001b[1;33m)\u001b[0m\u001b[1;33m)\u001b[0m\u001b[1;33m,\u001b[0m\u001b[1;33m(\u001b[0m\u001b[0mA\u001b[0m\u001b[1;33m-\u001b[0m\u001b[0mL\u001b[0m\u001b[1;33m*\u001b[0m\u001b[0mC\u001b[0m\u001b[1;33m)\u001b[0m\u001b[1;33m]\u001b[0m\u001b[1;33m]\u001b[0m\u001b[1;33m)\u001b[0m\u001b[1;33m\u001b[0m\u001b[0m\n\u001b[0m\u001b[0;32m      2\u001b[0m \u001b[0mBce\u001b[0m \u001b[1;33m=\u001b[0m \u001b[0mnumpy\u001b[0m\u001b[1;33m.\u001b[0m\u001b[0marray\u001b[0m\u001b[1;33m(\u001b[0m\u001b[1;33m[\u001b[0m\u001b[1;33m[\u001b[0m\u001b[0mB\u001b[0m\u001b[1;33m*\u001b[0m\u001b[0mNbar\u001b[0m\u001b[1;33m]\u001b[0m\u001b[1;33m,\u001b[0m\u001b[1;33m[\u001b[0m\u001b[0mzeros\u001b[0m\u001b[1;33m(\u001b[0m\u001b[0msize\u001b[0m\u001b[1;33m(\u001b[0m\u001b[0mB\u001b[0m\u001b[1;33m)\u001b[0m\u001b[1;33m)\u001b[0m\u001b[1;33m]\u001b[0m\u001b[1;33m]\u001b[0m\u001b[1;33m)\u001b[0m\u001b[1;33m\u001b[0m\u001b[0m\n\u001b[0;32m      3\u001b[0m \u001b[0mCce\u001b[0m \u001b[1;33m=\u001b[0m \u001b[0mnumpy\u001b[0m\u001b[1;33m.\u001b[0m\u001b[0marray\u001b[0m\u001b[1;33m(\u001b[0m\u001b[1;33m[\u001b[0m\u001b[1;33m[\u001b[0m\u001b[0mCc\u001b[0m\u001b[1;33m,\u001b[0m\u001b[0mzeros\u001b[0m\u001b[1;33m(\u001b[0m\u001b[0msize\u001b[0m\u001b[1;33m(\u001b[0m\u001b[0mCc\u001b[0m\u001b[1;33m)\u001b[0m\u001b[1;33m)\u001b[0m\u001b[1;33m]\u001b[0m\u001b[1;33m]\u001b[0m\u001b[1;33m)\u001b[0m\u001b[1;33m\u001b[0m\u001b[0m\n\u001b[0;32m      4\u001b[0m \u001b[0mDce\u001b[0m \u001b[1;33m=\u001b[0m \u001b[0mnumpy\u001b[0m\u001b[1;33m.\u001b[0m\u001b[0marray\u001b[0m\u001b[1;33m(\u001b[0m\u001b[1;33m[\u001b[0m\u001b[1;33m[\u001b[0m\u001b[1;36m0\u001b[0m\u001b[1;33m]\u001b[0m\u001b[1;33m,\u001b[0m\u001b[1;33m[\u001b[0m\u001b[1;36m0\u001b[0m\u001b[1;33m]\u001b[0m\u001b[1;33m]\u001b[0m\u001b[1;33m)\u001b[0m\u001b[1;33m\u001b[0m\u001b[0m\n\u001b[0;32m      5\u001b[0m \u001b[1;31m# Ace = [(A-B*K) (B*K);\u001b[0m\u001b[1;33m\u001b[0m\u001b[1;33m\u001b[0m\u001b[0m\n",
      "\u001b[1;31mNameError\u001b[0m: name 'A' is not defined"
     ]
    }
   ],
   "source": [
    "Ace = numpy.array([[(A-B*K),(B*K)],[zeros(size(A)),(A-L*C)]])\n",
    "Bce = numpy.array([[B*Nbar],[zeros(size(B))]])\n",
    "Cce = numpy.array([[Cc,zeros(size(Cc))]])\n",
    "Dce = numpy.array([[0],[0]])\n",
    "# Ace = [(A-B*K) (B*K);\n",
    "#        zeros(size(A)) (A-L*C)];\n",
    "# Bce = [B*Nbar;\n",
    "#        zeros(size(B))];\n",
    "# Cce = [Cc zeros(size(Cc))];\n",
    "# Dce = [0;0];\n",
    "# states = {'x' 'x_dot' 'phi' 'phi_dot' 'e1' 'e2' 'e3' 'e4'};\n",
    "# inputs = {'r'};\n",
    "# outputs = {'x'; 'phi'};\n",
    "# sys_est_cl = ss(Ace,Bce,Cce,Dce,Ts,'statename',states,'inputname',inputs,'outputname',outputs);\n",
    "# t = 0:0.01:5;\n",
    "# r = 0.2*ones(size(t));\n",
    "# [y,t,x]=lsim(sys_est_cl,r,t);\n",
    "# [AX,H1,H2] = plotyy(t,y(:,1),t,y(:,2),'plot');\n",
    "# set(get(AX(1),'Ylabel'),'String','cart position (m)') \n",
    "# set(get(AX(2),'Ylabel'),'String','pendulum angle (radians)') \n",
    "# title('Step Response with Digital Observer-Based State-Feedback Control')"
   ]
  },
  {
   "cell_type": "code",
   "execution_count": 10,
   "metadata": {
    "exporter": {
     "cell_type": "toc"
    },
    "slideshow": {
     "slide_type": "skip"
    }
   },
   "outputs": [
    {
     "data": {
      "application/javascript": [
       "$.getScript('https://kmahelona.github.io/ipython_notebook_goodies/ipython_notebook_toc.js')"
      ],
      "text/plain": [
       "<IPython.core.display.Javascript object>"
      ]
     },
     "metadata": {},
     "output_type": "display_data"
    }
   ],
   "source": [
    "%%javascript\n",
    "$.getScript('https://kmahelona.github.io/ipython_notebook_goodies/ipython_notebook_toc.js')"
   ]
  }
 ],
 "metadata": {
  "celltoolbar": "Slideshow",
  "nikola": {
   "author": "d@h",
   "category": "InvertedPendulum",
   "date": "2016-02-16 08:00:00 UTC",
   "description": "Controls Tutorials for Python",
   "link": "",
   "slug": "invertedpendulum-controldigital",
   "tags": "ControlDigital",
   "title": "Inverted Pendulum - Control Digital",
   "type": ""
  }
 },
 "nbformat": 4,
 "nbformat_minor": 0
}
