{
 "cells": [
  {
   "cell_type": "code",
   "execution_count": 1,
   "metadata": {
    "exporter": {
     "cell_type": "init"
    },
    "slideshow": {
     "slide_type": "skip"
    }
   },
   "outputs": [
    {
     "name": "stdout",
     "output_type": "stream",
     "text": [
      "Using matplotlib backend: TkAgg\n",
      "Populating the interactive namespace from numpy and matplotlib\n"
     ]
    }
   ],
   "source": [
    "%pylab \n",
    "%matplotlib inline\n",
    "import sympy\n",
    "from control.matlab import *\n",
    "from sympy import Poly\n",
    "from sympy.abc import s, z\n",
    "from IPython.display import display,Latex"
   ]
  },
  {
   "cell_type": "markdown",
   "metadata": {
    "exporter": {
     "cell_type": "toc"
    },
    "slideshow": {
     "slide_type": "skip"
    }
   },
   "source": [
    "<div id=\"toc\"></div>"
   ]
  },
  {
   "cell_type": "markdown",
   "metadata": {
    "slideshow": {
     "slide_type": "notes"
    }
   },
   "source": [
    "# Inverted Pendulum: Simulink Controller Design\n",
    "\n",
    "From the [Inverted Pendulum: Simulink Modeling](../InvertedPendulum/InvertedPendulum-SimulinkModeling.ipynb) page we generated two different simulation models. We will now employ these models within Simulink to design different approaches to control and simulate the resulting closed-loop behavior.\n",
    "\n",
    "## Problem setup and design requirements\n",
    "\n",
    "In this problem, the cart with an inverted pendulum, shown below, is \"bumped\" with an impulse force, $F$.\n",
    "![pendulum.png](figures/pendulum.png)\n",
    "For this example, let's assume that (M)       mass of the cart                     0.5 kg (m)       mass of the pendulum                 0.2 kg (b)       friction of the cart                 0.1 N/m/sec (l)       length to pendulum center of mass    0.3 m (I)       inertia of the pendulum              0.006 kg*m^2 (F)       force applied to the cart            N (x)       cart position coordinate             m (theta)   pendulum angle from vertical         radians In the design process we will develop a PID controller and apply it to a single-input, single-output plant. More specifically, the controller will attempt to maintain the pendulum vertically upward when the cart is subjected to a 1-Nsec impulse. The cart's position will be ignored. Under these conditions, the design criteria are:\n",
    "* Settling time of less than 5 seconds\n",
    "* Pendulum should not move more than 0.05 radians away from the vertical\n",
    "\n",
    "## Implementing PID control for the nonlinear model\n",
    "\n",
    "In the [Inverted Pendulum: PID Controller Design](../InvertedPendulum/InvertedPendulum-ControlPID.ipynb) page a PID controller was designed with proportional, integral, and derivative gains equal to 100, 1, and 20, respectively. To implement this closed-loop system, we will start with one of our plant models from the [Inverted Pendulum: Simulink Modeling](../InvertedPendulum/InvertedPendulum-SimulinkModeling.ipynb) page. Following the steps below, we will build a closed-loop model with reference input of pendulum position and a disturbance force applied to the cart.\n",
    "* To begin, open either of the Simulink models generated previously, <Content/InvertedPendulum/Simulink/Control/Pend_Model.mdl Pend_Model.mdl> or <Content/InvertedPendulum/Simulink/Control/Pend_Model_Simscape.mdl Pend_Model_Simscape.mdl>. We will use the Simscape model to leverage the animation capabilities it offers.\n",
    "* Insert two Add blocks from Simulink/Math Operations library.\n",
    "** Change the **List of signs:* of one of the Add blocks to \"+-\".\n",
    "* Insert a Constant block from Simulink/Sources library. Change its value to 0. This is the reference input that corresponds to the pendulum vertically upward. Note, the non-Simscape model (and the rest of the pages in this example) define the pendulum angle to equal pi when pointing straight up.\n",
    "* Insert a PID Controller block from the Simulink/Continuous library.\n",
    "* Edit the PID block by doubleclicking on it. Change the *Proportional (P):* gain to \"100\", leave the *Integral (I):* gain as \"1\", and change the *Derivative (D):* gain to \"20\".\n",
    "* Now connect the blocks as they appear in the following figure:\n",
    "![pendclosedloop.png](figures/pendclosedloop.png)\n",
    "You can download our version <Content/InvertedPendulum/Simulink/Control/Pend_Simscape_Closedloop.mdl here>.\n",
    "\n",
    "## Nonlinear closed-loop response\n",
    "\n",
    "We can now simulate the closed-loop system. Be sure that the physical parameters are set as follows."
   ]
  },
  {
   "cell_type": "code",
   "execution_count": 2,
   "metadata": {
    "slideshow": {
     "slide_type": "notes"
    }
   },
   "outputs": [],
   "source": [
    "# M = 0.5;\n",
    "# m = 0.2;\n",
    "# b = 0.1;\n",
    "# I = 0.006;\n",
    "# g = 9.8;\n",
    "# l = 0.3;"
   ]
  },
  {
   "cell_type": "code",
   "execution_count": 3,
   "metadata": {
    "exporter": {
     "cell_type": "toc"
    },
    "slideshow": {
     "slide_type": "skip"
    }
   },
   "outputs": [
    {
     "data": {
      "application/javascript": [
       "$.getScript('https://kmahelona.github.io/ipython_notebook_goodies/ipython_notebook_toc.js')"
      ],
      "text/plain": [
       "<IPython.core.display.Javascript object>"
      ]
     },
     "metadata": {},
     "output_type": "display_data"
    }
   ],
   "source": [
    "%%javascript\n",
    "$.getScript('https://kmahelona.github.io/ipython_notebook_goodies/ipython_notebook_toc.js')"
   ]
  }
 ],
 "metadata": {
  "celltoolbar": "Slideshow",
  "nikola": {
   "author": "d@h",
   "category": "InvertedPendulum",
   "date": "2016-02-16 08:00:00 UTC",
   "description": "Controls Tutorials for Python",
   "link": "",
   "slug": "invertedpendulum-simulinkcontrol",
   "tags": "SimulinkControl",
   "title": "Inverted Pendulum - Simulink Control",
   "type": ""
  }
 },
 "nbformat": 4,
 "nbformat_minor": 0
}
