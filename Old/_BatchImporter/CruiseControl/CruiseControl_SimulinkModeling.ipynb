{
 "cells": [
  {
   "cell_type": "code",
   "execution_count": 1,
   "metadata": {
    "exporter": {
     "cell_type": "init"
    },
    "slideshow": {
     "slide_type": "skip"
    }
   },
   "outputs": [
    {
     "name": "stdout",
     "output_type": "stream",
     "text": [
      "Using matplotlib backend: TkAgg\n",
      "Populating the interactive namespace from numpy and matplotlib\n"
     ]
    }
   ],
   "source": [
    "%pylab \n",
    "%matplotlib inline\n",
    "import sympy\n",
    "from control.matlab import *\n",
    "from sympy import Poly\n",
    "from sympy.abc import s, z\n",
    "from IPython.display import display,Latex"
   ]
  },
  {
   "cell_type": "markdown",
   "metadata": {
    "exporter": {
     "cell_type": "toc"
    },
    "slideshow": {
     "slide_type": "skip"
    }
   },
   "source": [
    "<div id=\"toc\"></div>"
   ]
  },
  {
   "cell_type": "markdown",
   "metadata": {
    "slideshow": {
     "slide_type": "notes"
    }
   },
   "source": [
    "# Cruise Control: Simulink Modeling\n",
    "\n",
    "\n",
    "\n",
    "## Physical setup and system equations\n",
    "\n",
    "The model of the cruise control system is relatively simple. If it is assumed that rolling resistance and air drag are proportional to the car's speed, then the problem is reduced to the simple mass and damper system shown below.\n",
    "![cruise_control_schematic.png](figures/cruise_control_schematic.png)\n",
    "Using Newton's 2nd law, the governing equation for this system becomes:\n",
    "\n",
    "$$\n",
    "m \\dot{v} = u - bv\n",
    "$$\n",
    "\n",
    "where u is the force generated between the road/tire interface and can be controlled directly. For this example, let's assume that m = 1000 kg b = 50 N.sec/m u = 500 N\n",
    "\n",
    "## Building the model\n",
    "\n",
    "This system will be modeled by summing the forces acting on the mass and integrating the acceleration to give the velocity. Open Simulink and open a new model window. First, we will model the integral of acceleration.\n",
    "\n",
    "$$\n",
    "\\int \\frac{dv}{dt}\\ dt = v\n",
    "$$\n",
    "\n",
    "\n",
    "* Insert an Integrator Block (from the Continuous library) and draw lines to and from its input and output terminals.\n",
    "* Label the input line \"vdot\" and the output line \"v\" as shown below. To add such a label, double click in the empty space just above the line.\n",
    "![cc001.png](figures/cc001.png)\n",
    "Since the acceleration (dv/dt) is equal to the sum of the forces divided by mass, we will divide the incoming signal by the mass.\n",
    "* Insert a Gain block (from the Math Operations library) connected to the Integrator block input line and draw a line leading to the input of the Gain block.\n",
    "* Edit the Gain block by double-clicking on it and change its value to \"1/m\".\n",
    "* Change the label of the Gain block to \"inertia\" by clicking on the word \"Gain\" underneath the block.\n",
    "![cc002.png](figures/cc002.png)\n",
    "Now, we will add in the forces which are represented in Equation (1). First, we will add in the damping force.\n",
    "* Attach a Sum block (from the Math Operations library) to the line leading to the inertia Gain block.\n",
    "* Change the signs of the Sum block to \"+-\".\n",
    "* Insert a Gain block below the Inertia block, select it by single-clicking on it, and select Flip from the Format menu (or type Ctrl-F) to flip it left-to-right.\n",
    "* Set the block's value to \"b\" and rename this block to \"damping\".\n",
    "* Tap a line (hold Ctrl while drawing) off the Integrator block's output and connect it to the input of the damping Gain block.\n",
    "* Draw a line from the damping Gain block output to the negative input of the Sum Block.\n",
    "![cc003.png](figures/cc003.png)\n",
    "The second force acting on the mass is the control input, u. We will apply a step input.\n",
    "* Insert a Step block (from the Sources library) and connect it with a line to the positive input of the Sum Block.\n",
    "* To view the output velocity, insert a Scope block (from the Sinks library) connected to the output of the Integrator.\n",
    "![cc004.png](figures/cc004.png)\n",
    "\n",
    "* To provide an appropriate step input of 500 at time equal zero, double-click the Step block and set the Step Time to \"0\" and the Final Value to \"u\".\n",
    "![ccdialog.png](figures/ccdialog.png)\n",
    "You can download a model file for the complete system here, <Content/CruiseControl/Simulink/Modeling/ccmodel.mdl ccmodel.mdl>.\n",
    "\n",
    "## Open-loop response\n",
    "\n",
    "To simulate this system, first, an appropriate simulation time must be set.\n",
    "* Select Parameters from the Simulation menu and enter \"120\" in the Stop Time field. 120 seconds is long enough to view the open-loop response.\n",
    "![ccsimpar.png](figures/ccsimpar.png)\n",
    "The physical parameters must now be set. Run the following commands at the MATLAB prompt:"
   ]
  },
  {
   "cell_type": "code",
   "execution_count": 2,
   "metadata": {
    "slideshow": {
     "slide_type": "notes"
    }
   },
   "outputs": [],
   "source": [
    "# m = 1000;\n",
    "# b = 50;\n",
    "# u = 500;"
   ]
  },
  {
   "cell_type": "code",
   "execution_count": 3,
   "metadata": {
    "exporter": {
     "cell_type": "toc"
    },
    "slideshow": {
     "slide_type": "skip"
    }
   },
   "outputs": [
    {
     "data": {
      "application/javascript": [
       "$.getScript('https://kmahelona.github.io/ipython_notebook_goodies/ipython_notebook_toc.js')"
      ],
      "text/plain": [
       "<IPython.core.display.Javascript object>"
      ]
     },
     "metadata": {},
     "output_type": "display_data"
    }
   ],
   "source": [
    "%%javascript\n",
    "$.getScript('https://kmahelona.github.io/ipython_notebook_goodies/ipython_notebook_toc.js')"
   ]
  }
 ],
 "metadata": {
  "celltoolbar": "Slideshow",
  "nikola": {
   "author": "d@h",
   "category": "CruiseControl",
   "date": "2016-02-16 08:00:00 UTC",
   "description": "Controls Tutorials for Python",
   "link": "",
   "slug": "cruisecontrol-simulinkmodeling",
   "tags": "SimulinkModeling",
   "title": "Cruise Control - Simulink Modeling",
   "type": ""
  }
 },
 "nbformat": 4,
 "nbformat_minor": 0
}
