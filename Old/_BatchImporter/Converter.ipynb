{
 "cells": [
  {
   "cell_type": "code",
   "execution_count": 16,
   "metadata": {
    "collapsed": true
   },
   "outputs": [],
   "source": [
    "import getFiles\n",
    "import os\n",
    "import subprocess\n",
    "\n",
    "import nbformat\n",
    "import nbformat.v4 as nbf\n",
    "from nbconvert.preprocessors import ExecutePreprocessor\n",
    "ep = ExecutePreprocessor()\n",
    "ep.allow_errors = True\n",
    "ep.timeout = 3600"
   ]
  },
  {
   "cell_type": "code",
   "execution_count": 39,
   "metadata": {
    "collapsed": false
   },
   "outputs": [],
   "source": [
    "section = \"AircraftPitch\"\n",
    "subsections = (\"SystemModeling\",\n",
    "              \"SystemAnalysis\",\n",
    "              \"ControlPID\",\n",
    "              \"ControlRootLocus\",\n",
    "              \"ControlFrequency\",\n",
    "              \"ControlStateSpace\",\n",
    "              \"ControlDigital\")\n",
    "\n",
    "nb_out = nbf.new_notebook()\n",
    "for subsection in subsections:\n",
    "    notebook=os.path.join(section,\"{}_{}.ipynb\".format(section, subsection))\n",
    "    nb = nbformat.read(notebook, as_version=4)\n",
    "    nb_exec = nb\n",
    "    for cell in nb_exec[\"cells\"]:\n",
    "        cell_metadata = getattr(cell, \"metadata\", {})\n",
    "        cell_slide_md = getattr(cell_metadata, \"slideshow\", {})\n",
    "        \n",
    "        cell_type=getattr(cell_slide_md,\"cell_type\",\"skip\")\n",
    "        if getattr(\n",
    "            getattr(\n",
    "                ,\n",
    "                \"slideshow\", {}),\n",
    "            'slide_type', {}) == \"skip\":\n",
    "            continue\n",
    "        nb_out[\"cells\"].append(cell)\n",
    "#\n",
    "clean_section = \"Python Controls Tutorials - Aircraft Pitch\"\n",
    "out_file=os.path.join(section,clean_section+\".ipynb\")\n",
    "with open(out_file,\"w\") as fid:\n",
    "    nbformat.write(nb_out, fid)"
   ]
  },
  {
   "cell_type": "code",
   "execution_count": 40,
   "metadata": {
    "collapsed": false
   },
   "outputs": [],
   "source": [
    "def batch_converter_commands(notebook_file, dest_dir=None):\n",
    "    if dest_dir is None:\n",
    "        dest_dir=os.path.abspath(os.path.dirname(notebook_file))\n",
    "    base = os.path.splitext(os.path.basename(notebook_file))[0]\n",
    "    dest_fmts = [\"html\", \"pdf\", \"slides\"]\n",
    "    dest_templates = dict()\n",
    "    dest_templates[\"pdf\"] = [\"report\"]\n",
    "    dest_templates[\"html\"] = [\"full\"]\n",
    "    \n",
    "    cmd_arrays=list()\n",
    "    \n",
    "    for dest_fmt in dest_fmts:\n",
    "        if dest_fmt in dest_templates:\n",
    "            for template in dest_templates[dest_fmt]:\n",
    "                cmd_array=[\"jupyter\", \"nbconvert\", \"--to\", dest_fmt, \"--template\", template, notebook_file]\n",
    "                cmd_arrays.append(cmd_array)\n",
    "        else:\n",
    "            cmd_array=[\"jupyter\", \"nbconvert\", \"--to\", dest_fmt, notebook_file]\n",
    "            cmd_arrays.append(cmd_array)\n",
    "    return cmd_arrays"
   ]
  },
  {
   "cell_type": "code",
   "execution_count": 43,
   "metadata": {
    "collapsed": false,
    "scrolled": true
   },
   "outputs": [
    {
     "name": "stdout",
     "output_type": "stream",
     "text": [
      "[['jupyter', 'nbconvert', '--to', 'html', '--template', 'full', 'AircraftPitch/Python Controls Tutorials - Aircraft Pitch.ipynb'], ['jupyter', 'nbconvert', '--to', 'pdf', '--template', 'report', 'AircraftPitch/Python Controls Tutorials - Aircraft Pitch.ipynb'], ['jupyter', 'nbconvert', '--to', 'slides', 'AircraftPitch/Python Controls Tutorials - Aircraft Pitch.ipynb']]\n"
     ]
    }
   ],
   "source": [
    "import subprocess\n",
    "batches = batch_converter_commands(out_file)     \n",
    "print(batches)\n",
    "for batch in batches:\n",
    "    proc = subprocess.Popen(batch)\n",
    "    proc.wait()"
   ]
  },
  {
   "cell_type": "code",
   "execution_count": 10,
   "metadata": {
    "collapsed": false
   },
   "outputs": [
    {
     "name": "stdout",
     "output_type": "stream",
     "text": [
      "/mnt/keg/Python/CTP/BatchImporter/CruiseControl/CruiseControl_ControlPID.ipynb\n",
      "/mnt/keg/Python/CTP/BatchImporter/CruiseControl/CruiseControl_ControlStateSpace.ipynb\n",
      "/mnt/keg/Python/CTP/BatchImporter/CruiseControl/CruiseControl_ControlRootLocus.ipynb\n",
      "/mnt/keg/Python/CTP/BatchImporter/CruiseControl/CruiseControl_ControlDigital.ipynb\n",
      "/mnt/keg/Python/CTP/BatchImporter/CruiseControl/CruiseControl_SimulinkModeling.ipynb\n",
      "/mnt/keg/Python/CTP/BatchImporter/CruiseControl/CruiseControl_SimulinkControl.ipynb\n",
      "/mnt/keg/Python/CTP/BatchImporter/CruiseControl/CruiseControl_ControlFrequency.ipynb\n",
      "/mnt/keg/Python/CTP/BatchImporter/CruiseControl/CruiseControl_SystemAnalysis.ipynb\n",
      "/mnt/keg/Python/CTP/BatchImporter/CruiseControl/CruiseControl_SystemModeling.ipynb\n",
      "/mnt/keg/Python/CTP/BatchImporter/AircraftPitch/AircraftPitch_ControlStateSpace.ipynb\n",
      "/mnt/keg/Python/CTP/BatchImporter/AircraftPitch/AircraftPitch_ControlRootLocus.ipynb\n",
      "/mnt/keg/Python/CTP/BatchImporter/AircraftPitch/AircraftPitch_ControlFrequency.ipynb\n",
      "/mnt/keg/Python/CTP/BatchImporter/AircraftPitch/AircraftPitch_ControlDigital.ipynb\n",
      "/mnt/keg/Python/CTP/BatchImporter/AircraftPitch/AircraftPitch_SimulinkControl.ipynb\n",
      "/mnt/keg/Python/CTP/BatchImporter/AircraftPitch/AircraftPitch_SimulinkModeling.ipynb\n",
      "/mnt/keg/Python/CTP/BatchImporter/AircraftPitch/AircraftPitch_SystemAnalysis.ipynb\n",
      "/mnt/keg/Python/CTP/BatchImporter/AircraftPitch/AircraftPitch_SystemModeling.ipynb\n",
      "/mnt/keg/Python/CTP/BatchImporter/AircraftPitch/AircraftPitch_ControlPID.ipynb\n",
      "/mnt/keg/Python/CTP/BatchImporter/MotorSpeed/MotorSpeed_SystemModeling.ipynb\n",
      "/mnt/keg/Python/CTP/BatchImporter/MotorSpeed/MotorSpeed_SystemAnalysis.ipynb\n",
      "/mnt/keg/Python/CTP/BatchImporter/MotorSpeed/MotorSpeed_SimulinkModeling.ipynb\n",
      "/mnt/keg/Python/CTP/BatchImporter/MotorSpeed/MotorSpeed_ControlPID.ipynb\n",
      "/mnt/keg/Python/CTP/BatchImporter/MotorSpeed/MotorSpeed_ControlDigital.ipynb\n",
      "/mnt/keg/Python/CTP/BatchImporter/MotorSpeed/MotorSpeed_ControlFrequency.ipynb\n",
      "/mnt/keg/Python/CTP/BatchImporter/MotorSpeed/MotorSpeed_SimulinkControl.ipynb\n",
      "/mnt/keg/Python/CTP/BatchImporter/MotorSpeed/MotorSpeed_ControlRootLocus.ipynb\n",
      "/mnt/keg/Python/CTP/BatchImporter/MotorSpeed/MotorSpeed_ControlStateSpace.ipynb\n",
      "/mnt/keg/Python/CTP/BatchImporter/BallBeam/BallBeam_SimulinkModeling.ipynb\n",
      "/mnt/keg/Python/CTP/BatchImporter/BallBeam/BallBeam_ControlPID.ipynb\n",
      "/mnt/keg/Python/CTP/BatchImporter/BallBeam/BallBeam_ControlStateSpace.ipynb\n",
      "/mnt/keg/Python/CTP/BatchImporter/BallBeam/BallBeam_ControlFrequency.ipynb\n",
      "/mnt/keg/Python/CTP/BatchImporter/BallBeam/BallBeam_SimulinkControl.ipynb\n",
      "/mnt/keg/Python/CTP/BatchImporter/BallBeam/BallBeam_ControlDigital.ipynb\n",
      "/mnt/keg/Python/CTP/BatchImporter/BallBeam/BallBeam_SystemAnalysis.ipynb\n",
      "/mnt/keg/Python/CTP/BatchImporter/BallBeam/BallBeam_SystemModeling.ipynb\n",
      "/mnt/keg/Python/CTP/BatchImporter/BallBeam/BallBeam_ControlRootLocus.ipynb\n",
      "/mnt/keg/Python/CTP/BatchImporter/InvertedPendulum/InvertedPendulum_SimulinkModeling.ipynb\n",
      "/mnt/keg/Python/CTP/BatchImporter/InvertedPendulum/InvertedPendulum_ControlStateSpace.ipynb\n",
      "/mnt/keg/Python/CTP/BatchImporter/InvertedPendulum/InvertedPendulum_ControlPID.ipynb\n",
      "/mnt/keg/Python/CTP/BatchImporter/InvertedPendulum/InvertedPendulum_ControlFrequency.ipynb\n",
      "/mnt/keg/Python/CTP/BatchImporter/InvertedPendulum/InvertedPendulum_SystemAnalysis.ipynb\n",
      "/mnt/keg/Python/CTP/BatchImporter/InvertedPendulum/InvertedPendulum_SystemModeling.ipynb\n",
      "/mnt/keg/Python/CTP/BatchImporter/InvertedPendulum/InvertedPendulum_SimulinkControl.ipynb\n",
      "/mnt/keg/Python/CTP/BatchImporter/InvertedPendulum/InvertedPendulum_ControlDigital.ipynb\n",
      "/mnt/keg/Python/CTP/BatchImporter/InvertedPendulum/InvertedPendulum_ControlRootLocus.ipynb\n",
      "/mnt/keg/Python/CTP/BatchImporter/Introduction/Introduction_ControlPID.ipynb\n",
      "/mnt/keg/Python/CTP/BatchImporter/Introduction/Introduction_SimulinkControl.ipynb\n",
      "/mnt/keg/Python/CTP/BatchImporter/Introduction/Introduction_ControlDigital.ipynb\n",
      "/mnt/keg/Python/CTP/BatchImporter/Introduction/Introduction_SystemAnalysis.ipynb\n",
      "/mnt/keg/Python/CTP/BatchImporter/Introduction/Introduction_SystemModeling.ipynb\n",
      "/mnt/keg/Python/CTP/BatchImporter/Introduction/Introduction_ControlRootLocus.ipynb\n",
      "/mnt/keg/Python/CTP/BatchImporter/Introduction/Introduction_SimulinkModeling.ipynb\n",
      "/mnt/keg/Python/CTP/BatchImporter/Introduction/Introduction_ControlStateSpace.ipynb\n",
      "/mnt/keg/Python/CTP/BatchImporter/Introduction/Introduction_ControlFrequency.ipynb\n",
      "/mnt/keg/Python/CTP/BatchImporter/MotorPosition/MotorPosition_ControlDigital.ipynb\n",
      "/mnt/keg/Python/CTP/BatchImporter/MotorPosition/MotorPosition_ControlPID.ipynb\n",
      "/mnt/keg/Python/CTP/BatchImporter/MotorPosition/MotorPosition_ControlFrequency.ipynb\n",
      "/mnt/keg/Python/CTP/BatchImporter/MotorPosition/MotorPosition_SimulinkControl.ipynb\n",
      "/mnt/keg/Python/CTP/BatchImporter/MotorPosition/MotorPosition_SystemModeling.ipynb\n",
      "/mnt/keg/Python/CTP/BatchImporter/MotorPosition/MotorPosition_SimulinkModeling.ipynb\n",
      "/mnt/keg/Python/CTP/BatchImporter/MotorPosition/MotorPosition_SystemAnalysis.ipynb\n",
      "/mnt/keg/Python/CTP/BatchImporter/MotorPosition/MotorPosition_ControlStateSpace.ipynb\n",
      "/mnt/keg/Python/CTP/BatchImporter/MotorPosition/MotorPosition_ControlRootLocus.ipynb\n",
      "/mnt/keg/Python/CTP/BatchImporter/Suspension/Suspension_SystemAnalysis.ipynb\n",
      "/mnt/keg/Python/CTP/BatchImporter/Suspension/Suspension_SystemModeling.ipynb\n",
      "/mnt/keg/Python/CTP/BatchImporter/Suspension/Suspension_ControlRootLocus.ipynb\n",
      "/mnt/keg/Python/CTP/BatchImporter/Suspension/Suspension_ControlPID.ipynb\n",
      "/mnt/keg/Python/CTP/BatchImporter/Suspension/Suspension_ControlDigital.ipynb\n",
      "/mnt/keg/Python/CTP/BatchImporter/Suspension/Suspension_ControlStateSpace.ipynb\n",
      "/mnt/keg/Python/CTP/BatchImporter/Suspension/Suspension_ControlFrequency.ipynb\n",
      "/mnt/keg/Python/CTP/BatchImporter/Suspension/Suspension_SimulinkModeling.ipynb\n",
      "/mnt/keg/Python/CTP/BatchImporter/Suspension/Suspension_SimulinkControl.ipynb\n"
     ]
    }
   ],
   "source": [
    "for directory in getFiles.getDirs(\".\", depth=1):\n",
    "    if os.path.basename(directory).startswith(\".\"):\n",
    "        continue\n",
    "    if os.path.basename(directory).startswith(\"_\"):\n",
    "        continue\n",
    "    files=getFiles.getFilesGen(directory=directory, extensions=[\".ipynb\"], depth=1)\n",
    "    for f in files:\n",
    "        print(f)"
   ]
  },
  {
   "cell_type": "code",
   "execution_count": 46,
   "metadata": {
    "collapsed": true
   },
   "outputs": [],
   "source": []
  }
 ],
 "metadata": {
  "kernelspec": {
   "display_name": "Python 3",
   "language": "python",
   "name": "python3"
  },
  "language_info": {
   "codemirror_mode": {
    "name": "ipython",
    "version": 3
   },
   "file_extension": ".py",
   "mimetype": "text/x-python",
   "name": "python",
   "nbconvert_exporter": "python",
   "pygments_lexer": "ipython3",
   "version": "3.4.4"
  }
 },
 "nbformat": 4,
 "nbformat_minor": 0
}
