{
 "cells": [
  {
   "cell_type": "code",
   "execution_count": 1,
   "metadata": {
    "exporter": {
     "cell_type": "init"
    },
    "slideshow": {
     "slide_type": "skip"
    }
   },
   "outputs": [
    {
     "name": "stdout",
     "output_type": "stream",
     "text": [
      "Using matplotlib backend: TkAgg\n",
      "Populating the interactive namespace from numpy and matplotlib\n"
     ]
    }
   ],
   "source": [
    "%pylab \n",
    "%matplotlib inline\n",
    "import sympy\n",
    "from control.matlab import *\n",
    "from sympy import Poly\n",
    "from sympy.abc import s, z\n",
    "from IPython.display import display,Latex"
   ]
  },
  {
   "cell_type": "markdown",
   "metadata": {
    "exporter": {
     "cell_type": "toc"
    },
    "slideshow": {
     "slide_type": "skip"
    }
   },
   "source": [
    "<div id=\"toc\"></div>"
   ]
  },
  {
   "cell_type": "markdown",
   "metadata": {
    "slideshow": {
     "slide_type": "notes"
    }
   },
   "source": [
    "# Suspension: System Modeling\n",
    "\n",
    "\n",
    "\n",
    "## Physical setup\n",
    "\n",
    "\n",
    "![bus.gif](figures/bus.gif)\n",
    "Designing an automotive suspension system is an interesting and challenging control problem. When the suspension system is designed, a 1/4 model (one of the four wheels) is used to simplify the problem to a 1D multiple spring-damper system. A diagram of this system is shown below. This model is for an active suspension system where an actuator is included that is able to generate the control force U to control the motion of the bus body.\n",
    "![susp1.png](figures/susp1.png)\n",
    "\n",
    "\n",
    "## System parameters\n",
    "\n",
    "(M1)    1/4 bus body mass                        2500 kg (M2)    suspension mass                          320 kg (K1)    spring constant of suspension system     80,000 N/m (K2)    spring constant of wheel and tire        500,000 N/m (b1)    damping constant of suspension system    350 N.s/m (b2)    damping constant of wheel and tire       15,020 N.s/m (U)     control force\n",
    "\n",
    "## Equations of motion\n",
    "\n",
    "From the picture above and Newton's law, we can obtain the dynamic equations as the following:\n",
    "\n",
    "$$\n",
    "M_1 \\ddot{X}_1 = - b_1 (\\dot{X}_1 - \\dot{X}_2) - K_1 (X_1 - X_2) + U \\\n",
    "$$\n",
    "\n",
    "\n",
    "\n",
    "$$\n",
    "M_2 \\ddot{X}_2 = b_1 (\\dot{X}_1 - \\dot{X}_2) + K_1 (X_1 - X_2) + b_2 (\\dot{W} - \\dot{X}_2) + K_2 (W - X_2) - U\n",
    "$$\n",
    "\n",
    "\n",
    "\n",
    "## Transfer function models\n",
    "\n",
    "Assume that all of the initial conditions are zero, so that these equations represent the situation where the vehicle wheel goes up a bump. The dynamic equations above can be expressed in the form of transfer functions by taking the Laplace Transform. The specific derivation from the above equations to the transfer functions G1(s) and G2(s) is shown below where each transfer function has an output of, X1-X2, and inputs of U and W, respectively.\n",
    "\n",
    "$$\n",
    "(M_1 s^2 + b_1 s + K_1) X_1(s) - (b_1 s + K_1) X_2(s) = U(s) \\\n",
    "$$\n",
    "\n",
    "\n",
    "\n",
    "$$\n",
    "(b_1 s + K_1) X_1(s) + (M_2 s^2 + (b_1 + b_2) s + (K_1 + K_2)) X_2(s) = (b_2 s + K_2) W(s) - U(s)\n",
    "$$\n",
    "\n",
    "\n",
    "\n",
    "$$\n",
    "\\left[{\\begin{array}{cc}(M_1 s^2 + b_1 s + K_1)& -(b_1 s + K_1)\\\\ -(b_1 s + K_1)& (M_2 s^2 + (b_1 + b_2) s + (K_1 + K_2))\\end{array}}\\right] \\left[{\\begin{array}{c}X_1(s)\\\\X_2(s)\\end{array}}\\right] = \\left[{\\begin{array}{c}U(s)\\\\(b_2 s + K_2) W(s) - U(s)\\end{array}}\\right]\n",
    "$$\n",
    "\n",
    "\n",
    "\n",
    "$$\n",
    "A = \\left[{\\begin{array}{cc}(M_1 s^2 + b_1 s + K_1)& -(b_1 s + K_1)\\\\ -(b_1 s + K_1)& (M_2 s^2 + (b_1 + b_2) s + (K_1 + K_2))\\end{array}}\\right]\n",
    "$$\n",
    "\n",
    "\n",
    "\n",
    "$$\n",
    "\\Delta = \\mathrm{det} \\left[{\\begin{array}{cc}(M_1 s^2 + b_1 s + K_1)& -(b_1 s + K_1)\\\\ -(b_1 s + K_1)& (M_2 s^2 + (b_1 + b_2) s + (K_1 + K_2))\\end{array}}\\right]\n",
    "$$\n",
    "\n",
    "or\n",
    "\n",
    "$$\n",
    "\\Delta = (M_1 s^2 + b_1 s + K_1) \\cdot (M_2 s^2 + (b_1 + b_2) s + (K_1 + K_2)) - (b_1 s + K_1) \\cdot (b_1 s + K_1)\n",
    "$$\n",
    "\n",
    "Find the inverse of matrix A and then multiply with inputs U(s)and W(s) on the righthand side as follows:\n",
    "\n",
    "$$\n",
    "\\left[{\\begin{array}{c}X_1(s)\\\\X_2(s)\\end{array}}\\right] = \\frac{1}{\\Delta} \\left[{\\begin{array}{cc}(M_2 s^2 + (b_1 + b_2) s + (K_1 + K_2))&(b_1 s + K_1)\\\\ (b_1 s + K_1)& (M_1 s^2 + b_1 s + K_1)\\end{array}}\\right] \\left[{\\begin{array}{c}U(s)\\\\(b_2 s + K_2) W(s) - U(s)\\end{array}}\\right]\n",
    "$$\n",
    "\n",
    "\n",
    "\n",
    "$$\n",
    "\\left[{\\begin{array}{c}X_1(s)\\\\X_2(s)\\end{array}}\\right] = \\frac{1}{\\Delta} \\left[{\\begin{array}{cc}(M_2 s^2 + b_2 s + K_2)& (b_1 b_2 s^2 + (b_1 K_2 + b_2 K_1) s + K_1 K_2) \\\\ -M_1 s^2& (M_1 b_2 s^3 + (M_1 K_2 + b_1 b_2) s^2 +(b_1 K_2 + b_2 K_1) s + K_1 K_2) \\end{array}}\\right] \\left[{\\begin{array}{c}U(s)\\\\W(s)\\end{array}}\\right]\n",
    "$$\n",
    "\n",
    "When we want to consider the control input U(s) only, we set W(s) = 0. Thus we get the transfer function G1(s) as in the following:\n",
    "\n",
    "$$\n",
    "G_1(s) = \\frac{X_1(s) - X_2(s)}{U(s)} = \\frac{(M_1+M_2) s^2 + b_2 s + K_2}{\\Delta}\n",
    "$$\n",
    "\n",
    "When we want to consider the disturbance input W(s) only, we set U(s) = 0. Thus we get the transfer function G2(s) as in the following:\n",
    "\n",
    "$$\n",
    "G_2(s) = \\frac{X_1(s) - X_2(s)}{W(s)} = \\frac{-M_1 b_2 s^3 -M_1 K_2 s^2}{\\Delta}\n",
    "$$\n",
    "\n",
    "\n",
    "\n",
    "## Entering equations in MATLAB\n",
    "\n",
    "We can generate the above transfer function models in MATLAB by entering the following commands in the MATLAB command window."
   ]
  },
  {
   "cell_type": "code",
   "execution_count": 2,
   "metadata": {
    "exporter": {
     "cell_type": "toc"
    },
    "slideshow": {
     "slide_type": "skip"
    }
   },
   "outputs": [
    {
     "data": {
      "application/javascript": [
       "$.getScript('https://kmahelona.github.io/ipython_notebook_goodies/ipython_notebook_toc.js')"
      ],
      "text/plain": [
       "<IPython.core.display.Javascript object>"
      ]
     },
     "metadata": {},
     "output_type": "display_data"
    }
   ],
   "source": [
    "%%javascript\n",
    "$.getScript('https://kmahelona.github.io/ipython_notebook_goodies/ipython_notebook_toc.js')"
   ]
  }
 ],
 "metadata": {
  "celltoolbar": "Slideshow",
  "nikola": {
   "author": "d@h",
   "category": "Suspension",
   "date": "2016-02-16 08:00:00 UTC",
   "description": "Controls Tutorials for Python",
   "link": "",
   "slug": "suspension-systemmodeling",
   "tags": "SystemModeling",
   "title": "Suspension - System Modeling",
   "type": ""
  }
 },
 "nbformat": 4,
 "nbformat_minor": 0
}
