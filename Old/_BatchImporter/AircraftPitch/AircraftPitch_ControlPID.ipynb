{
 "cells": [
  {
   "cell_type": "code",
   "execution_count": 1,
   "metadata": {
    "exporter": {
     "cell_type": "init"
    },
    "slideshow": {
     "slide_type": "skip"
    }
   },
   "outputs": [
    {
     "name": "stdout",
     "output_type": "stream",
     "text": [
      "Using matplotlib backend: TkAgg\n",
      "Populating the interactive namespace from numpy and matplotlib\n"
     ]
    }
   ],
   "source": [
    "%pylab \n",
    "%matplotlib inline\n",
    "import sympy\n",
    "from control.matlab import *\n",
    "from sympy import Poly\n",
    "from sympy.abc import s, z\n",
    "from IPython.display import display,Latex"
   ]
  },
  {
   "cell_type": "markdown",
   "metadata": {
    "exporter": {
     "cell_type": "toc"
    },
    "slideshow": {
     "slide_type": "skip"
    }
   },
   "source": [
    "<div id=\"toc\"></div>"
   ]
  },
  {
   "cell_type": "markdown",
   "metadata": {
    "slideshow": {
     "slide_type": "notes"
    }
   },
   "source": [
    "# Aircraft Pitch: PID Controller Design\n",
    "\n",
    "From the main problem, the open-loop transfer function for the aircraft pitch dynamics is\n",
    "\n",
    "$$\n",
    "P(s) = \\frac{\\Theta(s)}{\\Delta(s)} = \\frac {1.151s+0.1774}{s^3+0.739s^2+0.921s}\n",
    "$$\n",
    "\n",
    "where the input is elevator deflection angle \\\\(\\delta\\\\) and the output is the aircraft pitch angle $\\theta$. For the original problem setup and the derivation of the above transfer function please refer to the [Aircraft Pitch: System Modeling](../AircraftPitch/AircraftPitch-SystemModeling.ipynb) page. For a step reference of 0.2 radians, the design criteria are the following.\n",
    "* Overshoot less than 10\n",
    "* Rise time  less than 2 seconds\n",
    "* Settling time less than 10 seconds\n",
    "* Steady-state error less than 2 Recall from the [Introduction: PID Controller Design](../Introduction/Introduction-ControlPID.ipynb) page that the transfer function for a PID controller is the following.\n",
    "\n",
    "$$\n",
    "C(s) = K_{p} + \\frac {K_{i}}{s} + K_{d}s = \\frac{K_{d}s^2 + K_{p}s + K_{i}}{s}\n",
    "$$\n",
    "\n",
    "We will implement combinations of proportional (_Kp_), integral (_Ki_), and derivative (_Kd_) control in the unity feedback architecture shown below in order to achieve the desired system behavior.\n",
    "![feedback_pitch2.png](figures/feedback_pitch2.png)\n",
    "In particular, we will take advantage of the automated tuning capabilities of the **SISO Design Tool** within MATLAB to design our PID controller. First, enter the following code at the command line to define the model of our plant _P_(_s_). Refer to the [Aircraft Pitch: System Modeling](../AircraftPitch/AircraftPitch-SystemModeling.ipynb) page for the details of getting these commands."
   ]
  },
  {
   "cell_type": "code",
   "execution_count": 2,
   "metadata": {
    "slideshow": {
     "slide_type": "notes"
    }
   },
   "outputs": [],
   "source": [
    "# s = tf('s');\n",
    "# P_pitch = (1.151*s+0.1774)/(s^3+0.739*s^2+0.921*s);"
   ]
  },
  {
   "cell_type": "code",
   "execution_count": 3,
   "metadata": {
    "exporter": {
     "cell_type": "toc"
    },
    "slideshow": {
     "slide_type": "skip"
    }
   },
   "outputs": [
    {
     "data": {
      "application/javascript": [
       "$.getScript('https://kmahelona.github.io/ipython_notebook_goodies/ipython_notebook_toc.js')"
      ],
      "text/plain": [
       "<IPython.core.display.Javascript object>"
      ]
     },
     "metadata": {},
     "output_type": "display_data"
    }
   ],
   "source": [
    "%%javascript\n",
    "$.getScript('https://kmahelona.github.io/ipython_notebook_goodies/ipython_notebook_toc.js')"
   ]
  }
 ],
 "metadata": {
  "celltoolbar": "Slideshow",
  "nikola": {
   "author": "d@h",
   "category": "AircraftPitch",
   "date": "2016-02-16 08:00:00 UTC",
   "description": "Controls Tutorials for Python",
   "link": "",
   "slug": "aircraftpitch-controlpid",
   "tags": "ControlPID",
   "title": "Aircraft Pitch - Control PI D",
   "type": ""
  }
 },
 "nbformat": 4,
 "nbformat_minor": 0
}
