{
 "cells": [
  {
   "cell_type": "code",
   "execution_count": 32,
   "metadata": {
    "collapsed": true
   },
   "outputs": [],
   "source": [
    "def get_m_files(d=\".\"):\n",
    "    exts=[\"m\"]\n",
    "    for root, dirs, files in walk(d, topdown=False):\n",
    "        for name in files:\n",
    "            if os.path.splitext(name)[1].strip('.') in exts:\n",
    "                yield os.path.abspath(os.path.join(root, name))"
   ]
  },
  {
   "cell_type": "code",
   "execution_count": 31,
   "metadata": {
    "collapsed": false
   },
   "outputs": [
    {
     "name": "stdout",
     "output_type": "stream",
     "text": [
      "def get_m_files(d=\".\"):\n",
      "    exts=[\"m\"]\n",
      "    for root, dirs, files in walk(d, topdown=False):\n",
      "        for name in files:\n",
      "            if os.path.splitext(name)[1].strip('.') in exts:\n",
      "                yield os.path.abspath(os.path.join(root, name))\n",
      "\n"
     ]
    }
   ],
   "source": [
    "print(inspect.getsource(get_m_files))"
   ]
  },
  {
   "cell_type": "code",
   "execution_count": 29,
   "metadata": {
    "collapsed": false
   },
   "outputs": [
    {
     "name": "stdout",
     "output_type": "stream",
     "text": [
      "def convert_m_script_to_ipython_notebook(m_file):\n",
      "    nb = nbf.new_notebook()\n",
      "    \n",
      "    example, section = os.path.splitext(os.path.basename(m_file))[0].split(\"_\")\n",
      "    title = \"{} - {}\".format(re.sub(r\"(\\w)([A-Z])\", r\"\\1 \\2\", example),\n",
      "                             re.sub(r\"(\\w)([A-Z])\", r\"\\1 \\2\", section))\n",
      "    slug = \"{}-{}\".format(re.sub(r\"(\\w)([A-Z])\", r\"\\1_\\2\", example.lower()),\n",
      "                             re.sub(r\"(\\w)([A-Z])\", r\"\\1_\\2\", section.lower()))\n",
      "    with open (m_file, \"r\") as fid:\n",
      "        lines=fid.readlines()\n",
      "    \n",
      "    last_mtplt=None\n",
      "    for line in lines:\n",
      "        mtplt = matlab_to_python_line_transmogrification(line)\n",
      "        if last_mtplt is None:\n",
      "            running_block=\"\"           \n",
      "            notebook_cells=list()\n",
      "        else:\n",
      "            if mtplt.cell_type != last_mtplt.cell_type:\n",
      "                if last_mtplt.cell_type == 3:\n",
      "                    cell_tmp = nbf.new_markdown_cell(running_block.strip())\n",
      "                if last_mtplt.cell_type == 2:\n",
      "                    cell_tmp = nbf.new_code_cell(running_block.strip())\n",
      "                notebook_cells.append(cell_tmp)\n",
      "                running_block=str_tmp=str(mtplt)\n",
      "                last_mtplt = mtplt\n",
      "                continue\n",
      "        str_tmp=str(mtplt)\n",
      "        if len(str_tmp) == 0:\n",
      "            continue\n",
      "        if running_block.endswith(\"\\n\"):\n",
      "            running_block=(running_block+str_tmp)\n",
      "        else:\n",
      "            running_block=(running_block+\" \"+str_tmp)\n",
      "        last_mtplt = mtplt\n",
      "        \n",
      "\n",
      "        \n",
      "    ## Start Cells\n",
      "    nb[\"cells\"].append(nbf.new_markdown_cell(r\"\"\"<div id=\"toc\"></div>\"\"\"))\n",
      "        \n",
      "    ## Body cells\n",
      "    for notebook_cell in notebook_cells:\n",
      "        cleaned_cell=cell_cleaner_upperer(notebook_cell)\n",
      "        nb[\"cells\"].append(cleaned_cell)\n",
      "        \n",
      "    ## End Cells\n",
      "    nb[\"cells\"].append(nbf.new_code_cell(r\"\"\"%%javascript\n",
      "$.getScript('https://kmahelona.github.io/ipython_notebook_goodies/ipython_notebook_toc.js')\"\"\"))\n",
      "\n",
      "    nikola_metadata=dict()\n",
      "    nikola_metadatas=dict()\n",
      "    nikola_metadata[\"author\"]=\"\"\n",
      "    nikola_metadata[\"category\"]=example\n",
      "    nikola_metadata[\"date\"]=\"\"\n",
      "    nikola_metadata[\"description\"]=\"\"\n",
      "    nikola_metadata[\"link\"]=\"\"\n",
      "    nikola_metadata[\"slug\"]=slug\n",
      "    nikola_metadata[\"tags\"]=section\n",
      "    nikola_metadata[\"title\"]=title\n",
      "    nikola_metadata[\"type\"]=\"\"\n",
      "    nikola_metadatas[\"nikola\"]=nikola_metadata\n",
      "    nb[\"metadata\"]=nikola_metadatas\n",
      "    return nb\n",
      "\n"
     ]
    }
   ],
   "source": [
    "import inspect\n",
    "print(inspect.getsource(convert_m_script_to_ipython_notebook))"
   ]
  },
  {
   "cell_type": "code",
   "execution_count": 21,
   "metadata": {
    "collapsed": false
   },
   "outputs": [
    {
     "name": "stdout",
     "output_type": "stream",
     "text": [
      "Values = ['1/m']\n",
      "Line   = 1/m\n",
      "Values = ['0,1/m']\n",
      "Line   = 0 1/m\n",
      "Values = ['[A,[0,0,0,0']\n",
      "Line   = [A,[0 0 0 0\n",
      "Values = ['B', '[0,0']\n",
      "Line   = B;[0 0\n"
     ]
    },
    {
     "ename": "ValueError",
     "evalue": "too many values to unpack (expected 2)",
     "output_type": "error",
     "traceback": [
      "\u001b[1;31m---------------------------------------------------------------------------\u001b[0m",
      "\u001b[1;31mValueError\u001b[0m                                Traceback (most recent call last)",
      "\u001b[1;32m<ipython-input-21-18b90bc4c2d9>\u001b[0m in \u001b[0;36m<module>\u001b[1;34m()\u001b[0m\n\u001b[0;32m      9\u001b[0m \u001b[1;32mfor\u001b[0m \u001b[0mm\u001b[0m \u001b[1;32min\u001b[0m \u001b[0mget_m_files\u001b[0m\u001b[1;33m(\u001b[0m\u001b[1;33m)\u001b[0m\u001b[1;33m:\u001b[0m\u001b[1;33m\u001b[0m\u001b[0m\n\u001b[0;32m     10\u001b[0m     \u001b[0mipynb\u001b[0m \u001b[1;33m=\u001b[0m \u001b[0mos\u001b[0m\u001b[1;33m.\u001b[0m\u001b[0mpath\u001b[0m\u001b[1;33m.\u001b[0m\u001b[0msplitext\u001b[0m\u001b[1;33m(\u001b[0m\u001b[0mm\u001b[0m\u001b[1;33m)\u001b[0m\u001b[1;33m[\u001b[0m\u001b[1;36m0\u001b[0m\u001b[1;33m]\u001b[0m\u001b[1;33m+\u001b[0m\u001b[1;34m\"_06.ipynb\"\u001b[0m\u001b[1;33m\u001b[0m\u001b[0m\n\u001b[1;32m---> 11\u001b[1;33m     \u001b[0mnb\u001b[0m \u001b[1;33m=\u001b[0m \u001b[0mconvert_m_script_to_ipython_notebook\u001b[0m\u001b[1;33m(\u001b[0m\u001b[0mm\u001b[0m\u001b[1;33m)\u001b[0m\u001b[1;33m\u001b[0m\u001b[0m\n\u001b[0m",
      "\u001b[1;32m<ipython-input-1-e8f8e0737c76>\u001b[0m in \u001b[0;36mconvert_m_script_to_ipython_notebook\u001b[1;34m(m_file)\u001b[0m\n\u001b[0;32m     65\u001b[0m     \u001b[0mnb\u001b[0m \u001b[1;33m=\u001b[0m \u001b[0mnbf\u001b[0m\u001b[1;33m.\u001b[0m\u001b[0mnew_notebook\u001b[0m\u001b[1;33m(\u001b[0m\u001b[1;33m)\u001b[0m\u001b[1;33m\u001b[0m\u001b[0m\n\u001b[0;32m     66\u001b[0m \u001b[1;33m\u001b[0m\u001b[0m\n\u001b[1;32m---> 67\u001b[1;33m     \u001b[0mexample\u001b[0m\u001b[1;33m,\u001b[0m \u001b[0msection\u001b[0m \u001b[1;33m=\u001b[0m \u001b[0mos\u001b[0m\u001b[1;33m.\u001b[0m\u001b[0mpath\u001b[0m\u001b[1;33m.\u001b[0m\u001b[0msplitext\u001b[0m\u001b[1;33m(\u001b[0m\u001b[0mos\u001b[0m\u001b[1;33m.\u001b[0m\u001b[0mpath\u001b[0m\u001b[1;33m.\u001b[0m\u001b[0mbasename\u001b[0m\u001b[1;33m(\u001b[0m\u001b[0mm_file\u001b[0m\u001b[1;33m)\u001b[0m\u001b[1;33m)\u001b[0m\u001b[1;33m[\u001b[0m\u001b[1;36m0\u001b[0m\u001b[1;33m]\u001b[0m\u001b[1;33m.\u001b[0m\u001b[0msplit\u001b[0m\u001b[1;33m(\u001b[0m\u001b[1;34m\"_\"\u001b[0m\u001b[1;33m)\u001b[0m\u001b[1;33m\u001b[0m\u001b[0m\n\u001b[0m\u001b[0;32m     68\u001b[0m     title = \"{} - {}\".format(re.sub(r\"(\\w)([A-Z])\", r\"\\1 \\2\", example),\n\u001b[0;32m     69\u001b[0m                              re.sub(r\"(\\w)([A-Z])\", r\"\\1 \\2\", section))\n",
      "\u001b[1;31mValueError\u001b[0m: too many values to unpack (expected 2)"
     ]
    }
   ],
   "source": [
    "def matlab_to_python_code_converter(code_block):\n",
    "    assignments = re.compile(\"([\\w_]+) ?= ? \\[([^]]+)\\]\").findall(code_block)\n",
    "    assignment_blocks=list()\n",
    "    for assignment in assignments:\n",
    "        variable=assignment[0]\n",
    "        try:\n",
    "            sin=Homunculus(assignment[1],assignment[0])\n",
    "            assignment_blocks.append(sin)\n",
    "        except:\n",
    "            pass\n",
    "    \n",
    "for m in get_m_files():\n",
    "    ipynb = os.path.splitext(m)[0]+\"_06.ipynb\"\n",
    "    nb = convert_m_script_to_ipython_notebook(m)"
   ]
  },
  {
   "cell_type": "code",
   "execution_count": 16,
   "metadata": {
    "collapsed": false
   },
   "outputs": [],
   "source": [
    "# http://fma.wikia.com/wiki/Homunculus\n",
    "class Homunculus(object):\n",
    "    def __init__(self, matlab_line, variable):\n",
    "        self.matlab_line=matlab_line.strip()\n",
    "        self.python_line=matlab_line\n",
    "        self.variable = variable\n",
    "        self.alchemy()\n",
    "        \n",
    "    def alchemy(self):\n",
    "        value = self.matlab_line\n",
    "        value=value.replace(\"\\t\",\"\")\n",
    "        value=value.replace(\"\\n\",\"\")\n",
    "        for q in range(10): \n",
    "            value=value.replace(\"  \",\" \")\n",
    "        values = [V.replace(\" \",\",\") for V in value.split(\"; \")]\n",
    "        if len(values)==1:\n",
    "            values = values[0].split(\";\")\n",
    "        \n",
    "        pythonic = \"numpy.array([[\"+(\"],[\".join(values)+\"]])\")\n",
    "        \n",
    "        regex=r\"\"\"numpy.array\\(\\[\\[([\\d.]+):([\\d.]+):([\\d.]+)\\]\\]\\)\"\"\"\n",
    "        match = re.compile(regex).findall(pythonic)\n",
    "        if len(match) == 1:\n",
    "            start, step, end = match[0]\n",
    "            pythonic = \"numpy.arange({start},{end},{step})\".format(start=start,end=end,step=step)\n",
    "        regex=r\"\"\"numpy.array\\(\\[\\[([\\d.]+):([\\d.]+)\\]\\]\\)\"\"\"\n",
    "        match = re.compile(regex).findall(pythonic)\n",
    "        if len(match) == 1:\n",
    "            start, end = match[0]\n",
    "            pythonic = \"numpy.arange({start},{end})\".format(start=start,end=end,step=step)\n",
    "        try:\n",
    "            eval(pythonic)\n",
    "        except NameError:\n",
    "            pass\n",
    "        except:\n",
    "            print(\"Values = {}\".format(values))\n",
    "            print(\"Line   = {}\".format(self.matlab_line))\n",
    "            if False:\n",
    "                raise\n",
    "            else:\n",
    "                pythonic = \"# \"+pythonic\n",
    "        self.python_line = pythonic\n",
    "        \n",
    "    def __repr__(self):\n",
    "        return self.variable+\" = \"+self.python_line"
   ]
  },
  {
   "cell_type": "code",
   "execution_count": 30,
   "metadata": {
    "collapsed": true
   },
   "outputs": [],
   "source": [
    "def convert_m_script_to_ipython_notebook(m_file):\n",
    "    nb = nbf.new_notebook()\n",
    "    \n",
    "    example, section = os.path.splitext(os.path.basename(m_file))[0].split(\"_\")\n",
    "    title = \"{} - {}\".format(re.sub(r\"(\\w)([A-Z])\", r\"\\1 \\2\", example),\n",
    "                             re.sub(r\"(\\w)([A-Z])\", r\"\\1 \\2\", section))\n",
    "    slug = \"{}-{}\".format(re.sub(r\"(\\w)([A-Z])\", r\"\\1_\\2\", example.lower()),\n",
    "                             re.sub(r\"(\\w)([A-Z])\", r\"\\1_\\2\", section.lower()))\n",
    "    with open (m_file, \"r\") as fid:\n",
    "        lines=fid.readlines()\n",
    "    \n",
    "    last_mtplt=None\n",
    "    for line in lines:\n",
    "        mtplt = matlab_to_python_line_transmogrification(line)\n",
    "        if last_mtplt is None:\n",
    "            running_block=\"\"           \n",
    "            notebook_cells=list()\n",
    "        else:\n",
    "            if mtplt.cell_type != last_mtplt.cell_type:\n",
    "                if last_mtplt.cell_type == 3:\n",
    "                    cell_tmp = nbf.new_markdown_cell(running_block.strip())\n",
    "                if last_mtplt.cell_type == 2:\n",
    "                    cell_tmp = nbf.new_code_cell(running_block.strip())\n",
    "                notebook_cells.append(cell_tmp)\n",
    "                running_block=str_tmp=str(mtplt)\n",
    "                last_mtplt = mtplt\n",
    "                continue\n",
    "        str_tmp=str(mtplt)\n",
    "        if len(str_tmp) == 0:\n",
    "            continue\n",
    "        if running_block.endswith(\"\\n\"):\n",
    "            running_block=(running_block+str_tmp)\n",
    "        else:\n",
    "            running_block=(running_block+\" \"+str_tmp)\n",
    "        last_mtplt = mtplt\n",
    "        \n",
    "\n",
    "        \n",
    "    ## Start Cells\n",
    "    nb[\"cells\"].append(nbf.new_markdown_cell(r\"\"\"<div id=\"toc\"></div>\"\"\"))\n",
    "        \n",
    "    ## Body cells\n",
    "    for notebook_cell in notebook_cells:\n",
    "        cleaned_cell=cell_cleaner_upperer(notebook_cell)\n",
    "        nb[\"cells\"].append(cleaned_cell)\n",
    "        \n",
    "    ## End Cells\n",
    "    nb[\"cells\"].append(nbf.new_code_cell(r\"\"\"%%javascript\n",
    "$.getScript('https://kmahelona.github.io/ipython_notebook_goodies/ipython_notebook_toc.js')\"\"\"))\n",
    "\n",
    "    nikola_metadata=dict()\n",
    "    nikola_metadatas=dict()\n",
    "    nikola_metadata[\"author\"]=\"\"\n",
    "    nikola_metadata[\"category\"]=example\n",
    "    nikola_metadata[\"date\"]=\"\"\n",
    "    nikola_metadata[\"description\"]=\"\"\n",
    "    nikola_metadata[\"link\"]=\"\"\n",
    "    nikola_metadata[\"slug\"]=slug\n",
    "    nikola_metadata[\"tags\"]=section\n",
    "    nikola_metadata[\"title\"]=title\n",
    "    nikola_metadata[\"type\"]=\"\"\n",
    "    nikola_metadatas[\"nikola\"]=nikola_metadata\n",
    "    nb[\"metadata\"]=nikola_metadatas\n",
    "    return nb"
   ]
  },
  {
   "cell_type": "code",
   "execution_count": null,
   "metadata": {
    "collapsed": true
   },
   "outputs": [],
   "source": []
  },
  {
   "cell_type": "code",
   "execution_count": null,
   "metadata": {
    "collapsed": true
   },
   "outputs": [],
   "source": []
  },
  {
   "cell_type": "code",
   "execution_count": null,
   "metadata": {
    "collapsed": true
   },
   "outputs": [],
   "source": []
  },
  {
   "cell_type": "code",
   "execution_count": null,
   "metadata": {
    "collapsed": true
   },
   "outputs": [],
   "source": []
  },
  {
   "cell_type": "code",
   "execution_count": null,
   "metadata": {
    "collapsed": true
   },
   "outputs": [],
   "source": []
  },
  {
   "cell_type": "code",
   "execution_count": null,
   "metadata": {
    "collapsed": true
   },
   "outputs": [],
   "source": []
  },
  {
   "cell_type": "code",
   "execution_count": null,
   "metadata": {
    "collapsed": true
   },
   "outputs": [],
   "source": []
  },
  {
   "cell_type": "code",
   "execution_count": null,
   "metadata": {
    "collapsed": true
   },
   "outputs": [],
   "source": []
  },
  {
   "cell_type": "code",
   "execution_count": null,
   "metadata": {
    "collapsed": true
   },
   "outputs": [],
   "source": []
  },
  {
   "cell_type": "code",
   "execution_count": null,
   "metadata": {
    "collapsed": true
   },
   "outputs": [],
   "source": []
  },
  {
   "cell_type": "code",
   "execution_count": null,
   "metadata": {
    "collapsed": true
   },
   "outputs": [],
   "source": []
  },
  {
   "cell_type": "code",
   "execution_count": null,
   "metadata": {
    "collapsed": true
   },
   "outputs": [],
   "source": []
  },
  {
   "cell_type": "code",
   "execution_count": null,
   "metadata": {
    "collapsed": true
   },
   "outputs": [],
   "source": []
  },
  {
   "cell_type": "code",
   "execution_count": null,
   "metadata": {
    "collapsed": true
   },
   "outputs": [],
   "source": []
  },
  {
   "cell_type": "code",
   "execution_count": null,
   "metadata": {
    "collapsed": true
   },
   "outputs": [],
   "source": []
  },
  {
   "cell_type": "code",
   "execution_count": null,
   "metadata": {
    "collapsed": true
   },
   "outputs": [],
   "source": []
  },
  {
   "cell_type": "code",
   "execution_count": 1,
   "metadata": {
    "collapsed": true
   },
   "outputs": [],
   "source": []
  },
  {
   "cell_type": "code",
   "execution_count": 6,
   "metadata": {
    "collapsed": false
   },
   "outputs": [],
   "source": [
    "def cell_cleaner_upperer(notebook_cell):\n",
    "    source = notebook_cell[\"source\"]\n",
    "    if notebook_cell[\"cell_type\"] is \"markdown\":\n",
    "        source=markdown_cleaner_upperer(source)\n",
    "    if notebook_cell[\"cell_type\"] is \"code\":\n",
    "        source=matlab_to_python_code_converter(source)\n",
    "    #print(source, end=\"\")\n",
    "    notebook_cell[\"source\"] = source\n",
    "    return notebook_cell\n",
    "def markdown_cleaner_upperer(markdown_block):\n",
    "     # Non inline latex\n",
    "    markdown_block=re.sub(r\"\\$\\$([^$]+)\\$\\$\",r\"\\n\\n$$\\n\\1\\n$$\\n\\n\",markdown_block)\n",
    "    # Embedded Functions\n",
    "    markdown_block=re.sub(r\"\\|([\\w_]+)\\|\",r\"```\\1```\",markdown_block)\n",
    "    # Links to other\n",
    "    markdown_block=re.sub(r\"< \\?example=([\\w]+)&section=([\\w]+) ([^>]+)>\",\n",
    "                  r\"[\\3](/examples/\\1/\\1-\\2.ipynb)\",markdown_block)\n",
    "    return markdown_block\n",
    "\n",
    "import numpy\n",
    "import re"
   ]
  },
  {
   "cell_type": "markdown",
   "metadata": {},
   "source": [
    "Nope, this is taking too long. Comment out bad code."
   ]
  },
  {
   "cell_type": "code",
   "execution_count": null,
   "metadata": {
    "collapsed": true
   },
   "outputs": [],
   "source": []
  }
 ],
 "metadata": {
  "kernelspec": {
   "display_name": "Python 3",
   "language": "python",
   "name": "python3"
  },
  "language_info": {
   "codemirror_mode": {
    "name": "ipython",
    "version": 3
   },
   "file_extension": ".py",
   "mimetype": "text/x-python",
   "name": "python",
   "nbconvert_exporter": "python",
   "pygments_lexer": "ipython3",
   "version": "3.4.3"
  }
 },
 "nbformat": 4,
 "nbformat_minor": 0
}
