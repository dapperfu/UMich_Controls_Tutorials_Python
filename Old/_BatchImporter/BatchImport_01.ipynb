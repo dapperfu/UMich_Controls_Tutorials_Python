{
 "cells": [
  {
   "cell_type": "markdown",
   "metadata": {},
   "source": [
    "Revision 1.\n",
    "\n",
    "Download all of the university of michigan tutorials from their index.\n",
    "\n",
    "Save them in .m files in a new folder structure."
   ]
  },
  {
   "cell_type": "code",
   "execution_count": 1,
   "metadata": {
    "collapsed": true
   },
   "outputs": [],
   "source": [
    "import requests\n",
    "import re\n",
    "import os\n",
    "search = re.compile(r\"##### SOURCE BEGIN #####(.*)##### SOURCE END #####\", re.S)\n",
    "def get_source(body):\n",
    "    m_scripts=search.findall(body)\n",
    "    if len(m_scripts)==1:\n",
    "        return m_scripts[0]\n",
    "    else:\n",
    "        return m_scripts"
   ]
  },
  {
   "cell_type": "code",
   "execution_count": 23,
   "metadata": {
    "collapsed": true
   },
   "outputs": [],
   "source": [
    "index=r\"http://ctms.engin.umich.edu/CTMS/index.php?aux=Index_Tutorials\"\n",
    "page = requests.get(index)\n",
    "page_body = page.content.decode()\n",
    "script = get_source(page_body)"
   ]
  },
  {
   "cell_type": "code",
   "execution_count": 24,
   "metadata": {
    "collapsed": true
   },
   "outputs": [],
   "source": [
    "regex=r\"\"\"example=([\\w]+)\\&section=([\\w]+) ([\\w]+)\"\"\"\n",
    "pages = re.compile(regex, 0).findall(script)"
   ]
  },
  {
   "cell_type": "code",
   "execution_count": 25,
   "metadata": {
    "collapsed": true
   },
   "outputs": [],
   "source": [
    "root=r\"http://ctms.engin.umich.edu/CTMS/index.php?example={example}&section={section}\""
   ]
  },
  {
   "cell_type": "code",
   "execution_count": 45,
   "metadata": {
    "collapsed": false
   },
   "outputs": [],
   "source": [
    "example_last=\"\"\n",
    "for page in pages:\n",
    "    example, section, title = page\n",
    "    if example != example_last:\n",
    "        i=1\n",
    "    else:\n",
    "        i+=1\n",
    "    example_last = example\n",
    "    m_script_file=os.path.join(example,\"{}_{}.m\".format(example,section))\n",
    "    if not os.path.exists(example):\n",
    "        os.mkdir(example)\n",
    "    page = requests.get(root.format(example=example,section=section))\n",
    "    page_body = page.content.decode()\n",
    "    script = get_source(page_body)\n",
    "    script = script.strip()\n",
    "    script = script.replace(\"\\r\",\"\")\n",
    "    with open(m_script_file, \"w\") as fid:\n",
    "        print(script, file=fid, end=\"\")"
   ]
  }
 ],
 "metadata": {
  "kernelspec": {
   "display_name": "Python 3",
   "language": "python",
   "name": "python3"
  },
  "language_info": {
   "codemirror_mode": {
    "name": "ipython",
    "version": 3
   },
   "file_extension": ".py",
   "mimetype": "text/x-python",
   "name": "python",
   "nbconvert_exporter": "python",
   "pygments_lexer": "ipython3",
   "version": "3.4.3"
  }
 },
 "nbformat": 4,
 "nbformat_minor": 0
}
