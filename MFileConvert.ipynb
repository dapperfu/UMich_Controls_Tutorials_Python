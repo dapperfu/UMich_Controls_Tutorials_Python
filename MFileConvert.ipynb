{
 "cells": [
  {
   "cell_type": "code",
   "execution_count": 19,
   "metadata": {
    "collapsed": true
   },
   "outputs": [],
   "source": [
    "import os \n",
    "try:\n",
    "    from os import scandir, walk\n",
    "except ImportError:\n",
    "    from scandir import scandir, walk\n",
    "from nbformat import v4 as nbf\n",
    "import re\n",
    "def get_m_files(d=\".\"):\n",
    "    exts=[\"m\"]\n",
    "    for root, dirs, files in walk(d, topdown=False):\n",
    "        for name in files:\n",
    "            if \"code_to_convert\" in name:\n",
    "                continue\n",
    "            if os.path.splitext(name)[1].strip('.') in exts:\n",
    "                yield os.path.abspath(os.path.join(root, name))"
   ]
  },
  {
   "cell_type": "code",
   "execution_count": 20,
   "metadata": {
    "collapsed": false
   },
   "outputs": [],
   "source": [
    "for m_file in get_m_files(\"m-scripts\"):\n",
    "    break"
   ]
  },
  {
   "cell_type": "code",
   "execution_count": 21,
   "metadata": {
    "collapsed": false
   },
   "outputs": [
    {
     "data": {
      "text/plain": [
       "'/home/jafrey/Downloads/UMich_Controls_Tutorials_Python/m-scripts/Introduction/Introduction_SystemModeling.m'"
      ]
     },
     "execution_count": 21,
     "metadata": {},
     "output_type": "execute_result"
    }
   ],
   "source": [
    "m_file"
   ]
  },
  {
   "cell_type": "code",
   "execution_count": 22,
   "metadata": {
    "collapsed": true
   },
   "outputs": [],
   "source": [
    "example, section = os.path.splitext(os.path.basename(m_file))[0].split(\"_\")"
   ]
  },
  {
   "cell_type": "code",
   "execution_count": 23,
   "metadata": {
    "collapsed": false
   },
   "outputs": [
    {
     "data": {
      "text/plain": [
       "'Introduction'"
      ]
     },
     "execution_count": 23,
     "metadata": {},
     "output_type": "execute_result"
    }
   ],
   "source": [
    "example"
   ]
  },
  {
   "cell_type": "code",
   "execution_count": 24,
   "metadata": {
    "collapsed": false
   },
   "outputs": [
    {
     "data": {
      "text/plain": [
       "'SystemModeling'"
      ]
     },
     "execution_count": 24,
     "metadata": {},
     "output_type": "execute_result"
    }
   ],
   "source": [
    "section"
   ]
  },
  {
   "cell_type": "code",
   "execution_count": 17,
   "metadata": {
    "collapsed": false
   },
   "outputs": [],
   "source": [
    "with open (m_file, \"r\") as fid:\n",
    "    lines=fid.readlines()"
   ]
  },
  {
   "cell_type": "code",
   "execution_count": 18,
   "metadata": {
    "collapsed": false
   },
   "outputs": [
    {
     "data": {
      "text/plain": [
       "['%% Index: Control Tutorials for MATLAB & Simulink\\n',\n",
       " '%\\n',\n",
       " '%% Introduction\\n',\n",
       " '%\\n',\n",
       " '% System: \\n',\n",
       " '% < ?example=Introduction&section=SystemModeling Modeling> |\\n',\n",
       " '% < ?example=Introduction&section=SystemAnalysis Analysis>\\n',\n",
       " '%\\n',\n",
       " '% Control: \\n',\n",
       " '% < ?example=Introduction&section=ControlPID PID> |\\n',\n",
       " '% < ?example=Introduction&section=ControlRootLocus Root Locus> |\\n',\n",
       " '% < ?example=Introduction&section=ControlFrequency Frequency> |\\n',\n",
       " '% < ?example=Introduction&section=ControlStateSpace State-Space> |\\n',\n",
       " '% < ?example=Introduction&section=ControlDigital Digital>\\n',\n",
       " '%\\n',\n",
       " '% Simulink: \\n',\n",
       " '% < ?example=Introduction&section=SimulinkModeling Modeling> |\\n',\n",
       " '% < ?example=Introduction&section=SimulinkControl Control>\\n',\n",
       " '%\\n',\n",
       " '%% Cruise Control\\n',\n",
       " '%\\n',\n",
       " '% System: \\n',\n",
       " '% < ?example=CruiseControl&section=SystemModeling Modeling> |\\n',\n",
       " '% < ?example=CruiseControl&section=SystemAnalysis Analysis>\\n',\n",
       " '%\\n',\n",
       " '% Control: \\n',\n",
       " '% < ?example=CruiseControl&section=ControlPID PID> |\\n',\n",
       " '% < ?example=CruiseControl&section=ControlRootLocus Root Locus> |\\n',\n",
       " '% < ?example=CruiseControl&section=ControlFrequency Frequency> |\\n',\n",
       " '% < ?example=CruiseControl&section=ControlStateSpace State-Space> |\\n',\n",
       " '% < ?example=CruiseControl&section=ControlDigital Digital>\\n',\n",
       " '%\\n',\n",
       " '% Simulink: \\n',\n",
       " '% < ?example=CruiseControl&section=SimulinkModeling Modeling> |\\n',\n",
       " '% < ?example=CruiseControl&section=SimulinkControl Control>\\n',\n",
       " '%\\n',\n",
       " '%% DC Motor Speed\\n',\n",
       " '%\\n',\n",
       " '% System: \\n',\n",
       " '% < ?example=MotorSpeed&section=SystemModeling Modeling> |\\n',\n",
       " '% < ?example=MotorSpeed&section=SystemAnalysis Analysis>\\n',\n",
       " '%\\n',\n",
       " '% Control: \\n',\n",
       " '% < ?example=MotorSpeed&section=ControlPID PID> |\\n',\n",
       " '% < ?example=MotorSpeed&section=ControlRootLocus Root Locus> |\\n',\n",
       " '% < ?example=MotorSpeed&section=ControlFrequency Frequency> |\\n',\n",
       " '% < ?example=MotorSpeed&section=ControlStateSpace State-Space> |\\n',\n",
       " '% < ?example=MotorSpeed&section=ControlDigital Digital>\\n',\n",
       " '%\\n',\n",
       " '% Simulink: \\n',\n",
       " '% < ?example=MotorSpeed&section=SimulinkModeling Modeling> |\\n',\n",
       " '% < ?example=MotorSpeed&section=SimulinkControl Control>\\n',\n",
       " '%\\n',\n",
       " '%% DC Motor Position\\n',\n",
       " '%\\n',\n",
       " '% System: \\n',\n",
       " '% < ?example=MotorPosition&section=SystemModeling Modeling> |\\n',\n",
       " '% < ?example=MotorPosition&section=SystemAnalysis Analysis>\\n',\n",
       " '%\\n',\n",
       " '% Control: \\n',\n",
       " '% < ?example=MotorPosition&section=ControlPID PID> |\\n',\n",
       " '% < ?example=MotorPosition&section=ControlRootLocus Root Locus> |\\n',\n",
       " '% < ?example=MotorPosition&section=ControlFrequency Frequency> |\\n',\n",
       " '% < ?example=MotorPosition&section=ControlStateSpace State-Space> |\\n',\n",
       " '% < ?example=MotorPosition&section=ControlDigital Digital>\\n',\n",
       " '%\\n',\n",
       " '% Simulink: \\n',\n",
       " '% < ?example=MotorPosition&section=SimulinkModeling Modeling> |\\n',\n",
       " '% < ?example=MotorPosition&section=SimulinkControl Control>\\n',\n",
       " '%\\n',\n",
       " '%% Suspension\\n',\n",
       " '%\\n',\n",
       " '% System: \\n',\n",
       " '% < ?example=Suspension&section=SystemModeling Modeling> |\\n',\n",
       " '% < ?example=Suspension&section=SystemAnalysis Analysis>\\n',\n",
       " '%\\n',\n",
       " '% Control: \\n',\n",
       " '% < ?example=Suspension&section=ControlPID PID> |\\n',\n",
       " '% < ?example=Suspension&section=ControlRootLocus Root Locus> |\\n',\n",
       " '% < ?example=Suspension&section=ControlFrequency Frequency> |\\n',\n",
       " '% < ?example=Suspension&section=ControlStateSpace State-Space> |\\n',\n",
       " '% < ?example=Suspension&section=ControlDigital Digital>\\n',\n",
       " '%\\n',\n",
       " '% Simulink: \\n',\n",
       " '% < ?example=Suspension&section=SimulinkModeling Modeling> |\\n',\n",
       " '% < ?example=Suspension&section=SimulinkControl Control>\\n',\n",
       " '%\\n',\n",
       " '%% Inverted Pendulum\\n',\n",
       " '%\\n',\n",
       " '% System: \\n',\n",
       " '% < ?example=InvertedPendulum&section=SystemModeling Modeling> |\\n',\n",
       " '% < ?example=InvertedPendulum&section=SystemAnalysis Analysis>\\n',\n",
       " '%\\n',\n",
       " '% Control: \\n',\n",
       " '% < ?example=InvertedPendulum&section=ControlPID PID> |\\n',\n",
       " '% < ?example=InvertedPendulum&section=ControlRootLocus Root Locus> |\\n',\n",
       " '% < ?example=InvertedPendulum&section=ControlFrequency Frequency> |\\n',\n",
       " '% < ?example=InvertedPendulum&section=ControlStateSpace State-Space> |\\n',\n",
       " '% < ?example=InvertedPendulum&section=ControlDigital Digital>\\n',\n",
       " '%\\n',\n",
       " '% Simulink: \\n',\n",
       " '% < ?example=InvertedPendulum&section=SimulinkModeling Modeling> |\\n',\n",
       " '% < ?example=InvertedPendulum&section=SimulinkControl Control>\\n',\n",
       " '%\\n',\n",
       " '%% Aircraft Pitch\\n',\n",
       " '%\\n',\n",
       " '% System: \\n',\n",
       " '% < ?example=AircraftPitch&section=SystemModeling Modeling> |\\n',\n",
       " '% < ?example=AircraftPitch&section=SystemAnalysis Analysis>\\n',\n",
       " '%\\n',\n",
       " '% Control: \\n',\n",
       " '% < ?example=AircraftPitch&section=ControlPID PID> |\\n',\n",
       " '% < ?example=AircraftPitch&section=ControlRootLocus Root Locus> |\\n',\n",
       " '% < ?example=AircraftPitch&section=ControlFrequency Frequency> |\\n',\n",
       " '% < ?example=AircraftPitch&section=ControlStateSpace State-Space> |\\n',\n",
       " '% < ?example=AircraftPitch&section=ControlDigital Digital>\\n',\n",
       " '%\\n',\n",
       " '% Simulink: \\n',\n",
       " '% < ?example=AircraftPitch&section=SimulinkModeling Modeling> |\\n',\n",
       " '% < ?example=AircraftPitch&section=SimulinkControl Control>\\n',\n",
       " '%\\n',\n",
       " '%% Ball & Beam\\n',\n",
       " '%\\n',\n",
       " '% System: \\n',\n",
       " '% < ?example=BallBeam&section=SystemModeling Modeling> |\\n',\n",
       " '% < ?example=BallBeam&section=SystemAnalysis Analysis>\\n',\n",
       " '%\\n',\n",
       " '% Control: \\n',\n",
       " '% < ?example=BallBeam&section=ControlPID PID> |\\n',\n",
       " '% < ?example=BallBeam&section=ControlRootLocus Root Locus> |\\n',\n",
       " '% < ?example=BallBeam&section=ControlFrequency Frequency> |\\n',\n",
       " '% < ?example=BallBeam&section=ControlStateSpace State-Space> |\\n',\n",
       " '% < ?example=BallBeam&section=ControlDigital Digital>\\n',\n",
       " '%\\n',\n",
       " '% Simulink: \\n',\n",
       " '% < ?example=BallBeam&section=SimulinkModeling Modeling> |\\n',\n",
       " '% < ?example=BallBeam&section=SimulinkControl Control>\\n',\n",
       " '%']"
      ]
     },
     "execution_count": 18,
     "metadata": {},
     "output_type": "execute_result"
    }
   ],
   "source": [
    "lines"
   ]
  },
  {
   "cell_type": "code",
   "execution_count": 9,
   "metadata": {
    "collapsed": false
   },
   "outputs": [
    {
     "data": {
      "text/plain": [
       "'/home/jafrey/Downloads/UMich_Controls_Tutorials_Python/m-scripts/AircraftPitch/AircraftPitch_ControlPID.ipynb'"
      ]
     },
     "execution_count": 9,
     "metadata": {},
     "output_type": "execute_result"
    }
   ],
   "source": [
    "ipynb"
   ]
  },
  {
   "cell_type": "code",
   "execution_count": null,
   "metadata": {
    "collapsed": true
   },
   "outputs": [],
   "source": [
    "from nbconvert.preprocessors.execute import ExecutePreprocessor"
   ]
  },
  {
   "cell_type": "code",
   "execution_count": 2,
   "metadata": {
    "collapsed": false
   },
   "outputs": [],
   "source": [
    "   \n",
    "class matlab_to_python_line_transmogrification(object):\n",
    "    HEADER=0\n",
    "    COMMENT=1\n",
    "    CODE=2\n",
    "    MARKDOWN=3\n",
    "    \"\"\" trans·mog·ri·fied\n",
    "        trans·mog·ri·fy·ing\n",
    "        transitive verb\n",
    "        to change or alter greatly and often with grotesque or humorous effect\n",
    "    \"\"\"\n",
    "    def __init__(self, line):\n",
    "        self.line = line\n",
    "        # print(\"B. \"+line)\n",
    "        if line.startswith(\"%%\"):\n",
    "            self.type=matlab_to_python_line_transmogrification.HEADER\n",
    "            self.cell_type = matlab_to_python_line_transmogrification.MARKDOWN\n",
    "        elif line.startswith(\"%\"):\n",
    "            self.type=matlab_to_python_line_transmogrification.COMMENT\n",
    "            self.cell_type = matlab_to_python_line_transmogrification.MARKDOWN\n",
    "        else:\n",
    "            self.type=matlab_to_python_line_transmogrification.CODE\n",
    "            self.cell_type = matlab_to_python_line_transmogrification.CODE\n",
    "            \n",
    "    def __repr__(self):\n",
    "        return \"mtplt({})\".format(self.line)\n",
    "\n",
    "    def __str__(self):\n",
    "        line=self.line.strip()\n",
    "        line=line.strip(\"% \")\n",
    "        if len(line)==0:\n",
    "            return \"\"\n",
    "        if self.type == matlab_to_python_line_transmogrification.HEADER:    \n",
    "            return \"\\n\\n# {}\\n\\n\".format(line)\n",
    "        if self.type == matlab_to_python_line_transmogrification.COMMENT:          \n",
    "            badwords=[\"Key MATLAB commands\", \"www.mathworks.com\"]\n",
    "            for badword in badwords:\n",
    "                if badword in line:\n",
    "                    return \"\"\n",
    "            if line.startswith(\"* \"):\n",
    "                line=\"\\n\"+line\n",
    "            prefix=\"\"\n",
    "            postfix=\"\"\n",
    "            return \"{}{}{}\".format(prefix,line,postfix)\n",
    "        if self.type == matlab_to_python_line_transmogrification.CODE:\n",
    "            line=self.line\n",
    "            # print(\"C. \"+line)\n",
    "            return \"{}\".format(line)\n",
    "        return \"\"\n",
    "\n",
    "def convert_m_script_to_ipython_notebook(m_file):\n",
    "    nb = nbf.new_notebook()\n",
    "    \n",
    "    try:\n",
    "        example, section = os.path.splitext(os.path.basename(m_file))[0].split(\"_\")\n",
    "    except:\n",
    "        print(os.path.basename(m_file))\n",
    "        print(os.path.splitext(os.path.basename(m_file))[0])\n",
    "        print(os.path.splitext(os.path.basename(m_file))[0].split(\"_\"))\n",
    "        raise\n",
    "\n",
    "    \n",
    "    last_mtplt=None\n",
    "    for line in lines:\n",
    "        mtplt = matlab_to_python_line_transmogrification(line)\n",
    "        if last_mtplt is None:\n",
    "            running_block=\"\"           \n",
    "            notebook_cells=list()\n",
    "        else:\n",
    "            if mtplt.cell_type != last_mtplt.cell_type:\n",
    "                if last_mtplt.cell_type == 3:\n",
    "                    cell_tmp = nbf.new_markdown_cell(running_block.strip())\n",
    "                if last_mtplt.cell_type == 2:\n",
    "                    cell_tmp = nbf.new_code_cell(running_block.strip())\n",
    "                notebook_cells.append(cell_tmp)\n",
    "                running_block=str_tmp=str(mtplt)\n",
    "                last_mtplt = mtplt\n",
    "                continue\n",
    "        str_tmp=str(mtplt)\n",
    "        if len(str_tmp) == 0:\n",
    "            continue\n",
    "        if running_block.endswith(\"\\n\"):\n",
    "            running_block=(running_block+str_tmp)\n",
    "        else:\n",
    "            running_block=(running_block+\" \"+str_tmp)\n",
    "        last_mtplt = mtplt\n",
    "        \n",
    "    ## Start Cells\n",
    "    nb[\"cells\"].append(nbf.new_code_cell(r\"\"\"%pylab \n",
    "%matplotlib inline\n",
    "import sympy\n",
    "from control.matlab import *\n",
    "from sympy import Poly\n",
    "from sympy.abc import s, z\n",
    "from IPython.display import display,Latex\"\"\"))\n",
    "    nb[\"cells\"].append(nbf.new_markdown_cell(r\"\"\"<div id=\"toc\"></div>\"\"\"))\n",
    "        \n",
    "    ## Body cells\n",
    "    for notebook_cell in notebook_cells:\n",
    "        cleaned_cell=cell_cleaner_upperer(notebook_cell)\n",
    "        nb[\"cells\"].append(cleaned_cell)\n",
    "        \n",
    "    ## End Cells\n",
    "    nb[\"cells\"].append(nbf.new_code_cell(r\"\"\"%%javascript\n",
    "$.getScript('https://kmahelona.github.io/ipython_notebook_goodies/ipython_notebook_toc.js')\"\"\"))\n",
    "\n",
    "    nikola_metadata=dict()\n",
    "    nikola_metadatas=dict()\n",
    "    nikola_metadata[\"author\"]=\"\"\n",
    "    nikola_metadata[\"category\"]=example\n",
    "    nikola_metadata[\"date\"]=\"\"\n",
    "    nikola_metadata[\"description\"]=\"\"\n",
    "    nikola_metadata[\"link\"]=\"\"\n",
    "    nikola_metadata[\"slug\"]=slug\n",
    "    nikola_metadata[\"tags\"]=section\n",
    "    nikola_metadata[\"title\"]=title\n",
    "    nikola_metadata[\"type\"]=\"\"\n",
    "    nikola_metadatas[\"nikola\"]=nikola_metadata\n",
    "    nb[\"metadata\"]=nikola_metadatas\n",
    "    return nb\n",
    "\n",
    "# http://fma.wikia.com/wiki/Homunculus\n",
    "class Homunculus(object):\n",
    "    def __init__(self, matlab_line, variable):\n",
    "        self.matlab_line=matlab_line.strip()\n",
    "        self.python_line=matlab_line\n",
    "        self.variable = variable\n",
    "        self.alchemy()\n",
    "        \n",
    "    def alchemy(self):\n",
    "        value = self.matlab_line\n",
    "        value=value.replace(\"\\t\",\"\")\n",
    "        value=value.replace(\"\\n\",\"\")\n",
    "        for q in range(10): \n",
    "            value=value.replace(\"  \",\" \")\n",
    "        values = [V.replace(\" \",\",\") for V in value.split(\"; \")]\n",
    "        if len(values)==1:\n",
    "            values = values[0].split(\";\")\n",
    "        \n",
    "        pythonic = \"numpy.array([[\"+(\"],[\".join(values)+\"]])\")\n",
    "        \n",
    "        regex=r\"\"\"numpy.array\\(\\[\\[([\\d.]+):([\\d.]+):([\\d.]+)\\]\\]\\)\"\"\"\n",
    "        match = re.compile(regex).findall(pythonic)\n",
    "        if len(match) == 1:\n",
    "            start, step, end = match[0]\n",
    "            pythonic = \"numpy.arange({start},{end},{step})\".format(start=start,end=end,step=step)\n",
    "        regex=r\"\"\"numpy.array\\(\\[\\[([\\d.]+):([\\d.]+)\\]\\]\\)\"\"\"\n",
    "        match = re.compile(regex).findall(pythonic)\n",
    "        if len(match) == 1:\n",
    "            start, end = match[0]\n",
    "            pythonic = \"numpy.arange({start},{end})\".format(start=start,end=end,step=step)\n",
    "        try:\n",
    "            eval(pythonic)\n",
    "        except NameError:\n",
    "            pass\n",
    "        except:\n",
    "            if False:\n",
    "                raise\n",
    "            else:\n",
    "                pythonic = \"# \"+pythonic\n",
    "        self.python_line = pythonic\n",
    "        \n",
    "    def __repr__(self):\n",
    "        return self.variable+\" = \"+self.python_line\n",
    "    \n",
    "def matlab_to_python_code_converter(code_block):\n",
    "    assignments = re.compile(\"([\\w_]+) ?= ? \\[([^]]+)\\]\").findall(code_block)\n",
    "    assignment_blocks=list()\n",
    "    for assignment in assignments:\n",
    "        variable=assignment[0]\n",
    "        sin=Homunculus(assignment[1],assignment[0])\n",
    "        assignment_blocks.append(str(sin))\n",
    "    code_blocks=list()\n",
    "    for line in code_block.split(\"\\n\"):\n",
    "        try:\n",
    "            eval(line)\n",
    "            code_blocks.append(line)\n",
    "        except SyntaxError:\n",
    "            code_blocks.append(\"# \"+line)\n",
    "        except NameError:\n",
    "            code_blocks.append(\"# \"+line)\n",
    "        except TypeError:\n",
    "            if line.startswith(\"title\"):\n",
    "                code_blocks.append(\"plt.\"+line)  \n",
    "                continue\n",
    "            if line.startswith(\"ylabel\"):\n",
    "                code_blocks.append(\"plt.\"+line)  \n",
    "                continue\n",
    "            if line.startswith(\"xlabel\"):\n",
    "                code_blocks.append(\"plt.\"+line)\n",
    "                continue\n",
    "            if line.startswith(\"plot\"):\n",
    "                code_blocks.append(\"plt.\"+line)\n",
    "                continue\n",
    "            code_blocks.append(\"# \"+line)\n",
    "        except:\n",
    "            raise Exception(line)\n",
    "    return \"\\n\".join(assignment_blocks)+\"\\n\"+\"\\n\".join(code_blocks)\n",
    "\n",
    "def cell_cleaner_upperer(notebook_cell):\n",
    "    source = notebook_cell[\"source\"]\n",
    "    if notebook_cell[\"cell_type\"] is \"markdown\":\n",
    "        source=markdown_cleaner_upperer(source)\n",
    "    if notebook_cell[\"cell_type\"] is \"code\":\n",
    "        source=matlab_to_python_code_converter(source)\n",
    "        #print(source)\n",
    "    #print(source, end=\"\")\n",
    "    notebook_cell[\"source\"] = source\n",
    "    return notebook_cell\n",
    "def markdown_cleaner_upperer(markdown_block):\n",
    "     # Non inline latex\n",
    "    markdown_block=re.sub(r\"\\$\\$([^$]+)\\$\\$\",r\"\\n\\n$$\\n\\1\\n$$\\n\\n\",markdown_block)\n",
    "    # Inline Latex\n",
    "    markdown_block=re.sub(r\" \\$([^$]+)\\$ \",r\" \\\\\\\\(\\1\\\\\\\\) \",markdown_block)\n",
    "    # Links to other\n",
    "    markdown_block=re.sub(r\"< \\?example=([\\w]+)&section=([\\w]+) ([^>]+)>\",\n",
    "                  r\"[\\3](/examples/\\1/\\1-\\2.ipynb)\",markdown_block)\n",
    "    markdown_block=re.sub(r\"< ?\\?aux=([\\w _]+) ([^<]+)>\",\n",
    "                  r\"[\\2](/examples/\\1.ipynb)\",markdown_block)\n",
    "    markdown_block=re.sub(r\"<<([^>]+)>>\",r\"\\n\\n![image](http://ctms.engin.umich.edu/CTMS/\\1)\\n\\n\",markdown_block)\n",
    "    markdown_block=re.sub(r\"\\*([\\w -]+)\\*\",r\"**\\1**\",markdown_block)\n",
    "    return markdown_block\n",
    "\n",
    "pp = ExecutePreprocessor()\n",
    "pp.timeout = 30  # seconds\n",
    "pp.interrupt_on_timeout = True\n",
    "\n",
    "for m in get_m_files():\n",
    "    ipynb = os.path.splitext(m)[0]+\"_.ipynb\"\n",
    "    nb = convert_m_script_to_ipython_notebook(m)\n",
    "    with open(ipynb, 'w') as f:\n",
    "        if True:\n",
    "            try:\n",
    "                nb_executed, resources = pp.preprocess(nb, resources={})\n",
    "                print(nbf.writes(nb_executed), file=f)\n",
    "            except:\n",
    "                print(nbf.writes(nb), file=f)\n",
    "        else:\n",
    "            print(nbf.writes(nb), file=f)"
   ]
  },
  {
   "cell_type": "code",
   "execution_count": 3,
   "metadata": {
    "collapsed": true
   },
   "outputs": [],
   "source": [
    "# Sweet zombie jesus, it ran."
   ]
  }
 ],
 "metadata": {
  "kernelspec": {
   "display_name": "Python 3",
   "language": "python",
   "name": "python3"
  },
  "language_info": {
   "codemirror_mode": {
    "name": "ipython",
    "version": 3
   },
   "file_extension": ".py",
   "mimetype": "text/x-python",
   "name": "python",
   "nbconvert_exporter": "python",
   "pygments_lexer": "ipython3",
   "version": "3.5.2"
  }
 },
 "nbformat": 4,
 "nbformat_minor": 0
}
