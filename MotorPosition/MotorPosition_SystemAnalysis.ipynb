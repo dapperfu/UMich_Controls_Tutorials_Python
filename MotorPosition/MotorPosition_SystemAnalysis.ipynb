{
 "cells": [
  {
   "cell_type": "code",
   "execution_count": null,
   "metadata": {},
   "outputs": [],
   "source": [
    "import sympy\n",
    "from control.matlab import *\n",
    "from IPython.display import Latex, display\n",
    "from sympy import Poly\n",
    "from sympy.abc import s, z"
   ]
  },
  {
   "cell_type": "code",
   "execution_count": 1,
   "metadata": {
    "exporter": {
     "cell_type": "init"
    },
    "slideshow": {
     "slide_type": "skip"
    }
   },
   "outputs": [
    {
     "name": "stdout",
     "output_type": "stream",
     "text": [
      "Using matplotlib backend: TkAgg\n",
      "Populating the interactive namespace from numpy and matplotlib\n"
     ]
    }
   ],
   "source": [
    "%pylab %matplotlib inline"
   ]
  },
  {
   "cell_type": "markdown",
   "metadata": {
    "exporter": {
     "cell_type": "toc"
    },
    "slideshow": {
     "slide_type": "skip"
    }
   },
   "source": [
    "<div id=\"toc\"></div>"
   ]
  },
  {
   "cell_type": "markdown",
   "metadata": {
    "slideshow": {
     "slide_type": "notes"
    }
   },
   "source": [
    "# DC Motor Position: System Analysis\n",
    "\n",
    "From the main problem, the dynamic equations in the Laplace domain and the open-loop transfer function of the DC Motor are the following.\n",
    "\n",
    "$$\n",
    "s(Js + b)\\Theta(s) = KI(s)\n",
    "$$\n",
    "\n",
    "\n",
    "\n",
    "$$\n",
    "(Ls + R)I(s) = V(s) - Ks\\Theta(s)\n",
    "$$\n",
    "\n",
    "\n",
    "\n",
    "$$\n",
    "P(s) = \\frac {\\Theta(s)}{V(s)} = \\frac{K}{s ( (Js + b)(Ls + R) + K^2 )} \\qquad [ \\frac{rad}{V} ]\n",
    "$$\n",
    "\n",
    "For the original problem setup and the derivation of the above equations, please refer to the [DC Motor Position: System Modeling](../MotorPosition/MotorPosition-SystemModeling.ipynb) page. For a 1-radian step reference, the design criteria are given are the following.\n",
    "* Settling time less than 0.040 seconds\n",
    "* Overshoot less than 16\n",
    "* No steady-state error, even in the presence of a step disturbance input\n",
    "\n",
    "## Open-loop response\n",
    "\n",
    "First create a new [m-file](../Extras_Mfile.ipynb) and type in the following commands (refer to the main problem for the details of getting these commands)."
   ]
  },
  {
   "cell_type": "code",
   "execution_count": 2,
   "metadata": {
    "slideshow": {
     "slide_type": "notes"
    }
   },
   "outputs": [],
   "source": [
    "# J = 3.2284E-6;\n",
    "# b = 3.5077E-6;\n",
    "# K = 0.0274;\n",
    "# R = 4;\n",
    "# L = 2.75E-6;\n",
    "# s = tf('s');\n",
    "# P_motor = K/(s*((J*s+b)*(L*s+R)+K^2));"
   ]
  },
  {
   "cell_type": "markdown",
   "metadata": {
    "slideshow": {
     "slide_type": "notes"
    }
   },
   "source": [
    "Now let's see how the uncompensated open-loop system performs. Specifically, we will use the MATLAB command |step| to analyze the open-loop step response. Add the following commands onto the end of the m-file and run it in the MATLAB command window and you will get the associated plot shown below."
   ]
  },
  {
   "cell_type": "code",
   "execution_count": 3,
   "metadata": {
    "slideshow": {
     "slide_type": "notes"
    }
   },
   "outputs": [],
   "source": [
    "# t = 0:0.001:0.2;\n",
    "# step(P_motor,t)"
   ]
  },
  {
   "cell_type": "markdown",
   "metadata": {
    "slideshow": {
     "slide_type": "notes"
    }
   },
   "source": [
    "From the above plot, we can see that when 1 volt is applied to the system the motor position grows unbounded. This is obviously at odds with the given requirements, in particular, that there be no steady-state error. The open-loop response of the system is not even stable. Stability of a system can be verified with the MATLAB command |isstable| where a returned value of |TRUE| (1) indicates that the system is stable and a returned value of |FALSE| (0) indicates that the system is not stable."
   ]
  },
  {
   "cell_type": "code",
   "execution_count": 4,
   "metadata": {
    "slideshow": {
     "slide_type": "notes"
    }
   },
   "outputs": [],
   "source": [
    "# isstable(P_motor)"
   ]
  },
  {
   "cell_type": "markdown",
   "metadata": {
    "slideshow": {
     "slide_type": "notes"
    }
   },
   "source": [
    "Stability of the system can also be determined from the poles of the transfer function where the poles can be identified using the MATLAB command |pole| as shown below."
   ]
  },
  {
   "cell_type": "code",
   "execution_count": 5,
   "metadata": {
    "slideshow": {
     "slide_type": "notes"
    }
   },
   "outputs": [],
   "source": [
    "# pole(P_motor)"
   ]
  },
  {
   "cell_type": "markdown",
   "metadata": {
    "slideshow": {
     "slide_type": "notes"
    }
   },
   "source": [
    "As indicated by this function, one of the poles of the open-loop transfer function is on the imaginary axis while the other two poles are in the left half of the complex _s_-plane.  A pole on the imaginary axis indicates that the free response of the system will not grow unbounded, but also will not decay to zero. Even though the free response will not grow unbounded, a system with a pole on the imaginary axis can grow unbounded when given an input, even when the input is bounded. This fact is in agreement with what we have already seen. In this particular case, the pole at the origin behaves like an integrator. Therefore, when the system is given a step input its output continues to grow to infinity in the same manner that an integral of a constant would grow to infinity as the upper limit of the integral is made larger."
   ]
  },
  {
   "cell_type": "code",
   "execution_count": 6,
   "metadata": {
    "slideshow": {
     "slide_type": "notes"
    }
   },
   "outputs": [],
   "source": [
    "#"
   ]
  },
  {
   "cell_type": "markdown",
   "metadata": {
    "slideshow": {
     "slide_type": "notes"
    }
   },
   "source": [
    "## Closed-loop response\n",
    "\n",
    "Let's now consider the closed-loop response of the system where the system schematic has the following structure.\n",
    "![feedback_motorp.png](figures/feedback_motorp.png)\n",
    "The closed-loop transfer function for the above with the controller _C_(_s_) simply set equal to 1 can be generated using the MATLAB command |feedback| as shown below."
   ]
  },
  {
   "cell_type": "code",
   "execution_count": 7,
   "metadata": {
    "slideshow": {
     "slide_type": "notes"
    }
   },
   "outputs": [],
   "source": [
    "# sys_cl = feedback(P_motor,1)"
   ]
  },
  {
   "cell_type": "markdown",
   "metadata": {
    "slideshow": {
     "slide_type": "notes"
    }
   },
   "source": [
    "The corresponding unit step response can be generated by adding the above and following command to your m-file. The annotations for the peak response, settling time, and final value can be added to the plot from the right-click menu under **Characteristics**."
   ]
  },
  {
   "cell_type": "code",
   "execution_count": 8,
   "metadata": {
    "slideshow": {
     "slide_type": "notes"
    }
   },
   "outputs": [],
   "source": [
    "#"
   ]
  },
  {
   "cell_type": "markdown",
   "metadata": {
    "slideshow": {
     "slide_type": "notes"
    }
   },
   "source": [
    "<html> </p><pre class=\"codeinput\"> step(sys_cl,t) </pre> </html>\n",
    "![Figure1.png](figures/Figure1.png)\n",
    "Examining the above closed-loop step response, the addition of feedback has stabilized the system. In fact, the steady-state error appears to be driven to zero and the overshoot is less than 16%, though the settle time requirement is not met. The character of the resulting step response is again indicated by the location of the poles of the system's transfer function just like the system's stability properties were. The MATLAB command |pzmap| will plot the poles (and zeros) of a given transfer function as shown below. <html> </p><pre class=\"codeinput\"> pzmap(sys_cl) </pre> </html>\n",
    "![Figure2.png](figures/Figure2.png)\n",
    "The above plot shows that the closed-loop system has one real pole at -1.45e6 and a pair of complex poles at -29.6+35.3j and -29.6-35.3j as indicated by the locations of the blue |x|'s. The damping and natural frequencies associated with these poles can be determined by right-clicking on the associated poles in the resulting plot. This information can also be determined using the MATLAB command |damp| as shown below."
   ]
  },
  {
   "cell_type": "code",
   "execution_count": 9,
   "metadata": {
    "slideshow": {
     "slide_type": "notes"
    }
   },
   "outputs": [],
   "source": [
    "# damp(sys_cl)"
   ]
  },
  {
   "cell_type": "markdown",
   "metadata": {
    "slideshow": {
     "slide_type": "notes"
    }
   },
   "source": [
    "Since the one real pole is so much faster than the complex conjugate poles (its real part is much more negative) its effect on the dynamic response of the system will be mimimal. Therefore, the damping (_zeta_ = 0.643) and the natural frequency (_Wn_ = 46.1) of the complex conjugate poles will primarily indicate the response of the closed-loop system. Adding the following commands to your m-file will calculate the overshoot and 2% settle time predicted by these poles assuming that they dominate, in other words, that we have a canonical underdamped second-order system."
   ]
  },
  {
   "cell_type": "code",
   "execution_count": 10,
   "metadata": {
    "slideshow": {
     "slide_type": "notes"
    }
   },
   "outputs": [],
   "source": [
    "# [Wn,zeta,poles] = damp(sys_cl);\n",
    "# OS = exp((-zeta(1)*pi)/sqrt(1-zeta(1)^2))\n",
    "# Ts = 4/(zeta(1)*Wn(1))"
   ]
  },
  {
   "cell_type": "code",
   "execution_count": 11,
   "metadata": {
    "exporter": {
     "cell_type": "toc"
    },
    "slideshow": {
     "slide_type": "skip"
    }
   },
   "outputs": [
    {
     "data": {
      "application/javascript": [
       "$.getScript('https://kmahelona.github.io/ipython_notebook_goodies/ipython_notebook_toc.js')"
      ],
      "text/plain": [
       "<IPython.core.display.Javascript object>"
      ]
     },
     "metadata": {},
     "output_type": "display_data"
    }
   ],
   "source": [
    "%%javascript\n",
    "$.getScript('https://kmahelona.github.io/ipython_notebook_goodies/ipython_notebook_toc.js')"
   ]
  }
 ],
 "metadata": {
  "celltoolbar": "Slideshow",
  "nikola": {
   "author": "d@h",
   "category": "MotorPosition",
   "date": "2016-02-16 08:00:00 UTC",
   "description": "Controls Tutorials for Python",
   "link": "",
   "slug": "motorposition-systemanalysis",
   "tags": "SystemAnalysis",
   "title": "Motor Position - System Analysis",
   "type": ""
  }
 },
 "nbformat": 4,
 "nbformat_minor": 0
}
