{
 "cells": [
  {
   "cell_type": "code",
   "execution_count": 1,
   "metadata": {
    "exporter": {
     "cell_type": "init"
    },
    "slideshow": {
     "slide_type": "skip"
    }
   },
   "outputs": [
    {
     "name": "stdout",
     "output_type": "stream",
     "text": [
      "Using matplotlib backend: TkAgg\n",
      "Populating the interactive namespace from numpy and matplotlib\n"
     ]
    }
   ],
   "source": [
    "%pylab \n",
    "%matplotlib inline\n",
    "import sympy\n",
    "from control.matlab import *\n",
    "from sympy import Poly\n",
    "from sympy.abc import s, z\n",
    "from IPython.display import display,Latex"
   ]
  },
  {
   "cell_type": "markdown",
   "metadata": {
    "exporter": {
     "cell_type": "toc"
    },
    "slideshow": {
     "slide_type": "skip"
    }
   },
   "source": [
    "<div id=\"toc\"></div>"
   ]
  },
  {
   "cell_type": "markdown",
   "metadata": {
    "slideshow": {
     "slide_type": "notes"
    }
   },
   "source": [
    "# DC Motor Position: PID Controller Design\n",
    "\n",
    "From the main problem, the open-loop transfer function of the DC Motor is given as follows.\n",
    "\n",
    "$$\n",
    "P(s) = \\frac {\\Theta (s)}{V(s)} = \\frac{K}{s ( (Js + b)(Ls + R) + K^2 )} \\qquad [ \\frac{rad}{V}  ]\n",
    "$$\n",
    "\n",
    "The structure of the control system has the form shown in the figure below.\n",
    "![feedback_motorp.png](figures/feedback_motorp.png)\n",
    "For the original problem setup and the derivation of the above equations, please refer to the [DC Motor Position: System Modeling](../MotorPosition/MotorPosition-SystemModeling.ipynb) page. For a 1-radian step reference, the design criteria are the following.\n",
    "* Settling time less than 0.040 seconds\n",
    "* Overshoot less than 16\n",
    "* No steady-state error, even in the presence of a step disturbance input Now let's design a PID controller and add it into the system. First create a new [m-file](../Extras_Mfile.ipynb) and type in the following commands (refer to main problem for the details of getting these commands)."
   ]
  },
  {
   "cell_type": "code",
   "execution_count": 2,
   "metadata": {
    "slideshow": {
     "slide_type": "notes"
    }
   },
   "outputs": [],
   "source": [
    "# J = 3.2284E-6;\n",
    "# b = 3.5077E-6;\n",
    "# K = 0.0274;\n",
    "# R = 4;\n",
    "# L = 2.75E-6;\n",
    "# s = tf('s');\n",
    "# P_motor = K/(s*((J*s+b)*(L*s+R)+K^2));"
   ]
  },
  {
   "cell_type": "markdown",
   "metadata": {
    "slideshow": {
     "slide_type": "notes"
    }
   },
   "source": [
    "Recall that the transfer function for a PID controller has the following form.\n",
    "\n",
    "$$\n",
    "C(s) = K_{p} + \\frac {K_{i}} {s} + K_{d}s = \\frac{K_{d}s^2 + K_{p}s + K_{i}} {s}\n",
    "$$\n",
    "\n",
    "\n",
    "\n",
    "## Proportional control\n",
    "\n",
    "Let's first try using a proportional controller with gain ranging from 1 to 21. An **array of LTI models**, each with a different proportional gain, can be built using a |for| loop. The closed-loop transfer functions can be generated using the |feedback| command. Add the following code to the end of your m-file and run it in the MATLAB command window:"
   ]
  },
  {
   "cell_type": "code",
   "execution_count": 3,
   "metadata": {
    "slideshow": {
     "slide_type": "notes"
    }
   },
   "outputs": [],
   "source": [
    "# Kp = 1;\n",
    "# for i = 1:3\n",
    "#     C(:,:,i) = pid(Kp);\n",
    "#     Kp = Kp + 10;\n",
    "# end\n",
    "# sys_cl = feedback(C*P_motor,1);"
   ]
  },
  {
   "cell_type": "markdown",
   "metadata": {
    "slideshow": {
     "slide_type": "notes"
    }
   },
   "source": [
    "Now let's see what the step responses look like. Add the following code to the end of your m-file and again run it in the command window. You should generate the plot shown in the figure below."
   ]
  },
  {
   "cell_type": "code",
   "execution_count": 4,
   "metadata": {
    "slideshow": {
     "slide_type": "notes"
    }
   },
   "outputs": [],
   "source": [
    "# t = 0:0.001:0.2;\n",
    "# step(sys_cl(:,:,1), sys_cl(:,:,2), sys_cl(:,:,3), t)\n",
    "# ylabel('Position, \\theta (radians)')\n",
    "# title('Response to a Step Reference with Different Values of K_p')\n",
    "# legend('K_p = 1',  'K_p = 11',  'K_p = 21')"
   ]
  },
  {
   "cell_type": "markdown",
   "metadata": {
    "slideshow": {
     "slide_type": "notes"
    }
   },
   "source": [
    "Let's also consider the system's response to a step disturbance. In this case, we will assume a reference of zero and look at the how the system responds to the disturbance by itself. The |feedback| command can still be employed for generating the closed-loop transfer function where there is still negative feedback, however, now only the plant transfer function _P_(_s_) is in the forward path and the controller _C_(_s_) is considered to be in the feedback path. Refer back to the block diagram at the top of this page to see the structure of the system. Add the following to the end of your m-file and run it in the command window. You should generate the plot shown in the figure below."
   ]
  },
  {
   "cell_type": "code",
   "execution_count": 5,
   "metadata": {
    "slideshow": {
     "slide_type": "notes"
    }
   },
   "outputs": [],
   "source": [
    "# dist_cl = feedback(P_motor,C);\n",
    "# step(dist_cl(:,:,1), dist_cl(:,:,2), dist_cl(:,:,3), t)\n",
    "# ylabel('Position, \\theta (radians)')\n",
    "# title('Response to a Step Disturbance with Different Values of K_p')\n",
    "# legend('K_p = 1', 'K_p = 11','K_p = 21')"
   ]
  },
  {
   "cell_type": "markdown",
   "metadata": {
    "slideshow": {
     "slide_type": "notes"
    }
   },
   "source": [
    "The above plots show that the system has no steady-state error in response to the step reference by itself, no matter the choice of proportional gain _Kp_. This is due to the fact that the plant has an integrator, that is, the system is type 1.  However, the system has significant steady-state error when the disturbance is added. Specifically, the response due to the reference and disturbance applied simultaneously is equal to the sum of the two graphs shown above. This follows from the property of **superposition** that holds for linear systems. Therefore, to have zero steady-state error in the presence of a disturbance, we need the disturbance response to decay to zero. The larger the value of _Kp_ the smaller the steady-state error is due to the disturbance, but it never reaches zero. Furthermore, employing increasingly larger values of _Kp_ has the adverse effect of increasing the overshoot and settle time as can be seen from the step reference plot. Recall from the [DC Motor Position: System Modeling](../MotorPosition/MotorPosition-SystemModeling.ipynb) page that adding an integral term will eliminate the steady-state error and a derivative term can reduce the overshoot and settling time.\n",
    "\n",
    "## PI control\n",
    "\n",
    "Let's first try a PI controller to get rid of the steady-state error due to the disturbance. We will set _Kp_ = 21 and test integral gains _Ki_ ranging from 100 to 500. Change your m-file to the following and run in the command window. You should generate a figure like the one shown below."
   ]
  },
  {
   "cell_type": "code",
   "execution_count": 6,
   "metadata": {
    "slideshow": {
     "slide_type": "notes"
    }
   },
   "outputs": [],
   "source": [
    "# Kp = 21;\n",
    "# Ki = 100;\n",
    "# for i = 1:5\n",
    "#     C(:,:,i) = pid(Kp,Ki);\n",
    "#     Ki = Ki + 200;\n",
    "# end\n",
    "# sys_cl = feedback(C*P_motor,1);\n",
    "# t = 0:0.001:0.4;\n",
    "# step(sys_cl(:,:,1), sys_cl(:,:,2), sys_cl(:,:,3), t)\n",
    "# ylabel('Position, \\theta (radians)')\n",
    "# title('Response to a Step Reference with K_p = 21 and Different Values of K_i')\n",
    "# legend('K_i = 100', 'K_i = 300', 'K_i = 500')"
   ]
  },
  {
   "cell_type": "markdown",
   "metadata": {
    "slideshow": {
     "slide_type": "notes"
    }
   },
   "source": [
    "Now let's see what happened to the step disturbance response. Change the following commands in your m-file and re-run in the command window. You should generate a plot like the one shown in the figure below."
   ]
  },
  {
   "cell_type": "code",
   "execution_count": 7,
   "metadata": {
    "slideshow": {
     "slide_type": "notes"
    }
   },
   "outputs": [],
   "source": [
    "# dist_cl = feedback(P_motor,C);\n",
    "# step(dist_cl(:,:,1), dist_cl(:,:,2), dist_cl(:,:,3), t)\n",
    "# ylabel('Position, \\theta (radians)')\n",
    "# title('Response to a Step Disturbance with K_p = 21 and Different Values of K_i')\n",
    "# legend('K_i = 100',  'K_i = 300',  'K_i = 500')"
   ]
  },
  {
   "cell_type": "markdown",
   "metadata": {
    "slideshow": {
     "slide_type": "notes"
    }
   },
   "source": [
    "The integral control has reduced the steady-state error to zero, even when a step disturbance is present; that was the goal for adding the integral term. For the response to the step reference, all of the reponses look similar with the amount of oscillation increasing slightly as _Ki_ is made larger. However, the response due to the disturbance changes significantly as the integral gain _Ki_ is changed. Specifically, the larger the value of _Ki_ employed, the faster the error decays to zero. We will choose _Ki_ = 500 because the error due to the disturbance decays to zero quickly, even though the response to the reference has a longer settling time and more overshoot. We will attempt to reduce the settling time and overshoot by adding a derivative term to the controller.\n",
    "\n",
    "## PID control\n",
    "\n",
    "Adding a derivative term to the controller means that we now have all three terms of the PID controller. We will investigate derivative gains _Kd_ ranging from 0.05 to 0.25. Go back to the m-file and make the following changes. Running the altered m-file will generate a graph like the one shown below."
   ]
  },
  {
   "cell_type": "code",
   "execution_count": 8,
   "metadata": {
    "slideshow": {
     "slide_type": "notes"
    }
   },
   "outputs": [],
   "source": [
    "# Kp = 21;\n",
    "# Ki = 500;\n",
    "# Kd = 0.05;\n",
    "# for i = 1:3\n",
    "#     C(:,:,i) = pid(Kp,Ki,Kd);\n",
    "#     Kd = Kd + 0.1;\n",
    "# end\n",
    "# sys_cl = feedback(C*P_motor,1);\n",
    "# t = 0:0.001:0.1;\n",
    "# step(sys_cl(:,:,1), sys_cl(:,:,2), sys_cl(:,:,3), t)\n",
    "# ylabel('Position, \\theta (radians)')\n",
    "# title('Response to a Step Reference with K_p = 21, K_i = 500 and Different Values of K_d')\n",
    "# legend('K_d = 0.05', 'K_d = 0.15', 'K_d = 0.25')"
   ]
  },
  {
   "cell_type": "markdown",
   "metadata": {
    "slideshow": {
     "slide_type": "notes"
    }
   },
   "source": [
    "Let's see what happened to the step disturbance response, change the following commands in your m-file and re-run at the command line."
   ]
  },
  {
   "cell_type": "code",
   "execution_count": 9,
   "metadata": {
    "slideshow": {
     "slide_type": "notes"
    }
   },
   "outputs": [],
   "source": [
    "# dist_cl = feedback(P_motor,C);\n",
    "# t = 0:0.001:0.2;\n",
    "# step(dist_cl(:,:,1), dist_cl(:,:,2), dist_cl(:,:,3), t)\n",
    "# ylabel('Position, \\theta (radians)')\n",
    "# title('Response to a Step Disturbance with K_p = 21, K_i = 500 and Different values of K_d')\n",
    "# legend('K_d = 0.05', 'K_d = 0.15', 'K_d = 0.25')"
   ]
  },
  {
   "cell_type": "markdown",
   "metadata": {
    "slideshow": {
     "slide_type": "notes"
    }
   },
   "source": [
    "It looks like when _Kd_ = 0.15, we can meet our design requirements. To determine the precise characteristics of the step response you can use the right-click menu of the step response plot, or you can use the MATLAB command |stepinfo| as shown below."
   ]
  },
  {
   "cell_type": "code",
   "execution_count": 10,
   "metadata": {
    "slideshow": {
     "slide_type": "notes"
    }
   },
   "outputs": [],
   "source": [
    "# stepinfo(sys_cl(:,:,2))"
   ]
  },
  {
   "cell_type": "code",
   "execution_count": 11,
   "metadata": {
    "exporter": {
     "cell_type": "toc"
    },
    "slideshow": {
     "slide_type": "skip"
    }
   },
   "outputs": [
    {
     "data": {
      "application/javascript": [
       "$.getScript('https://kmahelona.github.io/ipython_notebook_goodies/ipython_notebook_toc.js')"
      ],
      "text/plain": [
       "<IPython.core.display.Javascript object>"
      ]
     },
     "metadata": {},
     "output_type": "display_data"
    }
   ],
   "source": [
    "%%javascript\n",
    "$.getScript('https://kmahelona.github.io/ipython_notebook_goodies/ipython_notebook_toc.js')"
   ]
  }
 ],
 "metadata": {
  "celltoolbar": "Slideshow",
  "nikola": {
   "author": "d@h",
   "category": "MotorPosition",
   "date": "2016-02-16 08:00:00 UTC",
   "description": "Controls Tutorials for Python",
   "link": "",
   "slug": "motorposition-controlpid",
   "tags": "ControlPID",
   "title": "Motor Position - Control PI D",
   "type": ""
  }
 },
 "nbformat": 4,
 "nbformat_minor": 0
}
