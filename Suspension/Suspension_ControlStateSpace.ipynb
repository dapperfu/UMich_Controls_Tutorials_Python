{
 "cells": [
  {
   "cell_type": "code",
   "execution_count": null,
   "metadata": {},
   "outputs": [],
   "source": [
    "import sympy\n",
    "from IPython.display import Latex, display\n",
    "from sympy import Poly\n",
    "from sympy.abc import s, z\n",
    "\n",
    "from control.matlab import *"
   ]
  },
  {
   "cell_type": "code",
   "execution_count": 1,
   "metadata": {
    "exporter": {
     "cell_type": "init"
    },
    "slideshow": {
     "slide_type": "skip"
    }
   },
   "outputs": [
    {
     "name": "stdout",
     "output_type": "stream",
     "text": [
      "Using matplotlib backend: TkAgg\n",
      "Populating the interactive namespace from numpy and matplotlib\n"
     ]
    }
   ],
   "source": [
    "%pylab %matplotlib inline"
   ]
  },
  {
   "cell_type": "markdown",
   "metadata": {
    "exporter": {
     "cell_type": "toc"
    },
    "slideshow": {
     "slide_type": "skip"
    }
   },
   "source": [
    "<div id=\"toc\"></div>"
   ]
  },
  {
   "cell_type": "markdown",
   "metadata": {
    "slideshow": {
     "slide_type": "notes"
    }
   },
   "source": [
    "# Suspension: State-Space Controller Design\n",
    "\n",
    "From the main problem, the dynamic equations in state-space form are the following where Y1 = X1 - X2.\n",
    "\n",
    "$$\n",
    "\\left[ \\begin{array}{c} \\dot{X_1} \\\\ \\ddot{X_1} \\\\ \\dot{Y_1} \\\\ \\ddot{Y_1} \\end{array} \\right] = \\left[ \\begin{array}{cccc} 0 & 1 & 0 & 0 \\\\ \\frac{-b_1 b_2}{M_1 M_2} & 0 & \\left[ \\frac{b_1}{M_1} \\left( \\frac{b_1}{M_1}+\\frac{b_1}{M_2}+\\frac{b_2}{M_2} \\right)-\\frac{K_1}{M_1} \\right] & \\frac{-b_1}{M_1} \\\\ \\frac{b_2}{M_2} & 0 & -\\left( \\frac{b_1}{M_1}+\\frac{b_1}{M_2}+\\frac{b_2}{M_2} \\right) & 1 \\\\ \\frac{K_2}{M_2} & 0 & -\\left( \\frac{K_1}{M_1}+\\frac{K_1}{M_2}+\\frac{K_2}{M_2} \\right) & 0 \\end{array} \\right] \\left[ \\begin{array}{c} X_1 \\\\ \\dot{X_1} \\\\ Y_1 \\\\ \\dot{Y_1} \\end{array} \\right] +\n",
    "$$\n",
    "\n",
    "\n",
    "\n",
    "$$\n",
    "\\left[ \\begin{array}{cc} 0 & 0 \\\\ \\frac{1}{M_1} & \\frac{b_1 b_2}{M_1 M_2} \\\\ 0 & \\frac{-b_2}{M_2} \\\\ \\left( \\frac{1}{M_2}+\\frac{1}{M_2} \\right) & \\frac{-K_2}{M_2} \\end{array} \\right] \\left[ \\begin{array}{c} U \\\\ W \\end{array} \\right]\n",
    "$$\n",
    "\n",
    "\n",
    "\n",
    "$$\n",
    "Y = \\left[ \\begin{array}{cccc} 0 & 0 & 1 & 0 \\end{array} \\right] \\left[ \\begin{array}{c} X_1 \\\\ \\dot{X_1} \\\\ Y_1 \\\\ \\dot{Y_1} \\end{array} \\right] + \\left[ \\begin{array}{cc} 0 & 0 \\end{array} \\right] \\left[ \\begin{array}{c} U \\\\ W \\end{array} \\right]\n",
    "$$\n",
    "\n",
    "For the original problem and the derivation of the above equations and schematic, please refer to the [Suspension: System Modeling](../Suspension/Suspension-SystemModeling.ipynb) page. We want to design a feedback controller so that when the road disturbance (W) is simulated by a unit step input, the output (X1-X2) has a settling time less than 5 seconds and an overshoot less than 5%. For example, when the bus runs onto a 10 cm high step, the bus body will oscillate within a range of +/- 5 mm and will stop oscillating within 5 seconds. The system model can be represented in MATLAB by creating a new [m-file](../Extras_Mfile.ipynb) and entering the following commands (refer to main problem for the details of getting those commands). We need to define the A, B, C, D matrices by entering the following into the m-file:"
   ]
  },
  {
   "cell_type": "code",
   "execution_count": 2,
   "metadata": {
    "slideshow": {
     "slide_type": "notes"
    }
   },
   "outputs": [],
   "source": [
    "# m1 = 2500;\n",
    "# m2 = 320;\n",
    "# k1 = 80000;\n",
    "# k2 = 500000;\n",
    "# b1 = 350;\n",
    "# b2 = 15020;\n",
    "# A=[0                 1   0                                              0\n",
    "#   -(b1*b2)/(m1*m2)   0   ((b1/m1)*((b1/m1)+(b1/m2)+(b2/m2)))-(k1/m1)   -(b1/m1)\n",
    "#    b2/m2             0  -((b1/m1)+(b1/m2)+(b2/m2))                      1\n",
    "#    k2/m2             0  -((k1/m1)+(k1/m2)+(k2/m2))                      0];\n",
    "# B=[0                 0\n",
    "#    1/m1              (b1*b2)/(m1*m2)\n",
    "#    0                -(b2/m2)\n",
    "#    (1/m1)+(1/m2)    -(k2/m2)];\n",
    "# C=[0 0 1 0];\n",
    "# D=[0 0];\n",
    "# sys=ss(A,B,C,D);\n"
   ]
  },
  {
   "cell_type": "markdown",
   "metadata": {
    "slideshow": {
     "slide_type": "notes"
    }
   },
   "source": [
    "## Designing the full state-feedback controller\n",
    "\n",
    "First, let's design a full state-feedback controller for the system. Assuming for now that all the states can be measured (this assumption is probably not true but is sufficient for this problem), the schematic of the system is shown below.\n",
    "![statefeedback_susp.png](figures/statefeedback_susp.png)\n",
    "The characteristic polynomial for this closed-loop system is the determinant of (sI-(A-B[1,0]'K)). Note that it's not sI-(A-BK) because the controller K can only control the force input u but not the road disturbance W. Recall that our B matrix is a 4 x 2 matrix, and we only need the first column of B to control U. For this example, we have to use integral action to achieve zero steady-state error, so we add an extra state which is int(X1-X2) = int(Y1). In reality the bus will eventually reach an equilibrium that yields a zero steady-state error. The new states are X1, X1_dot, Y1, Y1_dot, and Y2. Also the state-space matrices, A, B, and C, become the following after the addition of the new state."
   ]
  },
  {
   "cell_type": "code",
   "execution_count": 3,
   "metadata": {
    "slideshow": {
     "slide_type": "notes"
    }
   },
   "outputs": [],
   "source": [
    "# Aa=[0                 1   0                                              0         0\n",
    "#    -(b1*b2)/(m1*m2)   0   ((b1/m1)*((b1/m1)+(b1/m2)+(b2/m2)))-(k1/m1)   -(b1/m1)   0\n",
    "#     b2/m2             0  -((b1/m1)+(b1/m2)+(b2/m2))                      1         0\n",
    "#     k2/m2             0  -((k1/m1)+(k1/m2)+(k2/m2))                      0         0\n",
    "#     0                 0   1                                              0         0];\n",
    "# Ba=[0                 0\n",
    "#     1/m1              (b1*b2)/(m1*m2)\n",
    "#     0                -(b2/m2)\n",
    "#     (1/m1)+(1/m2)    -(k2/m2)\n",
    "#     0                 0];\n",
    "# Ca=[0 0 1 0 0];\n",
    "# Da=[0 0];\n",
    "# sys=ss(Aa,Ba,Ca,Da);\n"
   ]
  },
  {
   "cell_type": "markdown",
   "metadata": {
    "slideshow": {
     "slide_type": "notes"
    }
   },
   "source": [
    "Actually, there is a shortcut for MATLAB to achieve the same result."
   ]
  },
  {
   "cell_type": "code",
   "execution_count": 4,
   "metadata": {
    "slideshow": {
     "slide_type": "notes"
    }
   },
   "outputs": [
    {
     "ename": "SyntaxError",
     "evalue": "invalid syntax (<ipython-input-4-53c49c055743>, line 1)",
     "output_type": "error",
     "traceback": [
      "\u001b[1;36m  File \u001b[1;32m\"<ipython-input-4-53c49c055743>\"\u001b[1;36m, line \u001b[1;32m1\u001b[0m\n\u001b[1;33m    Aa = # numpy.array([[[A,[0,0,0,0]])\u001b[0m\n\u001b[1;37m                                       ^\u001b[0m\n\u001b[1;31mSyntaxError\u001b[0m\u001b[1;31m:\u001b[0m invalid syntax\n"
     ]
    }
   ],
   "source": [
    "Aa = # numpy.array([[[A,[0,0,0,0]])\n",
    "Ba = # numpy.array([[B],[[0,0]])\n",
    "Ca = numpy.array([[C,0]])\n",
    "# Aa = [[A,[0 0 0 0]'];[C, 0]];\n",
    "# Ba = [B;[0 0]];\n",
    "# Ca = [C,0];\n",
    "# Da = D;\n",
    "# sys=ss(Aa,Ba,Ca,Da);"
   ]
  },
  {
   "cell_type": "markdown",
   "metadata": {
    "slideshow": {
     "slide_type": "notes"
    }
   },
   "source": [
    "Add the above MATLAB code into the m-file. In this case, we treat the problem like a PID controller design. The integral control is obtained from the new state. The proportional control is obtained from a gain on Y1 or X1-X2. The direct derivative control of the output isn't possible, since derivative of Y1 or X1-X2 isn't a state. Instead we use the derivative of X1, which is available for feedback. (While X1 maybe hard to measure, X1_dot could be obtained by integrating the output of an accelerometer mounted on the bus.) It is similar to adding more damping to the velocity of the oscillation of the bus suspension. Add the following MATLAB code for controller K in the m-file:"
   ]
  },
  {
   "cell_type": "code",
   "execution_count": 5,
   "metadata": {
    "slideshow": {
     "slide_type": "notes"
    }
   },
   "outputs": [],
   "source": [
    "K = numpy.array([[0, 2.3e6, 5e8, 0, 8e6]])\n",
    "# K = [0 2.3e6 5e8 0 8e6]\n"
   ]
  },
  {
   "cell_type": "markdown",
   "metadata": {
    "slideshow": {
     "slide_type": "notes"
    }
   },
   "source": [
    "We arrived at this value of the K, matrix by trial and error, adjusting the gain for derivative of X1, Y1 and integral of Y1, as previously mentioned.\n",
    "\n",
    "## Plotting the closed-loop response\n",
    "\n",
    "Looking at the schematic above again, we see that after adding the K matrix into the system, the state-space equations become:\n",
    "\n",
    "$$\n",
    "\\dot{{\\bf x}} = \\left(A-B \\left[ \\begin{array}{c} 1 \\\\ 0 \\end{array} \\right] K \\right) {\\bf x} + B \\left[ \\begin{array}{c} U \\\\ W \\end{array} \\right]\n",
    "$$\n",
    "\n",
    "\n",
    "\n",
    "$$\n",
    "y = C{\\bf x}\n",
    "$$\n",
    "\n",
    "We can now obtain the closed-loop response by simply adding the following code into the m-file. Note that we need to multiply B matrix by 0.1 to simulate the 0.1-m high step disturbance."
   ]
  },
  {
   "cell_type": "code",
   "execution_count": 6,
   "metadata": {
    "slideshow": {
     "slide_type": "notes"
    }
   },
   "outputs": [],
   "source": [
    "# t = 0:0.01:2;\n",
    "# sys_cl = ss(Aa-Ba(:,1)*K,-0.1*Ba,Ca,Da);\n",
    "# step(sys_cl*[0;1],t)\n",
    "# title('Closed-Loop Response to a 0.1-m Step')\n"
   ]
  },
  {
   "cell_type": "code",
   "execution_count": 7,
   "metadata": {
    "exporter": {
     "cell_type": "toc"
    },
    "slideshow": {
     "slide_type": "skip"
    }
   },
   "outputs": [
    {
     "data": {
      "application/javascript": [
       "$.getScript('https://kmahelona.github.io/ipython_notebook_goodies/ipython_notebook_toc.js')"
      ],
      "text/plain": [
       "<IPython.core.display.Javascript object>"
      ]
     },
     "metadata": {},
     "output_type": "display_data"
    }
   ],
   "source": [
    "%%javascript\n",
    "$.getScript('https://kmahelona.github.io/ipython_notebook_goodies/ipython_notebook_toc.js')"
   ]
  }
 ],
 "metadata": {
  "celltoolbar": "Slideshow",
  "nikola": {
   "author": "d@h",
   "category": "Suspension",
   "date": "2016-02-16 08:00:00 UTC",
   "description": "Controls Tutorials for Python",
   "link": "",
   "slug": "suspension-controlstatespace",
   "tags": "ControlStateSpace",
   "title": "Suspension - Control State Space",
   "type": ""
  }
 },
 "nbformat": 4,
 "nbformat_minor": 0
}
