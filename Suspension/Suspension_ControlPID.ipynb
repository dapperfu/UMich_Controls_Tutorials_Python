{
 "cells": [
  {
   "cell_type": "code",
   "execution_count": null,
   "metadata": {},
   "outputs": [],
   "source": [
    "import sympy\n",
    "from control.matlab import *\n",
    "from IPython.display import Latex, display\n",
    "from sympy import Poly\n",
    "from sympy.abc import s, z"
   ]
  },
  {
   "cell_type": "code",
   "execution_count": 1,
   "metadata": {
    "exporter": {
     "cell_type": "init"
    },
    "slideshow": {
     "slide_type": "skip"
    }
   },
   "outputs": [
    {
     "name": "stdout",
     "output_type": "stream",
     "text": [
      "Using matplotlib backend: TkAgg\n",
      "Populating the interactive namespace from numpy and matplotlib\n"
     ]
    }
   ],
   "source": [
    "%pylab %matplotlib inline"
   ]
  },
  {
   "cell_type": "markdown",
   "metadata": {
    "exporter": {
     "cell_type": "toc"
    },
    "slideshow": {
     "slide_type": "skip"
    }
   },
   "source": [
    "<div id=\"toc\"></div>"
   ]
  },
  {
   "cell_type": "markdown",
   "metadata": {
    "slideshow": {
     "slide_type": "notes"
    }
   },
   "source": [
    "# Suspension: PID Controller Design\n",
    "\n",
    "From the main problem, the dynamic equations in transfer function form are the following:\n",
    "\n",
    "$$\n",
    "G_1(s) = \\frac{X_1(s)-X_2(s)}{U(s)}=\\frac{(M_1+M_2)s^2+b_2s+K_2}{\\Delta}\n",
    "$$\n",
    "\n",
    "\n",
    "\n",
    "$$\n",
    "G_2(s) = \\frac{X_1(s)-X_2(s)}{W(s)}=\\frac{-M_1b_2s^3-M_1K_2s^2}{\\Delta}\n",
    "$$\n",
    "\n",
    "where,\n",
    "\n",
    "$$\n",
    "\\Delta = (M_1s^2+b_1s+K_1)(M_2s^2+(b_1+b_2)s+(K_1+K_2))-(b_1s+K_1)(b_1s+K_1)\n",
    "$$\n",
    "\n",
    "and the system schematic is the following where F(s)G1(s) = G2(s).\n",
    "![susp3.png](figures/susp3.png)\n",
    "For the original problem and the derivation of the above equations and schematic, please refer to the [Suspension: System Modeling](../Suspension/Suspension-SystemModeling.ipynb) page. We want to design a feedback controller so that when the road disturbance (W) is simulated by a unit step input, the output (X1-X2) has a settling time less than 5 seconds and an overshoot less than 5%. For example, when the bus runs onto a 10 cm high step, the bus body will oscillate within a range of +/- 5 mm and will stop oscillating within 5 seconds. The system model can be represented in MATLAB by creating a new [m-file](../Extras_Mfile.ipynb) and entering the following commands (refer to the main problem for the details of getting those commands)."
   ]
  },
  {
   "cell_type": "code",
   "execution_count": 2,
   "metadata": {
    "slideshow": {
     "slide_type": "notes"
    }
   },
   "outputs": [],
   "source": [
    "# m1 = 2500;\n",
    "# m2 = 320;\n",
    "# k1 = 80000;\n",
    "# k2 = 500000;\n",
    "# b1 = 350;\n",
    "# b2 = 15020;\n",
    "# nump=[(m1+m2) b2 k2];\n",
    "# denp=[(m1*m2) (m1*(b1+b2))+(m2*b1) (m1*(k1+k2))+(m2*k1)+(b1*b2) (b1*k2)+(b2*k1) k1*k2];\n",
    "# G1=tf(nump,denp);\n",
    "# num1=[-(m1*b2) -(m1*k2) 0 0];\n",
    "# den1=[(m1*m2) (m1*(b1+b2))+(m2*b1) (m1*(k1+k2))+(m2*k1)+(b1*b2) (b1*k2)+(b2*k1) k1*k2];\n",
    "# G2=tf(num1,den1);\n",
    "# numf=num1;\n",
    "# denf=nump;\n",
    "# F=tf(numf,denf);"
   ]
  },
  {
   "cell_type": "markdown",
   "metadata": {
    "slideshow": {
     "slide_type": "notes"
    }
   },
   "source": [
    "## Adding a PID controller\n",
    "\n",
    "Recall that the transfer function for a PID controller is:\n",
    "\n",
    "$$\n",
    "C(s) = K_p + \\frac{K_i}{s} + K_d s = \\frac{K_ds^2+K_ps+K_i}{s}\n",
    "$$\n",
    "\n",
    "where Kp is the proportional gain, Ki is the integral gain, and Kd is the derivative gain. Let's assume that we will need all three of these gains in our controller. To begin, we might start with guessing a gain for each: Kp=208025, Ki=832100 and Kd=624075. This can be implemented into MATLAB by adding the following code into your m-file:"
   ]
  },
  {
   "cell_type": "code",
   "execution_count": 3,
   "metadata": {
    "slideshow": {
     "slide_type": "notes"
    }
   },
   "outputs": [],
   "source": [
    "# Kd = 208025;\n",
    "# Kp = 832100;\n",
    "# Ki = 624075;\n",
    "# C = pid(Kp,Ki,Kd);"
   ]
  },
  {
   "cell_type": "markdown",
   "metadata": {
    "slideshow": {
     "slide_type": "notes"
    }
   },
   "source": [
    "Now let's simulate the response of the system (the distance X1-X2) to a step disturbance on the road. From the schematic above we can find the transfer function from the road disturbance W to the output(X1-X2), and simulate:"
   ]
  },
  {
   "cell_type": "code",
   "execution_count": 4,
   "metadata": {
    "slideshow": {
     "slide_type": "notes"
    }
   },
   "outputs": [],
   "source": [
    "# sys_cl=F*feedback(F*G1,C);"
   ]
  },
  {
   "cell_type": "markdown",
   "metadata": {
    "slideshow": {
     "slide_type": "notes"
    }
   },
   "source": [
    "## Plotting the closed-loop response\n",
    "\n",
    "Now we have created the closed-loop transfer function in MATLAB that will represent the plant, the disturbance, as well as the controller. Let's see what the closed-loop step response for this system looks like before we begin the control process. Keep in mind that we are going to use a 0.1 m high step as our disturbance, to simulate this, all we need to do is to multiply sys_cl by 0.1. Add the following code your m-file. You should see the response (X1-X2) to a step W like this:"
   ]
  },
  {
   "cell_type": "code",
   "execution_count": 5,
   "metadata": {
    "slideshow": {
     "slide_type": "notes"
    }
   },
   "outputs": [],
   "source": [
    "# t=0:0.05:5;\n",
    "# step(0.1*sys_cl,t)\n",
    "# title('Closed-Loop Response to 0.1-m High Step w/ PID Controller')"
   ]
  },
  {
   "cell_type": "markdown",
   "metadata": {
    "slideshow": {
     "slide_type": "notes"
    }
   },
   "source": [
    "From the graph, the percent overshoot is 9mm, which is larger than the 5mm requirement, but the settling time is satisfied, less than 5 seconds. To choose the proper gain that yields reasonable output from the beginning, we start with choosing a pole and two zeros for PID controller. A pole of this controller must be at zero and one of the zeros has to be very close to the pole at the origin, at 1. The other zero, we will put further from the first zero, at 3, actually we can adjust the second-zero's position to get the system to fulfill the requirement. Add the following command in the m-file, so you can adjust the second-zero's location and choose the gain to have a rough idea what gain you should use for Kd, Kp, and Ki."
   ]
  },
  {
   "cell_type": "code",
   "execution_count": 6,
   "metadata": {
    "slideshow": {
     "slide_type": "notes"
    }
   },
   "outputs": [],
   "source": [
    "# z1=1;\n",
    "# z2=3;\n",
    "# p1=0;\n",
    "# C = ((s+z1)*(s+z2))/(s+p1);\n",
    "# rlocus(C*G1)\n",
    "# title('root locus with PID controller')"
   ]
  },
  {
   "cell_type": "markdown",
   "metadata": {
    "slideshow": {
     "slide_type": "notes"
    }
   },
   "source": [
    "Add the code |[k,poles]=rlocfind(C*G1)| onto the end of your m-file to help you choose a specific loop gain. After running in the command window, go to the root locus plot and select a point near those indicated by the cross marks on the plot below.\n",
    "![rlocus_susp.png](figures/rlocus_susp.png)\n",
    "After doing this, you should see the following output in the MATLAB command window. <html> </p><pre class=\"codeoutput\">Select a point in the graphics window </p> selected_point = </p> -4.3957 + 9.3168i </p> k = </p> 4.7992e+04 </p> poles = </p> 1.0e+02 * -2.0116 -0.0415 + 0.0932i -0.0415 - 0.0932i -0.0729 -0.0059 </pre> </html> Note that the values returned in your MATLAB command window may not be exactly the same, but should at least have the same order of magnitude. We will explain the root locus method in more detail in the [Suspension: Root Locus Controller Design](../Suspension/Suspension-ControlRootLocus.ipynb) page.\n",
    "\n",
    "## Choosing the gains for the PID controller\n",
    "\n",
    "Now that we have the closed-loop transfer function, controlling the system is simply a matter of tuning the Kd, Kp, and Ki gains. From the figure above, we can see that the system has larger damping than required, but the settling time is very short. This response still doesn't satisfy the 5% overshoot requirement. As mentioned before, this can be rectified by adjusting the Kp, Ki and Kd gains to obtain a better response. Let's increase Kp, Ki, and KD by a factor of 2 to see what will happen. Go back to your m-file and multiply Kp, Ki, Kd by 2 and then rerun the program, you should get the following plot."
   ]
  },
  {
   "cell_type": "code",
   "execution_count": 7,
   "metadata": {
    "slideshow": {
     "slide_type": "notes"
    }
   },
   "outputs": [],
   "source": [
    "# Kd=2*Kd;\n",
    "# Kp=2*Kp;\n",
    "# Ki=2*Ki;\n",
    "# C=pid(Kp,Ki,Kd);\n",
    "# sys_cl=F*feedback(F*G1,C);\n",
    "# step(0.1*sys_cl,t)\n",
    "# title('Closed-Loop Response to 0.1-m High Step w/ High-Gain PID Controller')"
   ]
  },
  {
   "cell_type": "markdown",
   "metadata": {
    "slideshow": {
     "slide_type": "notes"
    }
   },
   "source": [
    "To compare this graph with the graph of low-gain PID controller, you can change the axis:"
   ]
  },
  {
   "cell_type": "code",
   "execution_count": 8,
   "metadata": {
    "slideshow": {
     "slide_type": "notes"
    }
   },
   "outputs": [],
   "source": [
    "# axis([0 5 -.01 .01])"
   ]
  },
  {
   "cell_type": "code",
   "execution_count": 9,
   "metadata": {
    "exporter": {
     "cell_type": "toc"
    },
    "slideshow": {
     "slide_type": "skip"
    }
   },
   "outputs": [
    {
     "data": {
      "application/javascript": [
       "$.getScript('https://kmahelona.github.io/ipython_notebook_goodies/ipython_notebook_toc.js')"
      ],
      "text/plain": [
       "<IPython.core.display.Javascript object>"
      ]
     },
     "metadata": {},
     "output_type": "display_data"
    }
   ],
   "source": [
    "%%javascript\n",
    "$.getScript('https://kmahelona.github.io/ipython_notebook_goodies/ipython_notebook_toc.js')"
   ]
  }
 ],
 "metadata": {
  "celltoolbar": "Slideshow",
  "kernelspec": {
   "display_name": "Python 3",
   "language": "python",
   "name": "python3"
  },
  "language_info": {
   "codemirror_mode": {
    "name": "ipython",
    "version": 3
   },
   "file_extension": ".py",
   "mimetype": "text/x-python",
   "name": "python",
   "nbconvert_exporter": "python",
   "pygments_lexer": "ipython3",
   "version": "3.8.5"
  },
  "nikola": {
   "author": "d@h",
   "category": "Suspension",
   "date": "2016-02-16 08:00:00 UTC",
   "description": "Controls Tutorials for Python",
   "link": "",
   "slug": "suspension-controlpid",
   "tags": "ControlPID",
   "title": "Suspension - Control PI D",
   "type": ""
  }
 },
 "nbformat": 4,
 "nbformat_minor": 1
}
