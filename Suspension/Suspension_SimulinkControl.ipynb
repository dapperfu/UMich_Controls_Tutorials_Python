{
 "cells": [
  {
   "cell_type": "code",
   "execution_count": null,
   "metadata": {},
   "outputs": [],
   "source": [
    "import sympy\n",
    "from IPython.display import Latex, display\n",
    "from sympy import Poly\n",
    "from sympy.abc import s, z\n",
    "\n",
    "from control.matlab import *"
   ]
  },
  {
   "cell_type": "code",
   "execution_count": 1,
   "metadata": {
    "exporter": {
     "cell_type": "init"
    },
    "slideshow": {
     "slide_type": "skip"
    }
   },
   "outputs": [
    {
     "name": "stdout",
     "output_type": "stream",
     "text": [
      "Using matplotlib backend: TkAgg\n",
      "Populating the interactive namespace from numpy and matplotlib\n"
     ]
    }
   ],
   "source": [
    "%pylab %matplotlib inline"
   ]
  },
  {
   "cell_type": "markdown",
   "metadata": {
    "exporter": {
     "cell_type": "toc"
    },
    "slideshow": {
     "slide_type": "skip"
    }
   },
   "source": [
    "<div id=\"toc\"></div>"
   ]
  },
  {
   "cell_type": "markdown",
   "metadata": {
    "slideshow": {
     "slide_type": "notes"
    }
   },
   "source": [
    "# Suspension: Simulink Controller Design\n",
    "\n",
    "\n",
    "\n",
    "## Simulink Model\n",
    "\n",
    "The Simulink model for the suspension system was developed in the [Suspension: Simulink Modeling](../Suspension/Suspension-SimulinkModeling.ipynb) section, and can be downloaded here: <Content/Suspension/Simulink/Control/suspmod.mdl suspmod.mdl>.\n",
    "\n",
    "## Extracting a linear model into MATLAB\n",
    "\n",
    "A linear model of the system (in state space or transfer function form) can be extracted from a Simulink model into MATLAB. This is done through the use of In1 and Out1 blocks and the MATLAB function |linmod|. We will extract only the model from the input U to the output X1-X2.\n",
    "* First, replace the U Step block with an In1 block.\n",
    "* Also, replace the Scope block with an Out1 block. (These blocks can be found in the Ports & Subsystems library). This defines the input and output of the system for the extraction process.\n",
    "![susp_model.png](figures/susp_model.png)\n",
    "Save your file as \"suspmod.mdl\" (select Save As from the File menu). MATLAB will extract the linear model from the saved model file, not from the open model window. At the MATLAB prompt, enter the following commands. You should see the following output, providing both state-space and transfer function models of the system."
   ]
  },
  {
   "cell_type": "code",
   "execution_count": 2,
   "metadata": {
    "slideshow": {
     "slide_type": "notes"
    }
   },
   "outputs": [],
   "source": [
    "# [A,B,C,D]=linmod('suspmod')\n",
    "# [num,den]=ss2tf(A,B,C,D)\n"
   ]
  },
  {
   "cell_type": "markdown",
   "metadata": {
    "slideshow": {
     "slide_type": "notes"
    }
   },
   "source": [
    "To verify the model extraction, we will generate an open-loop step response of the extracted transfer function in MATLAB. Enter the following command in MATLAB. You should see the following plot which is equivalent to the Scope's output."
   ]
  },
  {
   "cell_type": "code",
   "execution_count": 3,
   "metadata": {
    "slideshow": {
     "slide_type": "notes"
    }
   },
   "outputs": [],
   "source": [
    "# step(num,den);\n"
   ]
  },
  {
   "cell_type": "markdown",
   "metadata": {
    "slideshow": {
     "slide_type": "notes"
    }
   },
   "source": [
    "## Implementing full state-feedback control\n",
    "\n",
    "In the [Suspension: State-Space Controller Design](../Suspension/Suspension-ControlStateSpace.ipynb) page a full state-feedback controller was designed feeding back the following five states:\n",
    "\n",
    "$$\n",
    "\\left[ X_1 \\ \\frac{dX_1}{dt} \\ Y_1=X_1-X_2 \\ \\frac{dY_1}{dt} \\ \\int Y_1\\ dt \\right]^T\n",
    "$$\n",
    "\n",
    "The controller used the following feedback gain matrix: K = [ 0  2.3E6  5E8  0  8E6 ] To implement this in Simulink, we will contain the open-loop system from earlier in this page in a Subsystem block.\n",
    "* Create a new model window.\n",
    "* Drag a Subsystem block from the Subsystems & Ports library into your new model window.\n",
    "![suspcl001.png](figures/suspcl001.png)\n",
    "\n",
    "* Double-click on this block. You will see a blank window representing the contents of the subsystem (which is currently empty).\n",
    "* Open your previously saved model of the vehicle suspension system, suspmod.mdl.\n",
    "* Select Select All from the Edit menu (or Ctrl-A), and select Copy from the Edit menu (or Ctrl-C).\n",
    "* Select the blank subsystem window from your new model and select Paste from the Edit menu (or Ctrl-V). You should see your original system in this new subsystem window (you may need to use the scroll bars to center on it).\n",
    "* Label the In1 block \"U\", and the Out1 block \"y1\".\n",
    "* Replace the W Step block with an In1 block and label this block \"W\".\n",
    "![suspcl002.png](figures/suspcl002.png)\n",
    "Now we will generate the other state outputs from the subsystem.\n",
    "* Insert an Out1 block below the \"y1\" block and label it \"d/dt(y1)\", Tap a line off the line leading into the Damper 1 gain block (V1-V2) and connect it to the d/dt(y1) Out block.\n",
    "* Insert another Out1 block below the \"d/dt(y1)\" Out1 block and label it \"x1\".\n",
    "* Tap a line off the \"x1\" line and connect it to this Out1 block.\n",
    "* Insert another Out1 block below the \"x1\" Out1 block and label it \"d/dt(x1)\".\n",
    "* Tap a line off the \"v1\" line and connect it to this Out1 block.\n",
    "![suspcl005.png](figures/suspcl005.png)\n",
    "The final, extra, state needs to be generated, which is the integral of Y1.\n",
    "* Insert an Integrator block above the \"y1\" Out block and connect its input with a line tapped of the input to the \"y1\" Out1 block.\n",
    "* Insert an Out1 block, label it \"int(y1)\", and connect it to the output of the new Integrator block.\n",
    "![suspcl006.png](figures/suspcl006.png)\n",
    "Since the state outputs will be used to form a vector, it is important that they be numbered in the right order.\n",
    "* Edit the \"x1\" Out1 block and change its Port Number to \"1\".\n",
    "* Similarly, change the \"d/dt(x1)\" Out1 block's port number to \"2\", \"y1\" Out1 block's port number to \"3\", \"d/dt(y1)\" Out1 block's port number to \"4\", and \"int(y1)\" Out1 block's port number to \"5\".\n",
    "* The In1 blocks should be numbered such that \"U\" is \"1\" and \"W\" is \"2\". Some of these numbers may already be correct.\n",
    "![suspcl007.png](figures/suspcl007.png)\n",
    "\n",
    "* Close the Subsystem window. You should now see input and output terminals on the Subsystem block.\n",
    "* Name this block \"Suspension Model\".\n",
    "* You should resize this block so that you can read all of the labels. To do this, highlight it by single-clicking on it and drag one of the highlighted corners to the right size. Notice that the model has two inputs and five outputs. Each input and output is a scalar signal in this model.\n",
    "![suspcl008.png](figures/suspcl008.png)\n",
    "Now, we will build a full state-feedback controller around the plant model. First, we need to create a vector signal out of the five scalar outputs in order to multiply by the feedback gain matrix K.\n",
    "* Insert a Mux block (from the Signal Rounting library) to the right of the Suspension Model block. The Mux takes multiple inputs and combines them into a vector signal. By default, the Mux has two inputs.\n",
    "* Edit the Mux block and change the Number of Inputs to \"5\".\n",
    "* Resize the Mux so that it is the same height as the Suspension Model block.\n",
    "![suspcl009.png](figures/suspcl009.png)\n",
    "Now, we will close the loop.\n",
    "* Insert a Matrix Gain block (from the Math Operations library) below the Suspension Model block.\n",
    "* Flip the Matrix Gain left-to-right and edit its value to \"K\".\n",
    "* Insert a Sum block to the left of the Suspension Model block.\n",
    "* Edit its signs to \"+-\".\n",
    "* Connect the output of the Matrix Gain to the negative input of the Sum block.\n",
    "* Connect the output of the Sum block to the \"U\" input of the Suspension Model.\n",
    "![suspcl010.png](figures/suspcl010.png)\n",
    "\n",
    "* Insert a Step block and connect it to the positive input of the Sum block.\n",
    "* Label the step block \"r\" and edit its Step Time to \"0\" and its Final Value to \"0\" (we are commanding the vehicle to stay level).\n",
    "* Insert a Step block and connect it to the \"W\" input of the Suspension Model.\n",
    "* Edit its Step Time to \"0\" and its Final Value to \"-.1\" (we are now assuming a 10cm deep pothole).\n",
    "* Insert a Scope block and tap a line off the \"y1\" output of the Suspension Model and connect it to the Scope.\n",
    "![suspcl011.png](figures/suspcl011.png)\n",
    "\n",
    "\n",
    "## Closed-loop response\n",
    "\n",
    "To simulate this system, first, an appropriate simulation time must be set. Select Parameters from the Simulation menu and enter \"2\" in the Stop Time field. The design requirements included a settling time of less than 5 sec, and the system actually settles in 2 sec. The physical parameters must now be set. Run the following commands at the MATLAB prompt:"
   ]
  },
  {
   "cell_type": "code",
   "execution_count": 4,
   "metadata": {
    "slideshow": {
     "slide_type": "notes"
    }
   },
   "outputs": [],
   "source": [
    "# m1 = 2500;\n",
    "# m2 = 320;\n",
    "# k1 = 80000;\n",
    "# k2 = 500000;\n",
    "# b1 = 350;\n",
    "# b2 = 15020;\n"
   ]
  },
  {
   "cell_type": "markdown",
   "metadata": {
    "slideshow": {
     "slide_type": "notes"
    }
   },
   "source": [
    "The last step is to assign values to the feedback gain matrix K. Execute the following command at the MATLAB prompt."
   ]
  },
  {
   "cell_type": "code",
   "execution_count": 5,
   "metadata": {
    "slideshow": {
     "slide_type": "notes"
    }
   },
   "outputs": [],
   "source": [
    "K = numpy.array([[0, 2.3e6, 5e8, 0, 8e6]])\n",
    "# K = [ 0 2.3e6 5e8 0 8e6 ];\n"
   ]
  },
  {
   "cell_type": "code",
   "execution_count": 6,
   "metadata": {
    "exporter": {
     "cell_type": "toc"
    },
    "slideshow": {
     "slide_type": "skip"
    }
   },
   "outputs": [
    {
     "data": {
      "application/javascript": [
       "$.getScript('https://kmahelona.github.io/ipython_notebook_goodies/ipython_notebook_toc.js')"
      ],
      "text/plain": [
       "<IPython.core.display.Javascript object>"
      ]
     },
     "metadata": {},
     "output_type": "display_data"
    }
   ],
   "source": [
    "%%javascript\n",
    "$.getScript('https://kmahelona.github.io/ipython_notebook_goodies/ipython_notebook_toc.js')"
   ]
  }
 ],
 "metadata": {
  "celltoolbar": "Slideshow",
  "nikola": {
   "author": "d@h",
   "category": "Suspension",
   "date": "2016-02-16 08:00:00 UTC",
   "description": "Controls Tutorials for Python",
   "link": "",
   "slug": "suspension-simulinkcontrol",
   "tags": "SimulinkControl",
   "title": "Suspension - Simulink Control",
   "type": ""
  }
 },
 "nbformat": 4,
 "nbformat_minor": 0
}
