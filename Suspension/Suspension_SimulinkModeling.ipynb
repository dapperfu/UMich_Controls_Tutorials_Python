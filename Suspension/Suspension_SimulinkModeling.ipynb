{
 "cells": [
  {
   "cell_type": "code",
   "execution_count": null,
   "metadata": {},
   "outputs": [],
   "source": [
    "import sympy\n",
    "from control.matlab import *\n",
    "from IPython.display import Latex, display\n",
    "from sympy import Poly\n",
    "from sympy.abc import s, z"
   ]
  },
  {
   "cell_type": "code",
   "execution_count": 1,
   "metadata": {
    "exporter": {
     "cell_type": "init"
    },
    "slideshow": {
     "slide_type": "skip"
    }
   },
   "outputs": [
    {
     "name": "stdout",
     "output_type": "stream",
     "text": [
      "Using matplotlib backend: TkAgg\n",
      "Populating the interactive namespace from numpy and matplotlib\n"
     ]
    }
   ],
   "source": [
    "%pylab %matplotlib inline"
   ]
  },
  {
   "cell_type": "markdown",
   "metadata": {
    "exporter": {
     "cell_type": "toc"
    },
    "slideshow": {
     "slide_type": "skip"
    }
   },
   "source": [
    "<div id=\"toc\"></div>"
   ]
  },
  {
   "cell_type": "markdown",
   "metadata": {
    "slideshow": {
     "slide_type": "notes"
    }
   },
   "source": [
    "# Suspension: Simulink Modeling\n",
    "\n",
    "\n",
    "\n",
    "## Physical setup\n",
    "\n",
    "Designing an automotive suspension system is an interesting and challenging control problem. When the suspension system is designed, a 1/4 model (one of the four wheels) is used to simplify the problem to a 1D multiple spring-damper system. A diagram of this system is shown below.\n",
    "![susp1.png](figures/susp1.png)\n",
    "The system parameters are as follows. (m1)    body mass                                2500 kg (m2)    suspension mass                          320 kg (k1)    spring constant of suspension system     80,000 N/m (k2)    spring constant of wheel and tire        500,000 N/m (b1)    damping constant of suspension system    350 N.s/m (b2)    damping constant of wheel and tire       15,020 N.s/m (u)     control force = force from the controller we are going to design\n",
    "\n",
    "## Design requirements\n",
    "\n",
    "A good automotive suspension system should have satisfactory road holding ability, while still providing comfort when riding over bumps and holes in the road. When the vehicle is experiencing any road disturbance (i.e. pot holes, cracks, and uneven pavement),the vehicle body should not have large oscillations, and the oscillations should dissipate quickly. Since the distance X1-W is very difficult to measure, and the deformation of the tire (X2-W) is negligible, we will use the distance X1-X2 instead of X1-W as the output in our problem. Keep in mind that this is an estimation. The road disturbance (W) in this problem will be simulated by a step input. This step could represent the vehicle coming out of a pothole. We want to design a feedback controller so that the output (X1-X2) has an overshoot less than 5% and a settling time shorter than 5 seconds. For example, when the vehicle runs onto a 10 cm high step, the vehicle body will oscillate within a range of +/- 5 mm and return to a smooth ride within 5 seconds.\n",
    "\n",
    "## Building the Model\n",
    "\n",
    "This system will be modeled by summing the forces acting on both masses (body and suspension) and integrating the accelerations of each mass twice to give velocities and positions. Newton's law will be applied to each mass. Open Simulink and open a new model window. First, we will model the integrals of the accelerations of the masses.\n",
    "\n",
    "$$\n",
    "\\int\\int\\frac{d^2x_1}{dt^2}\\ dt = \\int\\frac{dx_1}{dt}\\ dt = x_1\n",
    "$$\n",
    "\n",
    "\n",
    "\n",
    "$$\n",
    "\\int\\int\\frac{d^2x_2}{dt^2}\\ dt = \\int\\frac{dx_2}{dt}\\ dt = x_2\n",
    "$$\n",
    "\n",
    "\n",
    "* Insert an Integrator block (from the Continuous library) and draw lines to and from its input and output terminals.\n",
    "* Label the input line \"a1\" (for acceleration) and the output line \"v1\" (for velocity) To add such a label, double click in the empty space just above the line.\n",
    "* Insert another Integrator block and connect it to the output of the first.\n",
    "* Draw a line from its output and label it \"x1\" (for position).\n",
    "* Insert a second pair of Integrators below the first with lines labeled \"a2\", \"v2\", and \"x2\".\n",
    "![susp001.png](figures/susp001.png)\n",
    "Next, we will start to model Newton's law. Newton's law for each of these masses can be expressed as:\n",
    "\n",
    "$$\n",
    "\\frac{1}{M_1} \\Sigma_1 F = \\frac{d^2 x_1}{dt^2}\n",
    "$$\n",
    "\n",
    "\n",
    "\n",
    "$$\n",
    "\\frac{1}{M_2} \\Sigma_2 F = \\frac{d^2 x_2}{dt^2}\n",
    "$$\n",
    "\n",
    "These equations can be represented with gain blocks (for 1/M1 and 1/M2) and two summation blocks.\n",
    "* Insert two Gain blocks, (from the Math Operations library) one attached to the inputs of each of the integrator pairs.\n",
    "* Edit the gain block corresponding to M1 by double-clicking it and changing its value to \"1/m1\".\n",
    "* Change the label of this Gain block to \"Mass 1\" by clicking on the word \"Gain\" underneath the block.\n",
    "* Similarly, edit the other Gain's value to \"1/m2\" and it's label to \"Mass 2\". (You may want to resize the gain blocks to view the contents. To do this, single click on the block to highlight it, and drag one of the corners to the desired size.) There are three forces acting on M1 (one spring, one damper, and the input, u) and five forces acting on M2 (two springs, two dampers, and the input, u).\n",
    "* Insert two Sum blocks (from the Math Operations library), one attached by a line to each of the Gain blocks.\n",
    "* Edit the signs of the Sum block corresponding to M1 to \"+REPLACE_WITH_DASH_DASH\" to represent the three forces (two of which will be negative).\n",
    "* Edit the signs of the other Sum block to \"++-++\" to represent the five forces, one of which will be negative.\n",
    "![susp002.png](figures/susp002.png)\n",
    "Now, we will add in the forces acting on each mass. First, we will add in the force from Spring 1. This force is equal to a constant, k1 times the difference X1-X2.\n",
    "* Insert a Sum block after the upper pair of integrators.\n",
    "* Edit its signs to \"+-\" and connect the \"x1\" signal to the positive input and the \"x2\" signal to the negative input.\n",
    "* Draw a line leading from the output of the Sum block.\n",
    "* Insert a Gain block above the \"Mass 1\" block.\n",
    "* Flip it left-to-right by single-clicking on it and selecting Flip Block from the Format menu (or hit Ctrl-F).\n",
    "* Edit the value of this gain to \"k1\" and label the block \"Spring 1\".\n",
    "* Tap a line off the output of the last Sum block and connect it to the input of this Gain block.\n",
    "* Connect the output of this Gain block (the spring force) to the second input of the Mass 1 Sum block. This input should be negative since the Spring 1 pulls down on Mass 1 when X1 > X2.\n",
    "* Tap a line off the spring force line and connect it to the second input of the Mass 2 Sum block. This input is positive since Spring 1 pulls up on Mass 2.\n",
    "![susp003.png](figures/susp003.png)\n",
    "Now, we will add in the force from Damper 1. This force is equal to b1 times V1-V2.\n",
    "* Insert a Sum block below the Mass 1's first integrator.\n",
    "* Flip it left-to-right, and edit its signs to \"+-\".\n",
    "* Tap a line off the \"v1\" line and connect it to the positive input of this Sum block.\n",
    "* Tap a line off the \"v2\" line and connect it to the negative input of this Sum block.\n",
    "* Insert a Gain block to the left of this Sum block and flip it left-to-right.\n",
    "* Edit its value to \"b1\" and label it \"Damper 1\".\n",
    "* Connect the output of the new Sum block to the input of this gain block.\n",
    "* Connect the output of this gain block (the damper force) to the third input of the Mass 1 Sum block. This input is negative, similar to Spring 1's force on Mass 1.\n",
    "* Tap a line off Damper 1's force line and connect it to the first input (which is positive) of Mass 2's Sum block.\n",
    "![susp004.png](figures/susp004.png)\n",
    "Now we will add in the force from Spring 2. This force acts only on Mass 2, but depends on the ground profile, W. Spring 2's force is equal to X2-W.\n",
    "* Insert a Step block in the lower left area of your model window. Label it \"W\".\n",
    "* Edit it's Step Time to \"0\" and it's Final Value to \"0\". (We will assume a flat road surface for now).\n",
    "* Insert a Sum block to the right of the W Step block and edit its signs to \"-+\".\n",
    "* Connect the output of the Step block to the positive input of this Sum block.\n",
    "* Tap a line off the \"x2\" signal and connect it to the negative input of the new Sum block.\n",
    "* Insert a Gain block to the right of this Sum block and connect the Sum's output to the new Gain's input.\n",
    "* Change the value of the gain to \"k2\" and label it \"Spring 2\".\n",
    "* Connect the output of this block (Spring 2's force) to the fourth input of Mass 2's Sum block. This force adds in in the positive sense.\n",
    "![susp005.png](figures/susp005.png)\n",
    "Next, we will add in the force from Damper 2. This force is equal to b2 times V2-d/dt(W). Since there is no existing signal representing the derivative of W we will need to generate this signal.\n",
    "* Insert a Derivative block (from the Continuous library) to the right of the W step block.\n",
    "* Tap a line of the Step's output and connect it to the input of the Derivative block.\n",
    "* Insert a Sum block after the Derivative block and edit it's signs to \"+-\".\n",
    "* Connect the Derivative's output to the positive input of the new Sum block.\n",
    "* Tap a line off the \"v2\" line and connect it to the negative input of this Sum block.\n",
    "* Connect the output of this Sum block (Damper 2's force) to the fifth input of Mass 2's Sum block. This force also adds in with positive sign.\n",
    "![susp006.png](figures/susp006.png)\n",
    "The last force is the input U acting between the two masses.\n",
    "* Insert a Step block (from the Sources library) in the upper left of the model window.\n",
    "* Connect its output to the remaining input of Mass 1's Sum block (with positive sign).\n",
    "* Tap a line off this signal and connect it to the remaining input of Mass 2's Sum block (with negative sign).\n",
    "* Edit this Step block's Step Time to \"0\" and leave its Final Value \"1\".\n",
    "* Label this Step block \"U\".\n",
    "* Finally, to view the output (X1-X2) insert a Scope block (from the Sinks library) and connect it to the output of the rightmost Sum block.\n",
    "![susp007.png](figures/susp007.png)\n",
    "You can download a model file for the complete system here, <Content/Suspension/Simulink/Modeling/suspmod.mdl suspmod.mdl>.\n",
    "\n",
    "## Open-loop response\n",
    "\n",
    "To simulate this system, first, an appropriate simulation time must be set. Select Parameters from the Simulation menu and enter \"50\" in the Stop Time field. 50 seconds is long enough to view the open-loop response. The physical parameters must now be set. Run the following commands at the MATLAB prompt:"
   ]
  },
  {
   "cell_type": "code",
   "execution_count": 2,
   "metadata": {
    "slideshow": {
     "slide_type": "notes"
    }
   },
   "outputs": [],
   "source": [
    "# m1 = 2500;\n",
    "# m2 = 320;\n",
    "# k1 = 80000;\n",
    "# k2 = 500000;\n",
    "# b1 = 350;\n",
    "# b2 = 15020;"
   ]
  },
  {
   "cell_type": "code",
   "execution_count": 3,
   "metadata": {
    "exporter": {
     "cell_type": "toc"
    },
    "slideshow": {
     "slide_type": "skip"
    }
   },
   "outputs": [
    {
     "data": {
      "application/javascript": [
       "$.getScript('https://kmahelona.github.io/ipython_notebook_goodies/ipython_notebook_toc.js')"
      ],
      "text/plain": [
       "<IPython.core.display.Javascript object>"
      ]
     },
     "metadata": {},
     "output_type": "display_data"
    }
   ],
   "source": [
    "%%javascript\n",
    "$.getScript('https://kmahelona.github.io/ipython_notebook_goodies/ipython_notebook_toc.js')"
   ]
  }
 ],
 "metadata": {
  "celltoolbar": "Slideshow",
  "nikola": {
   "author": "d@h",
   "category": "Suspension",
   "date": "2016-02-16 08:00:00 UTC",
   "description": "Controls Tutorials for Python",
   "link": "",
   "slug": "suspension-simulinkmodeling",
   "tags": "SimulinkModeling",
   "title": "Suspension - Simulink Modeling",
   "type": ""
  }
 },
 "nbformat": 4,
 "nbformat_minor": 0
}
