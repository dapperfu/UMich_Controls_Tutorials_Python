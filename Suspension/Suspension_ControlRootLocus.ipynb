{
 "cells": [
  {
   "cell_type": "code",
   "execution_count": null,
   "metadata": {},
   "outputs": [],
   "source": [
    "import sympy\n",
    "from IPython.display import Latex, display\n",
    "from sympy import Poly\n",
    "from sympy.abc import s, z\n",
    "\n",
    "from control.matlab import *"
   ]
  },
  {
   "cell_type": "code",
   "execution_count": 1,
   "metadata": {
    "exporter": {
     "cell_type": "init"
    },
    "slideshow": {
     "slide_type": "skip"
    }
   },
   "outputs": [
    {
     "name": "stdout",
     "output_type": "stream",
     "text": [
      "Using matplotlib backend: TkAgg\n",
      "Populating the interactive namespace from numpy and matplotlib\n"
     ]
    }
   ],
   "source": [
    "%pylab %matplotlib inline"
   ]
  },
  {
   "cell_type": "markdown",
   "metadata": {
    "exporter": {
     "cell_type": "toc"
    },
    "slideshow": {
     "slide_type": "skip"
    }
   },
   "source": [
    "<div id=\"toc\"></div>"
   ]
  },
  {
   "cell_type": "markdown",
   "metadata": {
    "slideshow": {
     "slide_type": "notes"
    }
   },
   "source": [
    "# Suspension: Root Locus Controller Design\n",
    "\n",
    "From the main problem, the dynamic equations in transfer function form are the following:\n",
    "\n",
    "$$\n",
    "G_1(s) = \\frac{X_1(s)-X_2(s)}{U(s)}=\\frac{(M_1+M_2)s^2+b_2s+K_2}{\\Delta}\n",
    "$$\n",
    "\n",
    "\n",
    "\n",
    "$$\n",
    "G_2(s) = \\frac{X_1(s)-X_2(s)}{W(s)}=\\frac{-M_1b_2s^3-M_1K_2s^2}{\\Delta}\n",
    "$$\n",
    "\n",
    "where,\n",
    "\n",
    "$$\n",
    "\\Delta = (M_1s^2+b_1s+K_1)(M_2s^2+(b_1+b_2)s+(K_1+K_2))-(b_1s+K_1)(b_1s+K_1)\n",
    "$$\n",
    "\n",
    "and the system schematic is the following where F(s)G1(s) = G2(s).\n",
    "![susp3.png](figures/susp3.png)\n",
    "For the original problem and the derivation of the above equations and schematic, please refer to the [Suspension: System Modeling](../Suspension/Suspension-SystemModeling.ipynb) page. We want to design a feedback controller so that when the road disturbance (W) is simulated by a unit step input, the output (X1-X2) has a settling time less than 5 seconds and an overshoot less than 5%. For example, when the bus runs onto a 10 cm high step, the bus body will oscillate within a range of +/- 5 mm and will stop oscillating within 5 seconds. The system model can be represented in MATLAB by creating a new [m-file](../Extras_Mfile.ipynb) and entering the following commands (refer to the main problem for the details of getting those commands)."
   ]
  },
  {
   "cell_type": "code",
   "execution_count": 2,
   "metadata": {
    "slideshow": {
     "slide_type": "notes"
    }
   },
   "outputs": [],
   "source": [
    "# m1 = 2500;\n",
    "# m2 = 320;\n",
    "# k1 = 80000;\n",
    "# k2 = 500000;\n",
    "# b1 = 350;\n",
    "# b2 = 15020;\n",
    "# nump=[(m1+m2) b2 k2];\n",
    "# denp=[(m1*m2) (m1*(b1+b2))+(m2*b1) (m1*(k1+k2))+(m2*k1)+(b1*b2) (b1*k2)+(b2*k1) k1*k2];\n",
    "# G1=tf(nump,denp);\n",
    "# num1=[-(m1*b2) -(m1*k2) 0 0];\n",
    "# den1=[(m1*m2) (m1*(b1+b2))+(m2*b1) (m1*(k1+k2))+(m2*k1)+(b1*b2) (b1*k2)+(b2*k1) k1*k2];\n",
    "# G2=tf(num1,den1);\n",
    "# numf=num1;\n",
    "# denf=nump;\n",
    "# F=tf(numf,denf);\n"
   ]
  },
  {
   "cell_type": "markdown",
   "metadata": {
    "slideshow": {
     "slide_type": "notes"
    }
   },
   "source": [
    "We are now ready to design a controller using the root locus design method. First let's see what the open-loop poles of the system are:"
   ]
  },
  {
   "cell_type": "code",
   "execution_count": 3,
   "metadata": {
    "slideshow": {
     "slide_type": "notes"
    }
   },
   "outputs": [],
   "source": [
    "# R = roots(denp)\n"
   ]
  },
  {
   "cell_type": "markdown",
   "metadata": {
    "slideshow": {
     "slide_type": "notes"
    }
   },
   "source": [
    "Therefore, the dominant poles are the roots -0.1098+/-5.2504i, which are close to the imaginary axis with a small damping ratio.\n",
    "\n",
    "## Plotting the root locus\n",
    "\n",
    "The main idea of root locus design is to estimate the closed-loop response from the open-loop root locus plot. By adding zeros and/or poles to the original system (adding a compensator), the root locus and thus the closed-loop response will be modified. Let's first view the root locus for the plant. In your m-file, add the following command and then run the file, you should get the root locus plot below:"
   ]
  },
  {
   "cell_type": "code",
   "execution_count": 4,
   "metadata": {
    "slideshow": {
     "slide_type": "notes"
    }
   },
   "outputs": [],
   "source": [
    "# rlocus(G1)\n",
    "# z=-log(0.05)/sqrt(pi^2+(log(0.05)^2))\n",
    "# sgrid(z,0)\n"
   ]
  },
  {
   "cell_type": "markdown",
   "metadata": {
    "slideshow": {
     "slide_type": "notes"
    }
   },
   "source": [
    "Note from the specification, we required the overshoot, $\\%OS$, to be less than 5% and damping ratio, $\\zeta$, can be find from approximation damping ratio equation, $\\zeta = -\\log(\\%OS/100)/\\sqrt{\\pi^2+\\log(\\%OS/100)^2}$. The command |sgrid| is used to overlay the desired percent overshoot line on the close-up root locus; you can find more information from commands list. From the plot above, we see that there are two pair of poles and zeros that are very close together. These poles and zeros are almost on the imaginary axis, they might make the bus system marginally stable, which might cause a problem. We have to make all of the poles and zeros move into the left-half plane as far as possible to avoid an unstable system. We have to put two zeros very close to the two poles on the imaginary axis of uncompensated system for pole-and-zero cancellation. Moreover, we will put another two poles further to the left on the real axis to get fast response.\n",
    "\n",
    "## Adding a notch filter\n",
    "\n",
    "We will probably need two zeros near the two poles on the complex axis to draw the root locus, leading those poles to the compensator zeros instead of to the plant zeros on the imaginary axis. We'll also need two poles placed far to the left to pull the locus to the left. It seems that a notch filter (2-lead controller) will probably do the job. Let's try putting the poles at 30 and 60 and the zeros at 3+/-3.5i. In your m-file add the following lines of code:"
   ]
  },
  {
   "cell_type": "code",
   "execution_count": 5,
   "metadata": {
    "slideshow": {
     "slide_type": "notes"
    }
   },
   "outputs": [],
   "source": [
    "# z1=3+3.5i;\n",
    "# z2=3-3.5i;\n",
    "# p1=30;\n",
    "# p2=60;\n",
    "# numc=conv([1 z1],[1 z2]);\n",
    "# denc=conv([1 p1],[1 p2]);\n",
    "# C=tf(numc,denc);\n",
    "# rlocus(C*G1)\n"
   ]
  },
  {
   "cell_type": "markdown",
   "metadata": {
    "slideshow": {
     "slide_type": "notes"
    }
   },
   "source": [
    "Now let's change the axis to see the details of the root locus."
   ]
  },
  {
   "cell_type": "code",
   "execution_count": 6,
   "metadata": {
    "slideshow": {
     "slide_type": "notes"
    }
   },
   "outputs": [],
   "source": [
    "# axis([-40 10 -30 30])\n",
    "# z=-log(0.05)/sqrt(pi^2+(log(0.05)^2))\n",
    "# sgrid(z,0)\n"
   ]
  },
  {
   "cell_type": "markdown",
   "metadata": {
    "slideshow": {
     "slide_type": "notes"
    }
   },
   "source": [
    "## Finding the gain from the root locus\n",
    "\n",
    "Now that we have moved the root locus across the 5% damping ratio line, we can choose a gain that will satisfy the design requirements. Recall that we want the settling time and the overshoot to be as small as possible. Generally, to get a small overshoot and a fast response, we need to select a gain corresponding to a point on the root locus near the real axis and far from the imaginary axis or the point that the root locus crosses the desired damping ratio line. But in this case, we need the cancellation of poles and zeros near the imaginary axis, so we need to select a gain corresponding to a point on the root locus near the zeros and percent overshoot line. There is a method to do this with the |rlocfind| command in MATLAB. Add the code |[k,poles]=rlocfind(C*G1)| onto the end of your m-file to help you choose a specific loop gain. After running in the command window, go to the root locus plot and select a point near those indicated by the cross marks on the plot below.\n",
    "![rlocus_susp2.png](figures/rlocus_susp2.png)\n",
    "After doing this, you should see the following output in the MATLAB command window. <html> </p><pre class=\"codeoutput\">Select a point in the graphics window </p> selected_point = </p> -2.8555 + 3.6335i </p> k = </p> 1.0030e+08 </p> poles = </p> 1.0e+02 * -0.6321 + 5.9650i -0.6321 - 5.9650i -0.0296 + 0.1306i -0.0296 - 0.1306i -0.0292 + 0.0368i -0.0292 - 0.0368i </pre> </html> Note that the value returned from your MATLAB command window may not be exactly the same, but should at least have the same order of magnitude. This returned value can be used as the gain for the compensator. Recall that the schematic of the system is the following:\n",
    "![susp3.png](figures/susp3.png)\n",
    "and the closed-loop transfer function can be derived as following:"
   ]
  },
  {
   "cell_type": "code",
   "execution_count": 7,
   "metadata": {
    "slideshow": {
     "slide_type": "notes"
    }
   },
   "outputs": [],
   "source": [
    "# k = 1.0030e+08;\n",
    "# sys_cl=F*feedback(G1,k*C);\n"
   ]
  },
  {
   "cell_type": "markdown",
   "metadata": {
    "slideshow": {
     "slide_type": "notes"
    }
   },
   "source": [
    "## Plotting the closed-loop response\n",
    "\n",
    "Let's see what the closed-loop step response looks like with this compensator. Keep in mind that we are going to use a 0.1-m high step as the disturbance. To simulate this, simply multiply sys_cl by 0.1. Add the following commands into the m-file and put % marks in front of all |rlocus| and |rlocfind| commands."
   ]
  },
  {
   "cell_type": "code",
   "execution_count": 8,
   "metadata": {
    "slideshow": {
     "slide_type": "notes"
    }
   },
   "outputs": [],
   "source": [
    "# t=0:0.01:2;\n",
    "# step(0.1*sys_cl,t)\n",
    "# title('Closed-Loop Response to 0.1-m High Step w/ Notch Filter')\n"
   ]
  },
  {
   "cell_type": "code",
   "execution_count": 9,
   "metadata": {
    "exporter": {
     "cell_type": "toc"
    },
    "slideshow": {
     "slide_type": "skip"
    }
   },
   "outputs": [
    {
     "data": {
      "application/javascript": [
       "$.getScript('https://kmahelona.github.io/ipython_notebook_goodies/ipython_notebook_toc.js')"
      ],
      "text/plain": [
       "<IPython.core.display.Javascript object>"
      ]
     },
     "metadata": {},
     "output_type": "display_data"
    }
   ],
   "source": [
    "%%javascript\n",
    "$.getScript('https://kmahelona.github.io/ipython_notebook_goodies/ipython_notebook_toc.js')"
   ]
  }
 ],
 "metadata": {
  "celltoolbar": "Slideshow",
  "nikola": {
   "author": "d@h",
   "category": "Suspension",
   "date": "2016-02-16 08:00:00 UTC",
   "description": "Controls Tutorials for Python",
   "link": "",
   "slug": "suspension-controlrootlocus",
   "tags": "ControlRootLocus",
   "title": "Suspension - Control Root Locus",
   "type": ""
  }
 },
 "nbformat": 4,
 "nbformat_minor": 0
}
