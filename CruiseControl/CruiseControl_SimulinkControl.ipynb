{
 "cells": [
  {
   "cell_type": "code",
   "execution_count": 1,
   "metadata": {
    "exporter": {
     "cell_type": "init"
    },
    "slideshow": {
     "slide_type": "skip"
    }
   },
   "outputs": [
    {
     "name": "stdout",
     "output_type": "stream",
     "text": [
      "Using matplotlib backend: TkAgg\n",
      "Populating the interactive namespace from numpy and matplotlib\n"
     ]
    }
   ],
   "source": [
    "%pylab \n",
    "%matplotlib inline\n",
    "import sympy\n",
    "from control.matlab import *\n",
    "from sympy import Poly\n",
    "from sympy.abc import s, z\n",
    "from IPython.display import display,Latex"
   ]
  },
  {
   "cell_type": "markdown",
   "metadata": {
    "exporter": {
     "cell_type": "toc"
    },
    "slideshow": {
     "slide_type": "skip"
    }
   },
   "source": [
    "<div id=\"toc\"></div>"
   ]
  },
  {
   "cell_type": "markdown",
   "metadata": {
    "slideshow": {
     "slide_type": "notes"
    }
   },
   "source": [
    "# Cruise Control: Simulink Controller Design\n",
    "\n",
    "In the [Cruise Control: Simulink Modeling](../CruiseControl/CruiseControl-SimulinkModeling.ipynb) page we created a Simulink model of the cruise control system. You can recreate the model or download it <Content/CruiseControl/Simulink/Control/ccmodel.mdl here>. In this section, we will show how to implement a feedback controller in Simulink to meet the performance specifications for the system.\n",
    "\n",
    "## Extracting a linear model into MATLAB\n",
    "\n",
    "A linear model of the system (in state space or transfer function form) can be extracted from a Simulink model into MATLAB. This is done through the use of In1 and Out1 blocks and the MATLAB function |linmod|.\n",
    "* Replace the Step Block and Scope Block with an In1 and an Out1 block, respectively (these blocks can be found in the Ports & Subsystems library). This defines the input and output of the system for the extraction process.\n",
    "![ccmodel.png](figures/ccmodel.png)\n",
    "Save your file as \"ccmodel.mdl\" (select Save As from the File menu). MATLAB will extract the linear model from the saved model file, not from the open model window. At the MATLAB prompt, enter the following commands:"
   ]
  },
  {
   "cell_type": "code",
   "execution_count": 2,
   "metadata": {
    "slideshow": {
     "slide_type": "notes"
    }
   },
   "outputs": [],
   "source": [
    "# m = 1000;\n",
    "# b = 50;\n",
    "# u = 500;\n",
    "# [A,B,C,D] = linmod('ccmodel')\n",
    "# cruise_ss = ss(A,B,C,D);"
   ]
  },
  {
   "cell_type": "markdown",
   "metadata": {
    "slideshow": {
     "slide_type": "notes"
    }
   },
   "source": [
    "To verify the model extraction, we will generate an open-loop step response of the extracted transfer function in MATLAB. We will multiply the numerator by 500 to simulate a step input of 500 N. Enter the following command in MATLAB."
   ]
  },
  {
   "cell_type": "code",
   "execution_count": 3,
   "metadata": {
    "slideshow": {
     "slide_type": "notes"
    }
   },
   "outputs": [],
   "source": [
    "# step(u*cruise_ss)"
   ]
  },
  {
   "cell_type": "markdown",
   "metadata": {
    "slideshow": {
     "slide_type": "notes"
    }
   },
   "source": [
    "## Implementing PI control\n",
    "\n",
    "In the [Cruise Control: PID Control](../CruiseControl/CruiseControl-ControlPID.ipynb) page a PI controller was designed with Kp = 800 and Ki = 40 to give the desired response. We will implement this in Simulink by first containing the open-loop system from earlier in this page in a Subsystem block.\n",
    "* Create a new model window.\n",
    "* Drag a Subsystem block from the Ports & Subsystems library into your new model window.\n",
    "![cruise1.png](figures/cruise1.png)\n",
    "\n",
    "* Double-click on this block. You will see a blank window representing the contents of the subsystem (which is currently empty).\n",
    "* Open your previously saved model of the cruise control system, <Content/CruiseControl/Simulink/Control/ccmodel.mdl ccmodel.mdl>.\n",
    "* Select Select All from the Edit menu (or Ctrl-A), and select Copy from the Edit menu (or Ctrl-C).\n",
    "* Select the blank subsystem window from your new model and select Paste from the Edit menu (or Ctrl-V). You should see your original system in this new subsystem window. Close this window.\n",
    "* You should now see input and output terminals on the Subsystem block. Name this block \"plant model\".\n",
    "![cruise2.png](figures/cruise2.png)\n",
    "Now, we will build a PI controller around the plant model. First, we will feed back the plant output.\n",
    "* Draw a line extending from the plant output.\n",
    "* Insert a Sum block and assign \"+-\" to it's inputs.\n",
    "* Tap a line of the output line and draw it to the negative input of the Sum block.\n",
    "![cruise3.png](figures/cruise3.png)\n",
    "The output of the Sum block will provide the error signal. From this, we will generate proportional and integral components.\n",
    "* Insert an Integrator block after the Sum block and connect them with a line.\n",
    "* Insert and connect a Gain block after the Integrator block to provide the integral gain.\n",
    "* Label this Integrator \"Ki\" and assign it a value of \"Ki\".\n",
    "* Insert a new Gain block and connect it with a line tapped off the output of the Sum block.\n",
    "* Label this gain \"Kp\" and assign it a value of \"Kp\".\n",
    "![cruise4.png](figures/cruise4.png)\n",
    "Now we will add the proportional and integral components and apply the sum to the plant.\n",
    "* Insert a Sum block between the Ki block and the plant model and connect the outputs of the two Gain blocks to the Sum block inputs.\n",
    "* Connect the Sum block output to the input of the plant block.\n",
    "![cruise5.png](figures/cruise5.png)\n",
    "Finally, we will apply a step input and view the output with a Scope block.\n",
    "* Attach a Step block to the free input of the feedback Sum block.\n",
    "* Attach a Scope block to the plant output.\n",
    "* Double-click the Step block and set the Step Time to \"0\" and the Final Value to \"u\". This allows the input magnitude to be changed outside of Simulink.\n",
    "![ccpi.png](figures/ccpi.png)\n",
    "You can download our version of the closed-loop system model <Content/CruiseControl/Simulink/Control/ccpi.mdl here>. In this example, we constructed a PI controller from fundamental blocks. As an alternative, we could have used a Transfer Function block (from the Continuous library) to implement this in one step, as shown below.\n",
    "![cruise_tf.png](figures/cruise_tf.png)\n",
    "You can download this model <Content/CruiseControl/Simulink/Control/ccpitf.mdl here>.\n",
    "\n",
    "## Closed-loop response\n",
    "\n",
    "To simulate this system, first, an appropriate simulation time must be set. Select Parameters from the Simulation menu and enter \"10\" in the Stop Time field. The design requirements included a rise time of less than 5 sec, so we simulate for 10 seconds to view the output. The physical parameters must now be set. Run the following commands at the MATLAB prompt:"
   ]
  },
  {
   "cell_type": "code",
   "execution_count": 4,
   "metadata": {
    "slideshow": {
     "slide_type": "notes"
    }
   },
   "outputs": [],
   "source": [
    "# m = 1000;\n",
    "# b = 50;\n",
    "# u = 10;\n",
    "# Kp = 800;\n",
    "# Ki = 40;"
   ]
  },
  {
   "cell_type": "code",
   "execution_count": 5,
   "metadata": {
    "exporter": {
     "cell_type": "toc"
    },
    "slideshow": {
     "slide_type": "skip"
    }
   },
   "outputs": [
    {
     "data": {
      "application/javascript": [
       "$.getScript('https://kmahelona.github.io/ipython_notebook_goodies/ipython_notebook_toc.js')"
      ],
      "text/plain": [
       "<IPython.core.display.Javascript object>"
      ]
     },
     "metadata": {},
     "output_type": "display_data"
    }
   ],
   "source": [
    "%%javascript\n",
    "$.getScript('https://kmahelona.github.io/ipython_notebook_goodies/ipython_notebook_toc.js')"
   ]
  }
 ],
 "metadata": {
  "celltoolbar": "Slideshow",
  "nikola": {
   "author": "d@h",
   "category": "CruiseControl",
   "date": "2016-02-16 08:00:00 UTC",
   "description": "Controls Tutorials for Python",
   "link": "",
   "slug": "cruisecontrol-simulinkcontrol",
   "tags": "SimulinkControl",
   "title": "Cruise Control - Simulink Control",
   "type": ""
  }
 },
 "nbformat": 4,
 "nbformat_minor": 0
}
