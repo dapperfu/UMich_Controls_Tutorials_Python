{
 "cells": [
  {
   "cell_type": "code",
   "execution_count": null,
   "metadata": {},
   "outputs": [],
   "source": [
    "import sympy\n",
    "from control.matlab import *\n",
    "from IPython.display import Latex, display\n",
    "from sympy import Poly\n",
    "from sympy.abc import s, z"
   ]
  },
  {
   "cell_type": "code",
   "execution_count": 1,
   "metadata": {
    "collapsed": false,
    "exporter": {
     "cell_type": "init"
    },
    "slideshow": {
     "slide_type": "skip"
    }
   },
   "outputs": [
    {
     "name": "stdout",
     "output_type": "stream",
     "text": [
      "Using matplotlib backend: TkAgg\n",
      "Populating the interactive namespace from numpy and matplotlib\n"
     ]
    }
   ],
   "source": [
    "%pylab %matplotlib inline"
   ]
  },
  {
   "cell_type": "markdown",
   "metadata": {
    "exporter": {
     "cell_type": "toc"
    },
    "slideshow": {
     "slide_type": "skip"
    }
   },
   "source": [
    "<div id=\"toc\"></div>"
   ]
  },
  {
   "cell_type": "markdown",
   "metadata": {
    "slideshow": {
     "slide_type": "notes"
    }
   },
   "source": [
    "# Cruise Control: State-Space Methods for Controller Design\n",
    "\n",
    "In this tutorial we will design a controller and observer for the cruise control system using the state-space model.\n",
    "\n",
    "## State-space equations\n",
    "\n",
    "The equations of motion in state-space form are as follows:\n",
    "\n",
    "$$\n",
    "[\\dot{v}]=\\left[\\frac{-b}{m}\\right][v]+\\left[\\frac{1}{m}\\right][u] \\\n",
    "$$\n",
    "\n",
    "\n",
    "\n",
    "$$\n",
    "y=[1][v] \\\n",
    "$$\n",
    "\n",
    "where (m)   vehicle mass            1000 kg (b)   damping coefficient     50 N.s/m (u)   nominal control force   500 N (v)   vehicle velocity where y=v is the system output\n",
    "\n",
    "## Design requirements\n",
    "\n",
    "\n",
    "* Rise time < 5 s\n",
    "* Overshoot < 10\n",
    "* Steady-state error < 2 To see the original problem setup, see the [Cruise Control: System Modeling](../CruiseControl/CruiseControl-SystemModeling.ipynb) page.\n",
    "\n",
    "## Control design using pole placement\n",
    "\n",
    "The schematic of a full state-feedback system is shown below.\n",
    "![statefeedback_cruise.png](figures/statefeedback_cruise.png)\n",
    "\n",
    "\n",
    "$$\n",
    "\\frac{Y(s)}{U(s)} = \\frac{1}{m s + b} \\\n",
    "$$\n",
    "\n",
    "where\n",
    "* K = state-feedback gain matrix\n",
    "* u = r-K.v = control input Recall from the [State-Space Tutorial](../Introduction/Introduction-ControlStateSpace.ipynb) page, we can use a \"pole placement\" technique to obtain the desired output. Poles of a closed-loop system can be found from the characteristic equation: the determinant of the [sI-(A-B*K)] matrix. If the poles the system can be placed in the desired location by designing an appropriate control matrix (K), then the desired output can be obtained. In this tutorial, poles will be chosen first, then we will use MATLAB to find the corresponding control matrix (K). Now, we need to determine where to place poles for our system. Since our [sI-(A-B*K)] matrix is 1x1, we have only one pole to place. Let the pole be at -1.5 (arbitrary). Just as in the State-Space Tutorial, the MATLAB command |place| will be used to find the control matrix K. Create a new [m-file](../Extras_Mfile.ipynb) and enter the following commands. Running the m-file in the MATLAB command window should give you the control matrix and step response shown below."
   ]
  },
  {
   "cell_type": "code",
   "execution_count": 2,
   "metadata": {
    "collapsed": false,
    "slideshow": {
     "slide_type": "notes"
    }
   },
   "outputs": [
    {
     "ename": "NameError",
     "evalue": "name 'b' is not defined",
     "output_type": "error",
     "traceback": [
      "\u001b[1;31m---------------------------------------------------------------------------\u001b[0m",
      "\u001b[1;31mNameError\u001b[0m                                 Traceback (most recent call last)",
      "\u001b[1;32m<ipython-input-2-c208b379e5e0>\u001b[0m in \u001b[0;36m<module>\u001b[1;34m()\u001b[0m\n\u001b[1;32m----> 1\u001b[1;33m \u001b[0mA\u001b[0m \u001b[1;33m=\u001b[0m \u001b[0mnumpy\u001b[0m\u001b[1;33m.\u001b[0m\u001b[0marray\u001b[0m\u001b[1;33m(\u001b[0m\u001b[1;33m[\u001b[0m\u001b[1;33m[\u001b[0m\u001b[1;33m-\u001b[0m\u001b[0mb\u001b[0m\u001b[1;33m/\u001b[0m\u001b[0mm\u001b[0m\u001b[1;33m]\u001b[0m\u001b[1;33m]\u001b[0m\u001b[1;33m)\u001b[0m\u001b[1;33m\u001b[0m\u001b[0m\n\u001b[0m\u001b[0;32m      2\u001b[0m \u001b[0mB\u001b[0m \u001b[1;33m=\u001b[0m \u001b[0mnumpy\u001b[0m\u001b[1;33m.\u001b[0m\u001b[0marray\u001b[0m\u001b[1;33m(\u001b[0m\u001b[1;33m[\u001b[0m\u001b[1;33m[\u001b[0m\u001b[1;36m1\u001b[0m\u001b[1;33m/\u001b[0m\u001b[0mm\u001b[0m\u001b[1;33m]\u001b[0m\u001b[1;33m]\u001b[0m\u001b[1;33m)\u001b[0m\u001b[1;33m\u001b[0m\u001b[0m\n\u001b[0;32m      3\u001b[0m \u001b[0mC\u001b[0m \u001b[1;33m=\u001b[0m \u001b[0mnumpy\u001b[0m\u001b[1;33m.\u001b[0m\u001b[0marray\u001b[0m\u001b[1;33m(\u001b[0m\u001b[1;33m[\u001b[0m\u001b[1;33m[\u001b[0m\u001b[1;36m1\u001b[0m\u001b[1;33m]\u001b[0m\u001b[1;33m]\u001b[0m\u001b[1;33m)\u001b[0m\u001b[1;33m\u001b[0m\u001b[0m\n\u001b[0;32m      4\u001b[0m \u001b[0mD\u001b[0m \u001b[1;33m=\u001b[0m \u001b[0mnumpy\u001b[0m\u001b[1;33m.\u001b[0m\u001b[0marray\u001b[0m\u001b[1;33m(\u001b[0m\u001b[1;33m[\u001b[0m\u001b[1;33m[\u001b[0m\u001b[1;36m0\u001b[0m\u001b[1;33m]\u001b[0m\u001b[1;33m]\u001b[0m\u001b[1;33m)\u001b[0m\u001b[1;33m\u001b[0m\u001b[0m\n\u001b[0;32m      5\u001b[0m \u001b[0mx0\u001b[0m \u001b[1;33m=\u001b[0m \u001b[0mnumpy\u001b[0m\u001b[1;33m.\u001b[0m\u001b[0marray\u001b[0m\u001b[1;33m(\u001b[0m\u001b[1;33m[\u001b[0m\u001b[1;33m[\u001b[0m\u001b[1;36m0\u001b[0m\u001b[1;33m]\u001b[0m\u001b[1;33m]\u001b[0m\u001b[1;33m)\u001b[0m\u001b[1;33m\u001b[0m\u001b[0m\n",
      "\u001b[1;31mNameError\u001b[0m: name 'b' is not defined"
     ]
    }
   ],
   "source": [
    "A = numpy.array([[-b / m]])\n",
    "B = numpy.array([[1 / m]])\n",
    "C = numpy.array([[1]])\n",
    "D = numpy.array([[0]])\n",
    "x0 = numpy.array([[0]])\n",
    "# m = 1000;\n",
    "# b = 50;\n",
    "# t = 0:0.1:10;\n",
    "# u = 500*ones(size(t));\n",
    "# A = [-b/m];\n",
    "# B = [1/m];\n",
    "# C = [1];\n",
    "# D = [0];\n",
    "# sys = ss(A,B,C,D);\n",
    "# x0 = [0];\n",
    "# p1 = -1.5;\n",
    "# K = place(A,B,[p1])\n",
    "# sys_cl = ss(A-B*K,B,C,D);\n",
    "# lsim(sys_cl,u,t,x0);\n",
    "# axis([0 10 0 0.35])"
   ]
  },
  {
   "cell_type": "markdown",
   "metadata": {
    "slideshow": {
     "slide_type": "notes"
    }
   },
   "source": [
    "As you can see, the rise time is satisfactory, but the steady-state error is too large.\n",
    "\n",
    "## Reference input\n",
    "\n",
    "Once again from the [State-Space Tutorial](../Introduction/Introduction-ControlStateSpace.ipynb) page, a scaling factor called Nbar (the schematic is shown below) can be used to eliminate the steady-state error. We can use the [rscale](../Extras_rscale.ipynb) function to compute the scaling factor. Download it here, <Content/CruiseControl/Control/StateSpace/rscale.m rscale.m>. The input is already multiplied by 500, and we want the steady-state speed to be 10 m/sec, so we need to account for these factors as well.\n",
    "![statefeedback_w_pre_cruise.png](figures/statefeedback_w_pre_cruise.png)\n",
    "Copy the following commands to an m-file and run it in the MATLAB command window. You should get the step response shown below."
   ]
  },
  {
   "cell_type": "code",
   "execution_count": 3,
   "metadata": {
    "collapsed": true,
    "slideshow": {
     "slide_type": "notes"
    }
   },
   "outputs": [],
   "source": [
    "# Nbar = rscale(sys,K)*10/500;\n",
    "# sys_cl = ss(A-B*K,B*Nbar,C,D);\n",
    "# lsim(sys_cl,u,t,x0);\n",
    "# axis([0 10 0 11])"
   ]
  },
  {
   "cell_type": "code",
   "execution_count": 4,
   "metadata": {
    "collapsed": false,
    "exporter": {
     "cell_type": "toc"
    },
    "slideshow": {
     "slide_type": "skip"
    }
   },
   "outputs": [
    {
     "data": {
      "application/javascript": [
       "$.getScript('https://kmahelona.github.io/ipython_notebook_goodies/ipython_notebook_toc.js')"
      ],
      "text/plain": [
       "<IPython.core.display.Javascript object>"
      ]
     },
     "metadata": {},
     "output_type": "display_data"
    }
   ],
   "source": [
    "%%javascript\n",
    "$.getScript('https://kmahelona.github.io/ipython_notebook_goodies/ipython_notebook_toc.js')"
   ]
  }
 ],
 "metadata": {
  "celltoolbar": "Slideshow",
  "kernelspec": {
   "display_name": "Python 3",
   "language": "python",
   "name": "python3"
  },
  "language_info": {
   "codemirror_mode": {
    "name": "ipython",
    "version": 3
   },
   "file_extension": ".py",
   "mimetype": "text/x-python",
   "name": "python",
   "nbconvert_exporter": "python",
   "pygments_lexer": "ipython3",
   "version": "3.4.4"
  },
  "nikola": {
   "author": "d@h",
   "category": "CruiseControl",
   "date": "2016-02-16 08:00:00 UTC",
   "description": "Controls Tutorials for Python",
   "link": "",
   "slug": "cruisecontrol-controlstatespace",
   "tags": "ControlStateSpace",
   "title": "Cruise Control - Control State Space",
   "type": ""
  }
 },
 "nbformat": 4,
 "nbformat_minor": 0
}
