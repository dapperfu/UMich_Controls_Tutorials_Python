{
 "cells": [
  {
   "cell_type": "markdown",
   "metadata": {
    "slideshow": {
     "slide_type": "notes"
    }
   },
   "source": [
    "# Cruise Control: System Modeling\n",
    "\n",
    "\n",
    "\n",
    "## Physical setup\n",
    "\n",
    "Automatic **cruise control** is an excellent example of a feedback control system found in many modern vehicles. The purpose of the cruise control system is to maintain a constant vehicle speed despite external **disturbances**, such as changes in wind or road grade. This is accomplished by measuring the vehicle speed, comparing it to the desired or **reference** speed, and automatically adjusting the throttle according to a **control law**. \n",
    "\n",
    "![cruise_control_schematic.png](figures/cruise_control_schematic.png)\n",
    "\n",
    "We consider here a simple model of the vehicle dynamics, shown in the free-body diagram (FBD) above.  The vehicle, of mass m, is acted on by a control force, u. The force u represents the force generated at the road/tire interface. For this simplified model we will assume that we can control this force directly and will neglect the dynamics of the powertrain, tires, etc., that go into generating the force. The resistive forces, bv, due to rolling resistance and wind drag, are assumed to vary linearly with the vehicle velocity, v, and act in the direction opposite the vehicle's motion. \n",
    "\n",
    "# System equations\n",
    "\n",
    "With these assumptions we are left with a first order mass-damper system. Summing forces in the x-direction and applying Newton's 2nd law, we arrive at the following system equation: \n",
    "\n",
    "$$\n",
    " m \\dot{v} + b v = u \n",
    "$$\n",
    "\n",
    " Since we are interested in controlling the speed of the vehicle, the output equation is chosen as follows \n",
    "\n",
    "$$\n",
    " y = v \n",
    "$$"
   ]
  },
  {
   "cell_type": "markdown",
   "metadata": {
    "slideshow": {
     "slide_type": "notes"
    }
   },
   "source": [
    "## System parameters\n",
    "\n",
    "For this example, let's assume that the parameters of the system are: \n",
    "```\n",
    "(m)   vehicle mass          1000 kg\n",
    "\n",
    "(b)   damping coefficient   50 N.s/m\n",
    "```"
   ]
  },
  {
   "cell_type": "markdown",
   "metadata": {
    "slideshow": {
     "slide_type": "notes"
    }
   },
   "source": [
    "## State-space model\n",
    "\n",
    "First-order systems have only a single energy storage mode, in this case the kinetic energy of the car, and therefore only one state variable is needed, the velocity.  The state-space representation is therefore: \n",
    "\n",
    "$$\n",
    " \\dot{\\mathbf{x}}=[\\dot{v}]=\\left[\\frac{-b}{m}\\right][v]+\\left[\\frac{1}{m}\\right][u] \n",
    "$$\n",
    "\n",
    " \n",
    "\n",
    "$$\n",
    " y=[1][v] \n",
    "$$\n",
    "\n",
    " We enter this state-space model into MATLAB using the following commands:"
   ]
  },
  {
   "cell_type": "code",
   "execution_count": 1,
   "metadata": {
    "execution": {
     "iopub.execute_input": "2021-03-08T15:10:57.891427Z",
     "iopub.status.busy": "2021-03-08T15:10:57.890339Z",
     "iopub.status.idle": "2021-03-08T15:10:59.470704Z",
     "shell.execute_reply": "2021-03-08T15:10:59.471448Z"
    }
   },
   "outputs": [],
   "source": [
    "import control\n",
    "import matplotlib.pyplot as plt\n",
    "import numpy as np\n",
    "import seaborn as sns"
   ]
  },
  {
   "cell_type": "code",
   "execution_count": 2,
   "metadata": {
    "execution": {
     "iopub.execute_input": "2021-03-08T15:10:59.478123Z",
     "iopub.status.busy": "2021-03-08T15:10:59.477171Z",
     "iopub.status.idle": "2021-03-08T15:10:59.480184Z",
     "shell.execute_reply": "2021-03-08T15:10:59.479306Z"
    },
    "slideshow": {
     "slide_type": "notes"
    }
   },
   "outputs": [],
   "source": [
    "m = 1000\n",
    "b = 50\n",
    "A = -b / m\n",
    "B = 1 / m\n",
    "C = 1\n",
    "D = 0\n",
    "cruise_ss = control.StateSpace(A, B, C, D)"
   ]
  },
  {
   "cell_type": "markdown",
   "metadata": {
    "slideshow": {
     "slide_type": "notes"
    }
   },
   "source": [
    "# Transfer function model\n",
    "\n",
    "Taking the Laplace transform of the governing differential equation and assuming zero initial conditions, we find the transfer function of the cruise control system to be: \n",
    "\n",
    "$$\n",
    " P(s) = \\frac{V(s)}{U(s)} = \\frac{1}{ms+b}  \\qquad  [ \\frac{m/s}{N} ] \n",
    "$$"
   ]
  },
  {
   "cell_type": "code",
   "execution_count": 3,
   "metadata": {
    "execution": {
     "iopub.execute_input": "2021-03-08T15:10:59.490485Z",
     "iopub.status.busy": "2021-03-08T15:10:59.489534Z",
     "iopub.status.idle": "2021-03-08T15:10:59.493110Z",
     "shell.execute_reply": "2021-03-08T15:10:59.493865Z"
    }
   },
   "outputs": [
    {
     "data": {
      "text/latex": [
       "$$\\frac{1}{1000 s + 50}$$"
      ],
      "text/plain": [
       "TransferFunction(array([1]), array([1000,   50]))"
      ]
     },
     "execution_count": 1,
     "metadata": {},
     "output_type": "execute_result"
    }
   ],
   "source": [
    "s = control.TransferFunction.s\n",
    "P_cruise = 1 / (m * s + b)\n",
    "P_cruise"
   ]
  }
 ],
 "metadata": {
  "kernelspec": {
   "display_name": "Python 3",
   "language": "python",
   "name": "python3"
  },
  "language_info": {
   "codemirror_mode": {
    "name": "ipython",
    "version": 3
   },
   "file_extension": ".py",
   "mimetype": "text/x-python",
   "name": "python",
   "nbconvert_exporter": "python",
   "pygments_lexer": "ipython3",
   "version": "3.8.5"
  }
 },
 "nbformat": 4,
 "nbformat_minor": 4
}
