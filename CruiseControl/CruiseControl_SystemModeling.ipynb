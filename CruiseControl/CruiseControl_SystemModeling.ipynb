{
 "cells": [
  {
   "cell_type": "code",
   "execution_count": 1,
   "metadata": {
    "exporter": {
     "cell_type": "init"
    },
    "slideshow": {
     "slide_type": "skip"
    }
   },
   "outputs": [
    {
     "name": "stdout",
     "output_type": "stream",
     "text": [
      "Using matplotlib backend: TkAgg\n",
      "Populating the interactive namespace from numpy and matplotlib\n"
     ]
    }
   ],
   "source": [
    "%pylab \n",
    "%matplotlib inline\n",
    "import sympy\n",
    "from control.matlab import *\n",
    "from sympy import Poly\n",
    "from sympy.abc import s, z\n",
    "from IPython.display import display,Latex"
   ]
  },
  {
   "cell_type": "markdown",
   "metadata": {
    "exporter": {
     "cell_type": "toc"
    },
    "slideshow": {
     "slide_type": "skip"
    }
   },
   "source": [
    "<div id=\"toc\"></div>"
   ]
  },
  {
   "cell_type": "markdown",
   "metadata": {
    "slideshow": {
     "slide_type": "notes"
    }
   },
   "source": [
    "# Cruise Control: System Modeling\n",
    "\n",
    "\n",
    "\n",
    "## Physical setup\n",
    "\n",
    "Automatic **cruise control** is an excellent example of a feedback control system found in many modern vehicles. The purpose of the cruise control system is to maintain a constant vehicle speed despite external **disturbances**, such as changes in wind or road grade. This is accomplished by measuring the vehicle speed, comparing it to the desired or **reference** speed, and automatically adjusting the throttle according to a **control law**.\n",
    "![cruise_control_schematic.png](figures/cruise_control_schematic.png)\n",
    "We consider here a simple model of the vehicle dynamics, shown in the free-body diagram (FBD) above.  The vehicle, of mass m, is acted on by a control force, u. The force u represents the force generated at the road/tire interface. For this simplified model we will assume that we can control this force directly and will neglect the dynamics of the powertrain, tires, etc., that go into generating the force. The resistive forces, bv, due to rolling resistance and wind drag, are assumed to vary linearly with the vehicle velocity, v, and act in the direction opposite the vehicle's motion.\n",
    "\n",
    "## System equations\n",
    "\n",
    "With these assumptions we are left with a < ?example=Introduction&section=SystemAnalysis#8 first-order> mass-damper system. Summing forces in the x-direction and applying Newton's 2nd law, we arrive at the following system equation:\n",
    "\n",
    "$$\n",
    "m \\dot{v} + b v = u\n",
    "$$\n",
    "\n",
    "Since we are interested in controlling the speed of the vehicle, the output equation is chosen as follows\n",
    "\n",
    "$$\n",
    "y = v\n",
    "$$\n",
    "\n",
    "\n",
    "\n",
    "## System parameters\n",
    "\n",
    "For this example, let's assume that the parameters of the system are: (m)   vehicle mass          1000 kg (b)   damping coefficient   50 N.s/m\n",
    "\n",
    "## State-space model\n",
    "\n",
    "First-order systems have only has a single energy storage mode, in this case the kinetic energy of the car, and therefore only one state variable is needed, the velocity.  The state-space representation is therefore:\n",
    "\n",
    "$$\n",
    "\\dot{\\mathbf{x}}=[\\dot{v}]=\\left[\\frac{-b}{m}\\right][v]+\\left[\\frac{1}{m}\\right][u]\n",
    "$$\n",
    "\n",
    "\n",
    "\n",
    "$$\n",
    "y=[1][v]\n",
    "$$\n",
    "\n",
    "We enter this state-space model into MATLAB using the following commands:"
   ]
  },
  {
   "cell_type": "code",
   "execution_count": 2,
   "metadata": {
    "slideshow": {
     "slide_type": "notes"
    }
   },
   "outputs": [],
   "source": [
    "# m = 1000;\n",
    "# b = 50;\n",
    "# A = -b/m;\n",
    "# B = 1/m;\n",
    "# C = 1;\n",
    "# D = 0;\n",
    "# cruise_ss = ss(A,B,C,D);"
   ]
  },
  {
   "cell_type": "markdown",
   "metadata": {
    "slideshow": {
     "slide_type": "notes"
    }
   },
   "source": [
    "## Transfer function model\n",
    "\n",
    "Taking the Laplace transform of the governing differential equation and assuming zero initial conditions, we find the transfer function of the cruise control system to be:\n",
    "\n",
    "$$\n",
    "P(s) = \\frac{V(s)}{U(s)} = \\frac{1}{ms+b}  \\qquad  [ \\frac{m/s}{N} ]\n",
    "$$\n",
    "\n",
    "We enter the transfer function model into MATLAB using the following commands:"
   ]
  },
  {
   "cell_type": "code",
   "execution_count": 3,
   "metadata": {
    "exporter": {
     "cell_type": "toc"
    },
    "slideshow": {
     "slide_type": "skip"
    }
   },
   "outputs": [
    {
     "data": {
      "application/javascript": [
       "$.getScript('https://kmahelona.github.io/ipython_notebook_goodies/ipython_notebook_toc.js')"
      ],
      "text/plain": [
       "<IPython.core.display.Javascript object>"
      ]
     },
     "metadata": {},
     "output_type": "display_data"
    }
   ],
   "source": [
    "%%javascript\n",
    "$.getScript('https://kmahelona.github.io/ipython_notebook_goodies/ipython_notebook_toc.js')"
   ]
  }
 ],
 "metadata": {
  "celltoolbar": "Slideshow",
  "nikola": {
   "author": "d@h",
   "category": "CruiseControl",
   "date": "2016-02-16 08:00:00 UTC",
   "description": "Controls Tutorials for Python",
   "link": "",
   "slug": "cruisecontrol-systemmodeling",
   "tags": "SystemModeling",
   "title": "Cruise Control - System Modeling",
   "type": ""
  }
 },
 "nbformat": 4,
 "nbformat_minor": 0
}
