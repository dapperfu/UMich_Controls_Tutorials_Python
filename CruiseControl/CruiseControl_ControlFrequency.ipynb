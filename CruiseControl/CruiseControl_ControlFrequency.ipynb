{
 "cells": [
  {
   "cell_type": "code",
   "execution_count": null,
   "metadata": {},
   "outputs": [],
   "source": [
    "import sympy\n",
    "from IPython.display import Latex, display\n",
    "from sympy import Poly\n",
    "from sympy.abc import s, z\n",
    "\n",
    "from control.matlab import *"
   ]
  },
  {
   "cell_type": "code",
   "execution_count": 1,
   "metadata": {
    "exporter": {
     "cell_type": "init"
    },
    "slideshow": {
     "slide_type": "skip"
    }
   },
   "outputs": [
    {
     "name": "stdout",
     "output_type": "stream",
     "text": [
      "Using matplotlib backend: TkAgg\n",
      "Populating the interactive namespace from numpy and matplotlib\n"
     ]
    }
   ],
   "source": [
    "%pylab %matplotlib inline"
   ]
  },
  {
   "cell_type": "markdown",
   "metadata": {
    "exporter": {
     "cell_type": "toc"
    },
    "slideshow": {
     "slide_type": "skip"
    }
   },
   "source": [
    "<div id=\"toc\"></div>"
   ]
  },
  {
   "cell_type": "markdown",
   "metadata": {
    "slideshow": {
     "slide_type": "notes"
    }
   },
   "source": [
    "# Cruise Control: Frequency Domain Methods for Controller Design\n",
    "\n",
    "\n",
    "\n",
    "## System model\n",
    "\n",
    "The transfer function model for the cruise control problem is given below.  Please see the [Cruise Control: System Modeling](../CruiseControl/CruiseControl-SystemModeling.ipynb) page for the derivation.\n",
    "\n",
    "$$\n",
    "P(s) = \\frac{V(s)}{U(s)} = \\frac{1}{ms+b} \\qquad  [ \\frac{m/s}{N} ]\n",
    "$$\n",
    "\n",
    "\n",
    "\n",
    "## System parameters\n",
    "\n",
    "For this example, let's assume that the parameters of the system are (m)   vehicle mass            1000 kg (b)   damping coefficient     50 N.s/m (r)   reference speed         10 m/s (u)   nominal control force   500 N and the block diagram of an typical unity feedback system is shown below.\n",
    "![feedback_cruise.png](figures/feedback_cruise.png)\n",
    "\n",
    "\n",
    "## Performance specifications\n",
    "\n",
    "\n",
    "* Rise time < 5 sec\n",
    "* Overshoot < 10\n",
    "* Steady-state error < 2\n",
    "\n",
    "## Bode plot and open-loop response\n",
    "\n",
    "The first step in solving this problem using frequency response is to determine what open-loop transfer function to use. Just like for the Root-Locus design method, we will only use a proportional controller to solve the problem. The block diagram and the open-loop transfer function are shown below.\n",
    "![openloop_cruise.png](figures/openloop_cruise.png)\n",
    "\n",
    "\n",
    "$$\n",
    "\\frac{Y(s)}{E(s)} = \\frac{K_p}{m s + b} \\\n",
    "$$\n",
    "\n",
    "In order to use a Bode plot, the open-loop response must be stable. Let Kp equal 1 for now and see how the open-loop response looks like. Create a new [m-file](../Extras_Mfile.ipynb) and enter the following commands."
   ]
  },
  {
   "cell_type": "code",
   "execution_count": 2,
   "metadata": {
    "slideshow": {
     "slide_type": "notes"
    }
   },
   "outputs": [],
   "source": [
    "# m = 1000;\n",
    "# b = 50;\n",
    "# u = 500;\n",
    "# Kp = 1;\n",
    "# s = tf('s');\n",
    "# P_cruise = 1/(m*s+b);\n",
    "# C = Kp;\n",
    "# step(u*C*P_cruise)\n"
   ]
  },
  {
   "cell_type": "markdown",
   "metadata": {
    "slideshow": {
     "slide_type": "notes"
    }
   },
   "source": [
    "As you can see, the open-loop system is stable; thus, we can go ahead and generate the Bode plot. Change the above m-file by deleting the |step| command and adding in the following command."
   ]
  },
  {
   "cell_type": "code",
   "execution_count": 3,
   "metadata": {
    "slideshow": {
     "slide_type": "notes"
    }
   },
   "outputs": [],
   "source": [
    "# bode(C*P_cruise);\n"
   ]
  },
  {
   "cell_type": "markdown",
   "metadata": {
    "slideshow": {
     "slide_type": "notes"
    }
   },
   "source": [
    "## Proportional controller\n",
    "\n",
    "Refer to the [Introduction: Frequency Domain Methods for Controller Design](../Introduction/Introduction-ControlFrequency.ipynb) page, and let's see what system characteristics we can determine from the above Bode plot. The steady-state error can be found from the following equation:\n",
    "\n",
    "$$\n",
    "\\mathrm{ss \\ error} = \\frac{1}{1+M_{\\omega \\rightarrow 0}} \\cdot 100\\% \\\n",
    "$$\n",
    "\n",
    "For this system, the low frequency gain is -34dB = 0.02; therefore, the steady-state error should be 98%. We can confirm this by generating a closed-loop step response as follows."
   ]
  },
  {
   "cell_type": "code",
   "execution_count": 4,
   "metadata": {
    "slideshow": {
     "slide_type": "notes"
    }
   },
   "outputs": [],
   "source": [
    "# r = 10;\n",
    "# sys_cl = feedback(C*P_cruise,1);\n",
    "# step(r*sys_cl);\n"
   ]
  },
  {
   "cell_type": "markdown",
   "metadata": {
    "slideshow": {
     "slide_type": "notes"
    }
   },
   "source": [
    "We need to increase the low frequency gain in order to improve the steady-state error. Specifically, the error needs to be < 2%; therefore, 1/(1+M_{w=0}) < 0.02 -> M_{w=0} > 49 = 33.8 dB. So to reach the desired steady-state error using proportional control only requires a Kp > 67.8 dB = 2455. Let's look at the Bode diagram of the compensated open-loop system."
   ]
  },
  {
   "cell_type": "code",
   "execution_count": 5,
   "metadata": {
    "slideshow": {
     "slide_type": "notes"
    }
   },
   "outputs": [],
   "source": [
    "# Kp = 2500;\n",
    "# C = Kp;\n",
    "# bode(C*P_cruise);\n"
   ]
  },
  {
   "cell_type": "markdown",
   "metadata": {
    "slideshow": {
     "slide_type": "notes"
    }
   },
   "source": [
    "As you can see from the Bode plot above, the low frequency magnitude is now, 34 dB. Now let's simulate the step response of the closed loop system with this gain."
   ]
  },
  {
   "cell_type": "code",
   "execution_count": 6,
   "metadata": {
    "slideshow": {
     "slide_type": "notes"
    }
   },
   "outputs": [],
   "source": [
    "# sys_cl = feedback(C*P_cruise,1);\n",
    "# step(r*sys_cl);\n"
   ]
  },
  {
   "cell_type": "markdown",
   "metadata": {
    "slideshow": {
     "slide_type": "notes"
    }
   },
   "source": [
    "The steady-state error meets the requirements; however, the rise time is much shorter than is needed and is unreasonable in this case since the car can not accelerate to 10 m/s in 2 sec. Therefore, we will try using a smaller proportional gain to reduce the control action required along with a lag compensator to reduce the steady-state error.\n",
    "\n",
    "## Lag compensator\n",
    "\n",
    "If you take a look at the \"Lag or Phase-Lag Compensator using Frequency Response\" section of the [Design](../Extras_Leadlag Lead and Lag Compensator.ipynb) page, the lag compensator adds gain at the low frequencies while keeping the bandwidth frequency at the same place. This is actually what we need: Larger low frequency gain to reduce the steady-state error and keep the same bandwidth frequency to maintain the desired rise time. The transfer function of the lag controller is:\n",
    "\n",
    "$$\n",
    "C(s) = \\frac{s+z_0}{s+p_0} \\\n",
    "$$\n",
    "\n",
    "If you read the \"Lag or Phase-Lag Compensator using Root-Locus\" section in [Design](../Extras_Leadlag Lead and Lag Compensator.ipynb) page, the pole and the zero of a lag controller need to be placed close together. Also, it states that the steady-state error will be reduce by a factor of zo/po. For these reasons, let zo equal 0.1 and po equal 0.02.  The proportional gain, Kp = 1000 was chosen by trial-and-error."
   ]
  },
  {
   "cell_type": "code",
   "execution_count": 7,
   "metadata": {
    "slideshow": {
     "slide_type": "notes"
    }
   },
   "outputs": [],
   "source": [
    "# Kp = 1000;\n",
    "# zo = 0.1;\n",
    "# po = 0.02;\n",
    "# C_lag = (s+zo)/(s+po);\n",
    "# bode(Kp*C_lag*P_cruise);\n"
   ]
  },
  {
   "cell_type": "markdown",
   "metadata": {
    "slideshow": {
     "slide_type": "notes"
    }
   },
   "source": [
    "Let's confirm the performance by generating a closed-loop step response."
   ]
  },
  {
   "cell_type": "code",
   "execution_count": 8,
   "metadata": {
    "slideshow": {
     "slide_type": "notes"
    }
   },
   "outputs": [],
   "source": [
    "# sys_cl = feedback(Kp*C_lag*P_cruise,1);\n",
    "# t = 0:0.1:20;\n",
    "# step(r*sys_cl,t);\n"
   ]
  },
  {
   "cell_type": "code",
   "execution_count": 9,
   "metadata": {
    "exporter": {
     "cell_type": "toc"
    },
    "slideshow": {
     "slide_type": "skip"
    }
   },
   "outputs": [
    {
     "data": {
      "application/javascript": [
       "$.getScript('https://kmahelona.github.io/ipython_notebook_goodies/ipython_notebook_toc.js')"
      ],
      "text/plain": [
       "<IPython.core.display.Javascript object>"
      ]
     },
     "metadata": {},
     "output_type": "display_data"
    }
   ],
   "source": [
    "%%javascript\n",
    "$.getScript('https://kmahelona.github.io/ipython_notebook_goodies/ipython_notebook_toc.js')"
   ]
  }
 ],
 "metadata": {
  "celltoolbar": "Slideshow",
  "nikola": {
   "author": "d@h",
   "category": "CruiseControl",
   "date": "2016-02-16 08:00:00 UTC",
   "description": "Controls Tutorials for Python",
   "link": "",
   "slug": "cruisecontrol-controlfrequency",
   "tags": "ControlFrequency",
   "title": "Cruise Control - Control Frequency",
   "type": ""
  }
 },
 "nbformat": 4,
 "nbformat_minor": 0
}
