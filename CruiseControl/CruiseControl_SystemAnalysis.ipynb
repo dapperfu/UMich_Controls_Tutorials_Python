{
 "cells": [
  {
   "cell_type": "markdown",
   "metadata": {
    "slideshow": {
     "slide_type": "notes"
    }
   },
   "source": [
    "# Cruise Control: System Analysis\n",
    "\n",
    "\n",
    "\n",
    "## System model and parameters\n",
    "\n",
    "The transfer function model for the cruise control problem is given below.  Please see the [Cruise Control: System Modeling](../CruiseControl/CruiseControl-SystemModeling.ipynb) page for the derivation. \n",
    "\n",
    "$$\n",
    " P(s) = \\frac{V(s)}{U(s)} = \\frac{1}{ms+b}  \\qquad  [ \\frac{m/s}{N} ] \n",
    "$$\n",
    "\n",
    "The parameters used in this example are as follows:\n",
    "\n",
    "```\n",
    "(m)   vehicle mass            1000 kg\n",
    "(b)   damping coefficient     50 N.s/m\n",
    "(u)   nominal control force   500 N\n",
    "```\n",
    "\n",
    "\n",
    "## Performance specifications\n",
    "\n",
    "The next step is to come up with some **design criteria** that the compensated system should achieve. When the engine gives a 500 Newton force, the car will reach a maximum velocity of 10 m/s (22 mph), see open-loop step response section below. An automobile should be able to accelerate up to that speed in less than 5 seconds. In this application, a 10% overshoot and 2% steady-state error on the velocity are sufficient. Keeping the above in mind, we have proposed the following design criteria for this problem: \n",
    "\n",
    "- Rise time < 5 s \n",
    "- Overshoot < 10 \n",
    "- Steady-state error < 2 \n",
    "\n",
    "## Open-loop step response\n",
    "\n",
    "The **open-loop** response of the system, without any feedback control, to a step input force of 500 Newtons is simulated in Python as follows:"
   ]
  },
  {
   "cell_type": "code",
   "execution_count": 1,
   "metadata": {
    "execution": {
     "iopub.execute_input": "2021-03-08T15:10:57.870882Z",
     "iopub.status.busy": "2021-03-08T15:10:57.869747Z",
     "iopub.status.idle": "2021-03-08T15:10:59.212067Z",
     "shell.execute_reply": "2021-03-08T15:10:59.212564Z"
    }
   },
   "outputs": [],
   "source": [
    "import control\n",
    "import matplotlib.pyplot as plt\n",
    "import numpy as np\n",
    "import seaborn as sns"
   ]
  },
  {
   "cell_type": "code",
   "execution_count": 2,
   "metadata": {
    "execution": {
     "iopub.execute_input": "2021-03-08T15:10:59.225175Z",
     "iopub.status.busy": "2021-03-08T15:10:59.218994Z",
     "iopub.status.idle": "2021-03-08T15:10:59.228549Z",
     "shell.execute_reply": "2021-03-08T15:10:59.229015Z"
    },
    "slideshow": {
     "slide_type": "notes"
    }
   },
   "outputs": [
    {
     "data": {
      "text/latex": [
       "$$\\frac{1}{1000 s + 50}$$"
      ],
      "text/plain": [
       "TransferFunction(array([1]), array([1000,   50]))"
      ]
     },
     "execution_count": 1,
     "metadata": {},
     "output_type": "execute_result"
    }
   ],
   "source": [
    "m = 1000\n",
    "b = 50\n",
    "u = 500\n",
    "s = control.TransferFunction.s\n",
    "P_cruise = 1 / (m * s + b)\n",
    "P_cruise"
   ]
  },
  {
   "cell_type": "code",
   "execution_count": 3,
   "metadata": {
    "execution": {
     "iopub.execute_input": "2021-03-08T15:10:59.237396Z",
     "iopub.status.busy": "2021-03-08T15:10:59.236758Z",
     "iopub.status.idle": "2021-03-08T15:10:59.605103Z",
     "shell.execute_reply": "2021-03-08T15:10:59.605802Z"
    }
   },
   "outputs": [
    {
     "data": {
      "image/png": "[encoded data removed]",
      "text/plain": [
       "<Figure size 432x288 with 1 Axes>"
      ]
     },
     "metadata": {
      "needs_background": "light"
     },
     "output_type": "display_data"
    }
   ],
   "source": [
    "T, yout = control.step_response(sys=u * P_cruise)\n",
    "plt.plot(T, yout)\n",
    "plt.xlabel(\"Time (s)\")\n",
    "plt.ylabel(\"Response (m/s)\")\n",
    "plt.title(\"Step Response\")\n",
    "plt.grid(\"on\")"
   ]
  },
  {
   "cell_type": "markdown",
   "metadata": {
    "slideshow": {
     "slide_type": "notes"
    }
   },
   "source": [
    "We see that the open-loop system exhibits no overshoot or oscillations (characteristic of first-order systems), and does reach the desired steady-state speed of 10 m/s; however, the rise time is much too slow, ~60 s.  Therefore we need to design a feedback controller which speeds up the response significantly without negatively affecting the other dynamic performance metrics. \n",
    "\n",
    "## Open-loop poles/zeros\n",
    "\n",
    "The cruise control system has a single pole at s = -b/m which we can see plotted on the s-plane using the following MATLAB commands:"
   ]
  },
  {
   "cell_type": "code",
   "execution_count": 4,
   "metadata": {
    "execution": {
     "iopub.execute_input": "2021-03-08T15:10:59.648866Z",
     "iopub.status.busy": "2021-03-08T15:10:59.637262Z",
     "iopub.status.idle": "2021-03-08T15:10:59.876814Z",
     "shell.execute_reply": "2021-03-08T15:10:59.878049Z"
    }
   },
   "outputs": [
    {
     "data": {
      "text/plain": [
       "(-1.0, 1.0, -1.0, 1.0)"
      ]
     },
     "execution_count": 1,
     "metadata": {},
     "output_type": "execute_result"
    },
    {
     "data": {
      "image/png": "[encoded data removed]",
      "text/plain": [
       "<Figure size 432x288 with 1 Axes>"
      ]
     },
     "metadata": {
      "needs_background": "light"
     },
     "output_type": "display_data"
    }
   ],
   "source": [
    "poles, _ = control.pzmap(P_cruise, grid=False)\n",
    "poles\n",
    "plt.axis([-1, 1, -1, 1])"
   ]
  },
  {
   "cell_type": "markdown",
   "metadata": {
    "slideshow": {
     "slide_type": "notes"
    }
   },
   "source": [
    "We observe that the **open-loop** system is stable and does not oscillate since the pole is real and negative.  Furthermore, the speed of response is determined by the magnitude of this pole, |b/m|: the larger the magnitude, the quicker the system approaches the steady-state value. Since we're typically not able to change the system parameters to change the dynamic response of the system, we must instead design controllers which alter the poles and zeros of the **closed-loop** system to meet the desired performance specifications. \n",
    "\n",
    "## Open-loop Bode plot\n",
    "\n",
    "We are also interested in the open-loop frequency response of the system which we find using the following command:"
   ]
  },
  {
   "cell_type": "code",
   "execution_count": 5,
   "metadata": {
    "execution": {
     "iopub.execute_input": "2021-03-08T15:10:59.914105Z",
     "iopub.status.busy": "2021-03-08T15:10:59.913160Z",
     "iopub.status.idle": "2021-03-08T15:11:01.641789Z",
     "shell.execute_reply": "2021-03-08T15:11:01.641266Z"
    }
   },
   "outputs": [
    {
     "data": {
      "image/png": "[encoded data removed]",
      "text/plain": [
       "<Figure size 432x288 with 2 Axes>"
      ]
     },
     "metadata": {
      "needs_background": "light"
     },
     "output_type": "display_data"
    }
   ],
   "source": [
    "mag, phase, omega = control.bode(P_cruise, plot=True, dB=True)"
   ]
  },
  {
   "cell_type": "markdown",
   "metadata": {},
   "source": [
    "We see that the Bode plots exhibit the definitive features of [first-order systems](https://nbviewer.jupyter.org/github/dapperfu/UMich_Controls_Tutorials_Python/blob/main/Introduction/Introduction_SystemAnalysis.ipynb#First-Order-Systems), including a -3 dB magnitude and -45 deg phase at the corner frequency of w = b/m = 0.05 rad/s and -20 dB/dec roll-off at high frequencies. "
   ]
  }
 ],
 "metadata": {
  "kernelspec": {
   "display_name": "Python 3",
   "language": "python",
   "name": "python3"
  },
  "language_info": {
   "codemirror_mode": {
    "name": "ipython",
    "version": 3
   },
   "file_extension": ".py",
   "mimetype": "text/x-python",
   "name": "python",
   "nbconvert_exporter": "python",
   "pygments_lexer": "ipython3",
   "version": "3.8.5"
  }
 },
 "nbformat": 4,
 "nbformat_minor": 4
}
