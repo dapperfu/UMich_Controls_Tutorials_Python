{
 "cells": [
  {
   "cell_type": "code",
   "execution_count": null,
   "metadata": {},
   "outputs": [],
   "source": [
    "import sympy\n",
    "from control.matlab import *\n",
    "from IPython.display import Latex, display\n",
    "from sympy import Poly\n",
    "from sympy.abc import s, z"
   ]
  },
  {
   "cell_type": "code",
   "execution_count": 1,
   "metadata": {
    "exporter": {
     "cell_type": "init"
    },
    "slideshow": {
     "slide_type": "skip"
    }
   },
   "outputs": [
    {
     "name": "stdout",
     "output_type": "stream",
     "text": [
      "Using matplotlib backend: TkAgg\n",
      "Populating the interactive namespace from numpy and matplotlib\n"
     ]
    }
   ],
   "source": [
    "%pylab %matplotlib inline"
   ]
  },
  {
   "cell_type": "markdown",
   "metadata": {
    "exporter": {
     "cell_type": "toc"
    },
    "slideshow": {
     "slide_type": "skip"
    }
   },
   "source": [
    "<div id=\"toc\"></div>"
   ]
  },
  {
   "cell_type": "markdown",
   "metadata": {
    "slideshow": {
     "slide_type": "notes"
    }
   },
   "source": [
    "# Cruise Control: Root Locus Controller Design\n",
    "\n",
    "\n",
    "\n",
    "## System model\n",
    "\n",
    "The transfer function model for the cruise control problem is given below.  Please see the [Cruise Control: System Modeling](../CruiseControl/CruiseControl-SystemModeling.ipynb) page for the derivation.\n",
    "\n",
    "$$\n",
    "P(s) = \\frac{V(s)}{U(s)} = \\frac{1}{ms+b} \\qquad  [ \\frac{m/s}{N} ]\n",
    "$$\n",
    "\n",
    "\n",
    "\n",
    "## System parameters\n",
    "\n",
    "For this example, let's assume that the parameters of the system are (m)   vehicle mass            1000 kg (b)   damping coefficient     50 N.s/m (r)   reference speed         10 m/s and the block diagram of a typical unity feedback system is shown below.\n",
    "![feedback_cruise.png](figures/feedback_cruise.png)\n",
    "\n",
    "\n",
    "## Performance specifications\n",
    "\n",
    "\n",
    "* Rise time < 5 sec\n",
    "* Overshoot < 10\n",
    "* Steady-state error < 2\n",
    "\n",
    "## Proportional control\n",
    "\n",
    "Recall from the [Introduction: Root Locus Controller Design](../Introduction/Introduction-ControlRootLocus.ipynb) page, the root-locus plot shows the locations of all possible closed-loop poles when a single gain is varied from zero to infinity. Thus, only a proportional controller, K_P, will be considered to solve this problem. The closed-loop transfer function becomes:\n",
    "\n",
    "$$\n",
    "\\frac{Y(s)}{R(s)}=\\frac{K_p}{m s+(b+K_p)} \\\n",
    "$$\n",
    "\n",
    "Also, from the [Introduction: Root Locus Controller Design](../Introduction/Introduction-ControlRootLocus.ipynb) page, we know that the MATLAB command |sgrid| can be used to display an acceptable region of the root-locus plot. To use the |sgrid|, both the damping ratio, zeta, and the natural frequency, Wn, need to be determined first. The following two equations will be used to find the damping ratio and the natural frequency:\n",
    "\n",
    "$$\n",
    "\\omega_n \\geq \\frac{1.8}{Tr} \\\n",
    "$$\n",
    "\n",
    "\n",
    "\n",
    "$$\n",
    "\\zeta \\geq \\sqrt{\\frac{\\ln^2{(Mp)}}{\\pi^2+\\ln^2{(Mp)}}} \\\n",
    "$$\n",
    "\n",
    "where\n",
    "* wn = Natural Frequency [rad\\s]\n",
    "* zeta = Damping Ratio\n",
    "* Tr = Rise time [s]\n",
    "* Mp = Maximum Overshoot One of our design criteria is to have a rise time of less than 5 seconds. From the first equation, we see that the natural frequency must be greater than 0.36. Also using the second equation, we see that the damping ratio must be greater than 0.6, since the maximum overshoot must be less than 10%. Now, we are ready to generate a root-locus plot and use the |sgrid| to find an acceptable region on the root-locus. Create a new [m-file](../Extras_Mfile.ipynb) and enter the following commands."
   ]
  },
  {
   "cell_type": "code",
   "execution_count": 2,
   "metadata": {
    "slideshow": {
     "slide_type": "notes"
    }
   },
   "outputs": [],
   "source": [
    "# m = 1000;\n",
    "# b = 50;\n",
    "# r = 10;\n",
    "# s = tf('s');\n",
    "# P_cruise = 1/(m*s+b);\n",
    "# rlocus(P_cruise)\n",
    "# axis([-0.6 0 -0.6 0.6]);\n",
    "# sgrid(0.6, 0.36)"
   ]
  },
  {
   "cell_type": "markdown",
   "metadata": {
    "slideshow": {
     "slide_type": "notes"
    }
   },
   "source": [
    "The two dotted lines in an angle indicate the locations of constant damping ratio (zeta=0.6); the damping ratio is greater than 0.6 in between these lines and less than 0.6 outside the lines. The semi-ellipse indicates the locations of constant natural frequency (Wn=0.36); the natural frequency is greater than 0.36 outside the semi-ellipse, and smaller than 0.36 inside. We can then find a gain to place the closed-loop poles in the desired region by employing the |rlocfind| command. Add the code |[Kp,poles]=rlocfind(P_cruise)| onto the end of your m-file to help you choose a specific loop gain. After running in the command window, you should see a prompt asking you to pick a point on the root-locus plot. Since you want to pick a point in between dotted lines (zeta>0.6) and outside the semi-ellipse (Wn>0.36), click on the real axis just outside the semi-ellipse (around -0.4) as indicated by the cross mark in the following figure.\n",
    "![rlocus_cruise.png](figures/rlocus_cruise.png)\n",
    "After doing this, you should see the following output in the MATLAB command window. <html> </p><pre class=\"codeoutput\">Select a point in the graphics window </p> selected_point = </p> -0.4002 + 0.0019i </p> Kp = </p> 350.2419 </p> poles = </p> -0.4002 </pre> </html> Note that the value returned from your MATLAB command window may not be exactly the same, but should at least have the same order of magnitude. This returned value can be used as the gain for the compensator and the closed-loop step response can be generated as follows."
   ]
  },
  {
   "cell_type": "code",
   "execution_count": 3,
   "metadata": {
    "slideshow": {
     "slide_type": "notes"
    }
   },
   "outputs": [],
   "source": [
    "# Kp = 350.2419;\n",
    "# sys_cl = feedback(Kp*P_cruise,1);\n",
    "# t = 0:0.1:20;\n",
    "# step(r*sys_cl,t)"
   ]
  },
  {
   "cell_type": "markdown",
   "metadata": {
    "slideshow": {
     "slide_type": "notes"
    }
   },
   "source": [
    "With the gain Kp you just chose, the rise time and the overshoot criteria have been met; however, a steady-state error of more than 10% remains.\n",
    "\n",
    "## Lag controller\n",
    "\n",
    "To reduce the steady-state error, a lag controller will be added to the system. The transfer function of the lag controller is:\n",
    "\n",
    "$$\n",
    "C(s) = \\frac{s+z_0}{s+p_0} \\\n",
    "$$\n",
    "\n",
    "The closed-loop transfer function (not including Kp) now becomes:\n",
    "\n",
    "$$\n",
    "\\frac{Y(s)}{R(s)} = \\frac{s+z_0}{m s^2 + (b+m p_0)s + b p_0} \\\n",
    "$$\n",
    "\n",
    "Finally, including the loop gain Kp, the closed-loop transfer function becomes:\n",
    "\n",
    "$$\n",
    "\\frac{Y(s)}{U(s)} = \\frac{K_p s + K_p z_0}{m s^2 + (b+m p_0+K_p)s + (b p_0+K_p z_0)} \\\n",
    "$$\n",
    "\n",
    "If you read the \"Lag or Phase-Lag Compensator using Root-Locus\" section in the [Design](../Extras_Leadlag Lead and Lag Compensator.ipynb) page, the pole and the zero of a lag controller need to be placed close together. Also, it states that the steady-state error will be reduced by a factor of zo/po. For these reasons, let zo equal 0.3 and po equal 0.03. Create a new m-file, and enter the following commands."
   ]
  },
  {
   "cell_type": "code",
   "execution_count": 4,
   "metadata": {
    "slideshow": {
     "slide_type": "notes"
    }
   },
   "outputs": [],
   "source": [
    "# zo = 0.3;\n",
    "# po = 0.03;\n",
    "# s = tf('s');\n",
    "# C_lag = (s+zo)/(s+po);\n",
    "# rlocus(C_lag*P_cruise);\n",
    "# axis([-0.6 0 -0.4 0.4])\n",
    "# sgrid(0.6,0.36);"
   ]
  },
  {
   "cell_type": "markdown",
   "metadata": {
    "slideshow": {
     "slide_type": "notes"
    }
   },
   "source": [
    "Using the |rlocfind| command again, we can choose a new loop gain Kp. Enter the code |[Kp,poles]=rlocfind(C_lag*P_cruise)| into the command window and click on the real axis around -0.4 as shown in the following figure.\n",
    "![rlocus_cruise2.png](figures/rlocus_cruise2.png)\n",
    "After doing this, you should see the following output in the MATLAB command window. <html> </p><pre class=\"codeoutput\">Select a point in the graphics window </p> selected_point = </p> -0.4002 - 0.0012i </p> Kp = </p> 1.2936e+03 </p> poles = </p> -0.9733 -0.4003 </pre> </html> We can then generate the new closed-loop step response as follows."
   ]
  },
  {
   "cell_type": "code",
   "execution_count": 5,
   "metadata": {
    "slideshow": {
     "slide_type": "notes"
    }
   },
   "outputs": [],
   "source": [
    "# Kp = 1293.6;\n",
    "# sys_cl = feedback(Kp*C_lag*P_cruise,1);\n",
    "# t = 0:0.1:20;\n",
    "# step(r*sys_cl,t)\n",
    "# axis([0 20 0 12])"
   ]
  },
  {
   "cell_type": "code",
   "execution_count": 6,
   "metadata": {
    "exporter": {
     "cell_type": "toc"
    },
    "slideshow": {
     "slide_type": "skip"
    }
   },
   "outputs": [
    {
     "data": {
      "application/javascript": [
       "$.getScript('https://kmahelona.github.io/ipython_notebook_goodies/ipython_notebook_toc.js')"
      ],
      "text/plain": [
       "<IPython.core.display.Javascript object>"
      ]
     },
     "metadata": {},
     "output_type": "display_data"
    }
   ],
   "source": [
    "%%javascript\n",
    "$.getScript('https://kmahelona.github.io/ipython_notebook_goodies/ipython_notebook_toc.js')"
   ]
  }
 ],
 "metadata": {
  "celltoolbar": "Slideshow",
  "nikola": {
   "author": "d@h",
   "category": "CruiseControl",
   "date": "2016-02-16 08:00:00 UTC",
   "description": "Controls Tutorials for Python",
   "link": "",
   "slug": "cruisecontrol-controlrootlocus",
   "tags": "ControlRootLocus",
   "title": "Cruise Control - Control Root Locus",
   "type": ""
  }
 },
 "nbformat": 4,
 "nbformat_minor": 0
}
