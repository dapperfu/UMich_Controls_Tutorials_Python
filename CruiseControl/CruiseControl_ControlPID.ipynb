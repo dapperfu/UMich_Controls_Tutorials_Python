{
 "cells": [
  {
   "cell_type": "code",
   "execution_count": null,
   "metadata": {},
   "outputs": [],
   "source": [
    "import sympy\n",
    "from control.matlab import *\n",
    "from IPython.display import Latex, display\n",
    "from sympy import Poly\n",
    "from sympy.abc import s, z"
   ]
  },
  {
   "cell_type": "code",
   "execution_count": 1,
   "metadata": {
    "collapsed": false,
    "exporter": {
     "cell_type": "init"
    },
    "slideshow": {
     "slide_type": "skip"
    }
   },
   "outputs": [
    {
     "name": "stdout",
     "output_type": "stream",
     "text": [
      "Using matplotlib backend: TkAgg\n",
      "Populating the interactive namespace from numpy and matplotlib\n"
     ]
    }
   ],
   "source": [
    "%pylab %matplotlib inline"
   ]
  },
  {
   "cell_type": "markdown",
   "metadata": {
    "exporter": {
     "cell_type": "toc"
    },
    "slideshow": {
     "slide_type": "skip"
    }
   },
   "source": [
    "<div id=\"toc\"></div>"
   ]
  },
  {
   "cell_type": "markdown",
   "metadata": {
    "slideshow": {
     "slide_type": "notes"
    }
   },
   "source": [
    "# Cruise Control: PID Controller Design\n",
    "\n",
    "\n",
    "\n",
    "## System model and parameters\n",
    "\n",
    "The transfer function model for the cruise control problem is given below.  Please see the [Cruise Control: System Modeling](../CruiseControl/CruiseControl-SystemModeling.ipynb) page for the derivation.\n",
    "\n",
    "$$\n",
    "P(s) = \\frac{V(s)}{U(s)} = \\frac{1}{ms+b} \\qquad  [ \\frac{m/s}{N} ]\n",
    "$$\n",
    "\n",
    "The parameters used in this example are as follows: (m)   vehicle mass            1000 kg (b)   damping coefficient     50 N.s/m (r)   reference speed         10 m/s\n",
    "\n",
    "## Performance specifications\n",
    "\n",
    "\n",
    "* Rise time < 5 s\n",
    "* Overshoot < 10\n",
    "* Steady-state error < 2\n",
    "\n",
    "## PID overview\n",
    "\n",
    "The block diagram of a typical unity feedback system is shown below.\n",
    "![feedback_cruise.png](figures/feedback_cruise.png)\n",
    "Recall from the [Introduction: PID Controller Design](../Introduction/Introduction-ControlPID.ipynb) page, the transfer function of a PID controller is\n",
    "\n",
    "$$\n",
    "C(s) = K_p + \\frac{K_i}{s} + K_d s = \\frac{K_d s^2 +K_p s + K_i}{s}\n",
    "$$\n",
    "\n",
    "We can define a PID controller in MATLAB using the transfer function directly:"
   ]
  },
  {
   "cell_type": "code",
   "execution_count": 2,
   "metadata": {
    "collapsed": true,
    "slideshow": {
     "slide_type": "notes"
    }
   },
   "outputs": [],
   "source": [
    "# Kp = 1;\n",
    "# Ki = 1;\n",
    "# Kd = 1;\n",
    "# s = tf('s');\n",
    "# C = Kp + Ki/s + Kd*s"
   ]
  },
  {
   "cell_type": "markdown",
   "metadata": {
    "slideshow": {
     "slide_type": "notes"
    }
   },
   "source": [
    "Alternatively, we may use MATLAB's **pid controller object** to generate an equivalent continuous time controller as follows:"
   ]
  },
  {
   "cell_type": "code",
   "execution_count": 3,
   "metadata": {
    "collapsed": true,
    "slideshow": {
     "slide_type": "notes"
    }
   },
   "outputs": [],
   "source": [
    "# C = pid(Kp,Ki,Kd)"
   ]
  },
  {
   "cell_type": "markdown",
   "metadata": {
    "slideshow": {
     "slide_type": "notes"
    }
   },
   "source": [
    "## Proportional control\n",
    "\n",
    "The first thing to do in this problem is to find a closed-loop transfer function with a proportional control (C = Kp) added. By reducing the unity feedback block diagram, the closed-loop transfer function with a proportional controller becomes:\n",
    "\n",
    "$$\n",
    "T(s) = \\frac{Y(s)}{R(s)} = \\frac{P(s)C(s)}{1+P(s)C(s)} = \\frac{K_p}{m s+b+K_p}\n",
    "$$\n",
    "\n",
    "Recall from the [Introduction: PID Controller Design](../Introduction/Introduction-ControlPID.ipynb) page, a proportional controller, Kp, decreases the rise time, which is desirable in this case. For now, use Kp equal 100 and a reference speed of 10 m/s. Create a new [m-file](../Extras_Mfile.ipynb) and enter the following commands."
   ]
  },
  {
   "cell_type": "code",
   "execution_count": 4,
   "metadata": {
    "collapsed": true,
    "slideshow": {
     "slide_type": "notes"
    }
   },
   "outputs": [],
   "source": [
    "# m = 1000;\n",
    "# b = 50;\n",
    "# r = 10;\n",
    "# s = tf('s');\n",
    "# P_cruise = 1/(m*s + b);\n",
    "# Kp = 100;\n",
    "# C = pid(Kp);\n",
    "# T = feedback(C*P_cruise,1)\n",
    "# t = 0:0.1:20;\n",
    "# step(r*T,t)\n",
    "# axis([0 20 0 10])"
   ]
  },
  {
   "cell_type": "markdown",
   "metadata": {
    "slideshow": {
     "slide_type": "notes"
    }
   },
   "source": [
    "Note that we have used the MATLAB |feedback| command to simplify the block diagram reduction of the closed-loop system.  Please verify for yourself that the result agrees with the closed-loop transfer function, T, derived above. Running the m-file in MATLAB should give you the step response above. As you can see from the plot, neither the steady-state error nor the rise time satisfy our design criteria. You can increase the proportional gain, Kp, to reduce the rise time and the steady-state error. Change the existing m-file so that Kp equals 5000 and rerun it in the MATLAB command window. You should see the following plot."
   ]
  },
  {
   "cell_type": "code",
   "execution_count": 5,
   "metadata": {
    "collapsed": true,
    "slideshow": {
     "slide_type": "notes"
    }
   },
   "outputs": [],
   "source": [
    "# Kp = 5000;\n",
    "# C = pid(Kp);\n",
    "# T = feedback(C*P_cruise,1);\n",
    "# step(r*T,t)\n",
    "# axis([0 20 0 10])"
   ]
  },
  {
   "cell_type": "markdown",
   "metadata": {
    "slideshow": {
     "slide_type": "notes"
    }
   },
   "source": [
    "The steady-state error is now essentially zero, and the rise time has been reduced substantially. However, this response is unrealistic because a real cruise control system generally can not change the speed of the vehicle from 0 to 10 m/s in less than 0.5 seconds due to power limitations of the engine and drivetrain. **Actuator limitations** are very frequently encountered in practice in control systems engineering, and consequently, the required control action must always be considered when proposing a new controller. We will discuss this issue much more in subsequent tutorials. The solution to this problem in this case is to choose a lower proportional gain, Kp, that will give a reasonable rise time, and add an integral controller to eliminate the steady-state error.\n",
    "\n",
    "## PI control\n",
    "\n",
    "The closed-loop transfer function of this cruise control system with a PI controller (C = Kp + Ki/s) is:\n",
    "\n",
    "$$\n",
    "T(s) = \\frac{Y(s)}{R(s)} = \\frac{P(s)C(s)}{1+P(s)C(s)} = \\frac{K_p s + K_i}{m s^2+(b+K_p)s + K_i}\n",
    "$$\n",
    "\n",
    "Recall from the [Introduction: PID Controller Design](../Introduction/Introduction-ControlPID.ipynb) page, an addition of an integral controller to the system eliminates the steady-state error. For now, let Kp equal 600 and Ki equal 1 and see what happens to the response. Change your m-file to the following."
   ]
  },
  {
   "cell_type": "code",
   "execution_count": 6,
   "metadata": {
    "collapsed": true,
    "slideshow": {
     "slide_type": "notes"
    }
   },
   "outputs": [],
   "source": [
    "# Kp = 600;\n",
    "# Ki = 1;\n",
    "# C = pid(Kp,Ki);\n",
    "# T = feedback(C*P_cruise,1);\n",
    "# step(r*T,t)\n",
    "# axis([0 20 0 10])"
   ]
  },
  {
   "cell_type": "markdown",
   "metadata": {
    "slideshow": {
     "slide_type": "notes"
    }
   },
   "source": [
    "Now adjust both the proportional gain, Kp, and the integral gain, Ki, to obtain the desired response. When you adjust the integral gain, Ki, we suggest you to start with a small value since a large Ki can destabilize the response. When Kp equals 800 and Ki equals 40, the step response will look like the following:"
   ]
  },
  {
   "cell_type": "code",
   "execution_count": 7,
   "metadata": {
    "collapsed": true,
    "slideshow": {
     "slide_type": "notes"
    }
   },
   "outputs": [],
   "source": [
    "# Kp = 800;\n",
    "# Ki = 40;\n",
    "# C = pid(Kp,Ki);\n",
    "# T = feedback(C*P_cruise,1);\n",
    "# step(r*T,t)\n",
    "# axis([0 20 0 10])"
   ]
  },
  {
   "cell_type": "markdown",
   "metadata": {
    "slideshow": {
     "slide_type": "notes"
    }
   },
   "source": [
    "## PID control\n",
    "\n",
    "For this particular example, no implementation of a derivative controller was needed to obtain the required output. However, you might want to see how to work with a PID control for the future reference. The closed-loop transfer function for this cruise control system with a PID controller (C = Kp + Ki/s + Kd*s) is:\n",
    "\n",
    "$$\n",
    "T(s) = \\frac{Y(s)}{R(s)} = \\frac{P(s)C(s)}{1+P(s)C(s)} = \\frac{K_d s^3 + K_p s + K_i}{(m + K_d) s^2 +(b+K_p)s + K_i}\n",
    "$$\n",
    "\n",
    "Let Kp equal 1, Ki equal 1, and Kd equal 1 and enter the following commands into an new m-file."
   ]
  },
  {
   "cell_type": "code",
   "execution_count": 8,
   "metadata": {
    "collapsed": true,
    "slideshow": {
     "slide_type": "notes"
    }
   },
   "outputs": [],
   "source": [
    "# Kp = 1;\n",
    "# Ki = 1;\n",
    "# Kd = 1;\n",
    "# C = pid(Kp,Ki,Kd);\n",
    "# T = feedback(C*P_cruise,1);"
   ]
  },
  {
   "cell_type": "code",
   "execution_count": 9,
   "metadata": {
    "collapsed": false,
    "exporter": {
     "cell_type": "toc"
    },
    "slideshow": {
     "slide_type": "skip"
    }
   },
   "outputs": [
    {
     "data": {
      "application/javascript": [
       "$.getScript('https://kmahelona.github.io/ipython_notebook_goodies/ipython_notebook_toc.js')"
      ],
      "text/plain": [
       "<IPython.core.display.Javascript object>"
      ]
     },
     "metadata": {},
     "output_type": "display_data"
    }
   ],
   "source": [
    "%%javascript\n",
    "$.getScript('https://kmahelona.github.io/ipython_notebook_goodies/ipython_notebook_toc.js')"
   ]
  }
 ],
 "metadata": {
  "celltoolbar": "Slideshow",
  "kernelspec": {
   "display_name": "Python 3",
   "language": "python",
   "name": "python3"
  },
  "language_info": {
   "codemirror_mode": {
    "name": "ipython",
    "version": 3
   },
   "file_extension": ".py",
   "mimetype": "text/x-python",
   "name": "python",
   "nbconvert_exporter": "python",
   "pygments_lexer": "ipython3",
   "version": "3.4.4"
  },
  "nikola": {
   "author": "d@h",
   "category": "CruiseControl",
   "date": "2016-02-16 08:00:00 UTC",
   "description": "Controls Tutorials for Python",
   "link": "",
   "slug": "cruisecontrol-controlpid",
   "tags": "ControlPID",
   "title": "Cruise Control - Control PI D",
   "type": ""
  }
 },
 "nbformat": 4,
 "nbformat_minor": 0
}
